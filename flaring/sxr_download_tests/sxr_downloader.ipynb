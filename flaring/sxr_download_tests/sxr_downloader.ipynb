{
 "cells": [
  {
   "metadata": {
    "ExecuteTime": {
     "end_time": "2025-07-08T15:40:49.389835Z",
     "start_time": "2025-07-08T15:40:49.111417Z"
    }
   },
   "cell_type": "code",
   "source": [
    "import os\n",
    "import random\n",
    "import matplotlib.pyplot as plt\n",
    "import matplotlib.dates as mdates\n",
    "from sunpy.net import Fido, attrs as a\n",
    "from sunpy.timeseries import TimeSeries\n",
    "from datetime import datetime\n",
    "from pathlib import Path"
   ],
   "id": "8c904d50e0e24f0b",
   "outputs": [],
   "execution_count": 7
  },
  {
   "metadata": {
    "ExecuteTime": {
     "end_time": "2025-07-08T15:48:29.832320Z",
     "start_time": "2025-07-08T15:48:29.827938Z"
    }
   },
   "cell_type": "code",
   "source": [
    "SAVE_DIR = \"flaring/sxr_download_tests\"\n",
    "os.makedirs(SAVE_DIR, exist_ok=True)\n",
    "def download_and_save_goes_data(start='2023-07-01', end='2023-07-2'):\n",
    "    print(f\"Searching GOES X-ray data from {start} to {end}...\")\n",
    "    goes_query = Fido.search(a.Time(start, end), a.Instrument('XRS'))\n",
    "    print(f\"Found {len(goes_query[0])} GOES files.\")\n",
    "\n",
    "    print(\"Downloading...\")\n",
    "    downloaded_files = Fido.fetch(goes_query, path=SAVE_DIR + \"/{file}\")\n",
    "    print(f\"Saved {len(downloaded_files)} files to {SAVE_DIR}\")\n",
    "\n",
    "    # Save file paths to a text file\n",
    "    file_list_path = os.path.join(SAVE_DIR, \"downloaded_files.txt\")\n",
    "    with open(file_list_path, \"w\") as file_list:\n",
    "        file_list.write(\"\\n\".join(downloaded_files))\n",
    "    print(f\"File paths saved to {file_list_path}\")\n",
    "    return downloaded_files\n"
   ],
   "id": "c8c8f9f1a7db0bdd",
   "outputs": [],
   "execution_count": 14
  },
  {
   "metadata": {
    "ExecuteTime": {
     "end_time": "2025-07-08T15:45:41.753580Z",
     "start_time": "2025-07-08T15:45:38.819150Z"
    }
   },
   "cell_type": "code",
   "source": "download_and_save_goes_data()",
   "id": "1fb0b2fad56402bc",
   "outputs": [
    {
     "name": "stdout",
     "output_type": "stream",
     "text": [
      "Searching GOES X-ray data from 2023-07-01 to 2023-07-2...\n",
      "Found 2 GOES files.\n",
      "Downloading...\n"
     ]
    },
    {
     "name": "stderr",
     "output_type": "stream",
     "text": [
      "Files Downloaded: 100%|██████████| 2/2 [00:00<00:00, 15.66file/s]"
     ]
    },
    {
     "name": "stdout",
     "output_type": "stream",
     "text": [
      "Saved 2 files to flaring/sxr_download_tests\n",
      "File paths saved to flaring/sxr_download_tests/downloaded_files.txt\n"
     ]
    },
    {
     "name": "stderr",
     "output_type": "stream",
     "text": [
      "\n"
     ]
    },
    {
     "data": {
      "text/plain": [
       "<parfive.results.Results object at 0x7fbc948a7df0>\n",
       "['flaring/sxr_download_tests/sci_xrsf-l2-flx1s_g16_d20230701_v2-2-0.nc', 'flaring/sxr_download_tests/sci_xrsf-l2-flx1s_g16_d20230702_v2-2-0.nc']"
      ]
     },
     "execution_count": 12,
     "metadata": {},
     "output_type": "execute_result"
    }
   ],
   "execution_count": 12
  },
  {
   "metadata": {},
   "cell_type": "code",
   "outputs": [],
   "execution_count": null,
   "source": "\n",
   "id": "78e650c7f1ccd7e9"
  }
 ],
 "metadata": {
  "kernelspec": {
   "display_name": "Python 3",
   "language": "python",
   "name": "python3"
  },
  "language_info": {
   "codemirror_mode": {
    "name": "ipython",
    "version": 2
   },
   "file_extension": ".py",
   "mimetype": "text/x-python",
   "name": "python",
   "nbconvert_exporter": "python",
   "pygments_lexer": "ipython2",
   "version": "2.7.6"
  }
 },
 "nbformat": 4,
 "nbformat_minor": 5
}
