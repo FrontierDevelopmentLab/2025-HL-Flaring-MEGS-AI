{
 "cells": [
  {
   "metadata": {
    "ExecuteTime": {
     "end_time": "2025-07-09T16:44:15.669452Z",
     "start_time": "2025-07-09T16:44:15.666831Z"
    }
   },
   "cell_type": "code",
   "source": [
    "from sunpy.net import Fido\n",
    "from sunpy.net import attrs as a"
   ],
   "id": "14117d33aa1e6e7d",
   "outputs": [],
   "execution_count": 5
  },
  {
   "metadata": {
    "ExecuteTime": {
     "end_time": "2025-07-09T16:49:13.831219Z",
     "start_time": "2025-07-09T16:47:49.550285Z"
    }
   },
   "cell_type": "code",
   "source": [
    "event_type = \"FL\"\n",
    "tstart = \"2010/01/01\"\n",
    "tend = \"2025/7/01\"\n",
    "result = Fido.search(a.Time(tstart, tend),\n",
    "                     a.hek.EventType(event_type),\n",
    "                     a.hek.FL.GOESCls >= \"M1.0\",\n",
    "                     a.hek.OBS.Observatory == \"GOES\")"
   ],
   "id": "f5020de06f885719",
   "outputs": [],
   "execution_count": 15
  },
  {
   "metadata": {
    "ExecuteTime": {
     "end_time": "2025-07-09T16:49:19.907635Z",
     "start_time": "2025-07-09T16:49:19.905046Z"
    }
   },
   "cell_type": "code",
   "source": "hek_results = result[\"hek\"]",
   "id": "b891e4a1f9932a1b",
   "outputs": [],
   "execution_count": 16
  },
  {
   "metadata": {
    "ExecuteTime": {
     "end_time": "2025-07-09T16:49:25.811649Z",
     "start_time": "2025-07-09T16:49:25.808040Z"
    }
   },
   "cell_type": "code",
   "source": [
    "filtered_results = hek_results[\"event_starttime\", \"event_peaktime\",\n",
    "                               \"event_endtime\", \"fl_goescls\", \"ar_noaanum\"]"
   ],
   "id": "62844eab1077ff5",
   "outputs": [],
   "execution_count": 17
  },
  {
   "metadata": {
    "ExecuteTime": {
     "end_time": "2025-07-09T16:52:05.332905Z",
     "start_time": "2025-07-09T16:52:05.070252Z"
    }
   },
   "cell_type": "code",
   "source": [
    "flare_df = filtered_results.to_pandas()\n",
    "flare_df"
   ],
   "id": "e126c8fc618ec1f3",
   "outputs": [
    {
     "data": {
      "text/plain": [
       "         event_starttime      event_peaktime       event_endtime fl_goescls  \\\n",
       "0    2010-01-19 13:03:00 2010-01-19 13:41:00 2010-01-19 13:50:00       M2.3   \n",
       "1    2010-01-19 20:23:00 2010-01-19 20:35:00 2010-01-19 20:46:00       M1.7   \n",
       "2    2010-01-20 06:45:00 2010-01-20 07:27:00 2010-01-20 07:34:00       M1.0   \n",
       "3    2010-01-20 07:42:00 2010-01-20 07:49:00 2010-01-20 07:53:00       M1.6   \n",
       "4    2010-01-20 10:46:00 2010-01-20 10:59:00 2010-01-20 11:10:00       M1.8   \n",
       "...                  ...                 ...                 ...        ...   \n",
       "2499 2025-06-16 11:27:00 2025-06-16 11:39:00 2025-06-16 11:43:00       M1.4   \n",
       "2500 2025-06-16 14:43:00 2025-06-16 14:55:00 2025-06-16 15:03:00       M1.1   \n",
       "2501 2025-06-17 21:38:00 2025-06-17 21:49:00 2025-06-17 21:54:00       X1.2   \n",
       "2502 2025-06-20 00:02:00 2025-06-20 00:04:00 2025-06-20 00:06:00       M4.6   \n",
       "2503 2025-06-20 17:21:00 2025-06-20 17:40:00 2025-06-20 17:59:00       M1.0   \n",
       "\n",
       "      ar_noaanum  \n",
       "0          11041  \n",
       "1          11041  \n",
       "2          11041  \n",
       "3          11041  \n",
       "4          11041  \n",
       "...          ...  \n",
       "2499           0  \n",
       "2500           0  \n",
       "2501       14114  \n",
       "2502       14114  \n",
       "2503       14117  \n",
       "\n",
       "[2504 rows x 5 columns]"
      ],
      "text/html": [
       "<div>\n",
       "<style scoped>\n",
       "    .dataframe tbody tr th:only-of-type {\n",
       "        vertical-align: middle;\n",
       "    }\n",
       "\n",
       "    .dataframe tbody tr th {\n",
       "        vertical-align: top;\n",
       "    }\n",
       "\n",
       "    .dataframe thead th {\n",
       "        text-align: right;\n",
       "    }\n",
       "</style>\n",
       "<table border=\"1\" class=\"dataframe\">\n",
       "  <thead>\n",
       "    <tr style=\"text-align: right;\">\n",
       "      <th></th>\n",
       "      <th>event_starttime</th>\n",
       "      <th>event_peaktime</th>\n",
       "      <th>event_endtime</th>\n",
       "      <th>fl_goescls</th>\n",
       "      <th>ar_noaanum</th>\n",
       "    </tr>\n",
       "  </thead>\n",
       "  <tbody>\n",
       "    <tr>\n",
       "      <th>0</th>\n",
       "      <td>2010-01-19 13:03:00</td>\n",
       "      <td>2010-01-19 13:41:00</td>\n",
       "      <td>2010-01-19 13:50:00</td>\n",
       "      <td>M2.3</td>\n",
       "      <td>11041</td>\n",
       "    </tr>\n",
       "    <tr>\n",
       "      <th>1</th>\n",
       "      <td>2010-01-19 20:23:00</td>\n",
       "      <td>2010-01-19 20:35:00</td>\n",
       "      <td>2010-01-19 20:46:00</td>\n",
       "      <td>M1.7</td>\n",
       "      <td>11041</td>\n",
       "    </tr>\n",
       "    <tr>\n",
       "      <th>2</th>\n",
       "      <td>2010-01-20 06:45:00</td>\n",
       "      <td>2010-01-20 07:27:00</td>\n",
       "      <td>2010-01-20 07:34:00</td>\n",
       "      <td>M1.0</td>\n",
       "      <td>11041</td>\n",
       "    </tr>\n",
       "    <tr>\n",
       "      <th>3</th>\n",
       "      <td>2010-01-20 07:42:00</td>\n",
       "      <td>2010-01-20 07:49:00</td>\n",
       "      <td>2010-01-20 07:53:00</td>\n",
       "      <td>M1.6</td>\n",
       "      <td>11041</td>\n",
       "    </tr>\n",
       "    <tr>\n",
       "      <th>4</th>\n",
       "      <td>2010-01-20 10:46:00</td>\n",
       "      <td>2010-01-20 10:59:00</td>\n",
       "      <td>2010-01-20 11:10:00</td>\n",
       "      <td>M1.8</td>\n",
       "      <td>11041</td>\n",
       "    </tr>\n",
       "    <tr>\n",
       "      <th>...</th>\n",
       "      <td>...</td>\n",
       "      <td>...</td>\n",
       "      <td>...</td>\n",
       "      <td>...</td>\n",
       "      <td>...</td>\n",
       "    </tr>\n",
       "    <tr>\n",
       "      <th>2499</th>\n",
       "      <td>2025-06-16 11:27:00</td>\n",
       "      <td>2025-06-16 11:39:00</td>\n",
       "      <td>2025-06-16 11:43:00</td>\n",
       "      <td>M1.4</td>\n",
       "      <td>0</td>\n",
       "    </tr>\n",
       "    <tr>\n",
       "      <th>2500</th>\n",
       "      <td>2025-06-16 14:43:00</td>\n",
       "      <td>2025-06-16 14:55:00</td>\n",
       "      <td>2025-06-16 15:03:00</td>\n",
       "      <td>M1.1</td>\n",
       "      <td>0</td>\n",
       "    </tr>\n",
       "    <tr>\n",
       "      <th>2501</th>\n",
       "      <td>2025-06-17 21:38:00</td>\n",
       "      <td>2025-06-17 21:49:00</td>\n",
       "      <td>2025-06-17 21:54:00</td>\n",
       "      <td>X1.2</td>\n",
       "      <td>14114</td>\n",
       "    </tr>\n",
       "    <tr>\n",
       "      <th>2502</th>\n",
       "      <td>2025-06-20 00:02:00</td>\n",
       "      <td>2025-06-20 00:04:00</td>\n",
       "      <td>2025-06-20 00:06:00</td>\n",
       "      <td>M4.6</td>\n",
       "      <td>14114</td>\n",
       "    </tr>\n",
       "    <tr>\n",
       "      <th>2503</th>\n",
       "      <td>2025-06-20 17:21:00</td>\n",
       "      <td>2025-06-20 17:40:00</td>\n",
       "      <td>2025-06-20 17:59:00</td>\n",
       "      <td>M1.0</td>\n",
       "      <td>14117</td>\n",
       "    </tr>\n",
       "  </tbody>\n",
       "</table>\n",
       "<p>2504 rows × 5 columns</p>\n",
       "</div>"
      ]
     },
     "execution_count": 19,
     "metadata": {},
     "output_type": "execute_result"
    }
   ],
   "execution_count": 19
  },
  {
   "metadata": {},
   "cell_type": "code",
   "outputs": [],
   "execution_count": null,
   "source": "",
   "id": "f21442d0f3cd2899"
  }
 ],
 "metadata": {
  "kernelspec": {
   "display_name": "Python 3",
   "language": "python",
   "name": "python3"
  },
  "language_info": {
   "codemirror_mode": {
    "name": "ipython",
    "version": 2
   },
   "file_extension": ".py",
   "mimetype": "text/x-python",
   "name": "python",
   "nbconvert_exporter": "python",
   "pygments_lexer": "ipython2",
   "version": "2.7.6"
  }
 },
 "nbformat": 4,
 "nbformat_minor": 5
}
