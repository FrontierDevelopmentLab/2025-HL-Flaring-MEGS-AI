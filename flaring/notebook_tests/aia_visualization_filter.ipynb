{
 "cells": [
  {
   "metadata": {},
   "cell_type": "code",
   "source": [
    "import pandas as pd\n",
    "import matplotlib.pyplot as plt"
   ],
   "id": "2dc4e7ec5950e598",
   "outputs": [],
   "execution_count": null
  },
  {
   "cell_type": "code",
   "id": "initial_id",
   "metadata": {
    "collapsed": true
   },
   "source": "data = pd.read_csv('/mnt/data2/SDO-AIA/timeseries.csv')",
   "outputs": [],
   "execution_count": null
  },
  {
   "metadata": {},
   "cell_type": "code",
   "source": "print(data.head())",
   "id": "513907689f028fb2",
   "outputs": [],
   "execution_count": null
  },
  {
   "metadata": {},
   "cell_type": "code",
   "source": "removed = pd.read_csv('/mnt/data2/SDO-AIA/removed.csv')",
   "id": "cb003c103c933475",
   "outputs": [],
   "execution_count": null
  },
  {
   "metadata": {},
   "cell_type": "code",
   "source": "print(removed.head())",
   "id": "c06c7e10a97e78f1",
   "outputs": [],
   "execution_count": null
  },
  {
   "metadata": {},
   "cell_type": "code",
   "source": "data['timestamp'] = pd.to_datetime(data['timestamp'])",
   "id": "a4d6f44ca5d560cb",
   "outputs": [],
   "execution_count": null
  },
  {
   "metadata": {},
   "cell_type": "code",
   "source": [
    "plt.scatter(data['timestamp'], data['193'], label='Original SXR Data', alpha=0.5)\n",
    "#plt.ylim(0,8)"
   ],
   "id": "8a68e876544a45ce",
   "outputs": [],
   "execution_count": null
  },
  {
   "metadata": {},
   "cell_type": "code",
   "source": [
    "from sunpy.map import Map\n",
    "import glob"
   ],
   "id": "2655e1f13c182390",
   "outputs": [],
   "execution_count": null
  },
  {
   "metadata": {},
   "cell_type": "code",
   "source": "datathresh = data[data['193']<8]",
   "id": "16477313847be489",
   "outputs": [],
   "execution_count": null
  },
  {
   "metadata": {},
   "cell_type": "code",
   "source": "datathresh",
   "id": "69fd635d0452cc42",
   "outputs": [],
   "execution_count": null
  },
  {
   "metadata": {},
   "cell_type": "code",
   "source": "smap = Map(\"/mnt/data2/SDO-AIA_bad/removed_files/193/2023-07-11T18:08:00.fits\")",
   "id": "ef89807bac30fcb8",
   "outputs": [],
   "execution_count": null
  },
  {
   "metadata": {},
   "cell_type": "code",
   "source": "smap.plot()",
   "id": "334a3b6fd376daed",
   "outputs": [],
   "execution_count": null
  },
  {
   "metadata": {},
   "cell_type": "code",
   "source": "smap.meta['exptime']",
   "id": "89db37f09368b66d",
   "outputs": [],
   "execution_count": null
  },
  {
   "metadata": {},
   "cell_type": "code",
   "source": [
    "from itipy.data.editor import LoadMapEditor, NormalizeRadiusEditor, MapToDataEditor\n",
    "import numpy as np\n",
    "\n",
    "def get_mean_intensity(filepath):\n",
    "    s_map, _ = LoadMapEditor().call(filepath)\n",
    "    s_map = NormalizeRadiusEditor(512).call(s_map)\n",
    "    #data, _ = MapToDataEditor().call(s_map)\n",
    "    return s_map"
   ],
   "id": "eb46e497cb482254",
   "outputs": [],
   "execution_count": null
  },
  {
   "metadata": {},
   "cell_type": "code",
   "source": "x = get_mean_intensity(\"/mnt/data2/SDO-AIA_bad/removed_files/193/2023-07-11T18:08:00.fits\")",
   "id": "aa0807033f619926",
   "outputs": [],
   "execution_count": null
  },
  {
   "metadata": {},
   "cell_type": "code",
   "source": "x.data.shape",
   "id": "56e1b0ea4f353f57",
   "outputs": [],
   "execution_count": null
  },
  {
   "metadata": {},
   "cell_type": "code",
   "source": "x.plot()",
   "id": "d150060337559ed0",
   "outputs": [],
   "execution_count": null
  },
  {
   "metadata": {},
   "cell_type": "code",
   "source": "x.meta['exptime']",
   "id": "989494fd7527cb76",
   "outputs": [],
   "execution_count": null
  },
  {
   "metadata": {},
   "cell_type": "code",
   "source": "",
   "id": "6f149ff9553c5cb0",
   "outputs": [],
   "execution_count": null
  }
 ],
 "metadata": {
  "kernelspec": {
   "display_name": "Python 3",
   "language": "python",
   "name": "python3"
  },
  "language_info": {
   "codemirror_mode": {
    "name": "ipython",
    "version": 2
   },
   "file_extension": ".py",
   "mimetype": "text/x-python",
   "name": "python",
   "nbconvert_exporter": "python",
   "pygments_lexer": "ipython2",
   "version": "2.7.6"
  }
 },
 "nbformat": 4,
 "nbformat_minor": 5
}
