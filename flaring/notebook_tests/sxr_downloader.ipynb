{
 "cells": [
  {
   "metadata": {
    "ExecuteTime": {
     "end_time": "2025-07-08T19:46:06.817908Z",
     "start_time": "2025-07-08T19:44:50.483049Z"
    }
   },
   "cell_type": "code",
   "source": [
    "from pathlib import Path\n",
    "from sunpy.net import Fido, attrs as a\n",
    "from concurrent.futures import ThreadPoolExecutor\n",
    "import logging\n",
    "\n",
    "# Set up logging for better debugging and progress tracking\n",
    "logging.basicConfig(level=logging.INFO, format='%(asctime)s - %(levelname)s - %(message)s')\n",
    "\n",
    "# 1. Create directory to save GOES data\n",
    "SAVE_DIR = Path(\"/home/griffingoodwin/downloads/goes_data\")\n",
    "SAVE_DIR.mkdir(exist_ok=True)\n",
    "\n",
    "# 2. Download GOES data and save to disk\n",
    "def download_and_save_goes_data(start='2023-07-01', end='2023-08-15', max_workers=4):\n",
    "    \"\"\"\n",
    "    Download GOES X-ray data at 1-minute cadence for a specified time range, including all available satellites.\n",
    "\n",
    "    Parameters:\n",
    "    - start (str): Start date for the query (e.g., '2023-07-01')\n",
    "    - end (str): End date for the query (e.g., '2023-08-15')\n",
    "    - max_workers (int): Number of parallel download threads\n",
    "    \"\"\"\n",
    "    logging.info(f\"Searching GOES X-ray data from {start} to {end} for all satellites at 1-minute cadence...\")\n",
    "\n",
    "    # Query for all GOES satellites with 1-minute averaged XRS data\n",
    "    goes_query = Fido.search(\n",
    "        a.Time(start, end),\n",
    "        a.Instrument('XRS'),\n",
    "        a.Resolution('avg1m')  # 1-minute averaged data\n",
    "    )\n",
    "\n",
    "    logging.info(f\"Found {len(goes_query[0])} GOES files.\")\n",
    "\n",
    "    # Skip if no files found\n",
    "    if len(goes_query[0]) == 0:\n",
    "        logging.warning(\"No files found for the specified query.\")\n",
    "        return []\n",
    "\n",
    "    # Define download function for a single file\n",
    "    def download_file(file_entry, path_template):\n",
    "        try:\n",
    "            result = Fido.fetch(file_entry, path=str(path_template / \"{file}\"))\n",
    "            return result\n",
    "        except Exception as e:\n",
    "            logging.error(f\"Failed to download {file_entry['file']}: {e}\")\n",
    "            return []\n",
    "\n",
    "    # Use ThreadPoolExecutor for parallel downloads\n",
    "    logging.info(f\"Downloading {len(goes_query[0])} files with {max_workers} workers...\")\n",
    "    downloaded_files = []\n",
    "    with ThreadPoolExecutor(max_workers=max_workers) as executor:\n",
    "        # Create download tasks for each file\n",
    "        futures = [\n",
    "            executor.submit(download_file, row, SAVE_DIR)\n",
    "            for row in goes_query[0]\n",
    "        ]\n",
    "        # Collect results\n",
    "        for future in futures:\n",
    "            result = future.result()\n",
    "            downloaded_files.extend(result)\n",
    "\n",
    "    logging.info(f\"Saved {len(downloaded_files)} files to {SAVE_DIR}\")\n",
    "    return downloaded_files\n",
    "\n",
    "\n",
    "\n",
    "if __name__ == \"__main__\":\n",
    "    files = download_and_save_goes_data(\n",
    "        start='2023-07-01',\n",
    "        end='2023-08-15',\n",
    "        max_workers=4\n",
    "    )"
   ],
   "id": "7aa8f293a1e5b445",
   "outputs": [
    {
     "name": "stderr",
     "output_type": "stream",
     "text": [
      "2025-07-08 19:44:50 - root - INFO: Searching GOES X-ray data from 2023-07-01 to 2023-08-15 for all satellites at 1-minute cadence...\n",
      "2025-07-08 19:44:59 - root - INFO: Found 92 GOES files.\n",
      "2025-07-08 19:44:59 - root - INFO: Downloading 92 files with 4 workers...\n",
      "/home/griffingoodwin/.conda/envs/2025-HL-Flaring-MEGS-AI-Updated/lib/python3.10/site-packages/parfive/downloader.py:258: UserWarning: This download has been started in a thread which is not the main thread. You will not be able to interrupt the download.\n",
      "  warnings.warn(\n",
      "Files Downloaded:   0%|          | 0/1 [00:00<?, ?file/s]\n",
      "sci_xrsf-l2-avg1m_g16_d20230701_v2-2-0.nc:   0%|          | 0.00/3.14M [00:00<?, ?B/s]\u001B[A\n",
      "sci_xrsf-l2-avg1m_g16_d20230703_v2-2-0.nc:   0%|          | 0.00/3.14M [00:00<?, ?B/s]\u001B[A\n",
      "sci_xrsf-l2-avg1m_g16_d20230704_v2-2-0.nc:   0%|          | 0.00/3.14M [00:00<?, ?B/s]\u001B[A\n",
      "sci_xrsf-l2-avg1m_g16_d20230702_v2-2-0.nc:   0%|          | 0.00/3.14M [00:00<?, ?B/s]\u001B[A\n",
      "sci_xrsf-l2-avg1m_g16_d20230701_v2-2-0.nc:   0%|          | 1.02k/3.14M [00:00<08:07, 6.44kB/s]\u001B[A\n",
      "sci_xrsf-l2-avg1m_g16_d20230703_v2-2-0.nc:   0%|          | 1.02k/3.14M [00:00<10:17, 5.09kB/s]\u001B[A\n",
      "sci_xrsf-l2-avg1m_g16_d20230701_v2-2-0.nc:  17%|█▋        | 545k/3.14M [00:00<00:01, 2.46MB/s] \u001B[A\n",
      "sci_xrsf-l2-avg1m_g16_d20230703_v2-2-0.nc:   9%|▉         | 282k/3.14M [00:00<00:02, 1.17MB/s] \u001B[A\n",
      "sci_xrsf-l2-avg1m_g16_d20230701_v2-2-0.nc:  84%|████████▎ | 2.63M/3.14M [00:00<00:00, 9.65MB/s]\u001B[A\n",
      "sci_xrsf-l2-avg1m_g16_d20230704_v2-2-0.nc:   0%|          | 1.02k/3.14M [00:00<17:47, 2.94kB/s]\u001B[A\n",
      "Files Downloaded: 100%|██████████| 1/1 [00:00<00:00,  1.95file/s]                              \u001B[A\n",
      "Files Downloaded:   0%|          | 0/1 [00:00<?, ?file/s]\n",
      "sci_xrsf-l2-avg1m_g16_d20230703_v2-2-0.nc:  47%|████▋     | 1.46M/3.14M [00:00<00:00, 5.03MB/s]\u001B[A\n",
      "sci_xrsf-l2-avg1m_g16_d20230704_v2-2-0.nc:  17%|█▋        | 544k/3.14M [00:00<00:01, 1.57MB/s] \u001B[A\n",
      "sci_xrsf-l2-avg1m_g16_d20230702_v2-2-0.nc:   0%|          | 1.02k/3.14M [00:00<22:52, 2.29kB/s]\u001B[A\n",
      "sci_xrsf-l2-avg1m_g16_d20230703_v2-2-0.nc:  93%|█████████▎| 2.92M/3.14M [00:00<00:00, 8.03MB/s]\u001B[A\n",
      "Files Downloaded: 100%|██████████| 1/1 [00:00<00:00,  1.48file/s]                              \u001B[A\n",
      "Files Downloaded:   0%|          | 0/1 [00:00<?, ?file/s]\n",
      "sci_xrsf-l2-avg1m_g16_d20230704_v2-2-0.nc:  85%|████████▍ | 2.67M/3.14M [00:00<00:00, 7.32MB/s]\u001B[A\n",
      "Files Downloaded: 100%|██████████| 1/1 [00:00<00:00,  1.39file/s]                              \u001B[A\n",
      "Files Downloaded:   0%|          | 0/1 [00:00<?, ?file/s]\n",
      "sci_xrsf-l2-avg1m_g16_d20230702_v2-2-0.nc:  24%|██▎       | 746k/3.14M [00:00<00:01, 1.79MB/s] \u001B[A\n",
      "sci_xrsf-l2-avg1m_g16_d20230705_v2-2-0.nc:   0%|          | 0.00/3.14M [00:00<?, ?B/s]\u001B[A\n",
      "Files Downloaded: 100%|██████████| 1/1 [00:00<00:00,  1.22file/s]                             \u001B[A\n",
      "Files Downloaded:   0%|          | 0/1 [00:00<?, ?file/s]\n",
      "sci_xrsf-l2-avg1m_g16_d20230706_v2-2-0.nc:   0%|          | 0.00/3.14M [00:00<?, ?B/s]\u001B[A\n",
      "sci_xrsf-l2-avg1m_g16_d20230707_v2-2-0.nc:   0%|          | 0.00/3.14M [00:00<?, ?B/s]\u001B[A\n",
      "sci_xrsf-l2-avg1m_g16_d20230705_v2-2-0.nc:   0%|          | 1.02k/3.14M [00:00<17:45, 2.95kB/s]\u001B[A\n",
      "sci_xrsf-l2-avg1m_g16_d20230705_v2-2-0.nc:  15%|█▍        | 457k/3.14M [00:00<00:02, 1.26MB/s] \u001B[A\n",
      "sci_xrsf-l2-avg1m_g16_d20230708_v2-2-0.nc:   0%|          | 0.00/3.14M [00:00<?, ?B/s]\u001B[A\n",
      "sci_xrsf-l2-avg1m_g16_d20230706_v2-2-0.nc:   0%|          | 1.02k/3.14M [00:00<18:44, 2.79kB/s]\u001B[A\n",
      "sci_xrsf-l2-avg1m_g16_d20230705_v2-2-0.nc:  44%|████▍     | 1.40M/3.14M [00:00<00:00, 3.55MB/s]\u001B[A\n",
      "sci_xrsf-l2-avg1m_g16_d20230706_v2-2-0.nc:  13%|█▎        | 417k/3.14M [00:00<00:02, 1.16MB/s] \u001B[A\n",
      "Files Downloaded: 100%|██████████| 1/1 [00:00<00:00,  1.06file/s]                              \u001B[A\n",
      "Files Downloaded:   0%|          | 0/1 [00:00<?, ?file/s]\n",
      "sci_xrsf-l2-avg1m_g16_d20230707_v2-2-0.nc:   0%|          | 1.02k/3.14M [00:00<22:29, 2.33kB/s]\u001B[A\n",
      "sci_xrsf-l2-avg1m_g16_d20230706_v2-2-0.nc:  61%|██████▏   | 1.93M/3.14M [00:00<00:00, 5.13MB/s]\u001B[A\n",
      "sci_xrsf-l2-avg1m_g16_d20230707_v2-2-0.nc:  18%|█▊        | 577k/3.14M [00:00<00:01, 1.40MB/s] \u001B[A\n",
      "Files Downloaded: 100%|██████████| 1/1 [00:00<00:00,  1.05file/s]                              \u001B[A\n",
      "Files Downloaded:   0%|          | 0/1 [00:00<?, ?file/s]\n",
      "sci_xrsf-l2-avg1m_g16_d20230708_v2-2-0.nc:   0%|          | 1.02k/3.14M [00:00<19:11, 2.73kB/s]\u001B[A\n",
      "sci_xrsf-l2-avg1m_g16_d20230707_v2-2-0.nc:  88%|████████▊ | 2.78M/3.14M [00:00<00:00, 6.69MB/s]\u001B[A\n",
      "Files Downloaded: 100%|██████████| 1/1 [00:01<00:00,  1.02s/file]                              \u001B[A\n",
      "Files Downloaded:   0%|          | 0/1 [00:00<?, ?file/s]\n",
      "sci_xrsf-l2-avg1m_g16_d20230708_v2-2-0.nc:  19%|█▉        | 608k/3.14M [00:00<00:01, 1.66MB/s] \u001B[A\n",
      "sci_xrsf-l2-avg1m_g16_d20230709_v2-2-0.nc:   0%|          | 0.00/3.14M [00:00<?, ?B/s]\u001B[A\n",
      "Files Downloaded: 100%|██████████| 1/1 [00:01<00:00,  1.02s/file]                             \u001B[A\n",
      "Files Downloaded:   0%|          | 0/1 [00:00<?, ?file/s]\n",
      "sci_xrsf-l2-avg1m_g16_d20230710_v2-2-0.nc:   0%|          | 0.00/3.14M [00:00<?, ?B/s]\u001B[A\n",
      "sci_xrsf-l2-avg1m_g16_d20230711_v2-2-0.nc:   0%|          | 0.00/3.14M [00:00<?, ?B/s]\u001B[A\n",
      "sci_xrsf-l2-avg1m_g16_d20230709_v2-2-0.nc:   0%|          | 1.02k/3.14M [00:00<16:27, 3.18kB/s]\u001B[A\n",
      "sci_xrsf-l2-avg1m_g16_d20230709_v2-2-0.nc:  13%|█▎        | 409k/3.14M [00:00<00:02, 1.25MB/s] \u001B[A\n",
      "sci_xrsf-l2-avg1m_g16_d20230709_v2-2-0.nc:  46%|████▌     | 1.44M/3.14M [00:00<00:00, 3.98MB/s]\u001B[A\n",
      "sci_xrsf-l2-avg1m_g16_d20230712_v2-2-0.nc:   0%|          | 0.00/3.14M [00:00<?, ?B/s]\u001B[A\n",
      "sci_xrsf-l2-avg1m_g16_d20230710_v2-2-0.nc:   0%|          | 1.00/3.14M [00:00<361:25:13, 2.41B/s]\u001B[A\n",
      "sci_xrsf-l2-avg1m_g16_d20230709_v2-2-0.nc:  74%|███████▎  | 2.31M/3.14M [00:00<00:00, 5.37MB/s]\u001B[A\n",
      "sci_xrsf-l2-avg1m_g16_d20230710_v2-2-0.nc:   2%|▏         | 64.5k/3.14M [00:00<00:18, 164kB/s]   \u001B[A\n",
      "sci_xrsf-l2-avg1m_g16_d20230709_v2-2-0.nc:  96%|█████████▌| 3.00M/3.14M [00:00<00:00, 5.43MB/s]\u001B[A\n",
      "Files Downloaded: 100%|██████████| 1/1 [00:01<00:00,  1.11s/file]                              \u001B[A\n",
      "Files Downloaded:   0%|          | 0/1 [00:00<?, ?file/s]\n",
      "sci_xrsf-l2-avg1m_g16_d20230710_v2-2-0.nc:  40%|████      | 1.27M/3.14M [00:00<00:00, 3.22MB/s]\u001B[A\n",
      "sci_xrsf-l2-avg1m_g16_d20230711_v2-2-0.nc:   0%|          | 1.02k/3.14M [00:00<28:23, 1.84kB/s]\u001B[A\n",
      "sci_xrsf-l2-avg1m_g16_d20230710_v2-2-0.nc:  68%|██████▊   | 2.15M/3.14M [00:00<00:00, 4.66MB/s]\u001B[A\n",
      "Files Downloaded: 100%|██████████| 1/1 [00:01<00:00,  1.13s/file]                              \u001B[A\n",
      "Files Downloaded:   0%|          | 0/1 [00:00<?, ?file/s]\n",
      "sci_xrsf-l2-avg1m_g16_d20230711_v2-2-0.nc:  13%|█▎        | 418k/3.14M [00:00<00:03, 852kB/s]  \u001B[A\n",
      "sci_xrsf-l2-avg1m_g16_d20230711_v2-2-0.nc:  98%|█████████▊| 3.09M/3.14M [00:00<00:00, 6.62MB/s]\u001B[A\n",
      "Files Downloaded: 100%|██████████| 1/1 [00:01<00:00,  1.13s/file]                              \u001B[A\n",
      "Files Downloaded:   0%|          | 0/1 [00:00<?, ?file/s]\n",
      "sci_xrsf-l2-avg1m_g16_d20230712_v2-2-0.nc:   0%|          | 1.02k/3.14M [00:00<31:21, 1.67kB/s]\u001B[A\n",
      "sci_xrsf-l2-avg1m_g16_d20230712_v2-2-0.nc:  11%|█         | 353k/3.14M [00:00<00:04, 659kB/s]  \u001B[A\n",
      "sci_xrsf-l2-avg1m_g16_d20230712_v2-2-0.nc:  49%|████▊     | 1.53M/3.14M [00:00<00:00, 2.99MB/s]\u001B[A\n",
      "Files Downloaded: 100%|██████████| 1/1 [00:01<00:00,  1.42s/file]                              \u001B[A\n",
      "Files Downloaded:   0%|          | 0/1 [00:00<?, ?file/s]\n",
      "sci_xrsf-l2-avg1m_g16_d20230713_v2-2-0.nc:   0%|          | 0.00/3.14M [00:00<?, ?B/s]\u001B[A\n",
      "sci_xrsf-l2-avg1m_g16_d20230714_v2-2-0.nc:   0%|          | 0.00/3.14M [00:00<?, ?B/s]\u001B[A\n",
      "sci_xrsf-l2-avg1m_g16_d20230715_v2-2-0.nc:   0%|          | 0.00/3.14M [00:00<?, ?B/s]\u001B[A\n",
      "sci_xrsf-l2-avg1m_g16_d20230716_v2-2-0.nc:   0%|          | 0.00/3.14M [00:00<?, ?B/s]\u001B[A\n",
      "sci_xrsf-l2-avg1m_g16_d20230713_v2-2-0.nc:   0%|          | 1.02k/3.14M [00:00<43:00, 1.22kB/s]\u001B[A\n",
      "sci_xrsf-l2-avg1m_g16_d20230713_v2-2-0.nc:  19%|█▉        | 593k/3.14M [00:00<00:02, 854kB/s]  \u001B[A\n",
      "sci_xrsf-l2-avg1m_g16_d20230714_v2-2-0.nc:   0%|          | 1.02k/3.14M [00:00<35:13, 1.49kB/s]\u001B[A\n",
      "sci_xrsf-l2-avg1m_g16_d20230713_v2-2-0.nc:  77%|███████▋  | 2.41M/3.14M [00:01<00:00, 3.71MB/s]\u001B[A\n",
      "                                                                                               \u001B[A\n",
      "Files Downloaded: 100%|██████████| 1/1 [00:01<00:00,  1.84s/file]3.14M [00:00<00:02, 914kB/s]  \u001B[A\n",
      "Files Downloaded:   0%|          | 0/1 [00:00<?, ?file/s]\n",
      "sci_xrsf-l2-avg1m_g16_d20230714_v2-2-0.nc:  60%|██████    | 1.89M/3.14M [00:00<00:00, 3.33MB/s]\u001B[A\n",
      "sci_xrsf-l2-avg1m_g16_d20230715_v2-2-0.nc:   0%|          | 1.02k/3.14M [00:00<41:51, 1.25kB/s]\u001B[A\n",
      "sci_xrsf-l2-avg1m_g16_d20230714_v2-2-0.nc:  84%|████████▎ | 2.63M/3.14M [00:01<00:00, 4.01MB/s]\u001B[A\n",
      "sci_xrsf-l2-avg1m_g16_d20230715_v2-2-0.nc:  10%|█         | 329k/3.14M [00:00<00:05, 476kB/s]  \u001B[A\n",
      "Files Downloaded: 100%|██████████| 1/1 [00:01<00:00,  1.95s/file]                              \u001B[A\n",
      "Files Downloaded:   0%|          | 0/1 [00:00<?, ?file/s]\n",
      "sci_xrsf-l2-avg1m_g16_d20230715_v2-2-0.nc:  68%|██████▊   | 2.12M/3.14M [00:01<00:00, 3.47MB/s]\u001B[A\n",
      "Files Downloaded: 100%|██████████| 1/1 [00:01<00:00,  1.92s/file]                              \u001B[A\n",
      "Files Downloaded:   0%|          | 0/1 [00:00<?, ?file/s]\n",
      "sci_xrsf-l2-avg1m_g16_d20230716_v2-2-0.nc:   0%|          | 1.02k/3.14M [00:00<41:13, 1.27kB/s]\u001B[A\n",
      "sci_xrsf-l2-avg1m_g16_d20230716_v2-2-0.nc:  21%|██        | 656k/3.14M [00:00<00:02, 977kB/s]  \u001B[A\n",
      "sci_xrsf-l2-avg1m_g16_d20230716_v2-2-0.nc:  94%|█████████▎| 2.94M/3.14M [00:01<00:00, 4.82MB/s]\u001B[A\n",
      "Files Downloaded: 100%|██████████| 1/1 [00:01<00:00,  1.87s/file]                              \u001B[A\n",
      "Files Downloaded:   0%|          | 0/1 [00:00<?, ?file/s]\n",
      "sci_xrsf-l2-avg1m_g16_d20230717_v2-2-0.nc:   0%|          | 0.00/3.14M [00:00<?, ?B/s]\u001B[A\n",
      "sci_xrsf-l2-avg1m_g16_d20230718_v2-2-0.nc:   0%|          | 0.00/3.14M [00:00<?, ?B/s]\u001B[A\n",
      "sci_xrsf-l2-avg1m_g16_d20230719_v2-2-0.nc:   0%|          | 0.00/3.14M [00:00<?, ?B/s]\u001B[A\n",
      "sci_xrsf-l2-avg1m_g16_d20230720_v2-2-0.nc:   0%|          | 0.00/3.14M [00:00<?, ?B/s]\u001B[A\n",
      "sci_xrsf-l2-avg1m_g16_d20230717_v2-2-0.nc:   0%|          | 1.02k/3.14M [00:00<28:36, 1.83kB/s]\u001B[A\n",
      "sci_xrsf-l2-avg1m_g16_d20230717_v2-2-0.nc:  12%|█▏        | 369k/3.14M [00:00<00:03, 744kB/s]  \u001B[A\n",
      "sci_xrsf-l2-avg1m_g16_d20230718_v2-2-0.nc:   0%|          | 1.02k/3.14M [00:00<28:54, 1.81kB/s]\u001B[A\n",
      "sci_xrsf-l2-avg1m_g16_d20230717_v2-2-0.nc:  73%|███████▎  | 2.28M/3.14M [00:00<00:00, 4.85MB/s]\u001B[A\n",
      "Files Downloaded: 100%|██████████| 1/1 [00:01<00:00,  1.54s/file]                              \u001B[A\n",
      "Files Downloaded:   0%|          | 0/1 [00:00<?, ?file/s]\n",
      "sci_xrsf-l2-avg1m_g16_d20230718_v2-2-0.nc:  11%|█▏        | 354k/3.14M [00:00<00:03, 701kB/s]  \u001B[A\n",
      "sci_xrsf-l2-avg1m_g16_d20230718_v2-2-0.nc:  42%|████▏     | 1.31M/3.14M [00:00<00:00, 2.61MB/s]\u001B[A\n",
      "sci_xrsf-l2-avg1m_g16_d20230719_v2-2-0.nc:   0%|          | 1.02k/3.14M [00:00<34:16, 1.53kB/s]\u001B[A\n",
      "sci_xrsf-l2-avg1m_g16_d20230718_v2-2-0.nc:  80%|████████  | 2.53M/3.14M [00:00<00:00, 4.79MB/s]\u001B[A\n",
      "Files Downloaded: 100%|██████████| 1/1 [00:01<00:00,  1.50s/file]                              \u001B[A\n",
      "Files Downloaded:   0%|          | 0/1 [00:00<?, ?file/s]\n",
      "sci_xrsf-l2-avg1m_g16_d20230719_v2-2-0.nc:  21%|██        | 657k/3.14M [00:00<00:02, 1.14MB/s] \u001B[A\n",
      "sci_xrsf-l2-avg1m_g16_d20230720_v2-2-0.nc:   0%|          | 1.02k/3.14M [00:00<32:32, 1.61kB/s]\u001B[A\n",
      "sci_xrsf-l2-avg1m_g16_d20230719_v2-2-0.nc:  90%|█████████ | 2.83M/3.14M [00:00<00:00, 5.13MB/s]\u001B[A\n",
      "Files Downloaded: 100%|██████████| 1/1 [00:01<00:00,  1.55s/file]                              \u001B[A\n",
      "Files Downloaded:   0%|          | 0/1 [00:00<?, ?file/s]\n",
      "sci_xrsf-l2-avg1m_g16_d20230720_v2-2-0.nc:  17%|█▋        | 536k/3.14M [00:00<00:02, 982kB/s]  \u001B[A\n",
      "sci_xrsf-l2-avg1m_g16_d20230721_v2-2-0.nc:   0%|          | 0.00/3.14M [00:00<?, ?B/s]\u001B[A\n",
      "sci_xrsf-l2-avg1m_g16_d20230720_v2-2-0.nc:  72%|███████▏  | 2.27M/3.14M [00:00<00:00, 4.38MB/s]\u001B[A\n",
      "sci_xrsf-l2-avg1m_g16_d20230722_v2-2-0.nc:   0%|          | 0.00/3.14M [00:00<?, ?B/s]\u001B[A\n",
      "sci_xrsf-l2-avg1m_g16_d20230723_v2-2-0.nc:   0%|          | 0.00/3.14M [00:00<?, ?B/s]\u001B[A\n",
      "sci_xrsf-l2-avg1m_g16_d20230721_v2-2-0.nc:   0%|          | 1.02k/3.14M [00:00<19:40, 2.66kB/s]\u001B[A\n",
      "sci_xrsf-l2-avg1m_g16_d20230721_v2-2-0.nc:  15%|█▍        | 464k/3.14M [00:00<00:02, 1.25MB/s] \u001B[A\n",
      "sci_xrsf-l2-avg1m_g16_d20230722_v2-2-0.nc:   0%|          | 1.02k/3.14M [00:00<22:44, 2.30kB/s]\u001B[A\n",
      "sci_xrsf-l2-avg1m_g16_d20230721_v2-2-0.nc:  70%|███████   | 2.20M/3.14M [00:00<00:00, 5.66MB/s]\u001B[A\n",
      "sci_xrsf-l2-avg1m_g16_d20230723_v2-2-0.nc:   0%|          | 1.02k/3.14M [00:00<24:27, 2.14kB/s]\u001B[A\n",
      "sci_xrsf-l2-avg1m_g16_d20230722_v2-2-0.nc:  19%|█▉        | 593k/3.14M [00:00<00:01, 1.42MB/s] \u001B[A\n",
      "sci_xrsf-l2-avg1m_g16_d20230721_v2-2-0.nc:  99%|█████████▉| 3.10M/3.14M [00:00<00:00, 6.30MB/s]\u001B[A\n",
      "Files Downloaded: 100%|██████████| 1/1 [00:01<00:00,  1.23s/file]                              \u001B[A\n",
      "Files Downloaded:   0%|          | 0/1 [00:00<?, ?file/s]\n",
      "sci_xrsf-l2-avg1m_g16_d20230722_v2-2-0.nc:  69%|██████▉   | 2.18M/3.14M [00:00<00:00, 5.00MB/s]\u001B[A\n",
      "sci_xrsf-l2-avg1m_g16_d20230723_v2-2-0.nc:  12%|█▏        | 369k/3.14M [00:00<00:03, 822kB/s]  \u001B[A\n",
      "Files Downloaded: 100%|██████████| 1/1 [00:01<00:00,  1.13s/file]                              \u001B[A\n",
      "Files Downloaded:   0%|          | 0/1 [00:00<?, ?file/s]\n",
      "sci_xrsf-l2-avg1m_g16_d20230723_v2-2-0.nc:  46%|████▌     | 1.43M/3.14M [00:00<00:00, 3.17MB/s]\u001B[A\n",
      "sci_xrsf-l2-avg1m_g16_d20230723_v2-2-0.nc:  97%|█████████▋| 3.06M/3.14M [00:00<00:00, 6.35MB/s]\u001B[A\n",
      "Files Downloaded: 100%|██████████| 1/1 [00:01<00:00,  1.13s/file]                              \u001B[A\n",
      "Files Downloaded:   0%|          | 0/1 [00:00<?, ?file/s]\n",
      "sci_xrsf-l2-avg1m_g16_d20230724_v2-2-0.nc:   0%|          | 0.00/3.14M [00:00<?, ?B/s]\u001B[A\n",
      "Files Downloaded: 100%|██████████| 1/1 [00:02<00:00,  2.54s/file]                              \u001B[A\n",
      "Files Downloaded:   0%|          | 0/1 [00:00<?, ?file/s]\n",
      "sci_xrsf-l2-avg1m_g16_d20230725_v2-2-0.nc:   0%|          | 0.00/3.14M [00:00<?, ?B/s]\u001B[A\n",
      "sci_xrsf-l2-avg1m_g16_d20230724_v2-2-0.nc:   0%|          | 1.02k/3.14M [00:00<18:01, 2.90kB/s]\u001B[A\n",
      "sci_xrsf-l2-avg1m_g16_d20230726_v2-2-0.nc:   0%|          | 0.00/3.14M [00:00<?, ?B/s]\u001B[A\n",
      "sci_xrsf-l2-avg1m_g16_d20230724_v2-2-0.nc:  19%|█▊        | 585k/3.14M [00:00<00:01, 1.67MB/s] \u001B[A\n",
      "sci_xrsf-l2-avg1m_g16_d20230727_v2-2-0.nc:   0%|          | 0.00/3.14M [00:00<?, ?B/s]\u001B[A\n",
      "sci_xrsf-l2-avg1m_g16_d20230724_v2-2-0.nc:  71%|███████▏  | 2.24M/3.14M [00:00<00:00, 5.73MB/s]\u001B[A\n",
      "Files Downloaded: 100%|██████████| 1/1 [00:00<00:00,  1.02file/s]                              \u001B[A\n",
      "Files Downloaded:   0%|          | 0/1 [00:00<?, ?file/s]\n",
      "sci_xrsf-l2-avg1m_g16_d20230725_v2-2-0.nc:   0%|          | 1.02k/3.14M [00:00<25:15, 2.07kB/s]\u001B[A\n",
      "sci_xrsf-l2-avg1m_g16_d20230725_v2-2-0.nc:  27%|██▋       | 853k/3.14M [00:00<00:01, 1.91MB/s] \u001B[A\n",
      "sci_xrsf-l2-avg1m_g16_d20230726_v2-2-0.nc:   0%|          | 1.02k/3.14M [00:00<23:01, 2.27kB/s]\u001B[A\n",
      "Files Downloaded: 100%|██████████| 1/1 [00:01<00:00,  1.08s/file]                             \u001B[A\n",
      "Files Downloaded:   0%|          | 0/1 [00:00<?, ?file/s]\n",
      "sci_xrsf-l2-avg1m_g16_d20230726_v2-2-0.nc:  25%|██▍       | 785k/3.14M [00:00<00:01, 1.83MB/s] \u001B[A\n",
      "sci_xrsf-l2-avg1m_g16_d20230727_v2-2-0.nc:   0%|          | 1.02k/3.14M [00:00<22:18, 2.35kB/s]\u001B[A\n",
      "sci_xrsf-l2-avg1m_g16_d20230726_v2-2-0.nc:  68%|██████▊   | 2.13M/3.14M [00:00<00:00, 4.71MB/s]\u001B[A\n",
      "sci_xrsf-l2-avg1m_g16_d20230727_v2-2-0.nc:  12%|█▏        | 393k/3.14M [00:00<00:02, 938kB/s]  \u001B[A\n",
      "Files Downloaded: 100%|██████████| 1/1 [00:01<00:00,  1.20s/file]                              \u001B[A\n",
      "Files Downloaded:   0%|          | 0/1 [00:00<?, ?file/s]\n",
      "sci_xrsf-l2-avg1m_g16_d20230728_v2-2-0.nc:   0%|          | 0.00/3.14M [00:00<?, ?B/s]\u001B[A\n",
      "sci_xrsf-l2-avg1m_g16_d20230727_v2-2-0.nc:  54%|█████▎    | 1.69M/3.14M [00:00<00:00, 3.97MB/s]\u001B[A\n",
      "sci_xrsf-l2-avg1m_g16_d20230729_v2-2-0.nc:   0%|          | 0.00/3.14M [00:00<?, ?B/s]\u001B[A\n",
      "sci_xrsf-l2-avg1m_g16_d20230727_v2-2-0.nc:  84%|████████▍ | 2.64M/3.14M [00:00<00:00, 4.19MB/s]\u001B[A\n",
      "sci_xrsf-l2-avg1m_g16_d20230730_v2-2-0.nc:   0%|          | 0.00/3.14M [00:00<?, ?B/s]\u001B[A\n",
      "sci_xrsf-l2-avg1m_g16_d20230728_v2-2-0.nc:   0%|          | 1.02k/3.14M [00:00<28:58, 1.81kB/s]\u001B[A\n",
      "sci_xrsf-l2-avg1m_g16_d20230729_v2-2-0.nc:   0%|          | 1.02k/3.14M [00:00<24:48, 2.11kB/s]\u001B[A\n",
      "sci_xrsf-l2-avg1m_g16_d20230728_v2-2-0.nc:  25%|██▍       | 784k/3.14M [00:00<00:01, 1.58MB/s] \u001B[A\n",
      "sci_xrsf-l2-avg1m_g16_d20230729_v2-2-0.nc:  22%|██▏       | 690k/3.14M [00:00<00:01, 1.54MB/s] \u001B[A\n",
      "sci_xrsf-l2-avg1m_g16_d20230728_v2-2-0.nc:  69%|██████▉   | 2.17M/3.14M [00:00<00:00, 4.28MB/s]\u001B[A\n",
      "Files Downloaded: 100%|██████████| 1/1 [00:01<00:00,  1.35s/file]                              \u001B[A\n",
      "Files Downloaded:   0%|          | 0/1 [00:00<?, ?file/s]\n",
      "sci_xrsf-l2-avg1m_g16_d20230729_v2-2-0.nc:  65%|██████▌   | 2.05M/3.14M [00:00<00:00, 4.35MB/s]\u001B[A\n",
      "Files Downloaded: 100%|██████████| 1/1 [00:01<00:00,  1.20s/file]                              \u001B[A\n",
      "Files Downloaded:   0%|          | 0/1 [00:00<?, ?file/s]\n",
      "sci_xrsf-l2-avg1m_g16_d20230730_v2-2-0.nc:   0%|          | 1.02k/3.14M [00:00<26:28, 1.98kB/s]\u001B[A\n",
      "sci_xrsf-l2-avg1m_g16_d20230730_v2-2-0.nc:  27%|██▋       | 857k/3.14M [00:00<00:01, 1.85MB/s] \u001B[A\n",
      "Files Downloaded: 100%|██████████| 1/1 [00:02<00:00,  2.13s/file]                              \u001B[A\n",
      "Files Downloaded:   0%|          | 0/1 [00:00<?, ?file/s]\n",
      "Files Downloaded: 100%|██████████| 1/1 [00:01<00:00,  1.16s/file]                             \u001B[A\n",
      "Files Downloaded:   0%|          | 0/1 [00:00<?, ?file/s]\n",
      "sci_xrsf-l2-avg1m_g16_d20230731_v2-2-0.nc:   0%|          | 0.00/3.14M [00:00<?, ?B/s]\u001B[A\n",
      "sci_xrsf-l2-avg1m_g16_d20230801_v2-2-0.nc:   0%|          | 0.00/3.14M [00:00<?, ?B/s]\u001B[A\n",
      "sci_xrsf-l2-avg1m_g16_d20230802_v2-2-0.nc:   0%|          | 0.00/3.14M [00:00<?, ?B/s]\u001B[A\n",
      "sci_xrsf-l2-avg1m_g16_d20230803_v2-2-0.nc:   0%|          | 0.00/3.14M [00:00<?, ?B/s]\u001B[A\n",
      "sci_xrsf-l2-avg1m_g16_d20230731_v2-2-0.nc:   0%|          | 1.02k/3.14M [00:00<18:51, 2.78kB/s]\u001B[A\n",
      "sci_xrsf-l2-avg1m_g16_d20230801_v2-2-0.nc:   0%|          | 1.02k/3.14M [00:00<22:20, 2.34kB/s]\u001B[A\n",
      "sci_xrsf-l2-avg1m_g16_d20230731_v2-2-0.nc:  11%|█         | 345k/3.14M [00:00<00:02, 934kB/s]  \u001B[A\n",
      "sci_xrsf-l2-avg1m_g16_d20230801_v2-2-0.nc:  13%|█▎        | 406k/3.14M [00:00<00:02, 1.00MB/s] \u001B[A\n",
      "sci_xrsf-l2-avg1m_g16_d20230731_v2-2-0.nc:  41%|████      | 1.28M/3.14M [00:00<00:00, 3.28MB/s]\u001B[A\n",
      "sci_xrsf-l2-avg1m_g16_d20230802_v2-2-0.nc:   0%|          | 1.02k/3.14M [00:00<22:19, 2.35kB/s]\u001B[A\n",
      "sci_xrsf-l2-avg1m_g16_d20230801_v2-2-0.nc:  62%|██████▏   | 1.95M/3.14M [00:00<00:00, 4.66MB/s]\u001B[A\n",
      "sci_xrsf-l2-avg1m_g16_d20230731_v2-2-0.nc:  89%|████████▉ | 2.81M/3.14M [00:00<00:00, 6.66MB/s]\u001B[A\n",
      "Files Downloaded: 100%|██████████| 1/1 [00:01<00:00,  1.04s/file]                              \u001B[A\n",
      "Files Downloaded:   0%|          | 0/1 [00:00<?, ?file/s]\n",
      "sci_xrsf-l2-avg1m_g16_d20230802_v2-2-0.nc:  11%|█▏        | 361k/3.14M [00:00<00:03, 863kB/s]  \u001B[A\n",
      "Files Downloaded: 100%|██████████| 1/1 [00:00<00:00,  1.01file/s]                              \u001B[A\n",
      "Files Downloaded:   0%|          | 0/1 [00:00<?, ?file/s]\n",
      "sci_xrsf-l2-avg1m_g16_d20230803_v2-2-0.nc:   0%|          | 1.02k/3.14M [00:00<27:57, 1.87kB/s]\u001B[A\n",
      "sci_xrsf-l2-avg1m_g16_d20230802_v2-2-0.nc:  59%|█████▉    | 1.86M/3.14M [00:00<00:00, 4.42MB/s]\u001B[A\n",
      "sci_xrsf-l2-avg1m_g16_d20230803_v2-2-0.nc:  17%|█▋        | 524k/3.14M [00:00<00:02, 1.08MB/s] \u001B[A\n",
      "sci_xrsf-l2-avg1m_g16_d20230802_v2-2-0.nc:  93%|█████████▎| 2.91M/3.14M [00:00<00:00, 5.92MB/s]\u001B[A\n",
      "Files Downloaded: 100%|██████████| 1/1 [00:01<00:00,  1.02s/file]                              \u001B[A\n",
      "Files Downloaded:   0%|          | 0/1 [00:00<?, ?file/s]\n",
      "sci_xrsf-l2-avg1m_g16_d20230803_v2-2-0.nc:  74%|███████▍  | 2.32M/3.14M [00:00<00:00, 4.93MB/s]\u001B[A\n",
      "Files Downloaded: 100%|██████████| 1/1 [00:01<00:00,  1.09s/file]                              \u001B[A\n",
      "Files Downloaded:   0%|          | 0/1 [00:00<?, ?file/s]\n",
      "sci_xrsf-l2-avg1m_g16_d20230804_v2-2-0.nc:   0%|          | 0.00/3.14M [00:00<?, ?B/s]\u001B[A\n",
      "sci_xrsf-l2-avg1m_g16_d20230805_v2-2-0.nc:   0%|          | 0.00/3.14M [00:00<?, ?B/s]\u001B[A\n",
      "sci_xrsf-l2-avg1m_g16_d20230806_v2-2-0.nc:   0%|          | 0.00/3.14M [00:00<?, ?B/s]\u001B[A\n",
      "sci_xrsf-l2-avg1m_g16_d20230804_v2-2-0.nc:   0%|          | 1.02k/3.14M [00:00<20:06, 2.60kB/s]\u001B[A\n",
      "sci_xrsf-l2-avg1m_g16_d20230807_v2-2-0.nc:   0%|          | 0.00/3.14M [00:00<?, ?B/s]\u001B[A\n",
      "sci_xrsf-l2-avg1m_g16_d20230804_v2-2-0.nc:  11%|█         | 345k/3.14M [00:00<00:03, 910kB/s]  \u001B[A\n",
      "sci_xrsf-l2-avg1m_g16_d20230805_v2-2-0.nc:   0%|          | 1.02k/3.14M [00:00<24:13, 2.16kB/s]\u001B[A\n",
      "sci_xrsf-l2-avg1m_g16_d20230804_v2-2-0.nc:  52%|█████▏    | 1.64M/3.14M [00:00<00:00, 4.17MB/s]\u001B[A\n",
      "sci_xrsf-l2-avg1m_g16_d20230805_v2-2-0.nc:  16%|█▌        | 489k/3.14M [00:00<00:02, 1.12MB/s] \u001B[A\n",
      "sci_xrsf-l2-avg1m_g16_d20230804_v2-2-0.nc:  80%|████████  | 2.51M/3.14M [00:00<00:00, 5.00MB/s]\u001B[A\n",
      "sci_xrsf-l2-avg1m_g16_d20230805_v2-2-0.nc:  73%|███████▎  | 2.29M/3.14M [00:00<00:00, 5.01MB/s]\u001B[A\n",
      "sci_xrsf-l2-avg1m_g16_d20230806_v2-2-0.nc:   0%|          | 1.02k/3.14M [00:00<20:24, 2.57kB/s]\u001B[A\n",
      "sci_xrsf-l2-avg1m_g16_d20230806_v2-2-0.nc:  17%|█▋        | 529k/3.14M [00:00<00:01, 1.39MB/s] \u001B[A\n",
      "sci_xrsf-l2-avg1m_g16_d20230807_v2-2-0.nc:   0%|          | 1.02k/3.14M [00:00<24:24, 2.15kB/s]\u001B[A\n",
      "sci_xrsf-l2-avg1m_g16_d20230806_v2-2-0.nc:  61%|██████    | 1.92M/3.14M [00:00<00:00, 4.64MB/s]\u001B[A\n",
      "sci_xrsf-l2-avg1m_g16_d20230807_v2-2-0.nc:  14%|█▍        | 440k/3.14M [00:00<00:02, 1.01MB/s] \u001B[A\n",
      "sci_xrsf-l2-avg1m_g16_d20230807_v2-2-0.nc:  59%|█████▊    | 1.84M/3.14M [00:00<00:00, 4.17MB/s]\u001B[A\n",
      "Files Downloaded: 100%|██████████| 1/1 [00:01<00:00,  1.22s/file]                              \u001B[A\n",
      "Files Downloaded:   0%|          | 0/1 [00:00<?, ?file/s]\n",
      "Files Downloaded: 100%|██████████| 1/1 [00:01<00:00,  1.73s/file]                              \u001B[A\n",
      "Files Downloaded:   0%|          | 0/1 [00:00<?, ?file/s]\n",
      "sci_xrsf-l2-avg1m_g16_d20230806_v2-2-0.nc:  84%|████████▍ | 2.65M/3.14M [00:01<00:00, 2.70MB/s]\u001B[A\n",
      "sci_xrsf-l2-avg1m_g16_d20230805_v2-2-0.nc:  99%|█████████▉| 3.11M/3.14M [00:01<00:00, 2.24MB/s]\u001B[A\n",
      "Files Downloaded: 100%|██████████| 1/1 [00:01<00:00,  1.80s/file]                              \u001B[A\n",
      "Files Downloaded:   0%|          | 0/1 [00:00<?, ?file/s]\n",
      "sci_xrsf-l2-avg1m_g16_d20230809_v2-2-0.nc:   0%|          | 0.00/3.14M [00:00<?, ?B/s]\u001B[A\n",
      "sci_xrsf-l2-avg1m_g16_d20230808_v2-2-0.nc:   0%|          | 0.00/3.14M [00:00<?, ?B/s]\u001B[A\n",
      "Files Downloaded: 100%|██████████| 1/1 [00:01<00:00,  1.83s/file]                              \u001B[A\n",
      "Files Downloaded:   0%|          | 0/1 [00:00<?, ?file/s]\n",
      "sci_xrsf-l2-avg1m_g16_d20230810_v2-2-0.nc:   0%|          | 0.00/3.14M [00:00<?, ?B/s]\u001B[A\n",
      "sci_xrsf-l2-avg1m_g16_d20230809_v2-2-0.nc:   0%|          | 1.02k/3.14M [00:00<12:39, 4.14kB/s]\u001B[A\n",
      "sci_xrsf-l2-avg1m_g16_d20230809_v2-2-0.nc:  22%|██▏       | 706k/3.14M [00:00<00:00, 2.57MB/s] \u001B[A\n",
      "sci_xrsf-l2-avg1m_g16_d20230808_v2-2-0.nc:   0%|          | 1.02k/3.14M [00:00<17:31, 2.99kB/s]\u001B[A\n",
      "sci_xrsf-l2-avg1m_g16_d20230808_v2-2-0.nc:  15%|█▍        | 465k/3.14M [00:00<00:01, 1.36MB/s] \u001B[A\n",
      "sci_xrsf-l2-avg1m_g16_d20230809_v2-2-0.nc:  73%|███████▎  | 2.28M/3.14M [00:00<00:00, 6.64MB/s]\u001B[A\n",
      "sci_xrsf-l2-avg1m_g16_d20230811_v2-2-0.nc:   0%|          | 0.00/3.14M [00:00<?, ?B/s]\u001B[A\n",
      "sci_xrsf-l2-avg1m_g16_d20230808_v2-2-0.nc:  52%|█████▏    | 1.62M/3.14M [00:00<00:00, 4.35MB/s]\u001B[A\n",
      "sci_xrsf-l2-avg1m_g16_d20230810_v2-2-0.nc:   0%|          | 1.02k/3.14M [00:00<25:06, 2.08kB/s]\u001B[A\n",
      "sci_xrsf-l2-avg1m_g16_d20230808_v2-2-0.nc:  90%|████████▉ | 2.83M/3.14M [00:00<00:00, 6.63MB/s]\u001B[A\n",
      "Files Downloaded: 100%|██████████| 1/1 [00:01<00:00,  1.15s/file]                              \u001B[A\n",
      "Files Downloaded:   0%|          | 0/1 [00:00<?, ?file/s]\n",
      "sci_xrsf-l2-avg1m_g16_d20230810_v2-2-0.nc:   8%|▊         | 250k/3.14M [00:00<00:05, 561kB/s]  \u001B[A\n",
      "sci_xrsf-l2-avg1m_g16_d20230810_v2-2-0.nc:  52%|█████▏    | 1.64M/3.14M [00:00<00:00, 3.80MB/s]\u001B[A\n",
      "sci_xrsf-l2-avg1m_g16_d20230810_v2-2-0.nc:  93%|█████████▎| 2.91M/3.14M [00:00<00:00, 5.96MB/s]\u001B[A\n",
      "sci_xrsf-l2-avg1m_g16_d20230811_v2-2-0.nc:   0%|          | 1.02k/3.14M [00:00<17:42, 2.96kB/s]\u001B[A\n",
      "Files Downloaded: 100%|██████████| 1/1 [00:01<00:00,  1.10s/file]                              \u001B[A\n",
      "Files Downloaded:   0%|          | 0/1 [00:00<?, ?file/s]\n",
      "sci_xrsf-l2-avg1m_g16_d20230812_v2-2-0.nc:   0%|          | 0.00/3.14M [00:00<?, ?B/s]\u001B[A\n",
      "sci_xrsf-l2-avg1m_g16_d20230811_v2-2-0.nc:  19%|█▉        | 609k/3.14M [00:00<00:01, 1.69MB/s] \u001B[A\n",
      "sci_xrsf-l2-avg1m_g16_d20230811_v2-2-0.nc:  84%|████████▎ | 2.63M/3.14M [00:00<00:00, 6.92MB/s]\u001B[A\n",
      "Files Downloaded: 100%|██████████| 1/1 [00:01<00:00,  1.13s/file]                              \u001B[A\n",
      "Files Downloaded:   0%|          | 0/1 [00:00<?, ?file/s]\n",
      "sci_xrsf-l2-avg1m_g16_d20230813_v2-2-0.nc:   0%|          | 0.00/3.14M [00:00<?, ?B/s]\u001B[A\n",
      "sci_xrsf-l2-avg1m_g16_d20230809_v2-2-0.nc:  99%|█████████▉| 3.10M/3.14M [00:01<00:00, 2.10MB/s]\u001B[A\n",
      "Files Downloaded: 100%|██████████| 1/1 [00:01<00:00,  1.65s/file]                              \u001B[A\n",
      "Files Downloaded:   0%|          | 0/1 [00:00<?, ?file/s]\n",
      "sci_xrsf-l2-avg1m_g16_d20230812_v2-2-0.nc:   0%|          | 1.02k/3.14M [00:00<18:28, 2.83kB/s]\u001B[A\n",
      "sci_xrsf-l2-avg1m_g16_d20230812_v2-2-0.nc:  13%|█▎        | 417k/3.14M [00:00<00:02, 1.17MB/s] \u001B[A\n",
      "sci_xrsf-l2-avg1m_g16_d20230812_v2-2-0.nc:  58%|█████▊    | 1.82M/3.14M [00:00<00:00, 4.87MB/s]\u001B[A\n",
      "Files Downloaded: 100%|██████████| 1/1 [00:00<00:00,  1.06file/s]                              \u001B[A\n",
      "Files Downloaded:   0%|          | 0/1 [00:00<?, ?file/s]\n",
      "sci_xrsf-l2-avg1m_g16_d20230814_v2-2-0.nc:   0%|          | 0.00/3.14M [00:00<?, ?B/s]\u001B[A\n",
      "sci_xrsf-l2-avg1m_g16_d20230813_v2-2-0.nc:   0%|          | 1.02k/3.14M [00:00<28:18, 1.85kB/s]\u001B[A\n",
      "sci_xrsf-l2-avg1m_g16_d20230815_v2-2-0.nc:   0%|          | 0.00/3.14M [00:00<?, ?B/s]\u001B[A\n",
      "sci_xrsf-l2-avg1m_g16_d20230813_v2-2-0.nc:  16%|█▋        | 513k/3.14M [00:00<00:02, 1.03MB/s] \u001B[A\n",
      "sci_xrsf-l2-avg1m_g16_d20230813_v2-2-0.nc:  95%|█████████▌| 2.99M/3.14M [00:00<00:00, 6.30MB/s]\u001B[A\n",
      "Files Downloaded: 100%|██████████| 1/1 [00:01<00:00,  1.08s/file]                              \u001B[A\n",
      "\n",
      "Files Downloaded:   0%|          | 0/1 [00:00<?, ?file/s] | 0.00/3.14M [00:00<?, ?B/s]\u001B[A\n",
      "sci_xrsf-l2-avg1m_g16_d20230814_v2-2-0.nc:   0%|          | 1.02k/3.14M [00:00<19:22, 2.70kB/s]\u001B[A\n",
      "sci_xrsf-l2-avg1m_g16_d20230814_v2-2-0.nc:  21%|██        | 656k/3.14M [00:00<00:01, 1.79MB/s] \u001B[A\n",
      "sci_xrsf-l2-avg1m_g16_d20230815_v2-2-0.nc:   0%|          | 1.02k/3.14M [00:00<21:37, 2.42kB/s]\u001B[A\n",
      "sci_xrsf-l2-avg1m_g16_d20230815_v2-2-0.nc:  15%|█▌        | 473k/3.14M [00:00<00:02, 1.18MB/s] \u001B[A\n",
      "sci_xrsf-l2-avg1m_g16_d20230814_v2-2-0.nc:  80%|████████  | 2.51M/3.14M [00:00<00:00, 4.47MB/s]\u001B[A\n",
      "sci_xrsf-l2-avg1m_g18_d20230702_v2-2-0.nc:   0%|          | 0.00/3.14M [00:00<?, ?B/s]\u001B[A\n",
      "sci_xrsf-l2-avg1m_g18_d20230701_v2-2-0.nc:   0%|          | 1.02k/3.14M [00:00<23:31, 2.23kB/s]\u001B[A\n",
      "sci_xrsf-l2-avg1m_g16_d20230815_v2-2-0.nc:  79%|███████▉  | 2.49M/3.14M [00:00<00:00, 5.95MB/s]\u001B[A\n",
      "Files Downloaded: 100%|██████████| 1/1 [00:01<00:00,  1.16s/file]                              \u001B[A\n",
      "Files Downloaded:   0%|          | 0/1 [00:00<?, ?file/s]\n",
      "sci_xrsf-l2-avg1m_g18_d20230701_v2-2-0.nc:  22%|██▏       | 696k/3.14M [00:00<00:01, 1.65MB/s] \u001B[A\n",
      "sci_xrsf-l2-avg1m_g18_d20230701_v2-2-0.nc:  82%|████████▏ | 2.57M/3.14M [00:00<00:00, 5.97MB/s]\u001B[A\n",
      "Files Downloaded: 100%|██████████| 1/1 [00:01<00:00,  1.07s/file]                              \u001B[A\n",
      "Files Downloaded:   0%|          | 0/1 [00:00<?, ?file/s]\n",
      "sci_xrsf-l2-avg1m_g18_d20230702_v2-2-0.nc:   0%|          | 1.02k/3.14M [00:00<15:59, 3.27kB/s]\u001B[A\n",
      "sci_xrsf-l2-avg1m_g18_d20230702_v2-2-0.nc:  26%|██▌       | 804k/3.14M [00:00<00:00, 2.51MB/s] \u001B[A\n",
      "sci_xrsf-l2-avg1m_g18_d20230702_v2-2-0.nc:  76%|███████▋  | 2.40M/3.14M [00:00<00:00, 6.46MB/s]\u001B[A\n",
      "sci_xrsf-l2-avg1m_g18_d20230703_v2-2-0.nc:   0%|          | 0.00/3.14M [00:00<?, ?B/s]\u001B[A\n",
      "sci_xrsf-l2-avg1m_g16_d20230814_v2-2-0.nc:  97%|█████████▋| 3.05M/3.14M [00:01<00:00, 2.13MB/s]\u001B[A\n",
      "Files Downloaded: 100%|██████████| 1/1 [00:01<00:00,  1.06s/file]                              \u001B[A\n",
      "Files Downloaded:   0%|          | 0/1 [00:00<?, ?file/s]\n",
      "Files Downloaded: 100%|██████████| 1/1 [00:01<00:00,  1.89s/file]                              \u001B[A\n",
      "Files Downloaded:   0%|          | 0/1 [00:00<?, ?file/s]\n",
      "sci_xrsf-l2-avg1m_g18_d20230704_v2-2-0.nc:   0%|          | 0.00/3.14M [00:00<?, ?B/s]\u001B[A\n",
      "sci_xrsf-l2-avg1m_g18_d20230703_v2-2-0.nc:   0%|          | 1.02k/3.14M [00:00<21:19, 2.45kB/s]\u001B[A\n",
      "sci_xrsf-l2-avg1m_g18_d20230705_v2-2-0.nc:   0%|          | 0.00/3.14M [00:00<?, ?B/s]\u001B[A\n",
      "sci_xrsf-l2-avg1m_g18_d20230706_v2-2-0.nc:   0%|          | 0.00/3.14M [00:00<?, ?B/s]\u001B[A\n",
      "sci_xrsf-l2-avg1m_g18_d20230704_v2-2-0.nc:   0%|          | 1.00/3.14M [00:00<578:46:34, 1.51B/s]\u001B[A\n",
      "sci_xrsf-l2-avg1m_g18_d20230704_v2-2-0.nc:   0%|          | 8.78k/3.14M [00:00<03:22, 15.5kB/s]  \u001B[A\n",
      "sci_xrsf-l2-avg1m_g18_d20230703_v2-2-0.nc:  24%|██▍       | 749k/3.14M [00:00<00:02, 878kB/s]  \u001B[A\n",
      "sci_xrsf-l2-avg1m_g18_d20230703_v2-2-0.nc:  28%|██▊       | 877k/3.14M [00:01<00:02, 907kB/s]\u001B[A\n",
      "sci_xrsf-l2-avg1m_g18_d20230705_v2-2-0.nc:   0%|          | 1.00/3.14M [00:00<484:09:45, 1.80B/s]\u001B[A\n",
      "sci_xrsf-l2-avg1m_g18_d20230706_v2-2-0.nc:   0%|          | 1.02k/3.14M [00:00<31:34, 1.66kB/s]\u001B[A\n",
      "sci_xrsf-l2-avg1m_g18_d20230705_v2-2-0.nc:   0%|          | 8.78k/3.14M [00:00<03:02, 17.1kB/s]  \u001B[A\n",
      "sci_xrsf-l2-avg1m_g18_d20230704_v2-2-0.nc:   4%|▍         | 121k/3.14M [00:01<00:22, 137kB/s]  \u001B[A\n",
      "sci_xrsf-l2-avg1m_g18_d20230706_v2-2-0.nc:   4%|▍         | 129k/3.14M [00:00<00:13, 222kB/s]  \u001B[A\n",
      "sci_xrsf-l2-avg1m_g18_d20230706_v2-2-0.nc:  17%|█▋        | 537k/3.14M [00:00<00:02, 946kB/s]\u001B[A\n",
      "sci_xrsf-l2-avg1m_g18_d20230703_v2-2-0.nc:  31%|███       | 968k/3.14M [00:01<00:03, 568kB/s]\u001B[A\n",
      "sci_xrsf-l2-avg1m_g18_d20230705_v2-2-0.nc:   4%|▍         | 129k/3.14M [00:01<00:16, 182kB/s]  \u001B[A\n",
      "sci_xrsf-l2-avg1m_g18_d20230706_v2-2-0.nc:  24%|██▍       | 757k/3.14M [00:01<00:02, 1.07MB/s]\u001B[A\n",
      "sci_xrsf-l2-avg1m_g18_d20230705_v2-2-0.nc:   5%|▌         | 160k/3.14M [00:01<00:14, 204kB/s]\u001B[A\n",
      "sci_xrsf-l2-avg1m_g18_d20230704_v2-2-0.nc:   6%|▌         | 176k/3.14M [00:01<00:21, 137kB/s]\u001B[A\n",
      "sci_xrsf-l2-avg1m_g18_d20230704_v2-2-0.nc:   7%|▋         | 224k/3.14M [00:01<00:17, 171kB/s]\u001B[A\n",
      "sci_xrsf-l2-avg1m_g18_d20230703_v2-2-0.nc:  42%|████▏     | 1.31M/3.14M [00:01<00:02, 668kB/s]\u001B[A\n",
      "sci_xrsf-l2-avg1m_g18_d20230703_v2-2-0.nc:  57%|█████▋    | 1.80M/3.14M [00:02<00:01, 1.15MB/s]\u001B[A\n",
      "sci_xrsf-l2-avg1m_g18_d20230705_v2-2-0.nc:   6%|▌         | 185k/3.14M [00:01<00:24, 122kB/s]\u001B[A\n",
      "sci_xrsf-l2-avg1m_g18_d20230705_v2-2-0.nc:   8%|▊         | 257k/3.14M [00:01<00:14, 205kB/s]\u001B[A\n",
      "sci_xrsf-l2-avg1m_g18_d20230706_v2-2-0.nc:  29%|██▉       | 921k/3.14M [00:01<00:04, 529kB/s] \u001B[A\n",
      "sci_xrsf-l2-avg1m_g18_d20230704_v2-2-0.nc:  11%|█         | 336k/3.14M [00:02<00:13, 201kB/s]\u001B[A\n",
      "sci_xrsf-l2-avg1m_g18_d20230704_v2-2-0.nc:  18%|█▊        | 560k/3.14M [00:02<00:05, 443kB/s]\u001B[A\n",
      "sci_xrsf-l2-avg1m_g18_d20230703_v2-2-0.nc:  64%|██████▍   | 2.00M/3.14M [00:02<00:01, 819kB/s] \u001B[A\n",
      "sci_xrsf-l2-avg1m_g18_d20230703_v2-2-0.nc:  78%|███████▊  | 2.45M/3.14M [00:02<00:00, 1.23MB/s]\u001B[A\n",
      "sci_xrsf-l2-avg1m_g18_d20230705_v2-2-0.nc:  11%|█         | 336k/3.14M [00:02<00:14, 199kB/s]\u001B[A\n",
      "sci_xrsf-l2-avg1m_g18_d20230706_v2-2-0.nc:  33%|███▎      | 1.03M/3.14M [00:02<00:04, 435kB/s]\u001B[A\n",
      "sci_xrsf-l2-avg1m_g18_d20230705_v2-2-0.nc:  15%|█▌        | 480k/3.14M [00:02<00:07, 358kB/s]\u001B[A\n",
      "sci_xrsf-l2-avg1m_g18_d20230706_v2-2-0.nc:  39%|███▉      | 1.24M/3.14M [00:02<00:03, 596kB/s]\u001B[A\n",
      "sci_xrsf-l2-avg1m_g18_d20230705_v2-2-0.nc:  29%|██▉       | 920k/3.14M [00:02<00:02, 993kB/s]\u001B[A\n",
      "sci_xrsf-l2-avg1m_g18_d20230706_v2-2-0.nc:  43%|████▎     | 1.35M/3.14M [00:02<00:02, 636kB/s]\u001B[A\n",
      "sci_xrsf-l2-avg1m_g18_d20230704_v2-2-0.nc:  31%|███▏      | 984k/3.14M [00:02<00:03, 601kB/s]\u001B[A\n",
      "sci_xrsf-l2-avg1m_g18_d20230704_v2-2-0.nc:  51%|█████     | 1.59M/3.14M [00:03<00:01, 1.20MB/s]\u001B[A\n",
      "sci_xrsf-l2-avg1m_g18_d20230703_v2-2-0.nc:  85%|████████▌ | 2.69M/3.14M [00:03<00:00, 805kB/s] \u001B[A\n",
      "sci_xrsf-l2-avg1m_g18_d20230703_v2-2-0.nc:  91%|█████████ | 2.86M/3.14M [00:03<00:00, 891kB/s]\u001B[A\n",
      "sci_xrsf-l2-avg1m_g18_d20230706_v2-2-0.nc:  48%|████▊     | 1.49M/3.14M [00:02<00:03, 492kB/s]\u001B[A\n",
      "sci_xrsf-l2-avg1m_g18_d20230705_v2-2-0.nc:  35%|███▍      | 1.10M/3.14M [00:02<00:03, 594kB/s]\u001B[A\n",
      "sci_xrsf-l2-avg1m_g18_d20230706_v2-2-0.nc:  50%|█████     | 1.57M/3.14M [00:02<00:03, 515kB/s]\u001B[A\n",
      "sci_xrsf-l2-avg1m_g18_d20230705_v2-2-0.nc:  49%|████▉     | 1.54M/3.14M [00:03<00:01, 1.03MB/s]\u001B[A\n",
      "sci_xrsf-l2-avg1m_g18_d20230706_v2-2-0.nc:  53%|█████▎    | 1.67M/3.14M [00:03<00:02, 581kB/s]\u001B[A\n",
      "sci_xrsf-l2-avg1m_g18_d20230704_v2-2-0.nc:  69%|██████▊   | 2.16M/3.14M [00:03<00:00, 1.06MB/s]\u001B[A\n",
      "sci_xrsf-l2-avg1m_g18_d20230704_v2-2-0.nc:  83%|████████▎ | 2.60M/3.14M [00:03<00:00, 1.40MB/s]\u001B[A\n",
      "sci_xrsf-l2-avg1m_g18_d20230704_v2-2-0.nc:  95%|█████████▌| 3.00M/3.14M [00:03<00:00, 1.70MB/s]\u001B[A\n",
      "Files Downloaded: 100%|██████████| 1/1 [00:04<00:00,  4.34s/file]                              \u001B[A\n",
      "Files Downloaded:   0%|          | 0/1 [00:00<?, ?file/s]\n",
      "sci_xrsf-l2-avg1m_g18_d20230703_v2-2-0.nc:  97%|█████████▋| 3.03M/3.14M [00:04<00:00, 562kB/s]\u001B[A\n",
      "Files Downloaded: 100%|██████████| 1/1 [00:04<00:00,  4.61s/file]                             \u001B[A\n",
      "Files Downloaded:   0%|          | 0/1 [00:00<?, ?file/s]\n",
      "sci_xrsf-l2-avg1m_g18_d20230705_v2-2-0.nc:  65%|██████▍   | 2.04M/3.14M [00:03<00:01, 997kB/s] \u001B[A\n",
      "sci_xrsf-l2-avg1m_g18_d20230705_v2-2-0.nc:  83%|████████▎ | 2.62M/3.14M [00:03<00:00, 1.54MB/s]\u001B[A\n",
      "sci_xrsf-l2-avg1m_g18_d20230706_v2-2-0.nc:  72%|███████▏  | 2.27M/3.14M [00:03<00:01, 850kB/s]\u001B[A\n",
      "sci_xrsf-l2-avg1m_g18_d20230706_v2-2-0.nc:  91%|█████████▏| 2.87M/3.14M [00:03<00:00, 1.45MB/s]\u001B[A\n",
      "sci_xrsf-l2-avg1m_g18_d20230707_v2-2-0.nc:   0%|          | 0.00/3.14M [00:00<?, ?B/s]\u001B[A\n",
      "sci_xrsf-l2-avg1m_g18_d20230708_v2-2-0.nc:   0%|          | 0.00/3.14M [00:00<?, ?B/s]\u001B[A\n",
      "sci_xrsf-l2-avg1m_g18_d20230705_v2-2-0.nc:  93%|█████████▎| 2.91M/3.14M [00:03<00:00, 1.34MB/s]\u001B[A\n",
      "sci_xrsf-l2-avg1m_g18_d20230706_v2-2-0.nc:  98%|█████████▊| 3.09M/3.14M [00:04<00:00, 1.29MB/s]\u001B[A\n",
      "Files Downloaded: 100%|██████████| 1/1 [00:04<00:00,  4.56s/file]                              \u001B[A\n",
      "Files Downloaded:   0%|          | 0/1 [00:00<?, ?file/s]\n",
      "Files Downloaded: 100%|██████████| 1/1 [00:04<00:00,  4.65s/file]                              \u001B[A\n",
      "Files Downloaded:   0%|          | 0/1 [00:00<?, ?file/s]\n",
      "sci_xrsf-l2-avg1m_g18_d20230707_v2-2-0.nc:   0%|          | 1.02k/3.14M [00:00<18:12, 2.88kB/s]\u001B[A\n",
      "sci_xrsf-l2-avg1m_g18_d20230707_v2-2-0.nc:   4%|▍         | 128k/3.14M [00:00<00:08, 357kB/s]  \u001B[A\n",
      "sci_xrsf-l2-avg1m_g18_d20230708_v2-2-0.nc:   0%|          | 1.02k/3.14M [00:00<23:33, 2.22kB/s]\u001B[A\n",
      "sci_xrsf-l2-avg1m_g18_d20230708_v2-2-0.nc:   4%|▍         | 135k/3.14M [00:00<00:10, 294kB/s]  \u001B[A\n",
      "sci_xrsf-l2-avg1m_g18_d20230710_v2-2-0.nc:   0%|          | 0.00/3.14M [00:00<?, ?B/s]\u001B[A\n",
      "sci_xrsf-l2-avg1m_g18_d20230709_v2-2-0.nc:   0%|          | 0.00/3.14M [00:00<?, ?B/s]\u001B[A\n",
      "sci_xrsf-l2-avg1m_g18_d20230707_v2-2-0.nc:   6%|▋         | 197k/3.14M [00:01<00:16, 173kB/s]\u001B[A\n",
      "sci_xrsf-l2-avg1m_g18_d20230710_v2-2-0.nc:   0%|          | 1.02k/3.14M [00:00<24:12, 2.16kB/s]\u001B[A\n",
      "sci_xrsf-l2-avg1m_g18_d20230710_v2-2-0.nc:   5%|▌         | 169k/3.14M [00:00<00:07, 377kB/s]  \u001B[A\n",
      "sci_xrsf-l2-avg1m_g18_d20230709_v2-2-0.nc:   0%|          | 1.02k/3.14M [00:00<29:20, 1.78kB/s]\u001B[A\n",
      "sci_xrsf-l2-avg1m_g18_d20230709_v2-2-0.nc:  10%|█         | 321k/3.14M [00:00<00:04, 611kB/s]  \u001B[A\n",
      "sci_xrsf-l2-avg1m_g18_d20230707_v2-2-0.nc:   9%|▉         | 288k/3.14M [00:01<00:14, 203kB/s]\u001B[A\n",
      "sci_xrsf-l2-avg1m_g18_d20230708_v2-2-0.nc:   6%|▌         | 194k/3.14M [00:01<00:23, 126kB/s]\u001B[A\n",
      "sci_xrsf-l2-avg1m_g18_d20230707_v2-2-0.nc:  10%|█         | 328k/3.14M [00:01<00:12, 226kB/s]\u001B[A\n",
      "sci_xrsf-l2-avg1m_g18_d20230708_v2-2-0.nc:   9%|▉         | 288k/3.14M [00:01<00:13, 212kB/s]\u001B[A\n",
      "sci_xrsf-l2-avg1m_g18_d20230708_v2-2-0.nc:  13%|█▎        | 400k/3.14M [00:01<00:08, 319kB/s]\u001B[A\n",
      "sci_xrsf-l2-avg1m_g18_d20230707_v2-2-0.nc:  12%|█▏        | 365k/3.14M [00:01<00:12, 215kB/s]\u001B[A\n",
      "sci_xrsf-l2-avg1m_g18_d20230710_v2-2-0.nc:  24%|██▍       | 757k/3.14M [00:01<00:02, 872kB/s]\u001B[A\n",
      "sci_xrsf-l2-avg1m_g18_d20230710_v2-2-0.nc:  27%|██▋       | 859k/3.14M [00:01<00:02, 882kB/s]\u001B[A\n",
      "sci_xrsf-l2-avg1m_g18_d20230709_v2-2-0.nc:  20%|██        | 629k/3.14M [00:01<00:04, 619kB/s]\u001B[A\n",
      "sci_xrsf-l2-avg1m_g18_d20230707_v2-2-0.nc:  22%|██▏       | 696k/3.14M [00:02<00:04, 573kB/s]\u001B[A\n",
      "sci_xrsf-l2-avg1m_g18_d20230709_v2-2-0.nc:  24%|██▎       | 742k/3.14M [00:01<00:03, 691kB/s]\u001B[A\n",
      "sci_xrsf-l2-avg1m_g18_d20230708_v2-2-0.nc:  15%|█▍        | 468k/3.14M [00:02<00:10, 265kB/s]\u001B[A\n",
      "sci_xrsf-l2-avg1m_g18_d20230707_v2-2-0.nc:  25%|██▌       | 792k/3.14M [00:02<00:03, 605kB/s]\u001B[A\n",
      "sci_xrsf-l2-avg1m_g18_d20230708_v2-2-0.nc:  22%|██▏       | 696k/3.14M [00:02<00:04, 503kB/s]\u001B[A\n",
      "sci_xrsf-l2-avg1m_g18_d20230708_v2-2-0.nc:  28%|██▊       | 866k/3.14M [00:02<00:03, 680kB/s]\u001B[A\n",
      "sci_xrsf-l2-avg1m_g18_d20230708_v2-2-0.nc:  34%|███▎      | 1.06M/3.14M [00:02<00:02, 829kB/s]\u001B[A\n",
      "sci_xrsf-l2-avg1m_g18_d20230707_v2-2-0.nc:  31%|███▏      | 984k/3.14M [00:02<00:03, 546kB/s]\u001B[A\n",
      "sci_xrsf-l2-avg1m_g18_d20230707_v2-2-0.nc:  36%|███▌      | 1.12M/3.14M [00:02<00:03, 659kB/s]\u001B[A\n",
      "sci_xrsf-l2-avg1m_g18_d20230710_v2-2-0.nc:  30%|███       | 957k/3.14M [00:01<00:05, 418kB/s]\u001B[A\n",
      "sci_xrsf-l2-avg1m_g18_d20230710_v2-2-0.nc:  37%|███▋      | 1.16M/3.14M [00:02<00:03, 573kB/s]\u001B[A\n",
      "sci_xrsf-l2-avg1m_g18_d20230709_v2-2-0.nc:  27%|██▋       | 854k/3.14M [00:02<00:06, 358kB/s]\u001B[A\n",
      "sci_xrsf-l2-avg1m_g18_d20230707_v2-2-0.nc:  44%|████▍     | 1.39M/3.14M [00:02<00:01, 892kB/s]\u001B[A\n",
      "sci_xrsf-l2-avg1m_g18_d20230708_v2-2-0.nc:  40%|███▉      | 1.25M/3.14M [00:02<00:02, 693kB/s]\u001B[A\n",
      "sci_xrsf-l2-avg1m_g18_d20230709_v2-2-0.nc:  31%|███       | 964k/3.14M [00:02<00:05, 429kB/s]\u001B[A\n",
      "sci_xrsf-l2-avg1m_g18_d20230707_v2-2-0.nc:  53%|█████▎    | 1.65M/3.14M [00:02<00:01, 1.13MB/s]\u001B[A\n",
      "sci_xrsf-l2-avg1m_g18_d20230708_v2-2-0.nc:  44%|████▎     | 1.37M/3.14M [00:03<00:02, 681kB/s]\u001B[A\n",
      "sci_xrsf-l2-avg1m_g18_d20230708_v2-2-0.nc:  51%|█████▏    | 1.62M/3.14M [00:03<00:01, 926kB/s]\u001B[A\n",
      "sci_xrsf-l2-avg1m_g18_d20230707_v2-2-0.nc:  65%|██████▍   | 2.04M/3.14M [00:03<00:00, 1.21MB/s]\u001B[A\n",
      "sci_xrsf-l2-avg1m_g18_d20230710_v2-2-0.nc:  42%|████▏     | 1.31M/3.14M [00:02<00:03, 472kB/s]\u001B[A\n",
      "sci_xrsf-l2-avg1m_g18_d20230708_v2-2-0.nc:  69%|██████▉   | 2.18M/3.14M [00:03<00:00, 1.76MB/s]\u001B[A\n",
      "sci_xrsf-l2-avg1m_g18_d20230710_v2-2-0.nc:  49%|████▉     | 1.54M/3.14M [00:02<00:02, 662kB/s]\u001B[A\n",
      "sci_xrsf-l2-avg1m_g18_d20230709_v2-2-0.nc:  33%|███▎      | 1.05M/3.14M [00:02<00:06, 308kB/s]\u001B[A\n",
      "sci_xrsf-l2-avg1m_g18_d20230710_v2-2-0.nc:  63%|██████▎   | 1.97M/3.14M [00:02<00:01, 1.14MB/s]\u001B[A\n",
      "sci_xrsf-l2-avg1m_g18_d20230707_v2-2-0.nc:  73%|███████▎  | 2.28M/3.14M [00:03<00:00, 1.13MB/s]\u001B[A\n",
      "sci_xrsf-l2-avg1m_g18_d20230709_v2-2-0.nc:  45%|████▌     | 1.42M/3.14M [00:02<00:02, 652kB/s]\u001B[A\n",
      "sci_xrsf-l2-avg1m_g18_d20230707_v2-2-0.nc:  81%|████████▏ | 2.56M/3.14M [00:03<00:00, 1.37MB/s]\u001B[A\n",
      "sci_xrsf-l2-avg1m_g18_d20230708_v2-2-0.nc:  77%|███████▋  | 2.42M/3.14M [00:03<00:00, 1.09MB/s]\u001B[A\n",
      "sci_xrsf-l2-avg1m_g18_d20230708_v2-2-0.nc:  89%|████████▊ | 2.78M/3.14M [00:03<00:00, 1.30MB/s]\u001B[A\n",
      "Files Downloaded: 100%|██████████| 1/1 [00:04<00:00,  4.40s/file]                              \u001B[A\n",
      "Files Downloaded:   0%|          | 0/1 [00:00<?, ?file/s]\n",
      "sci_xrsf-l2-avg1m_g18_d20230710_v2-2-0.nc:  69%|██████▉   | 2.18M/3.14M [00:03<00:01, 794kB/s] \u001B[A\n",
      "sci_xrsf-l2-avg1m_g18_d20230709_v2-2-0.nc:  50%|█████     | 1.57M/3.14M [00:03<00:03, 509kB/s]\u001B[A\n",
      "sci_xrsf-l2-avg1m_g18_d20230707_v2-2-0.nc:  92%|█████████▏| 2.90M/3.14M [00:04<00:00, 938kB/s] \u001B[A\n",
      "sci_xrsf-l2-avg1m_g18_d20230709_v2-2-0.nc:  66%|██████▌   | 2.07M/3.14M [00:03<00:01, 989kB/s]\u001B[A\n",
      "Files Downloaded: 100%|██████████| 1/1 [00:04<00:00,  4.74s/file]                             \u001B[A\n",
      "Files Downloaded:   0%|          | 0/1 [00:00<?, ?file/s]\n",
      "sci_xrsf-l2-avg1m_g18_d20230710_v2-2-0.nc:  80%|████████  | 2.53M/3.14M [00:03<00:00, 851kB/s]\u001B[A\n",
      "sci_xrsf-l2-avg1m_g18_d20230709_v2-2-0.nc:  77%|███████▋  | 2.41M/3.14M [00:03<00:00, 1.08MB/s]\u001B[A\n",
      "sci_xrsf-l2-avg1m_g18_d20230709_v2-2-0.nc:  96%|█████████▋| 3.03M/3.14M [00:03<00:00, 1.69MB/s]\u001B[A\n",
      "Files Downloaded: 100%|██████████| 1/1 [00:04<00:00,  4.48s/file]                              \u001B[A\n",
      "Files Downloaded:   0%|          | 0/1 [00:00<?, ?file/s]\n",
      "sci_xrsf-l2-avg1m_g18_d20230710_v2-2-0.nc:  92%|█████████▏| 2.90M/3.14M [00:03<00:00, 904kB/s]\u001B[A\n",
      "Files Downloaded: 100%|██████████| 1/1 [00:04<00:00,  4.57s/file]                             \u001B[A\n",
      "Files Downloaded:   0%|          | 0/1 [00:00<?, ?file/s]\n",
      "sci_xrsf-l2-avg1m_g18_d20230711_v2-2-0.nc:   0%|          | 0.00/3.14M [00:00<?, ?B/s]\u001B[A\n",
      "sci_xrsf-l2-avg1m_g18_d20230714_v2-2-0.nc:   0%|          | 0.00/3.14M [00:00<?, ?B/s]\u001B[A\n",
      "sci_xrsf-l2-avg1m_g18_d20230712_v2-2-0.nc:   0%|          | 0.00/3.14M [00:00<?, ?B/s]\u001B[A\n",
      "sci_xrsf-l2-avg1m_g18_d20230713_v2-2-0.nc:   0%|          | 0.00/3.14M [00:00<?, ?B/s]\u001B[A\n",
      "sci_xrsf-l2-avg1m_g18_d20230711_v2-2-0.nc:   0%|          | 1.00/3.14M [00:00<447:37:00, 1.95B/s]\u001B[A\n",
      "sci_xrsf-l2-avg1m_g18_d20230714_v2-2-0.nc:   0%|          | 1.02k/3.14M [00:00<28:24, 1.84kB/s]\u001B[A\n",
      "sci_xrsf-l2-avg1m_g18_d20230714_v2-2-0.nc:   4%|▍         | 120k/3.14M [00:00<00:15, 192kB/s]  \u001B[A\n",
      "sci_xrsf-l2-avg1m_g18_d20230712_v2-2-0.nc:   0%|          | 1.02k/3.14M [00:00<33:39, 1.56kB/s]\u001B[A\n",
      "sci_xrsf-l2-avg1m_g18_d20230712_v2-2-0.nc:   4%|▍         | 137k/3.14M [00:00<00:12, 237kB/s]  \u001B[A\n",
      "sci_xrsf-l2-avg1m_g18_d20230713_v2-2-0.nc:   0%|          | 1.02k/3.14M [00:00<40:49, 1.28kB/s]\u001B[A\n",
      "sci_xrsf-l2-avg1m_g18_d20230712_v2-2-0.nc:  24%|██▎       | 745k/3.14M [00:00<00:01, 1.40MB/s]\u001B[A\n",
      "sci_xrsf-l2-avg1m_g18_d20230711_v2-2-0.nc:   4%|▍         | 121k/3.14M [00:01<00:26, 115kB/s]    \u001B[A\n",
      "sci_xrsf-l2-avg1m_g18_d20230711_v2-2-0.nc:   5%|▍         | 153k/3.14M [00:01<00:21, 138kB/s]\u001B[A\n",
      "sci_xrsf-l2-avg1m_g18_d20230714_v2-2-0.nc:   5%|▍         | 150k/3.14M [00:01<00:24, 124kB/s]\u001B[A\n",
      "sci_xrsf-l2-avg1m_g18_d20230711_v2-2-0.nc:   5%|▌         | 172k/3.14M [00:01<00:21, 140kB/s]\u001B[A\n",
      "sci_xrsf-l2-avg1m_g18_d20230713_v2-2-0.nc:   4%|▍         | 121k/3.14M [00:01<00:27, 109kB/s]  \u001B[A\n",
      "sci_xrsf-l2-avg1m_g18_d20230714_v2-2-0.nc:   5%|▌         | 169k/3.14M [00:01<00:28, 105kB/s]\u001B[A\n",
      "sci_xrsf-l2-avg1m_g18_d20230713_v2-2-0.nc:   5%|▌         | 168k/3.14M [00:01<00:19, 150kB/s]\u001B[A\n",
      "sci_xrsf-l2-avg1m_g18_d20230711_v2-2-0.nc:   6%|▌         | 190k/3.14M [00:01<00:29, 102kB/s]\u001B[A\n",
      "sci_xrsf-l2-avg1m_g18_d20230714_v2-2-0.nc:   6%|▌         | 184k/3.14M [00:01<00:31, 94.0kB/s]\u001B[A\n",
      "sci_xrsf-l2-avg1m_g18_d20230711_v2-2-0.nc:   8%|▊         | 240k/3.14M [00:01<00:18, 157kB/s]\u001B[A\n",
      "sci_xrsf-l2-avg1m_g18_d20230711_v2-2-0.nc:  10%|█         | 320k/3.14M [00:02<00:11, 255kB/s]\u001B[A\n",
      "sci_xrsf-l2-avg1m_g18_d20230714_v2-2-0.nc:  10%|▉         | 304k/3.14M [00:01<00:12, 220kB/s] \u001B[A\n",
      "sci_xrsf-l2-avg1m_g18_d20230712_v2-2-0.nc:  34%|███▍      | 1.06M/3.14M [00:01<00:03, 606kB/s]\u001B[A\n",
      "sci_xrsf-l2-avg1m_g18_d20230713_v2-2-0.nc:   6%|▌         | 196k/3.14M [00:01<00:25, 117kB/s]\u001B[A\n",
      "sci_xrsf-l2-avg1m_g18_d20230714_v2-2-0.nc:  11%|█         | 333k/3.14M [00:02<00:13, 214kB/s]\u001B[A\n",
      "sci_xrsf-l2-avg1m_g18_d20230713_v2-2-0.nc:   9%|▊         | 272k/3.14M [00:01<00:14, 193kB/s]\u001B[A\n",
      "sci_xrsf-l2-avg1m_g18_d20230711_v2-2-0.nc:  11%|█▏        | 358k/3.14M [00:02<00:13, 209kB/s]\u001B[A\n",
      "sci_xrsf-l2-avg1m_g18_d20230711_v2-2-0.nc:  17%|█▋        | 544k/3.14M [00:02<00:05, 467kB/s]\u001B[A\n",
      "sci_xrsf-l2-avg1m_g18_d20230714_v2-2-0.nc:  11%|█▏        | 359k/3.14M [00:02<00:16, 173kB/s]\u001B[A\n",
      "sci_xrsf-l2-avg1m_g18_d20230711_v2-2-0.nc:  28%|██▊       | 880k/3.14M [00:02<00:02, 976kB/s]\u001B[A\n",
      "sci_xrsf-l2-avg1m_g18_d20230714_v2-2-0.nc:  23%|██▎       | 736k/3.14M [00:02<00:03, 717kB/s]\u001B[A\n",
      "sci_xrsf-l2-avg1m_g18_d20230712_v2-2-0.nc:  42%|████▏     | 1.31M/3.14M [00:02<00:03, 556kB/s]\u001B[A\n",
      "sci_xrsf-l2-avg1m_g18_d20230714_v2-2-0.nc:  27%|██▋       | 854k/3.14M [00:02<00:03, 752kB/s]\u001B[A\n",
      "sci_xrsf-l2-avg1m_g18_d20230712_v2-2-0.nc:  50%|█████     | 1.57M/3.14M [00:02<00:02, 735kB/s]\u001B[A\n",
      "sci_xrsf-l2-avg1m_g18_d20230713_v2-2-0.nc:  11%|█         | 336k/3.14M [00:02<00:18, 152kB/s]\u001B[A\n",
      "sci_xrsf-l2-avg1m_g18_d20230714_v2-2-0.nc:  31%|███       | 963k/3.14M [00:02<00:03, 725kB/s]\u001B[A\n",
      "sci_xrsf-l2-avg1m_g18_d20230713_v2-2-0.nc:  18%|█▊        | 552k/3.14M [00:02<00:06, 371kB/s]\u001B[A\n",
      "sci_xrsf-l2-avg1m_g18_d20230713_v2-2-0.nc:  27%|██▋       | 840k/3.14M [00:02<00:03, 689kB/s]\u001B[A\n",
      "sci_xrsf-l2-avg1m_g18_d20230711_v2-2-0.nc:  32%|███▏      | 1.02M/3.14M [00:03<00:03, 542kB/s]\u001B[A\n",
      "sci_xrsf-l2-avg1m_g18_d20230711_v2-2-0.nc:  44%|████▍     | 1.39M/3.14M [00:03<00:01, 956kB/s]\u001B[A\n",
      "sci_xrsf-l2-avg1m_g18_d20230714_v2-2-0.nc:  34%|███▎      | 1.06M/3.14M [00:03<00:04, 502kB/s]\u001B[A\n",
      "sci_xrsf-l2-avg1m_g18_d20230714_v2-2-0.nc:  50%|█████     | 1.58M/3.14M [00:03<00:01, 1.22MB/s]\u001B[A\n",
      "sci_xrsf-l2-avg1m_g18_d20230711_v2-2-0.nc:  60%|██████    | 1.90M/3.14M [00:03<00:00, 1.39MB/s]\u001B[A\n",
      "sci_xrsf-l2-avg1m_g18_d20230712_v2-2-0.nc:  62%|██████▏   | 1.94M/3.14M [00:03<00:01, 646kB/s]\u001B[A\n",
      "sci_xrsf-l2-avg1m_g18_d20230713_v2-2-0.nc:  31%|███       | 974k/3.14M [00:03<00:04, 524kB/s]\u001B[A\n",
      "sci_xrsf-l2-avg1m_g18_d20230714_v2-2-0.nc:  58%|█████▊    | 1.83M/3.14M [00:03<00:00, 1.42MB/s]\u001B[A\n",
      "sci_xrsf-l2-avg1m_g18_d20230712_v2-2-0.nc:  73%|███████▎  | 2.29M/3.14M [00:03<00:00, 883kB/s]\u001B[A\n",
      "sci_xrsf-l2-avg1m_g18_d20230713_v2-2-0.nc:  38%|███▊      | 1.18M/3.14M [00:03<00:02, 721kB/s]\u001B[A\n",
      "sci_xrsf-l2-avg1m_g18_d20230711_v2-2-0.nc:  69%|██████▉   | 2.16M/3.14M [00:03<00:00, 1.29MB/s]\u001B[A\n",
      "sci_xrsf-l2-avg1m_g18_d20230713_v2-2-0.nc:  59%|█████▉    | 1.85M/3.14M [00:03<00:00, 1.60MB/s]\u001B[A\n",
      "sci_xrsf-l2-avg1m_g18_d20230711_v2-2-0.nc:  77%|███████▋  | 2.42M/3.14M [00:03<00:00, 1.48MB/s]\u001B[A\n",
      "sci_xrsf-l2-avg1m_g18_d20230714_v2-2-0.nc:  69%|██████▉   | 2.16M/3.14M [00:03<00:00, 1.22MB/s]\u001B[A\n",
      "sci_xrsf-l2-avg1m_g18_d20230711_v2-2-0.nc:  90%|████████▉ | 2.82M/3.14M [00:03<00:00, 1.94MB/s]\u001B[A\n",
      "sci_xrsf-l2-avg1m_g18_d20230711_v2-2-0.nc:  98%|█████████▊| 3.08M/3.14M [00:04<00:00, 1.92MB/s]\u001B[A\n",
      "Files Downloaded: 100%|██████████| 1/1 [00:05<00:00,  5.12s/file]                              \u001B[A\n",
      "Files Downloaded:   0%|          | 0/1 [00:00<?, ?file/s]\n",
      "sci_xrsf-l2-avg1m_g18_d20230714_v2-2-0.nc:  84%|████████▍ | 2.65M/3.14M [00:03<00:00, 1.61MB/s]\u001B[A\n",
      "sci_xrsf-l2-avg1m_g18_d20230714_v2-2-0.nc:  94%|█████████▍| 2.96M/3.14M [00:04<00:00, 1.84MB/s]\u001B[A\n",
      "Files Downloaded: 100%|██████████| 1/1 [00:04<00:00,  4.49s/file]                              \u001B[A\n",
      "Files Downloaded:   0%|          | 0/1 [00:00<?, ?file/s]\n",
      "sci_xrsf-l2-avg1m_g18_d20230713_v2-2-0.nc:  67%|██████▋   | 2.11M/3.14M [00:03<00:00, 1.09MB/s]\u001B[A\n",
      "sci_xrsf-l2-avg1m_g18_d20230713_v2-2-0.nc:  84%|████████▍ | 2.65M/3.14M [00:03<00:00, 1.66MB/s]\u001B[A\n",
      "sci_xrsf-l2-avg1m_g18_d20230712_v2-2-0.nc:  79%|███████▊  | 2.47M/3.14M [00:04<00:01, 533kB/s]\u001B[A\n",
      "sci_xrsf-l2-avg1m_g18_d20230715_v2-2-0.nc:   0%|          | 0.00/3.14M [00:00<?, ?B/s]\u001B[A\n",
      "sci_xrsf-l2-avg1m_g18_d20230713_v2-2-0.nc:  94%|█████████▍| 2.96M/3.14M [00:04<00:00, 1.53MB/s]\u001B[A\n",
      "sci_xrsf-l2-avg1m_g18_d20230716_v2-2-0.nc:   0%|          | 0.00/3.14M [00:00<?, ?B/s]\u001B[A\n",
      "Files Downloaded: 100%|██████████| 1/1 [00:05<00:00,  5.08s/file]                              \u001B[A\n",
      "Files Downloaded:   0%|          | 0/1 [00:00<?, ?file/s]\n",
      "sci_xrsf-l2-avg1m_g18_d20230712_v2-2-0.nc:  89%|████████▊ | 2.79M/3.14M [00:04<00:00, 667kB/s]\u001B[A\n",
      "sci_xrsf-l2-avg1m_g18_d20230715_v2-2-0.nc:   0%|          | 1.02k/3.14M [00:00<16:06, 3.25kB/s]\u001B[A\n",
      "sci_xrsf-l2-avg1m_g18_d20230715_v2-2-0.nc:  10%|▉         | 313k/3.14M [00:00<00:02, 974kB/s]  \u001B[A\n",
      "sci_xrsf-l2-avg1m_g18_d20230716_v2-2-0.nc:   0%|          | 1.02k/3.14M [00:00<18:56, 2.76kB/s]\u001B[A\n",
      "sci_xrsf-l2-avg1m_g18_d20230712_v2-2-0.nc:  97%|█████████▋| 3.05M/3.14M [00:04<00:00, 715kB/s]\u001B[A\n",
      "Files Downloaded: 100%|██████████| 1/1 [00:05<00:00,  5.80s/file]                             \u001B[A\n",
      "Files Downloaded:   0%|          | 0/1 [00:00<?, ?file/s]\n",
      "sci_xrsf-l2-avg1m_g18_d20230717_v2-2-0.nc:   0%|          | 0.00/3.14M [00:00<?, ?B/s]\u001B[A\n",
      "sci_xrsf-l2-avg1m_g18_d20230716_v2-2-0.nc:  17%|█▋        | 537k/3.14M [00:00<00:01, 1.40MB/s] \u001B[A\n",
      "sci_xrsf-l2-avg1m_g18_d20230715_v2-2-0.nc:  24%|██▍       | 757k/3.14M [00:00<00:01, 1.40MB/s]\u001B[A\n",
      "sci_xrsf-l2-avg1m_g18_d20230716_v2-2-0.nc:  29%|██▉       | 917k/3.14M [00:00<00:01, 1.94MB/s]\u001B[A\n",
      "sci_xrsf-l2-avg1m_g18_d20230718_v2-2-0.nc:   0%|          | 0.00/3.14M [00:00<?, ?B/s]\u001B[A\n",
      "sci_xrsf-l2-avg1m_g18_d20230716_v2-2-0.nc:  45%|████▍     | 1.40M/3.14M [00:00<00:00, 2.41MB/s]\u001B[A\n",
      "sci_xrsf-l2-avg1m_g18_d20230717_v2-2-0.nc:   0%|          | 1.02k/3.14M [00:00<18:58, 2.76kB/s]\u001B[A\n",
      "sci_xrsf-l2-avg1m_g18_d20230715_v2-2-0.nc:  30%|██▉       | 939k/3.14M [00:01<00:02, 837kB/s] \u001B[A\n",
      "sci_xrsf-l2-avg1m_g18_d20230718_v2-2-0.nc:   0%|          | 1.02k/3.14M [00:00<22:14, 2.35kB/s]\u001B[A\n",
      "sci_xrsf-l2-avg1m_g18_d20230716_v2-2-0.nc:  54%|█████▍    | 1.70M/3.14M [00:01<00:00, 1.51MB/s]\u001B[A\n",
      "sci_xrsf-l2-avg1m_g18_d20230715_v2-2-0.nc:  34%|███▍      | 1.06M/3.14M [00:01<00:02, 709kB/s]\u001B[A\n",
      "sci_xrsf-l2-avg1m_g18_d20230718_v2-2-0.nc:   4%|▍         | 128k/3.14M [00:00<00:11, 271kB/s]  \u001B[A\n",
      "sci_xrsf-l2-avg1m_g18_d20230717_v2-2-0.nc:   4%|▍         | 121k/3.14M [00:00<00:18, 166kB/s]  \u001B[A\n",
      "sci_xrsf-l2-avg1m_g18_d20230715_v2-2-0.nc:  44%|████▍     | 1.40M/3.14M [00:01<00:01, 912kB/s]\u001B[A\n",
      "sci_xrsf-l2-avg1m_g18_d20230716_v2-2-0.nc:  61%|██████    | 1.92M/3.14M [00:01<00:01, 1.14MB/s]\u001B[A\n",
      "sci_xrsf-l2-avg1m_g18_d20230716_v2-2-0.nc:  72%|███████▏  | 2.27M/3.14M [00:01<00:00, 1.49MB/s]\u001B[A\n",
      "sci_xrsf-l2-avg1m_g18_d20230715_v2-2-0.nc:  56%|█████▌    | 1.76M/3.14M [00:01<00:01, 1.19MB/s]\u001B[A\n",
      "sci_xrsf-l2-avg1m_g18_d20230718_v2-2-0.nc:   6%|▌         | 173k/3.14M [00:01<00:16, 184kB/s]\u001B[A\n",
      "sci_xrsf-l2-avg1m_g18_d20230717_v2-2-0.nc:   6%|▌         | 176k/3.14M [00:01<00:19, 154kB/s]\u001B[A\n",
      "sci_xrsf-l2-avg1m_g18_d20230717_v2-2-0.nc:  10%|▉         | 304k/3.14M [00:01<00:09, 295kB/s]\u001B[A\n",
      "sci_xrsf-l2-avg1m_g18_d20230715_v2-2-0.nc:  64%|██████▍   | 2.02M/3.14M [00:02<00:01, 1.12MB/s]\u001B[A\n",
      "sci_xrsf-l2-avg1m_g18_d20230716_v2-2-0.nc:  80%|███████▉  | 2.51M/3.14M [00:01<00:00, 1.11MB/s]\u001B[A\n",
      "sci_xrsf-l2-avg1m_g18_d20230716_v2-2-0.nc:  86%|████████▌ | 2.70M/3.14M [00:02<00:00, 1.19MB/s]\u001B[A\n",
      "sci_xrsf-l2-avg1m_g18_d20230715_v2-2-0.nc:  77%|███████▋  | 2.41M/3.14M [00:02<00:00, 1.40MB/s]\u001B[A\n",
      "sci_xrsf-l2-avg1m_g18_d20230718_v2-2-0.nc:   6%|▋         | 203k/3.14M [00:01<00:21, 134kB/s]\u001B[A\n",
      "sci_xrsf-l2-avg1m_g18_d20230718_v2-2-0.nc:  10%|▉         | 304k/3.14M [00:01<00:11, 249kB/s]\u001B[A\n",
      "sci_xrsf-l2-avg1m_g18_d20230717_v2-2-0.nc:  11%|█         | 352k/3.14M [00:01<00:12, 225kB/s]\u001B[A\n",
      "sci_xrsf-l2-avg1m_g18_d20230715_v2-2-0.nc:  82%|████████▏ | 2.57M/3.14M [00:02<00:00, 1.28MB/s]\u001B[A\n",
      "sci_xrsf-l2-avg1m_g18_d20230717_v2-2-0.nc:  21%|██▏       | 672k/3.14M [00:01<00:04, 615kB/s]\u001B[A\n",
      "sci_xrsf-l2-avg1m_g18_d20230715_v2-2-0.nc:  86%|████████▋ | 2.71M/3.14M [00:02<00:00, 1.18MB/s]\u001B[A\n",
      "sci_xrsf-l2-avg1m_g18_d20230716_v2-2-0.nc:  92%|█████████▏| 2.90M/3.14M [00:02<00:00, 878kB/s] \u001B[A\n",
      "Files Downloaded: 100%|██████████| 1/1 [00:02<00:00,  2.98s/file]                             \u001B[A\n",
      "Files Downloaded:   0%|          | 0/1 [00:00<?, ?file/s]\n",
      "sci_xrsf-l2-avg1m_g18_d20230718_v2-2-0.nc:  11%|█         | 352k/3.14M [00:01<00:13, 203kB/s]\u001B[A\n",
      "sci_xrsf-l2-avg1m_g18_d20230718_v2-2-0.nc:  24%|██▍       | 768k/3.14M [00:01<00:03, 751kB/s]\u001B[A\n",
      "sci_xrsf-l2-avg1m_g18_d20230717_v2-2-0.nc:  31%|███▏      | 984k/3.14M [00:02<00:03, 684kB/s]\u001B[A\n",
      "sci_xrsf-l2-avg1m_g18_d20230715_v2-2-0.nc:  92%|█████████▏| 2.90M/3.14M [00:02<00:00, 881kB/s] \u001B[A\n",
      "Files Downloaded: 100%|██████████| 1/1 [00:03<00:00,  3.40s/file]                             \u001B[A\n",
      "Files Downloaded:   0%|          | 0/1 [00:00<?, ?file/s]\n",
      "sci_xrsf-l2-avg1m_g18_d20230717_v2-2-0.nc:  38%|███▊      | 1.18M/3.14M [00:02<00:02, 853kB/s]\u001B[A\n",
      "sci_xrsf-l2-avg1m_g18_d20230717_v2-2-0.nc:  55%|█████▍    | 1.72M/3.14M [00:02<00:00, 1.54MB/s]\u001B[A\n",
      "sci_xrsf-l2-avg1m_g18_d20230718_v2-2-0.nc:  31%|███▏      | 984k/3.14M [00:02<00:03, 632kB/s]\u001B[A\n",
      "sci_xrsf-l2-avg1m_g18_d20230718_v2-2-0.nc:  39%|███▊      | 1.21M/3.14M [00:02<00:02, 837kB/s]\u001B[A\n",
      "sci_xrsf-l2-avg1m_g18_d20230719_v2-2-0.nc:   0%|          | 0.00/3.14M [00:00<?, ?B/s]\u001B[A\n",
      "sci_xrsf-l2-avg1m_g18_d20230717_v2-2-0.nc:  69%|██████▉   | 2.16M/3.14M [00:02<00:00, 1.40MB/s]\u001B[A\n",
      "sci_xrsf-l2-avg1m_g18_d20230717_v2-2-0.nc:  85%|████████▍ | 2.66M/3.14M [00:02<00:00, 1.90MB/s]\u001B[A\n",
      "sci_xrsf-l2-avg1m_g18_d20230720_v2-2-0.nc:   0%|          | 0.00/3.14M [00:00<?, ?B/s]\u001B[A\n",
      "sci_xrsf-l2-avg1m_g18_d20230717_v2-2-0.nc:  94%|█████████▎| 2.94M/3.14M [00:03<00:00, 2.04MB/s]\u001B[A\n",
      "Files Downloaded: 100%|██████████| 1/1 [00:03<00:00,  3.56s/file]                              \u001B[A\n",
      "Files Downloaded:   0%|          | 0/1 [00:00<?, ?file/s]\n",
      "sci_xrsf-l2-avg1m_g18_d20230718_v2-2-0.nc:  65%|██████▍   | 2.04M/3.14M [00:02<00:00, 1.44MB/s]\u001B[A\n",
      "sci_xrsf-l2-avg1m_g18_d20230718_v2-2-0.nc:  84%|████████▍ | 2.65M/3.14M [00:02<00:00, 2.10MB/s]\u001B[A\n",
      "sci_xrsf-l2-avg1m_g18_d20230719_v2-2-0.nc:   0%|          | 1.02k/3.14M [00:00<26:19, 1.99kB/s]\u001B[A\n",
      "sci_xrsf-l2-avg1m_g18_d20230719_v2-2-0.nc:   4%|▍         | 120k/3.14M [00:00<00:12, 236kB/s]  \u001B[A\n",
      "sci_xrsf-l2-avg1m_g18_d20230720_v2-2-0.nc:   0%|          | 1.02k/3.14M [00:00<29:17, 1.79kB/s]\u001B[A\n",
      "sci_xrsf-l2-avg1m_g18_d20230721_v2-2-0.nc:   0%|          | 0.00/3.14M [00:00<?, ?B/s]\u001B[A\n",
      "sci_xrsf-l2-avg1m_g18_d20230718_v2-2-0.nc:  94%|█████████▍| 2.96M/3.14M [00:03<00:00, 1.29MB/s]\u001B[A\n",
      "Files Downloaded: 100%|██████████| 1/1 [00:03<00:00,  3.86s/file]                              \u001B[A\n",
      "Files Downloaded:   0%|          | 0/1 [00:00<?, ?file/s]\n",
      "sci_xrsf-l2-avg1m_g18_d20230720_v2-2-0.nc:   4%|▍         | 129k/3.14M [00:01<00:19, 154kB/s]  \u001B[A\n",
      "sci_xrsf-l2-avg1m_g18_d20230719_v2-2-0.nc:   5%|▌         | 168k/3.14M [00:01<00:21, 137kB/s]\u001B[A\n",
      "sci_xrsf-l2-avg1m_g18_d20230720_v2-2-0.nc:   5%|▌         | 168k/3.14M [00:01<00:17, 175kB/s]\u001B[A\n",
      "sci_xrsf-l2-avg1m_g18_d20230719_v2-2-0.nc:   6%|▋         | 198k/3.14M [00:01<00:21, 139kB/s]\u001B[A\n",
      "sci_xrsf-l2-avg1m_g18_d20230721_v2-2-0.nc:   0%|          | 1.02k/3.14M [00:00<27:17, 1.92kB/s]\u001B[A\n",
      "sci_xrsf-l2-avg1m_g18_d20230721_v2-2-0.nc:   5%|▌         | 169k/3.14M [00:00<00:08, 354kB/s]  \u001B[A\n",
      "sci_xrsf-l2-avg1m_g18_d20230719_v2-2-0.nc:   9%|▉         | 288k/3.14M [00:01<00:11, 239kB/s]\u001B[A\n",
      "sci_xrsf-l2-avg1m_g18_d20230722_v2-2-0.nc:   0%|          | 0.00/3.14M [00:00<?, ?B/s]\u001B[A\n",
      "sci_xrsf-l2-avg1m_g18_d20230721_v2-2-0.nc:  29%|██▉       | 909k/3.14M [00:00<00:01, 1.96MB/s]\u001B[A\n",
      "sci_xrsf-l2-avg1m_g18_d20230720_v2-2-0.nc:   6%|▌         | 190k/3.14M [00:01<00:22, 132kB/s]\u001B[A\n",
      "sci_xrsf-l2-avg1m_g18_d20230719_v2-2-0.nc:  11%|█         | 331k/3.14M [00:01<00:12, 232kB/s]\u001B[A\n",
      "sci_xrsf-l2-avg1m_g18_d20230720_v2-2-0.nc:  10%|▉         | 312k/3.14M [00:01<00:10, 279kB/s]\u001B[A\n",
      "sci_xrsf-l2-avg1m_g18_d20230721_v2-2-0.nc:  44%|████▍     | 1.39M/3.14M [00:00<00:00, 2.09MB/s]\u001B[A\n",
      "sci_xrsf-l2-avg1m_g18_d20230719_v2-2-0.nc:  19%|█▉        | 608k/3.14M [00:01<00:03, 642kB/s]\u001B[A\n",
      "sci_xrsf-l2-avg1m_g18_d20230719_v2-2-0.nc:  23%|██▎       | 713k/3.14M [00:02<00:03, 718kB/s]\u001B[A\n",
      "sci_xrsf-l2-avg1m_g18_d20230719_v2-2-0.nc:  26%|██▌       | 818k/3.14M [00:02<00:02, 786kB/s]\u001B[A\n",
      "sci_xrsf-l2-avg1m_g18_d20230720_v2-2-0.nc:  11%|█▏        | 358k/3.14M [00:01<00:12, 227kB/s]\u001B[A\n",
      "sci_xrsf-l2-avg1m_g18_d20230722_v2-2-0.nc:   0%|          | 1.02k/3.14M [00:00<28:58, 1.81kB/s]\u001B[A\n",
      "sci_xrsf-l2-avg1m_g18_d20230720_v2-2-0.nc:  15%|█▌        | 472k/3.14M [00:02<00:08, 331kB/s]\u001B[A\n",
      "sci_xrsf-l2-avg1m_g18_d20230720_v2-2-0.nc:  19%|█▉        | 600k/3.14M [00:02<00:05, 485kB/s]\u001B[A\n",
      "sci_xrsf-l2-avg1m_g18_d20230719_v2-2-0.nc:  29%|██▉       | 923k/3.14M [00:02<00:04, 546kB/s]\u001B[A\n",
      "sci_xrsf-l2-avg1m_g18_d20230720_v2-2-0.nc:  25%|██▌       | 792k/3.14M [00:02<00:03, 736kB/s]\u001B[A\n",
      "sci_xrsf-l2-avg1m_g18_d20230719_v2-2-0.nc:  32%|███▏      | 1.00M/3.14M [00:02<00:03, 565kB/s]\u001B[A\n",
      "sci_xrsf-l2-avg1m_g18_d20230720_v2-2-0.nc:  29%|██▉       | 920k/3.14M [00:02<00:02, 816kB/s]\u001B[A\n",
      "sci_xrsf-l2-avg1m_g18_d20230721_v2-2-0.nc:  54%|█████▍    | 1.70M/3.14M [00:01<00:01, 959kB/s] \u001B[A\n",
      "sci_xrsf-l2-avg1m_g18_d20230721_v2-2-0.nc:  71%|███████   | 2.22M/3.14M [00:01<00:00, 1.42MB/s]\u001B[A\n",
      "sci_xrsf-l2-avg1m_g18_d20230719_v2-2-0.nc:  40%|███▉      | 1.24M/3.14M [00:02<00:02, 772kB/s]\u001B[A\n",
      "sci_xrsf-l2-avg1m_g18_d20230720_v2-2-0.nc:  33%|███▎      | 1.02M/3.14M [00:02<00:03, 679kB/s]\u001B[A\n",
      "sci_xrsf-l2-avg1m_g18_d20230722_v2-2-0.nc:   4%|▍         | 121k/3.14M [00:01<00:26, 114kB/s]  \u001B[A\n",
      "sci_xrsf-l2-avg1m_g18_d20230719_v2-2-0.nc:  51%|█████     | 1.60M/3.14M [00:02<00:01, 1.25MB/s]\u001B[A\n",
      "sci_xrsf-l2-avg1m_g18_d20230720_v2-2-0.nc:  35%|███▌      | 1.11M/3.14M [00:02<00:02, 717kB/s]\u001B[A\n",
      "sci_xrsf-l2-avg1m_g18_d20230722_v2-2-0.nc:   5%|▌         | 160k/3.14M [00:01<00:20, 143kB/s]\u001B[A\n",
      "sci_xrsf-l2-avg1m_g18_d20230719_v2-2-0.nc:  56%|█████▋    | 1.77M/3.14M [00:03<00:01, 1.20MB/s]\u001B[A\n",
      "sci_xrsf-l2-avg1m_g18_d20230720_v2-2-0.nc:  45%|████▍     | 1.41M/3.14M [00:02<00:01, 1.17MB/s]\u001B[A\n",
      "sci_xrsf-l2-avg1m_g18_d20230720_v2-2-0.nc:  54%|█████▍    | 1.70M/3.14M [00:02<00:00, 1.56MB/s]\u001B[A\n",
      "sci_xrsf-l2-avg1m_g18_d20230719_v2-2-0.nc:  65%|██████▍   | 2.04M/3.14M [00:03<00:00, 1.26MB/s]\u001B[A\n",
      "sci_xrsf-l2-avg1m_g18_d20230720_v2-2-0.nc:  63%|██████▎   | 1.97M/3.14M [00:03<00:00, 1.82MB/s]\u001B[A\n",
      "sci_xrsf-l2-avg1m_g18_d20230721_v2-2-0.nc:  80%|████████  | 2.52M/3.14M [00:02<00:00, 961kB/s] \u001B[A\n",
      "sci_xrsf-l2-avg1m_g18_d20230719_v2-2-0.nc:  69%|██████▉   | 2.18M/3.14M [00:03<00:00, 1.07MB/s]\u001B[A\n",
      "sci_xrsf-l2-avg1m_g18_d20230722_v2-2-0.nc:   6%|▌         | 181k/3.14M [00:01<00:31, 95.4kB/s]\u001B[A\n",
      "sci_xrsf-l2-avg1m_g18_d20230720_v2-2-0.nc:  69%|██████▉   | 2.18M/3.14M [00:03<00:00, 1.18MB/s]\u001B[A\n",
      "sci_xrsf-l2-avg1m_g18_d20230719_v2-2-0.nc:  84%|████████▍ | 2.65M/3.14M [00:03<00:00, 1.51MB/s]\u001B[A\n",
      "sci_xrsf-l2-avg1m_g18_d20230722_v2-2-0.nc:  10%|█         | 328k/3.14M [00:01<00:11, 245kB/s] \u001B[A\n",
      "sci_xrsf-l2-avg1m_g18_d20230720_v2-2-0.nc:  86%|████████▌ | 2.71M/3.14M [00:03<00:00, 1.94MB/s]\u001B[A\n",
      "sci_xrsf-l2-avg1m_g18_d20230719_v2-2-0.nc:  89%|████████▉ | 2.81M/3.14M [00:03<00:00, 1.32MB/s]\u001B[A\n",
      "sci_xrsf-l2-avg1m_g18_d20230720_v2-2-0.nc:  95%|█████████▍| 2.97M/3.14M [00:03<00:00, 1.98MB/s]\u001B[A\n",
      "sci_xrsf-l2-avg1m_g18_d20230721_v2-2-0.nc:  96%|█████████▌| 3.02M/3.14M [00:02<00:00, 984kB/s]\u001B[A\n",
      "Files Downloaded: 100%|██████████| 1/1 [00:04<00:00,  4.30s/file]                              \u001B[A\n",
      "Files Downloaded:   0%|          | 0/1 [00:00<?, ?file/s]\n",
      "Files Downloaded: 100%|██████████| 1/1 [00:03<00:00,  3.58s/file]                             \u001B[A\n",
      "Files Downloaded:   0%|          | 0/1 [00:00<?, ?file/s]\n",
      "Files Downloaded: 100%|██████████| 1/1 [00:04<00:00,  4.59s/file]                              \u001B[A\n",
      "Files Downloaded:   0%|          | 0/1 [00:00<?, ?file/s]\n",
      "sci_xrsf-l2-avg1m_g18_d20230722_v2-2-0.nc:  12%|█▏        | 382k/3.14M [00:02<00:13, 206kB/s]\u001B[A\n",
      "sci_xrsf-l2-avg1m_g18_d20230722_v2-2-0.nc:  22%|██▏       | 704k/3.14M [00:02<00:04, 575kB/s]\u001B[A\n",
      "sci_xrsf-l2-avg1m_g18_d20230722_v2-2-0.nc:  31%|███       | 976k/3.14M [00:02<00:02, 883kB/s]\u001B[A\n",
      "sci_xrsf-l2-avg1m_g18_d20230724_v2-2-0.nc:   0%|          | 0.00/3.14M [00:00<?, ?B/s]\u001B[A\n",
      "sci_xrsf-l2-avg1m_g18_d20230723_v2-2-0.nc:   0%|          | 0.00/3.14M [00:00<?, ?B/s]\u001B[A\n",
      "sci_xrsf-l2-avg1m_g18_d20230725_v2-2-0.nc:   0%|          | 0.00/3.14M [00:00<?, ?B/s]\u001B[A\n",
      "sci_xrsf-l2-avg1m_g18_d20230722_v2-2-0.nc:  36%|███▋      | 1.14M/3.14M [00:02<00:02, 778kB/s]\u001B[A\n",
      "sci_xrsf-l2-avg1m_g18_d20230722_v2-2-0.nc:  50%|█████     | 1.58M/3.14M [00:02<00:01, 1.33MB/s]\u001B[A\n",
      "sci_xrsf-l2-avg1m_g18_d20230722_v2-2-0.nc:  60%|██████    | 1.89M/3.14M [00:03<00:00, 1.66MB/s]\u001B[A\n",
      "sci_xrsf-l2-avg1m_g18_d20230722_v2-2-0.nc:  68%|██████▊   | 2.14M/3.14M [00:03<00:00, 1.82MB/s]\u001B[A\n",
      "sci_xrsf-l2-avg1m_g18_d20230722_v2-2-0.nc:  76%|███████▌  | 2.38M/3.14M [00:03<00:00, 1.80MB/s]\u001B[A\n",
      "sci_xrsf-l2-avg1m_g18_d20230724_v2-2-0.nc:   0%|          | 1.02k/3.14M [00:00<30:20, 1.73kB/s]\u001B[A\n",
      "sci_xrsf-l2-avg1m_g18_d20230723_v2-2-0.nc:   0%|          | 1.02k/3.14M [00:00<31:56, 1.64kB/s]\u001B[A\n",
      "sci_xrsf-l2-avg1m_g18_d20230725_v2-2-0.nc:   0%|          | 1.02k/3.14M [00:00<35:05, 1.49kB/s]\u001B[A\n",
      "sci_xrsf-l2-avg1m_g18_d20230724_v2-2-0.nc:  10%|█         | 321k/3.14M [00:00<00:04, 595kB/s]  \u001B[A\n",
      "sci_xrsf-l2-avg1m_g18_d20230723_v2-2-0.nc:  16%|█▋        | 513k/3.14M [00:00<00:02, 948kB/s]  \u001B[A\n",
      "sci_xrsf-l2-avg1m_g18_d20230722_v2-2-0.nc:  83%|████████▎ | 2.61M/3.14M [00:03<00:00, 1.36MB/s]\u001B[A\n",
      "sci_xrsf-l2-avg1m_g18_d20230722_v2-2-0.nc:  96%|█████████▋| 3.03M/3.14M [00:03<00:00, 1.81MB/s]\u001B[A\n",
      "Files Downloaded: 100%|██████████| 1/1 [00:04<00:00,  4.37s/file]                              \u001B[A\n",
      "Files Downloaded:   0%|          | 0/1 [00:00<?, ?file/s]\n",
      "sci_xrsf-l2-avg1m_g18_d20230723_v2-2-0.nc:  40%|████      | 1.26M/3.14M [00:01<00:01, 1.65MB/s]\u001B[A\n",
      "sci_xrsf-l2-avg1m_g18_d20230724_v2-2-0.nc:  20%|██        | 629k/3.14M [00:01<00:03, 763kB/s]\u001B[A\n",
      "sci_xrsf-l2-avg1m_g18_d20230725_v2-2-0.nc:   4%|▍         | 129k/3.14M [00:01<00:19, 152kB/s]  \u001B[A\n",
      "sci_xrsf-l2-avg1m_g18_d20230725_v2-2-0.nc:   5%|▌         | 160k/3.14M [00:01<00:17, 170kB/s]\u001B[A\n",
      "sci_xrsf-l2-avg1m_g18_d20230726_v2-2-0.nc:   0%|          | 0.00/3.14M [00:00<?, ?B/s]\u001B[A\n",
      "sci_xrsf-l2-avg1m_g18_d20230724_v2-2-0.nc:  25%|██▌       | 788k/3.14M [00:01<00:03, 615kB/s]\u001B[A\n",
      "sci_xrsf-l2-avg1m_g18_d20230723_v2-2-0.nc:  49%|████▉     | 1.53M/3.14M [00:01<00:01, 1.17MB/s]\u001B[A\n",
      "sci_xrsf-l2-avg1m_g18_d20230725_v2-2-0.nc:   6%|▌         | 184k/3.14M [00:01<00:21, 139kB/s]\u001B[A\n",
      "sci_xrsf-l2-avg1m_g18_d20230724_v2-2-0.nc:  30%|██▉       | 940k/3.14M [00:01<00:03, 731kB/s]\u001B[A\n",
      "sci_xrsf-l2-avg1m_g18_d20230725_v2-2-0.nc:   9%|▉         | 280k/3.14M [00:01<00:10, 265kB/s]\u001B[A\n",
      "sci_xrsf-l2-avg1m_g18_d20230723_v2-2-0.nc:  55%|█████▍    | 1.73M/3.14M [00:01<00:01, 1.22MB/s]\u001B[A\n",
      "sci_xrsf-l2-avg1m_g18_d20230725_v2-2-0.nc:  10%|█         | 326k/3.14M [00:01<00:09, 300kB/s]\u001B[A\n",
      "sci_xrsf-l2-avg1m_g18_d20230724_v2-2-0.nc:  33%|███▎      | 1.05M/3.14M [00:01<00:03, 630kB/s]\u001B[A\n",
      "sci_xrsf-l2-avg1m_g18_d20230725_v2-2-0.nc:  12%|█▏        | 372k/3.14M [00:01<00:10, 269kB/s]\u001B[A\n",
      "sci_xrsf-l2-avg1m_g18_d20230723_v2-2-0.nc:  62%|██████▏   | 1.94M/3.14M [00:01<00:01, 1.03MB/s]\u001B[A\n",
      "sci_xrsf-l2-avg1m_g18_d20230725_v2-2-0.nc:  15%|█▌        | 472k/3.14M [00:02<00:07, 381kB/s]\u001B[A\n",
      "sci_xrsf-l2-avg1m_g18_d20230724_v2-2-0.nc:  42%|████▏     | 1.32M/3.14M [00:02<00:02, 771kB/s]\u001B[A\n",
      "sci_xrsf-l2-avg1m_g18_d20230723_v2-2-0.nc:  70%|███████   | 2.20M/3.14M [00:02<00:00, 1.12MB/s]\u001B[A\n",
      "sci_xrsf-l2-avg1m_g18_d20230726_v2-2-0.nc:   0%|          | 1.00/3.14M [00:00<629:19:17, 1.39B/s]\u001B[A\n",
      "sci_xrsf-l2-avg1m_g18_d20230725_v2-2-0.nc:  22%|██▏       | 696k/3.14M [00:02<00:03, 736kB/s]\u001B[A\n",
      "sci_xrsf-l2-avg1m_g18_d20230723_v2-2-0.nc:  79%|███████▉  | 2.48M/3.14M [00:02<00:00, 1.36MB/s]\u001B[A\n",
      "sci_xrsf-l2-avg1m_g18_d20230726_v2-2-0.nc:   0%|          | 8.78k/3.14M [00:00<03:43, 14.0kB/s]  \u001B[A\n",
      "sci_xrsf-l2-avg1m_g18_d20230724_v2-2-0.nc:  48%|████▊     | 1.52M/3.14M [00:02<00:02, 659kB/s]\u001B[A\n",
      "sci_xrsf-l2-avg1m_g18_d20230725_v2-2-0.nc:  28%|██▊       | 888k/3.14M [00:02<00:03, 648kB/s]\u001B[A\n",
      "sci_xrsf-l2-avg1m_g18_d20230726_v2-2-0.nc:   4%|▍         | 129k/3.14M [00:01<00:18, 159kB/s]  \u001B[A\n",
      "sci_xrsf-l2-avg1m_g18_d20230723_v2-2-0.nc:  84%|████████▍ | 2.65M/3.14M [00:02<00:00, 838kB/s] \u001B[A\n",
      "sci_xrsf-l2-avg1m_g18_d20230724_v2-2-0.nc:  56%|█████▌    | 1.74M/3.14M [00:02<00:01, 722kB/s]\u001B[A\n",
      "sci_xrsf-l2-avg1m_g18_d20230725_v2-2-0.nc:  35%|███▌      | 1.11M/3.14M [00:02<00:02, 741kB/s]\u001B[A\n",
      "sci_xrsf-l2-avg1m_g18_d20230726_v2-2-0.nc:   5%|▍         | 152k/3.14M [00:01<00:18, 159kB/s]\u001B[A\n",
      "sci_xrsf-l2-avg1m_g18_d20230724_v2-2-0.nc:  64%|██████▍   | 2.03M/3.14M [00:02<00:01, 977kB/s]\u001B[A\n",
      "sci_xrsf-l2-avg1m_g18_d20230725_v2-2-0.nc:  44%|████▍     | 1.39M/3.14M [00:02<00:01, 949kB/s]\u001B[A\n",
      "sci_xrsf-l2-avg1m_g18_d20230726_v2-2-0.nc:   5%|▌         | 170k/3.14M [00:01<00:24, 121kB/s]\u001B[A\n",
      "sci_xrsf-l2-avg1m_g18_d20230725_v2-2-0.nc:  49%|████▊     | 1.52M/3.14M [00:03<00:01, 960kB/s]\u001B[A\n",
      "sci_xrsf-l2-avg1m_g18_d20230725_v2-2-0.nc:  53%|█████▎    | 1.65M/3.14M [00:03<00:01, 1.00MB/s]\u001B[A\n",
      "sci_xrsf-l2-avg1m_g18_d20230724_v2-2-0.nc:  72%|███████▏  | 2.27M/3.14M [00:03<00:01, 865kB/s]\u001B[A\n",
      "sci_xrsf-l2-avg1m_g18_d20230726_v2-2-0.nc:   6%|▌         | 184k/3.14M [00:01<00:25, 117kB/s]\u001B[A\n",
      "sci_xrsf-l2-avg1m_g18_d20230725_v2-2-0.nc:  59%|█████▉    | 1.85M/3.14M [00:03<00:01, 1.19MB/s]\u001B[A\n",
      "sci_xrsf-l2-avg1m_g18_d20230726_v2-2-0.nc:   7%|▋         | 224k/3.14M [00:01<00:17, 165kB/s]\u001B[A\n",
      "sci_xrsf-l2-avg1m_g18_d20230724_v2-2-0.nc:  84%|████████▍ | 2.65M/3.14M [00:03<00:00, 1.25MB/s]\u001B[A\n",
      "sci_xrsf-l2-avg1m_g18_d20230725_v2-2-0.nc:  71%|███████   | 2.24M/3.14M [00:03<00:00, 1.76MB/s]\u001B[A\n",
      "sci_xrsf-l2-avg1m_g18_d20230726_v2-2-0.nc:   9%|▉         | 288k/3.14M [00:02<00:11, 248kB/s]\u001B[A\n",
      "sci_xrsf-l2-avg1m_g18_d20230723_v2-2-0.nc:  89%|████████▊ | 2.79M/3.14M [00:03<00:00, 495kB/s]\u001B[A\n",
      "sci_xrsf-l2-avg1m_g18_d20230725_v2-2-0.nc:  78%|███████▊  | 2.44M/3.14M [00:03<00:00, 1.77MB/s]\u001B[A\n",
      "sci_xrsf-l2-avg1m_g18_d20230724_v2-2-0.nc:  92%|█████████▏| 2.90M/3.14M [00:03<00:00, 1.18MB/s]\u001B[A\n",
      "sci_xrsf-l2-avg1m_g18_d20230726_v2-2-0.nc:  11%|█         | 336k/3.14M [00:02<00:10, 261kB/s]\u001B[A\n",
      "sci_xrsf-l2-avg1m_g18_d20230725_v2-2-0.nc:  85%|████████▍ | 2.66M/3.14M [00:03<00:00, 1.86MB/s]\u001B[A\n",
      "sci_xrsf-l2-avg1m_g18_d20230724_v2-2-0.nc:  99%|█████████▊| 3.10M/3.14M [00:03<00:00, 1.26MB/s]\u001B[A\n",
      "Files Downloaded: 100%|██████████| 1/1 [00:04<00:00,  4.18s/file]                              \u001B[A\n",
      "Files Downloaded:   0%|          | 0/1 [00:00<?, ?file/s]\n",
      "sci_xrsf-l2-avg1m_g18_d20230726_v2-2-0.nc:  14%|█▎        | 432k/3.14M [00:02<00:06, 396kB/s]\u001B[A\n",
      "sci_xrsf-l2-avg1m_g18_d20230725_v2-2-0.nc:  92%|█████████▏| 2.90M/3.14M [00:03<00:00, 1.83MB/s]\u001B[A\n",
      "sci_xrsf-l2-avg1m_g18_d20230723_v2-2-0.nc:  92%|█████████▏| 2.90M/3.14M [00:03<00:00, 447kB/s]\u001B[A\n",
      "sci_xrsf-l2-avg1m_g18_d20230726_v2-2-0.nc:  21%|██        | 649k/3.14M [00:02<00:03, 792kB/s]\u001B[A\n",
      "Files Downloaded: 100%|██████████| 1/1 [00:04<00:00,  4.35s/file]                              \u001B[A\n",
      "Files Downloaded:   0%|          | 0/1 [00:00<?, ?file/s]\n",
      "sci_xrsf-l2-avg1m_g18_d20230726_v2-2-0.nc:  27%|██▋       | 858k/3.14M [00:02<00:02, 1.10MB/s]\u001B[A\n",
      "sci_xrsf-l2-avg1m_g18_d20230723_v2-2-0.nc:  99%|█████████▉| 3.11M/3.14M [00:03<00:00, 593kB/s]\u001B[A\n",
      "Files Downloaded: 100%|██████████| 1/1 [00:04<00:00,  4.43s/file]                             \u001B[A\n",
      "Files Downloaded:   0%|          | 0/1 [00:00<?, ?file/s]\n",
      "sci_xrsf-l2-avg1m_g18_d20230726_v2-2-0.nc:  33%|███▎      | 1.04M/3.14M [00:02<00:01, 1.24MB/s]\u001B[A\n",
      "sci_xrsf-l2-avg1m_g18_d20230726_v2-2-0.nc:  40%|███▉      | 1.25M/3.14M [00:02<00:01, 1.44MB/s]\u001B[A\n",
      "sci_xrsf-l2-avg1m_g18_d20230727_v2-2-0.nc:   0%|          | 0.00/3.14M [00:00<?, ?B/s]\u001B[A\n",
      "sci_xrsf-l2-avg1m_g18_d20230726_v2-2-0.nc:  52%|█████▏    | 1.63M/3.14M [00:02<00:00, 2.01MB/s]\u001B[A\n",
      "sci_xrsf-l2-avg1m_g18_d20230726_v2-2-0.nc:  63%|██████▎   | 1.97M/3.14M [00:02<00:00, 2.34MB/s]\u001B[A\n",
      "sci_xrsf-l2-avg1m_g18_d20230728_v2-2-0.nc:   0%|          | 0.00/3.14M [00:00<?, ?B/s]\u001B[A\n",
      "sci_xrsf-l2-avg1m_g18_d20230729_v2-2-0.nc:   0%|          | 0.00/3.14M [00:00<?, ?B/s]\u001B[A\n",
      "sci_xrsf-l2-avg1m_g18_d20230726_v2-2-0.nc:  70%|███████   | 2.21M/3.14M [00:03<00:00, 2.33MB/s]\u001B[A\n",
      "sci_xrsf-l2-avg1m_g18_d20230726_v2-2-0.nc:  81%|████████  | 2.55M/3.14M [00:03<00:00, 2.56MB/s]\u001B[A\n",
      "sci_xrsf-l2-avg1m_g18_d20230726_v2-2-0.nc:  94%|█████████▍| 2.96M/3.14M [00:03<00:00, 3.01MB/s]\u001B[A\n",
      "sci_xrsf-l2-avg1m_g18_d20230727_v2-2-0.nc:   0%|          | 1.02k/3.14M [00:00<24:51, 2.11kB/s]\u001B[A\n",
      "Files Downloaded: 100%|██████████| 1/1 [00:03<00:00,  3.81s/file]                              \u001B[A\n",
      "Files Downloaded:   0%|          | 0/1 [00:00<?, ?file/s]\n",
      "sci_xrsf-l2-avg1m_g18_d20230727_v2-2-0.nc:   4%|▍         | 121k/3.14M [00:00<00:11, 267kB/s]  \u001B[A\n",
      "sci_xrsf-l2-avg1m_g18_d20230727_v2-2-0.nc:  17%|█▋        | 529k/3.14M [00:00<00:02, 1.12MB/s]\u001B[A\n",
      "sci_xrsf-l2-avg1m_g18_d20230729_v2-2-0.nc:   0%|          | 1.02k/3.14M [00:00<36:34, 1.43kB/s]\u001B[A\n",
      "sci_xrsf-l2-avg1m_g18_d20230728_v2-2-0.nc:   0%|          | 1.02k/3.14M [00:00<43:16, 1.21kB/s]\u001B[A\n",
      "sci_xrsf-l2-avg1m_g18_d20230728_v2-2-0.nc:  12%|█▏        | 393k/3.14M [00:00<00:04, 566kB/s]  \u001B[A\n",
      "sci_xrsf-l2-avg1m_g18_d20230729_v2-2-0.nc:   4%|▍         | 128k/3.14M [00:00<00:17, 174kB/s]  \u001B[A\n",
      "sci_xrsf-l2-avg1m_g18_d20230727_v2-2-0.nc:  24%|██▍       | 749k/3.14M [00:01<00:03, 696kB/s] \u001B[A\n",
      "sci_xrsf-l2-avg1m_g18_d20230730_v2-2-0.nc:   0%|          | 0.00/3.14M [00:00<?, ?B/s]\u001B[A\n",
      "sci_xrsf-l2-avg1m_g18_d20230727_v2-2-0.nc:  28%|██▊       | 880k/3.14M [00:01<00:03, 739kB/s]\u001B[A\n",
      "sci_xrsf-l2-avg1m_g18_d20230728_v2-2-0.nc:  24%|██▍       | 757k/3.14M [00:01<00:03, 771kB/s]\u001B[A\n",
      "sci_xrsf-l2-avg1m_g18_d20230729_v2-2-0.nc:   5%|▌         | 160k/3.14M [00:01<00:20, 147kB/s]\u001B[A\n",
      "sci_xrsf-l2-avg1m_g18_d20230727_v2-2-0.nc:  32%|███▏      | 996k/3.14M [00:01<00:03, 579kB/s]\u001B[A\n",
      "sci_xrsf-l2-avg1m_g18_d20230727_v2-2-0.nc:  35%|███▌      | 1.10M/3.14M [00:01<00:03, 642kB/s]\u001B[A\n",
      "sci_xrsf-l2-avg1m_g18_d20230730_v2-2-0.nc:   0%|          | 1.02k/3.14M [00:00<28:21, 1.85kB/s]\u001B[A\n",
      "sci_xrsf-l2-avg1m_g18_d20230728_v2-2-0.nc:  30%|██▉       | 931k/3.14M [00:01<00:04, 548kB/s]\u001B[A\n",
      "sci_xrsf-l2-avg1m_g18_d20230729_v2-2-0.nc:   6%|▌         | 183k/3.14M [00:01<00:29, 100kB/s]\u001B[A\n",
      "sci_xrsf-l2-avg1m_g18_d20230728_v2-2-0.nc:  35%|███▍      | 1.09M/3.14M [00:01<00:03, 666kB/s]\u001B[A\n",
      "sci_xrsf-l2-avg1m_g18_d20230727_v2-2-0.nc:  40%|████      | 1.26M/3.14M [00:02<00:03, 574kB/s]\u001B[A\n",
      "sci_xrsf-l2-avg1m_g18_d20230727_v2-2-0.nc:  56%|█████▌    | 1.76M/3.14M [00:02<00:01, 1.21MB/s]\u001B[A\n",
      "sci_xrsf-l2-avg1m_g18_d20230730_v2-2-0.nc:   4%|▍         | 129k/3.14M [00:01<00:22, 137kB/s]  \u001B[A\n",
      "sci_xrsf-l2-avg1m_g18_d20230728_v2-2-0.nc:  42%|████▏     | 1.31M/3.14M [00:02<00:02, 621kB/s]\u001B[A\n",
      "sci_xrsf-l2-avg1m_g18_d20230729_v2-2-0.nc:  11%|█         | 336k/3.14M [00:02<00:15, 177kB/s]\u001B[A\n",
      "sci_xrsf-l2-avg1m_g18_d20230730_v2-2-0.nc:   5%|▌         | 168k/3.14M [00:01<00:19, 153kB/s]\u001B[A\n",
      "sci_xrsf-l2-avg1m_g18_d20230729_v2-2-0.nc:  21%|██        | 648k/3.14M [00:02<00:05, 470kB/s]\u001B[A\n",
      "sci_xrsf-l2-avg1m_g18_d20230728_v2-2-0.nc:  50%|█████     | 1.57M/3.14M [00:02<00:02, 750kB/s]\u001B[A\n",
      "sci_xrsf-l2-avg1m_g18_d20230727_v2-2-0.nc:  64%|██████▎   | 2.00M/3.14M [00:02<00:01, 842kB/s] \u001B[A\n",
      "sci_xrsf-l2-avg1m_g18_d20230728_v2-2-0.nc:  63%|██████▎   | 1.96M/3.14M [00:02<00:01, 1.15MB/s]\u001B[A\n",
      "sci_xrsf-l2-avg1m_g18_d20230727_v2-2-0.nc:  72%|███████▏  | 2.26M/3.14M [00:02<00:00, 1.01MB/s]\u001B[A\n",
      "sci_xrsf-l2-avg1m_g18_d20230730_v2-2-0.nc:   6%|▌         | 186k/3.14M [00:01<00:27, 107kB/s]\u001B[A\n",
      "sci_xrsf-l2-avg1m_g18_d20230729_v2-2-0.nc:  31%|███▏      | 984k/3.14M [00:02<00:03, 569kB/s]\u001B[A\n",
      "sci_xrsf-l2-avg1m_g18_d20230729_v2-2-0.nc:  49%|████▉     | 1.54M/3.14M [00:02<00:01, 1.10MB/s]\u001B[A\n",
      "sci_xrsf-l2-avg1m_g18_d20230730_v2-2-0.nc:  10%|█         | 320k/3.14M [00:01<00:12, 230kB/s]\u001B[A\n",
      "sci_xrsf-l2-avg1m_g18_d20230728_v2-2-0.nc:  68%|██████▊   | 2.15M/3.14M [00:03<00:01, 791kB/s] \u001B[A\n",
      "sci_xrsf-l2-avg1m_g18_d20230727_v2-2-0.nc:  80%|████████  | 2.53M/3.14M [00:03<00:00, 798kB/s] \u001B[A\n",
      "sci_xrsf-l2-avg1m_g18_d20230727_v2-2-0.nc:  84%|████████▍ | 2.65M/3.14M [00:03<00:00, 849kB/s]\u001B[A\n",
      "sci_xrsf-l2-avg1m_g18_d20230730_v2-2-0.nc:  11%|█         | 352k/3.14M [00:02<00:15, 177kB/s]\u001B[A\n",
      "sci_xrsf-l2-avg1m_g18_d20230729_v2-2-0.nc:  69%|██████▉   | 2.16M/3.14M [00:03<00:00, 1.19MB/s]\u001B[A\n",
      "sci_xrsf-l2-avg1m_g18_d20230730_v2-2-0.nc:  26%|██▌       | 824k/3.14M [00:02<00:03, 726kB/s]\u001B[A\n",
      "sci_xrsf-l2-avg1m_g18_d20230729_v2-2-0.nc:  84%|████████▍ | 2.65M/3.14M [00:03<00:00, 1.58MB/s]\u001B[A\n",
      "sci_xrsf-l2-avg1m_g18_d20230730_v2-2-0.nc:  31%|███       | 976k/3.14M [00:02<00:02, 830kB/s]\u001B[A\n",
      "sci_xrsf-l2-avg1m_g18_d20230728_v2-2-0.nc:  84%|████████▍ | 2.65M/3.14M [00:03<00:00, 841kB/s]\u001B[A\n",
      "Files Downloaded: 100%|██████████| 1/1 [00:04<00:00,  4.15s/file]                              \u001B[A\n",
      "Files Downloaded:   0%|          | 0/1 [00:00<?, ?file/s]\n",
      "Files Downloaded: 100%|██████████| 1/1 [00:04<00:00,  4.27s/file]                             \u001B[A\n",
      "Files Downloaded:   0%|          | 0/1 [00:00<?, ?file/s]\n",
      "sci_xrsf-l2-avg1m_g18_d20230727_v2-2-0.nc:  92%|█████████▏| 2.90M/3.14M [00:03<00:00, 710kB/s]\u001B[A\n",
      "Files Downloaded: 100%|██████████| 1/1 [00:04<00:00,  4.52s/file]                             \u001B[A\n",
      "Files Downloaded:   0%|          | 0/1 [00:00<?, ?file/s]\n",
      "sci_xrsf-l2-avg1m_g18_d20230730_v2-2-0.nc:  36%|███▌      | 1.12M/3.14M [00:02<00:02, 757kB/s]\u001B[A\n",
      "sci_xrsf-l2-avg1m_g18_d20230730_v2-2-0.nc:  62%|██████▏   | 1.96M/3.14M [00:02<00:00, 1.99MB/s]\u001B[A\n",
      "sci_xrsf-l2-avg1m_g18_d20230731_v2-2-0.nc:   0%|          | 0.00/3.14M [00:00<?, ?B/s]\u001B[A\n",
      "sci_xrsf-l2-avg1m_g18_d20230801_v2-2-0.nc:   0%|          | 0.00/3.14M [00:00<?, ?B/s]\u001B[A\n",
      "sci_xrsf-l2-avg1m_g18_d20230802_v2-2-0.nc:   0%|          | 0.00/3.14M [00:00<?, ?B/s]\u001B[A\n",
      "sci_xrsf-l2-avg1m_g18_d20230730_v2-2-0.nc:  73%|███████▎  | 2.28M/3.14M [00:03<00:00, 1.67MB/s]\u001B[A\n",
      "sci_xrsf-l2-avg1m_g18_d20230730_v2-2-0.nc:  84%|████████▍ | 2.65M/3.14M [00:03<00:00, 1.94MB/s]\u001B[A\n",
      "sci_xrsf-l2-avg1m_g18_d20230731_v2-2-0.nc:   0%|          | 1.02k/3.14M [00:00<25:50, 2.03kB/s]\u001B[A\n",
      "sci_xrsf-l2-avg1m_g18_d20230731_v2-2-0.nc:  14%|█▍        | 433k/3.14M [00:00<00:02, 946kB/s]  \u001B[A\n",
      "sci_xrsf-l2-avg1m_g18_d20230801_v2-2-0.nc:   0%|          | 1.02k/3.14M [00:00<28:49, 1.82kB/s]\u001B[A\n",
      "sci_xrsf-l2-avg1m_g18_d20230731_v2-2-0.nc:  35%|███▌      | 1.11M/3.14M [00:00<00:00, 2.33MB/s]\u001B[A\n",
      "sci_xrsf-l2-avg1m_g18_d20230802_v2-2-0.nc:   0%|          | 1.02k/3.14M [00:00<28:36, 1.83kB/s]\u001B[A\n",
      "sci_xrsf-l2-avg1m_g18_d20230801_v2-2-0.nc:   6%|▌         | 192k/3.14M [00:00<00:07, 387kB/s]  \u001B[A\n",
      "sci_xrsf-l2-avg1m_g18_d20230730_v2-2-0.nc:  93%|█████████▎| 2.93M/3.14M [00:03<00:00, 1.17MB/s]\u001B[A\n",
      "sci_xrsf-l2-avg1m_g18_d20230802_v2-2-0.nc:  10%|█         | 321k/3.14M [00:00<00:04, 649kB/s]  \u001B[A\n",
      "sci_xrsf-l2-avg1m_g18_d20230801_v2-2-0.nc:  29%|██▊       | 895k/3.14M [00:00<00:01, 1.80MB/s]\u001B[A\n",
      "Files Downloaded: 100%|██████████| 1/1 [00:04<00:00,  4.57s/file]                              \u001B[A\n",
      "Files Downloaded:   0%|          | 0/1 [00:00<?, ?file/s]\n",
      "sci_xrsf-l2-avg1m_g18_d20230801_v2-2-0.nc:  60%|██████    | 1.89M/3.14M [00:00<00:00, 3.05MB/s]\u001B[A\n",
      "sci_xrsf-l2-avg1m_g18_d20230802_v2-2-0.nc:  24%|██▍       | 757k/3.14M [00:00<00:02, 1.12MB/s]\u001B[A\n",
      "sci_xrsf-l2-avg1m_g18_d20230731_v2-2-0.nc:  49%|████▉     | 1.55M/3.14M [00:01<00:01, 1.18MB/s]\u001B[A\n",
      "sci_xrsf-l2-avg1m_g18_d20230801_v2-2-0.nc:  73%|███████▎  | 2.29M/3.14M [00:01<00:00, 2.10MB/s]\u001B[A\n",
      "sci_xrsf-l2-avg1m_g18_d20230802_v2-2-0.nc:  30%|██▉       | 940k/3.14M [00:01<00:02, 815kB/s] \u001B[A\n",
      "sci_xrsf-l2-avg1m_g18_d20230802_v2-2-0.nc:  39%|███▊      | 1.21M/3.14M [00:01<00:01, 1.10MB/s]\u001B[A\n",
      "sci_xrsf-l2-avg1m_g18_d20230801_v2-2-0.nc:  83%|████████▎ | 2.59M/3.14M [00:01<00:00, 1.92MB/s]\u001B[A\n",
      "sci_xrsf-l2-avg1m_g18_d20230731_v2-2-0.nc:  59%|█████▉    | 1.85M/3.14M [00:01<00:01, 1.03MB/s]\u001B[A\n",
      "sci_xrsf-l2-avg1m_g18_d20230801_v2-2-0.nc:  90%|█████████ | 2.84M/3.14M [00:01<00:00, 1.46MB/s]\u001B[A\n",
      "sci_xrsf-l2-avg1m_g18_d20230731_v2-2-0.nc:  66%|██████▌   | 2.06M/3.14M [00:01<00:01, 1.05MB/s]\u001B[A\n",
      "sci_xrsf-l2-avg1m_g18_d20230802_v2-2-0.nc:  44%|████▍     | 1.39M/3.14M [00:01<00:02, 770kB/s] \u001B[A\n",
      "sci_xrsf-l2-avg1m_g18_d20230801_v2-2-0.nc:  97%|█████████▋| 3.03M/3.14M [00:02<00:00, 1.39MB/s]\u001B[A\n",
      "Files Downloaded: 100%|██████████| 1/1 [00:02<00:00,  2.45s/file]                              \u001B[A\n",
      "Files Downloaded:   0%|          | 0/1 [00:00<?, ?file/s]\n",
      "sci_xrsf-l2-avg1m_g18_d20230802_v2-2-0.nc:  54%|█████▍    | 1.69M/3.14M [00:01<00:01, 1.05MB/s]\u001B[A\n",
      "sci_xrsf-l2-avg1m_g18_d20230803_v2-2-0.nc:   0%|          | 0.00/3.14M [00:00<?, ?B/s]\u001B[A\n",
      "sci_xrsf-l2-avg1m_g18_d20230731_v2-2-0.nc:  71%|███████▏  | 2.24M/3.14M [00:02<00:00, 900kB/s] \u001B[A\n",
      "sci_xrsf-l2-avg1m_g18_d20230802_v2-2-0.nc:  62%|██████▏   | 1.94M/3.14M [00:02<00:01, 1.10MB/s]\u001B[A\n",
      "sci_xrsf-l2-avg1m_g18_d20230804_v2-2-0.nc:   0%|          | 0.00/3.14M [00:00<?, ?B/s]\u001B[A\n",
      "sci_xrsf-l2-avg1m_g18_d20230803_v2-2-0.nc:   0%|          | 1.02k/3.14M [00:00<19:37, 2.67kB/s]\u001B[A\n",
      "sci_xrsf-l2-avg1m_g18_d20230731_v2-2-0.nc:  80%|████████  | 2.53M/3.14M [00:02<00:00, 906kB/s]\u001B[A\n",
      "sci_xrsf-l2-avg1m_g18_d20230802_v2-2-0.nc:  77%|███████▋  | 2.43M/3.14M [00:02<00:00, 1.24MB/s]\u001B[A\n",
      "sci_xrsf-l2-avg1m_g18_d20230803_v2-2-0.nc:   4%|▍         | 121k/3.14M [00:00<00:13, 228kB/s]  \u001B[A\n",
      "sci_xrsf-l2-avg1m_g18_d20230804_v2-2-0.nc:   0%|          | 1.02k/3.14M [00:00<20:26, 2.56kB/s]\u001B[A\n",
      "sci_xrsf-l2-avg1m_g18_d20230731_v2-2-0.nc:  92%|█████████▏| 2.90M/3.14M [00:02<00:00, 936kB/s]\u001B[A\n",
      "Files Downloaded: 100%|██████████| 1/1 [00:03<00:00,  3.38s/file]                             \u001B[A\n",
      "Files Downloaded:   0%|          | 0/1 [00:00<?, ?file/s]\n",
      "sci_xrsf-l2-avg1m_g18_d20230804_v2-2-0.nc:   5%|▌         | 161k/3.14M [00:00<00:07, 415kB/s]  \u001B[A\n",
      "sci_xrsf-l2-avg1m_g18_d20230803_v2-2-0.nc:   5%|▌         | 168k/3.14M [00:00<00:13, 214kB/s]\u001B[A\n",
      "sci_xrsf-l2-avg1m_g18_d20230802_v2-2-0.nc:  86%|████████▌ | 2.69M/3.14M [00:02<00:00, 940kB/s] \u001B[A\n",
      "sci_xrsf-l2-avg1m_g18_d20230803_v2-2-0.nc:   6%|▌         | 192k/3.14M [00:01<00:15, 192kB/s]\u001B[A\n",
      "sci_xrsf-l2-avg1m_g18_d20230804_v2-2-0.nc:  24%|██▍       | 757k/3.14M [00:00<00:02, 1.19MB/s]\u001B[A\n",
      "sci_xrsf-l2-avg1m_g18_d20230804_v2-2-0.nc:  28%|██▊       | 889k/3.14M [00:00<00:02, 1.11MB/s]\u001B[A\n",
      "sci_xrsf-l2-avg1m_g18_d20230803_v2-2-0.nc:  10%|█         | 320k/3.14M [00:01<00:09, 303kB/s]\u001B[A\n",
      "sci_xrsf-l2-avg1m_g18_d20230805_v2-2-0.nc:   0%|          | 0.00/3.14M [00:00<?, ?B/s]\u001B[A\n",
      "sci_xrsf-l2-avg1m_g18_d20230802_v2-2-0.nc:  90%|████████▉ | 2.81M/3.14M [00:03<00:00, 674kB/s]\u001B[A\n",
      "sci_xrsf-l2-avg1m_g18_d20230803_v2-2-0.nc:  11%|█         | 350k/3.14M [00:01<00:11, 251kB/s]\u001B[A\n",
      "sci_xrsf-l2-avg1m_g18_d20230803_v2-2-0.nc:  18%|█▊        | 552k/3.14M [00:01<00:04, 527kB/s]\u001B[A\n",
      "sci_xrsf-l2-avg1m_g18_d20230804_v2-2-0.nc:  32%|███▏      | 1.00M/3.14M [00:01<00:03, 606kB/s]\u001B[A\n",
      "sci_xrsf-l2-avg1m_g18_d20230804_v2-2-0.nc:  38%|███▊      | 1.18M/3.14M [00:01<00:02, 760kB/s]\u001B[A\n",
      "sci_xrsf-l2-avg1m_g18_d20230803_v2-2-0.nc:  28%|██▊       | 888k/3.14M [00:01<00:02, 752kB/s]\u001B[A\n",
      "sci_xrsf-l2-avg1m_g18_d20230802_v2-2-0.nc:  97%|█████████▋| 3.05M/3.14M [00:04<00:00, 547kB/s]\u001B[A\n",
      "Files Downloaded: 100%|██████████| 1/1 [00:04<00:00,  4.52s/file]                             \u001B[A\n",
      "Files Downloaded:   0%|          | 0/1 [00:00<?, ?file/s]\n",
      "sci_xrsf-l2-avg1m_g18_d20230805_v2-2-0.nc:   0%|          | 1.02k/3.14M [00:00<41:02, 1.28kB/s]\u001B[A\n",
      "sci_xrsf-l2-avg1m_g18_d20230805_v2-2-0.nc:  20%|██        | 629k/3.14M [00:00<00:02, 921kB/s]  \u001B[A\n",
      "sci_xrsf-l2-avg1m_g18_d20230803_v2-2-0.nc:  31%|███▏      | 984k/3.14M [00:02<00:03, 553kB/s]\u001B[A\n",
      "sci_xrsf-l2-avg1m_g18_d20230805_v2-2-0.nc:  32%|███▏      | 1.02M/3.14M [00:01<00:01, 1.41MB/s]\u001B[A\n",
      "sci_xrsf-l2-avg1m_g18_d20230803_v2-2-0.nc:  51%|█████     | 1.60M/3.14M [00:02<00:01, 1.32MB/s]\u001B[A\n",
      "sci_xrsf-l2-avg1m_g18_d20230804_v2-2-0.nc:  42%|████▏     | 1.31M/3.14M [00:02<00:03, 483kB/s]\u001B[A\n",
      "sci_xrsf-l2-avg1m_g18_d20230803_v2-2-0.nc:  58%|█████▊    | 1.83M/3.14M [00:02<00:00, 1.48MB/s]\u001B[A\n",
      "sci_xrsf-l2-avg1m_g18_d20230804_v2-2-0.nc:  56%|█████▋    | 1.77M/3.14M [00:02<00:01, 966kB/s]\u001B[A\n",
      "sci_xrsf-l2-avg1m_g18_d20230806_v2-2-0.nc:   0%|          | 0.00/3.14M [00:00<?, ?B/s]\u001B[A\n",
      "sci_xrsf-l2-avg1m_g18_d20230803_v2-2-0.nc:  65%|██████▌   | 2.06M/3.14M [00:02<00:00, 1.22MB/s]\u001B[A\n",
      "sci_xrsf-l2-avg1m_g18_d20230805_v2-2-0.nc:  43%|████▎     | 1.35M/3.14M [00:01<00:01, 933kB/s] \u001B[A\n",
      "sci_xrsf-l2-avg1m_g18_d20230803_v2-2-0.nc:  80%|████████  | 2.53M/3.14M [00:03<00:00, 1.60MB/s]\u001B[A\n",
      "sci_xrsf-l2-avg1m_g18_d20230804_v2-2-0.nc:  64%|██████▎   | 2.00M/3.14M [00:02<00:01, 767kB/s]\u001B[A\n",
      "sci_xrsf-l2-avg1m_g18_d20230803_v2-2-0.nc:  88%|████████▊ | 2.77M/3.14M [00:03<00:00, 1.57MB/s]\u001B[A\n",
      "sci_xrsf-l2-avg1m_g18_d20230806_v2-2-0.nc:   0%|          | 1.02k/3.14M [00:00<28:35, 1.83kB/s]\u001B[A\n",
      "sci_xrsf-l2-avg1m_g18_d20230806_v2-2-0.nc:   4%|▍         | 128k/3.14M [00:00<00:12, 245kB/s]  \u001B[A\n",
      "sci_xrsf-l2-avg1m_g18_d20230805_v2-2-0.nc:  50%|████▉     | 1.57M/3.14M [00:02<00:02, 687kB/s]\u001B[A\n",
      "sci_xrsf-l2-avg1m_g18_d20230804_v2-2-0.nc:  80%|████████  | 2.53M/3.14M [00:03<00:00, 862kB/s]\u001B[A\n",
      "sci_xrsf-l2-avg1m_g18_d20230803_v2-2-0.nc:  94%|█████████▍| 2.96M/3.14M [00:03<00:00, 968kB/s] \u001B[A\n",
      "Files Downloaded: 100%|██████████| 1/1 [00:04<00:00,  4.97s/file]                             \u001B[A\n",
      "Files Downloaded:   0%|          | 0/1 [00:00<?, ?file/s]\n",
      "sci_xrsf-l2-avg1m_g18_d20230805_v2-2-0.nc:  55%|█████▍    | 1.73M/3.14M [00:02<00:02, 618kB/s]\u001B[A\n",
      "sci_xrsf-l2-avg1m_g18_d20230804_v2-2-0.nc:  92%|█████████▏| 2.90M/3.14M [00:03<00:00, 851kB/s]\u001B[A\n",
      "Files Downloaded: 100%|██████████| 1/1 [00:04<00:00,  4.10s/file]                             \u001B[A\n",
      "Files Downloaded:   0%|          | 0/1 [00:00<?, ?file/s]\n",
      "sci_xrsf-l2-avg1m_g18_d20230806_v2-2-0.nc:   6%|▌         | 187k/3.14M [00:01<00:21, 138kB/s]\u001B[A\n",
      "sci_xrsf-l2-avg1m_g18_d20230806_v2-2-0.nc:  10%|█         | 320k/3.14M [00:01<00:10, 278kB/s]\u001B[A\n",
      "sci_xrsf-l2-avg1m_g18_d20230805_v2-2-0.nc:  64%|██████▍   | 2.02M/3.14M [00:02<00:01, 652kB/s]\u001B[A\n",
      "sci_xrsf-l2-avg1m_g18_d20230808_v2-2-0.nc:   0%|          | 0.00/3.14M [00:00<?, ?B/s]\u001B[A\n",
      "sci_xrsf-l2-avg1m_g18_d20230806_v2-2-0.nc:  13%|█▎        | 394k/3.14M [00:01<00:12, 223kB/s]\u001B[A\n",
      "sci_xrsf-l2-avg1m_g18_d20230807_v2-2-0.nc:   0%|          | 0.00/3.14M [00:00<?, ?B/s]\u001B[A\n",
      "sci_xrsf-l2-avg1m_g18_d20230806_v2-2-0.nc:  26%|██▌       | 824k/3.14M [00:02<00:03, 687kB/s]\u001B[A\n",
      "sci_xrsf-l2-avg1m_g18_d20230805_v2-2-0.nc:  80%|████████  | 2.52M/3.14M [00:03<00:00, 723kB/s]\u001B[A\n",
      "sci_xrsf-l2-avg1m_g18_d20230805_v2-2-0.nc:  89%|████████▉ | 2.79M/3.14M [00:03<00:00, 889kB/s]\u001B[A\n",
      "sci_xrsf-l2-avg1m_g18_d20230806_v2-2-0.nc:  31%|███▏      | 985k/3.14M [00:02<00:03, 597kB/s]\u001B[A\n",
      "sci_xrsf-l2-avg1m_g18_d20230808_v2-2-0.nc:   0%|          | 3.00/3.14M [00:00<189:36:11, 4.60B/s]\u001B[A\n",
      "sci_xrsf-l2-avg1m_g18_d20230806_v2-2-0.nc:  35%|███▌      | 1.11M/3.14M [00:02<00:03, 656kB/s]\u001B[A\n",
      "sci_xrsf-l2-avg1m_g18_d20230808_v2-2-0.nc:   0%|          | 1.03k/3.14M [00:00<32:38, 1.60kB/s]  \u001B[A\n",
      "sci_xrsf-l2-avg1m_g18_d20230806_v2-2-0.nc:  50%|█████     | 1.58M/3.14M [00:02<00:01, 1.25MB/s]\u001B[A\n",
      "sci_xrsf-l2-avg1m_g18_d20230807_v2-2-0.nc:   0%|          | 1.02k/3.14M [00:00<35:25, 1.48kB/s]\u001B[A\n",
      "sci_xrsf-l2-avg1m_g18_d20230806_v2-2-0.nc:  61%|██████    | 1.91M/3.14M [00:02<00:00, 1.51MB/s]\u001B[A\n",
      "sci_xrsf-l2-avg1m_g18_d20230805_v2-2-0.nc:  93%|█████████▎| 2.94M/3.14M [00:04<00:00, 587kB/s]\u001B[A\n",
      "Files Downloaded: 100%|██████████| 1/1 [00:04<00:00,  4.87s/file]                             \u001B[A\n",
      "Files Downloaded:   0%|          | 0/1 [00:00<?, ?file/s]\n",
      "sci_xrsf-l2-avg1m_g18_d20230806_v2-2-0.nc:  68%|██████▊   | 2.13M/3.14M [00:03<00:00, 1.11MB/s]\u001B[A\n",
      "sci_xrsf-l2-avg1m_g18_d20230808_v2-2-0.nc:   4%|▍         | 121k/3.14M [00:01<00:24, 123kB/s]  \u001B[A\n",
      "sci_xrsf-l2-avg1m_g18_d20230808_v2-2-0.nc:   4%|▍         | 136k/3.14M [00:01<00:24, 122kB/s]\u001B[A\n",
      "sci_xrsf-l2-avg1m_g18_d20230806_v2-2-0.nc:  74%|███████▎  | 2.31M/3.14M [00:03<00:00, 1.06MB/s]\u001B[A\n",
      "sci_xrsf-l2-avg1m_g18_d20230806_v2-2-0.nc:  83%|████████▎ | 2.60M/3.14M [00:03<00:00, 1.34MB/s]\u001B[A\n",
      "sci_xrsf-l2-avg1m_g18_d20230807_v2-2-0.nc:   4%|▍         | 121k/3.14M [00:01<00:30, 97.5kB/s] \u001B[A\n",
      "sci_xrsf-l2-avg1m_g18_d20230808_v2-2-0.nc:   5%|▍         | 152k/3.14M [00:01<00:26, 112kB/s]\u001B[A\n",
      "sci_xrsf-l2-avg1m_g18_d20230809_v2-2-0.nc:   0%|          | 0.00/3.14M [00:00<?, ?B/s]\u001B[A\n",
      "sci_xrsf-l2-avg1m_g18_d20230808_v2-2-0.nc:   6%|▌         | 176k/3.14M [00:01<00:29, 101kB/s]\u001B[A\n",
      "sci_xrsf-l2-avg1m_g18_d20230806_v2-2-0.nc:  92%|█████████▏| 2.90M/3.14M [00:03<00:00, 1.10MB/s]\u001B[A\n",
      "Files Downloaded: 100%|██████████| 1/1 [00:04<00:00,  4.59s/file]                              \u001B[A\n",
      "Files Downloaded:   0%|          | 0/1 [00:00<?, ?file/s]\n",
      "sci_xrsf-l2-avg1m_g18_d20230807_v2-2-0.nc:   6%|▌         | 176k/3.14M [00:01<00:27, 106kB/s] \u001B[A\n",
      "sci_xrsf-l2-avg1m_g18_d20230808_v2-2-0.nc:   7%|▋         | 224k/3.14M [00:02<00:19, 151kB/s]\u001B[A\n",
      "sci_xrsf-l2-avg1m_g18_d20230808_v2-2-0.nc:   8%|▊         | 243k/3.14M [00:02<00:18, 156kB/s]\u001B[A\n",
      "sci_xrsf-l2-avg1m_g18_d20230807_v2-2-0.nc:   9%|▉         | 288k/3.14M [00:02<00:14, 200kB/s]\u001B[A\n",
      "sci_xrsf-l2-avg1m_g18_d20230809_v2-2-0.nc:   0%|          | 1.00/3.14M [00:00<488:40:37, 1.79B/s]\u001B[A\n",
      "sci_xrsf-l2-avg1m_g18_d20230809_v2-2-0.nc:   3%|▎         | 89.2k/3.14M [00:00<00:16, 180kB/s]   \u001B[A\n",
      "sci_xrsf-l2-avg1m_g18_d20230808_v2-2-0.nc:  11%|█         | 336k/3.14M [00:02<00:12, 217kB/s]\u001B[A\n",
      "sci_xrsf-l2-avg1m_g18_d20230808_v2-2-0.nc:  20%|██        | 632k/3.14M [00:02<00:03, 654kB/s]\u001B[A\n",
      "sci_xrsf-l2-avg1m_g18_d20230807_v2-2-0.nc:  11%|█         | 336k/3.14M [00:02<00:16, 166kB/s]\u001B[A\n",
      "sci_xrsf-l2-avg1m_g18_d20230810_v2-2-0.nc:   0%|          | 0.00/3.14M [00:00<?, ?B/s]\u001B[A\n",
      "sci_xrsf-l2-avg1m_g18_d20230808_v2-2-0.nc:  23%|██▎       | 731k/3.14M [00:02<00:03, 707kB/s]\u001B[A\n",
      "sci_xrsf-l2-avg1m_g18_d20230807_v2-2-0.nc:  22%|██▏       | 696k/3.14M [00:02<00:04, 507kB/s]\u001B[A\n",
      "sci_xrsf-l2-avg1m_g18_d20230807_v2-2-0.nc:  28%|██▊       | 888k/3.14M [00:02<00:03, 633kB/s]\u001B[A\n",
      "sci_xrsf-l2-avg1m_g18_d20230809_v2-2-0.nc:   4%|▍         | 140k/3.14M [00:01<00:23, 126kB/s] \u001B[A\n",
      "sci_xrsf-l2-avg1m_g18_d20230808_v2-2-0.nc:  31%|███▏      | 984k/3.14M [00:03<00:03, 706kB/s]\u001B[A\n",
      "sci_xrsf-l2-avg1m_g18_d20230809_v2-2-0.nc:   5%|▌         | 172k/3.14M [00:01<00:19, 152kB/s]\u001B[A\n",
      "sci_xrsf-l2-avg1m_g18_d20230808_v2-2-0.nc:  42%|████▏     | 1.31M/3.14M [00:03<00:01, 1.10MB/s]\u001B[A\n",
      "sci_xrsf-l2-avg1m_g18_d20230807_v2-2-0.nc:  32%|███▏      | 992k/3.14M [00:03<00:03, 556kB/s]\u001B[A\n",
      "sci_xrsf-l2-avg1m_g18_d20230808_v2-2-0.nc:  66%|██████▌   | 2.06M/3.14M [00:03<00:00, 2.24MB/s]\u001B[A\n",
      "sci_xrsf-l2-avg1m_g18_d20230807_v2-2-0.nc:  44%|████▎     | 1.37M/3.14M [00:03<00:02, 834kB/s]\u001B[A\n",
      "sci_xrsf-l2-avg1m_g18_d20230807_v2-2-0.nc:  59%|█████▊    | 1.84M/3.14M [00:03<00:00, 1.30MB/s]\u001B[A\n",
      "sci_xrsf-l2-avg1m_g18_d20230809_v2-2-0.nc:   6%|▋         | 204k/3.14M [00:01<00:28, 103kB/s]\u001B[A\n",
      "sci_xrsf-l2-avg1m_g18_d20230808_v2-2-0.nc:  76%|███████▌  | 2.37M/3.14M [00:03<00:00, 1.36MB/s]\u001B[A\n",
      "sci_xrsf-l2-avg1m_g18_d20230809_v2-2-0.nc:   9%|▉         | 296k/3.14M [00:01<00:14, 196kB/s]\u001B[A\n",
      "sci_xrsf-l2-avg1m_g18_d20230808_v2-2-0.nc:  88%|████████▊ | 2.76M/3.14M [00:03<00:00, 1.67MB/s]\u001B[A\n",
      "sci_xrsf-l2-avg1m_g18_d20230807_v2-2-0.nc:  67%|██████▋   | 2.11M/3.14M [00:03<00:00, 1.17MB/s]\u001B[A\n",
      "Files Downloaded: 100%|██████████| 1/1 [00:04<00:00,  4.53s/file]                              \u001B[A\n",
      "Files Downloaded:   0%|          | 0/1 [00:00<?, ?file/s]\n",
      "sci_xrsf-l2-avg1m_g18_d20230807_v2-2-0.nc:  75%|███████▍  | 2.35M/3.14M [00:03<00:00, 1.30MB/s]\u001B[A\n",
      "sci_xrsf-l2-avg1m_g18_d20230807_v2-2-0.nc:  92%|█████████▏| 2.90M/3.14M [00:04<00:00, 1.65MB/s]\u001B[A\n",
      "sci_xrsf-l2-avg1m_g18_d20230809_v2-2-0.nc:  11%|█         | 339k/3.14M [00:02<00:18, 151kB/s]\u001B[A\n",
      "Files Downloaded: 100%|██████████| 1/1 [00:05<00:00,  5.29s/file]                              \u001B[A\n",
      "Files Downloaded:   0%|          | 0/1 [00:00<?, ?file/s]\n",
      "sci_xrsf-l2-avg1m_g18_d20230809_v2-2-0.nc:  22%|██▏       | 696k/3.14M [00:02<00:04, 526kB/s]\u001B[A\n",
      "sci_xrsf-l2-avg1m_g18_d20230809_v2-2-0.nc:  27%|██▋       | 856k/3.14M [00:02<00:03, 660kB/s]\u001B[A\n",
      "sci_xrsf-l2-avg1m_g18_d20230809_v2-2-0.nc:  31%|███▏      | 984k/3.14M [00:02<00:03, 616kB/s]\u001B[A\n",
      "sci_xrsf-l2-avg1m_g18_d20230809_v2-2-0.nc:  44%|████▎     | 1.37M/3.14M [00:03<00:01, 1.02MB/s]\u001B[A\n",
      "sci_xrsf-l2-avg1m_g18_d20230810_v2-2-0.nc:   0%|          | 1.02k/3.14M [00:02<1:58:57, 440B/s]\u001B[A\n",
      "sci_xrsf-l2-avg1m_g18_d20230809_v2-2-0.nc:  59%|█████▉    | 1.87M/3.14M [00:03<00:00, 1.65MB/s]\u001B[A\n",
      "sci_xrsf-l2-avg1m_g18_d20230809_v2-2-0.nc:  69%|██████▉   | 2.16M/3.14M [00:03<00:00, 1.60MB/s]\u001B[A\n",
      "sci_xrsf-l2-avg1m_g18_d20230809_v2-2-0.nc:  81%|████████  | 2.54M/3.14M [00:03<00:00, 1.96MB/s]\u001B[A\n",
      "sci_xrsf-l2-avg1m_g18_d20230810_v2-2-0.nc:   4%|▍         | 129k/3.14M [00:02<00:47, 63.2kB/s] \u001B[A\n",
      "sci_xrsf-l2-avg1m_g18_d20230809_v2-2-0.nc:  97%|█████████▋| 3.04M/3.14M [00:03<00:00, 2.56MB/s]\u001B[A\n",
      "Files Downloaded: 100%|██████████| 1/1 [00:04<00:00,  4.45s/file]                              \u001B[A\n",
      "Files Downloaded:   0%|          | 0/1 [00:00<?, ?file/s]\n",
      "sci_xrsf-l2-avg1m_g18_d20230810_v2-2-0.nc:   5%|▌         | 168k/3.14M [00:02<00:35, 84.1kB/s]\u001B[A\n",
      "sci_xrsf-l2-avg1m_g18_d20230811_v2-2-0.nc:   0%|          | 0.00/3.14M [00:00<?, ?B/s]\u001B[A\n",
      "sci_xrsf-l2-avg1m_g18_d20230812_v2-2-0.nc:   0%|          | 0.00/3.14M [00:00<?, ?B/s]\u001B[A\n",
      "sci_xrsf-l2-avg1m_g18_d20230810_v2-2-0.nc:   6%|▌         | 194k/3.14M [00:03<00:32, 89.7kB/s]\u001B[A\n",
      "sci_xrsf-l2-avg1m_g18_d20230811_v2-2-0.nc:   0%|          | 1.02k/3.14M [00:00<22:17, 2.35kB/s]\u001B[A\n",
      "sci_xrsf-l2-avg1m_g18_d20230810_v2-2-0.nc:  11%|█         | 336k/3.14M [00:03<00:16, 168kB/s] \u001B[A\n",
      "sci_xrsf-l2-avg1m_g18_d20230810_v2-2-0.nc:  21%|██▏       | 672k/3.14M [00:03<00:05, 473kB/s]\u001B[A\n",
      "sci_xrsf-l2-avg1m_g18_d20230812_v2-2-0.nc:   0%|          | 1.02k/3.14M [00:00<31:13, 1.68kB/s]\u001B[A\n",
      "sci_xrsf-l2-avg1m_g18_d20230810_v2-2-0.nc:  25%|██▌       | 792k/3.14M [00:03<00:04, 540kB/s]\u001B[A\n",
      "sci_xrsf-l2-avg1m_g18_d20230812_v2-2-0.nc:   7%|▋         | 225k/3.14M [00:00<00:06, 418kB/s]  \u001B[A\n",
      "sci_xrsf-l2-avg1m_g18_d20230813_v2-2-0.nc:   0%|          | 0.00/3.14M [00:00<?, ?B/s]\u001B[A\n",
      "sci_xrsf-l2-avg1m_g18_d20230811_v2-2-0.nc:   4%|▍         | 121k/3.14M [00:01<00:23, 127kB/s]  \u001B[A\n",
      "sci_xrsf-l2-avg1m_g18_d20230810_v2-2-0.nc:  31%|███▏      | 984k/3.14M [00:04<00:03, 565kB/s]\u001B[A\n",
      "sci_xrsf-l2-avg1m_g18_d20230812_v2-2-0.nc:  24%|██▍       | 757k/3.14M [00:01<00:02, 878kB/s]\u001B[A\n",
      "sci_xrsf-l2-avg1m_g18_d20230810_v2-2-0.nc:  46%|████▋     | 1.46M/3.14M [00:04<00:01, 1.10MB/s]\u001B[A\n",
      "sci_xrsf-l2-avg1m_g18_d20230812_v2-2-0.nc:  28%|██▊       | 884k/3.14M [00:01<00:02, 931kB/s]\u001B[A\n",
      "sci_xrsf-l2-avg1m_g18_d20230810_v2-2-0.nc:  53%|█████▎    | 1.67M/3.14M [00:04<00:01, 1.25MB/s]\u001B[A\n",
      "sci_xrsf-l2-avg1m_g18_d20230811_v2-2-0.nc:   6%|▌         | 176k/3.14M [00:01<00:23, 124kB/s]\u001B[A\n",
      "sci_xrsf-l2-avg1m_g18_d20230813_v2-2-0.nc:   0%|          | 1.02k/3.14M [00:00<28:19, 1.85kB/s]\u001B[A\n",
      "sci_xrsf-l2-avg1m_g18_d20230811_v2-2-0.nc:   7%|▋         | 208k/3.14M [00:01<00:20, 142kB/s]\u001B[A\n",
      "sci_xrsf-l2-avg1m_g18_d20230810_v2-2-0.nc:  65%|██████▍   | 2.04M/3.14M [00:04<00:00, 1.13MB/s]\u001B[A\n",
      "sci_xrsf-l2-avg1m_g18_d20230812_v2-2-0.nc:  32%|███▏      | 1.01M/3.14M [00:01<00:03, 574kB/s]\u001B[A\n",
      "sci_xrsf-l2-avg1m_g18_d20230812_v2-2-0.nc:  36%|███▌      | 1.12M/3.14M [00:01<00:03, 648kB/s]\u001B[A\n",
      "sci_xrsf-l2-avg1m_g18_d20230810_v2-2-0.nc:  80%|████████  | 2.53M/3.14M [00:04<00:00, 1.40MB/s]\u001B[A\n",
      "sci_xrsf-l2-avg1m_g18_d20230811_v2-2-0.nc:  11%|█         | 336k/3.14M [00:02<00:14, 191kB/s]\u001B[A\n",
      "sci_xrsf-l2-avg1m_g18_d20230813_v2-2-0.nc:   4%|▍         | 129k/3.14M [00:01<00:23, 128kB/s]  \u001B[A\n",
      "sci_xrsf-l2-avg1m_g18_d20230811_v2-2-0.nc:  22%|██▏       | 688k/3.14M [00:02<00:04, 558kB/s]\u001B[A\n",
      "sci_xrsf-l2-avg1m_g18_d20230813_v2-2-0.nc:   5%|▌         | 168k/3.14M [00:01<00:19, 152kB/s]\u001B[A\n",
      "sci_xrsf-l2-avg1m_g18_d20230811_v2-2-0.nc:  29%|██▉       | 920k/3.14M [00:02<00:02, 789kB/s]\u001B[A\n",
      "sci_xrsf-l2-avg1m_g18_d20230812_v2-2-0.nc:  42%|████▏     | 1.32M/3.14M [00:02<00:03, 570kB/s]\u001B[A\n",
      "sci_xrsf-l2-avg1m_g18_d20230812_v2-2-0.nc:  54%|█████▎    | 1.68M/3.14M [00:02<00:01, 934kB/s]\u001B[A\n",
      "sci_xrsf-l2-avg1m_g18_d20230810_v2-2-0.nc:  92%|█████████▏| 2.90M/3.14M [00:05<00:00, 972kB/s] \u001B[A\n",
      "Files Downloaded: 100%|██████████| 1/1 [00:06<00:00,  6.20s/file]                             \u001B[A\n",
      "Files Downloaded:   0%|          | 0/1 [00:00<?, ?file/s]\n",
      "sci_xrsf-l2-avg1m_g18_d20230811_v2-2-0.nc:  34%|███▍      | 1.08M/3.14M [00:02<00:03, 629kB/s]\u001B[A\n",
      "sci_xrsf-l2-avg1m_g18_d20230813_v2-2-0.nc:   6%|▌         | 187k/3.14M [00:01<00:28, 104kB/s]\u001B[A\n",
      "sci_xrsf-l2-avg1m_g18_d20230811_v2-2-0.nc:  49%|████▊     | 1.53M/3.14M [00:02<00:01, 1.13MB/s]\u001B[A\n",
      "sci_xrsf-l2-avg1m_g18_d20230813_v2-2-0.nc:  10%|▉         | 304k/3.14M [00:01<00:12, 223kB/s]\u001B[A\n",
      "sci_xrsf-l2-avg1m_g18_d20230811_v2-2-0.nc:  63%|██████▎   | 1.98M/3.14M [00:02<00:00, 1.64MB/s]\u001B[A\n",
      "sci_xrsf-l2-avg1m_g18_d20230812_v2-2-0.nc:  64%|██████▍   | 2.02M/3.14M [00:02<00:01, 800kB/s]\u001B[A\n",
      "sci_xrsf-l2-avg1m_g18_d20230812_v2-2-0.nc:  77%|███████▋  | 2.41M/3.14M [00:03<00:00, 1.05MB/s]\u001B[A\n",
      "sci_xrsf-l2-avg1m_g18_d20230813_v2-2-0.nc:  11%|█         | 346k/3.14M [00:02<00:16, 174kB/s]\u001B[A\n",
      "sci_xrsf-l2-avg1m_g18_d20230811_v2-2-0.nc:  71%|███████▏  | 2.24M/3.14M [00:03<00:00, 1.26MB/s]\u001B[A\n",
      "sci_xrsf-l2-avg1m_g18_d20230813_v2-2-0.nc:  20%|██        | 632k/3.14M [00:02<00:05, 490kB/s]\u001B[A\n",
      "sci_xrsf-l2-avg1m_g18_d20230811_v2-2-0.nc:  84%|████████▍ | 2.65M/3.14M [00:03<00:00, 1.59MB/s]\u001B[A\n",
      "sci_xrsf-l2-avg1m_g18_d20230813_v2-2-0.nc:  28%|██▊       | 888k/3.14M [00:02<00:03, 714kB/s]\u001B[A\n",
      "sci_xrsf-l2-avg1m_g18_d20230811_v2-2-0.nc:  96%|█████████▋| 3.03M/3.14M [00:03<00:00, 1.73MB/s]\u001B[A\n",
      "Files Downloaded: 100%|██████████| 1/1 [00:05<00:00,  5.25s/file]                              \u001B[A\n",
      "Files Downloaded:   0%|          | 0/1 [00:00<?, ?file/s]\n",
      "sci_xrsf-l2-avg1m_g18_d20230812_v2-2-0.nc:  83%|████████▎ | 2.62M/3.14M [00:03<00:00, 840kB/s] \u001B[A\n",
      "sci_xrsf-l2-avg1m_g18_d20230813_v2-2-0.nc:  32%|███▏      | 1.00M/3.14M [00:02<00:03, 619kB/s]\u001B[A\n",
      "sci_xrsf-l2-avg1m_g18_d20230814_v2-2-0.nc:   0%|          | 0.00/3.14M [00:00<?, ?B/s]\u001B[A\n",
      "sci_xrsf-l2-avg1m_g18_d20230812_v2-2-0.nc:  91%|█████████ | 2.87M/3.14M [00:03<00:00, 886kB/s]\u001B[A\n",
      "Files Downloaded: 100%|██████████| 1/1 [00:05<00:00,  5.17s/file]                             \u001B[A\n",
      "\n",
      "sci_xrsf-l2-avg1m_g18_d20230813_v2-2-0.nc:  42%|████▏     | 1.32M/3.14M [00:02<00:01, 1.00MB/s]\u001B[A\n",
      "sci_xrsf-l2-avg1m_g18_d20230813_v2-2-0.nc:  58%|█████▊    | 1.82M/3.14M [00:03<00:00, 1.67MB/s]\u001B[A\n",
      "sci_xrsf-l2-avg1m_g18_d20230813_v2-2-0.nc:  66%|██████▌   | 2.06M/3.14M [00:03<00:00, 1.30MB/s]\u001B[A\n",
      "sci_xrsf-l2-avg1m_g18_d20230814_v2-2-0.nc:   0%|          | 1.02k/3.14M [00:00<29:37, 1.77kB/s]\u001B[A\n",
      "sci_xrsf-l2-avg1m_g18_d20230813_v2-2-0.nc:  80%|████████  | 2.53M/3.14M [00:03<00:00, 1.45MB/s]\u001B[A\n",
      "sci_xrsf-l2-avg1m_g18_d20230814_v2-2-0.nc:   4%|▍         | 128k/3.14M [00:00<00:14, 210kB/s]  \u001B[A\n",
      "sci_xrsf-l2-avg1m_g18_d20230813_v2-2-0.nc:  86%|████████▋ | 2.71M/3.14M [00:03<00:00, 1.51MB/s]\u001B[A\n",
      "sci_xrsf-l2-avg1m_g18_d20230815_v2-2-0.nc:   0%|          | 0.00/3.14M [00:00<?, ?B/s]\u001B[A\n",
      "sci_xrsf-l2-avg1m_g18_d20230813_v2-2-0.nc:  92%|█████████▏| 2.90M/3.14M [00:04<00:00, 1.02MB/s]\u001B[A\n",
      "Files Downloaded: 100%|██████████| 1/1 [00:05<00:00,  5.27s/file]                              \u001B[A\n",
      "\n",
      "sci_xrsf-l2-avg1m_g18_d20230814_v2-2-0.nc:   5%|▌         | 165k/3.14M [00:01<00:22, 130kB/s]\u001B[A\n",
      "sci_xrsf-l2-avg1m_g18_d20230815_v2-2-0.nc:   0%|          | 1.02k/3.14M [00:00<31:31, 1.66kB/s]\u001B[A\n",
      "sci_xrsf-l2-avg1m_g18_d20230814_v2-2-0.nc:   6%|▌         | 189k/3.14M [00:01<00:31, 92.4kB/s]\u001B[A\n",
      "sci_xrsf-l2-avg1m_g18_d20230814_v2-2-0.nc:   8%|▊         | 240k/3.14M [00:01<00:21, 135kB/s] \u001B[A\n",
      "sci_xrsf-l2-avg1m_g18_d20230815_v2-2-0.nc:   4%|▍         | 129k/3.14M [00:01<00:27, 110kB/s]  \u001B[A\n",
      "sci_xrsf-l2-avg1m_g18_d20230814_v2-2-0.nc:  11%|█         | 336k/3.14M [00:02<00:18, 153kB/s]\u001B[A\n",
      "sci_xrsf-l2-avg1m_g18_d20230815_v2-2-0.nc:   5%|▌         | 168k/3.14M [00:01<00:21, 136kB/s]\u001B[A\n",
      "sci_xrsf-l2-avg1m_g18_d20230814_v2-2-0.nc:  17%|█▋        | 528k/3.14M [00:02<00:07, 338kB/s]\u001B[A\n",
      "sci_xrsf-l2-avg1m_g18_d20230814_v2-2-0.nc:  24%|██▍       | 760k/3.14M [00:02<00:04, 578kB/s]\u001B[A\n",
      "sci_xrsf-l2-avg1m_g18_d20230814_v2-2-0.nc:  29%|██▉       | 921k/3.14M [00:02<00:03, 711kB/s]\u001B[A\n",
      "sci_xrsf-l2-avg1m_g18_d20230815_v2-2-0.nc:   6%|▌         | 188k/3.14M [00:02<00:33, 88.2kB/s]\u001B[A\n",
      "sci_xrsf-l2-avg1m_g18_d20230814_v2-2-0.nc:  33%|███▎      | 1.04M/3.14M [00:03<00:04, 521kB/s]\u001B[A\n",
      "sci_xrsf-l2-avg1m_g18_d20230815_v2-2-0.nc:  10%|▉         | 304k/3.14M [00:02<00:15, 189kB/s] \u001B[A\n",
      "sci_xrsf-l2-avg1m_g18_d20230814_v2-2-0.nc:  36%|███▌      | 1.13M/3.14M [00:03<00:03, 536kB/s]\u001B[A\n",
      "sci_xrsf-l2-avg1m_g18_d20230814_v2-2-0.nc:  60%|██████    | 1.90M/3.14M [00:03<00:00, 1.48MB/s]\u001B[A\n",
      "sci_xrsf-l2-avg1m_g18_d20230815_v2-2-0.nc:  11%|█         | 342k/3.14M [00:02<00:19, 144kB/s]\u001B[A\n",
      "sci_xrsf-l2-avg1m_g18_d20230815_v2-2-0.nc:  26%|██▌       | 824k/3.14M [00:02<00:03, 625kB/s]\u001B[A\n",
      "sci_xrsf-l2-avg1m_g18_d20230815_v2-2-0.nc:  31%|███       | 972k/3.14M [00:02<00:02, 728kB/s]\u001B[A\n",
      "sci_xrsf-l2-avg1m_g18_d20230814_v2-2-0.nc:  69%|██████▉   | 2.16M/3.14M [00:04<00:00, 1.09MB/s]\u001B[A\n",
      "sci_xrsf-l2-avg1m_g18_d20230814_v2-2-0.nc:  83%|████████▎ | 2.61M/3.14M [00:04<00:00, 1.54MB/s]\u001B[A\n",
      "sci_xrsf-l2-avg1m_g18_d20230814_v2-2-0.nc:  91%|█████████ | 2.85M/3.14M [00:04<00:00, 1.64MB/s]\u001B[A\n",
      "Files Downloaded: 100%|██████████| 1/1 [00:05<00:00,  5.50s/file]                              \u001B[A\n",
      "\n",
      "sci_xrsf-l2-avg1m_g18_d20230815_v2-2-0.nc:  36%|███▌      | 1.12M/3.14M [00:03<00:04, 495kB/s]\u001B[A\n",
      "sci_xrsf-l2-avg1m_g18_d20230815_v2-2-0.nc:  47%|████▋     | 1.48M/3.14M [00:03<00:01, 838kB/s]\u001B[A\n",
      "sci_xrsf-l2-avg1m_g18_d20230815_v2-2-0.nc:  57%|█████▋    | 1.80M/3.14M [00:03<00:01, 1.16MB/s]\u001B[A\n",
      "sci_xrsf-l2-avg1m_g18_d20230815_v2-2-0.nc:  65%|██████▍   | 2.04M/3.14M [00:03<00:00, 1.19MB/s]\u001B[A\n",
      "sci_xrsf-l2-avg1m_g18_d20230815_v2-2-0.nc:  77%|███████▋  | 2.41M/3.14M [00:04<00:00, 1.56MB/s]\u001B[A\n",
      "sci_xrsf-l2-avg1m_g18_d20230815_v2-2-0.nc:  92%|█████████▏| 2.90M/3.14M [00:04<00:00, 1.43MB/s]\u001B[A\n",
      "Files Downloaded: 100%|██████████| 1/1 [00:05<00:00,  5.74s/file]                              \u001B[A\n",
      "2025-07-08 19:46:06 - root - INFO: Saved 92 files to /home/griffingoodwin/downloads/goes_data\n"
     ]
    }
   ],
   "execution_count": 10
  },
  {
   "metadata": {
    "ExecuteTime": {
     "end_time": "2025-07-08T21:54:36.227532Z",
     "start_time": "2025-07-08T21:54:04.350310Z"
    }
   },
   "cell_type": "code",
   "source": [
    "from pathlib import Path\n",
    "import logging\n",
    "import xarray as xr\n",
    "import pandas as pd\n",
    "\n",
    "# Setup\n",
    "logging.basicConfig(level=logging.INFO, format='%(asctime)s - %(levelname)s - %(message)s')\n",
    "SAVE_DIR = Path(\"/home/griffingoodwin/downloads/goes_data\")\n",
    "OUTPUT_DIR = Path(\"/home/griffingoodwin/downloads/goes_combined\")\n",
    "OUTPUT_DIR.mkdir(exist_ok=True)\n",
    "\n",
    "# Global lists to store used files\n",
    "used_g16_files = []\n",
    "used_g18_files = []\n",
    "\n",
    "def combine_goes_data():\n",
    "    \"\"\"\n",
    "    Combine GOES-16 and GOES-18 files and track source files used.\n",
    "    \"\"\"\n",
    "    global used_g16_files, used_g18_files\n",
    "\n",
    "    g16_files = sorted(SAVE_DIR.glob(\"*g16*.nc\"))\n",
    "    g18_files = sorted(SAVE_DIR.glob(\"*g18*.nc\"))\n",
    "    logging.info(f\"Found {len(g16_files)} GOES-16 and {len(g18_files)} GOES-18 files\")\n",
    "\n",
    "    def process_files(files, satellite_name, output_file, used_file_list):\n",
    "        datasets = []\n",
    "        combined_meta = {}\n",
    "\n",
    "        for file_path in files:\n",
    "            try:\n",
    "                ds = xr.open_dataset(str(file_path))\n",
    "                datasets.append(ds)\n",
    "                used_file_list.append(file_path)  # Track file used\n",
    "                if not combined_meta:\n",
    "                    combined_meta.update(ds.attrs)\n",
    "                logging.info(f\"Loaded {file_path.name}\")\n",
    "            except Exception as e:\n",
    "                logging.error(f\"Could not load {file_path.name}: {e}\")\n",
    "                continue\n",
    "            finally:\n",
    "                if 'ds' in locals():\n",
    "                    ds.close()\n",
    "\n",
    "        if not datasets:\n",
    "            logging.warning(f\"No valid datasets for {satellite_name}\")\n",
    "            return\n",
    "\n",
    "        try:\n",
    "            combined_ds = xr.concat(datasets, dim='time').sortby('time')\n",
    "            combined_ds.attrs.update({\n",
    "                'satellite': satellite_name,\n",
    "                'instrument': combined_meta.get('instrument', 'XRS'),\n",
    "                'data_level': combined_meta.get('data_level', 'L2'),\n",
    "                'resolution': combined_meta.get('resolution', '1-minute'),\n",
    "                'source': combined_meta.get('source', 'NOAA'),\n",
    "                'start_time': pd.Timestamp(combined_ds.time.min().values).isoformat(),\n",
    "                'end_time': pd.Timestamp(combined_ds.time.max().values).isoformat(),\n",
    "                'source_files': ','.join([f.name for f in used_file_list])\n",
    "            })\n",
    "\n",
    "            combined_ds.to_netcdf(str(output_file), engine='netcdf4')\n",
    "            logging.info(f\"Saved combined file: {output_file}\")\n",
    "        except Exception as e:\n",
    "            logging.error(f\"Failed to write {output_file}: {e}\")\n",
    "        finally:\n",
    "            for ds in datasets:\n",
    "                ds.close()\n",
    "\n",
    "    process_files(g16_files, \"GOES-16\", OUTPUT_DIR / \"combined_g16_avg1m.nc\", used_g16_files)\n",
    "    process_files(g18_files, \"GOES-18\", OUTPUT_DIR / \"combined_g18_avg1m.nc\", used_g18_files)\n",
    "\n",
    "def write_used_file_metadata_to_csv():\n",
    "    \"\"\"\n",
    "    Write metadata for only the files used to generate the combined G16 and G18 files.\n",
    "    \"\"\"\n",
    "    OUTPUT_CSV = OUTPUT_DIR / \"used_source_file_metadata.csv\"\n",
    "    files = used_g16_files + used_g18_files\n",
    "\n",
    "    metadata_list = []\n",
    "    logging.info(f\"Extracting metadata from {len(files)} used files...\")\n",
    "\n",
    "    for file_path in files:\n",
    "        try:\n",
    "            ds = xr.open_dataset(str(file_path))\n",
    "            meta = ds.attrs.copy()\n",
    "\n",
    "            meta['file_name'] = file_path.name\n",
    "            meta['satellite'] = 'GOES-16' if 'g16' in file_path.name.lower() else 'GOES-18' if 'g18' in file_path.name.lower() else 'Unknown'\n",
    "\n",
    "            meta.setdefault('instrument', 'XRS')\n",
    "            meta.setdefault('data_level', 'L2')\n",
    "            meta.setdefault('resolution', '1-minute')\n",
    "            meta.setdefault('source', 'NOAA')\n",
    "            meta.setdefault('start_time', 'Unknown')\n",
    "            meta.setdefault('end_time', 'Unknown')\n",
    "\n",
    "            metadata_list.append(meta)\n",
    "            ds.close()\n",
    "        except Exception as e:\n",
    "            logging.error(f\"Failed to load metadata from {file_path.name}: {e}\")\n",
    "            continue\n",
    "\n",
    "    if not metadata_list:\n",
    "        logging.error(\"No metadata could be extracted.\")\n",
    "        return\n",
    "\n",
    "    df = pd.DataFrame(metadata_list)\n",
    "\n",
    "    # Define standard columns and dynamically add extras\n",
    "    base_columns = [\n",
    "        'file_name', 'satellite', 'instrument', 'data_level',\n",
    "        'resolution', 'source', 'start_time', 'end_time'\n",
    "    ]\n",
    "    extra_columns = set().union(*metadata_list) - set(base_columns)\n",
    "    columns = base_columns + sorted(extra_columns)\n",
    "\n",
    "    for col in columns:\n",
    "        if col not in df.columns:\n",
    "            df[col] = pd.NA\n",
    "\n",
    "    df = df[columns]\n",
    "\n",
    "    try:\n",
    "        df.to_csv(OUTPUT_CSV, index=False)\n",
    "        logging.info(f\"Saved used source file metadata to {OUTPUT_CSV}\")\n",
    "        print(\"\\nUsed source file metadata:\")\n",
    "        print(df.to_string(index=False))\n",
    "    except Exception as e:\n",
    "        logging.error(f\"Failed to write metadata CSV: {e}\")\n",
    "\n",
    "def save_combined_data_as_csv():\n",
    "    \"\"\"\n",
    "    Save combined GOES-16 and GOES-18 data as CSV files.\n",
    "    \"\"\"\n",
    "    columns_to_interp = [\"xrsb_flux\", \"xrsa_flux\"]\n",
    "    try:\n",
    "        # Load GOES-16 data and save as CSV\n",
    "        combined_g16_path = \"/home/griffingoodwin/downloads/goes_combined/combined_g16_avg1m.nc\"\n",
    "        combined_g18_path = \"/home/griffingoodwin/downloads/goes_combined/combined_g18_avg1m.nc\"\n",
    "\n",
    "\n",
    "        goes16 = xr.open_dataset(combined_g16_path)\n",
    "        goes16_df = goes16.to_dataframe().reset_index()\n",
    "        goes16_csv_path = \"/home/griffingoodwin/downloads/goes_combined/combined_g16_avg1m.csv\"\n",
    "        goes16_df = goes16_df[goes16_df['quad_diode']==0]\n",
    "\n",
    "        goes16_df[columns_to_interp] = goes16_df[columns_to_interp].interpolate(method=\"time\", limit_direction=\"both\")\n",
    "        goes16_df.to_csv(goes16_csv_path, index=False)\n",
    "\n",
    "        # Load GOES-18 data and save as CSV\n",
    "        goes18 = xr.open_dataset(combined_g18_path)\n",
    "        goes18_df = goes18.to_dataframe().reset_index()\n",
    "        goes18_csv_path = \"/home/griffingoodwin/downloads/goes_combined/combined_g18_avg1m.csv\"\n",
    "        goes18_df = goes18_df[goes18_df['quad_diode']==0]\n",
    "\n",
    "        goes18_df[columns_to_interp] = goes18_df[columns_to_interp].interpolate(method=\"time\", limit_direction=\"both\")\n",
    "        goes18_df.to_csv(goes18_csv_path, index=False)\n",
    "    except Exception as e:\n",
    "        print(f\"Failed to save combined data as CSV: {e}\")\n",
    "\n",
    "# Run everything\n",
    "if __name__ == \"__main__\":\n",
    "    combine_goes_data()\n",
    "    write_used_file_metadata_to_csv()\n",
    "    save_combined_data_as_csv()"
   ],
   "id": "6ebdc9bd674f1af0",
   "outputs": [
    {
     "name": "stderr",
     "output_type": "stream",
     "text": [
      "2025-07-08 21:54:04,363 - INFO - Found 46 GOES-16 and 46 GOES-18 files\n",
      "2025-07-08 21:54:04,389 - INFO - Loaded sci_xrsf-l2-avg1m_g16_d20230701_v2-2-0.nc\n",
      "2025-07-08 21:54:04,415 - INFO - Loaded sci_xrsf-l2-avg1m_g16_d20230702_v2-2-0.nc\n",
      "2025-07-08 21:54:04,440 - INFO - Loaded sci_xrsf-l2-avg1m_g16_d20230703_v2-2-0.nc\n",
      "2025-07-08 21:54:04,468 - INFO - Loaded sci_xrsf-l2-avg1m_g16_d20230704_v2-2-0.nc\n",
      "2025-07-08 21:54:04,661 - INFO - Loaded sci_xrsf-l2-avg1m_g16_d20230705_v2-2-0.nc\n",
      "2025-07-08 21:54:04,686 - INFO - Loaded sci_xrsf-l2-avg1m_g16_d20230706_v2-2-0.nc\n",
      "2025-07-08 21:54:04,712 - INFO - Loaded sci_xrsf-l2-avg1m_g16_d20230707_v2-2-0.nc\n",
      "2025-07-08 21:54:04,737 - INFO - Loaded sci_xrsf-l2-avg1m_g16_d20230708_v2-2-0.nc\n",
      "2025-07-08 21:54:04,763 - INFO - Loaded sci_xrsf-l2-avg1m_g16_d20230709_v2-2-0.nc\n",
      "2025-07-08 21:54:04,789 - INFO - Loaded sci_xrsf-l2-avg1m_g16_d20230710_v2-2-0.nc\n",
      "2025-07-08 21:54:04,814 - INFO - Loaded sci_xrsf-l2-avg1m_g16_d20230711_v2-2-0.nc\n",
      "2025-07-08 21:54:04,839 - INFO - Loaded sci_xrsf-l2-avg1m_g16_d20230712_v2-2-0.nc\n",
      "2025-07-08 21:54:04,865 - INFO - Loaded sci_xrsf-l2-avg1m_g16_d20230713_v2-2-0.nc\n",
      "2025-07-08 21:54:04,889 - INFO - Loaded sci_xrsf-l2-avg1m_g16_d20230714_v2-2-0.nc\n",
      "2025-07-08 21:54:04,913 - INFO - Loaded sci_xrsf-l2-avg1m_g16_d20230715_v2-2-0.nc\n",
      "2025-07-08 21:54:04,939 - INFO - Loaded sci_xrsf-l2-avg1m_g16_d20230716_v2-2-0.nc\n",
      "2025-07-08 21:54:04,966 - INFO - Loaded sci_xrsf-l2-avg1m_g16_d20230717_v2-2-0.nc\n",
      "2025-07-08 21:54:04,992 - INFO - Loaded sci_xrsf-l2-avg1m_g16_d20230718_v2-2-0.nc\n",
      "2025-07-08 21:54:05,017 - INFO - Loaded sci_xrsf-l2-avg1m_g16_d20230719_v2-2-0.nc\n",
      "2025-07-08 21:54:05,042 - INFO - Loaded sci_xrsf-l2-avg1m_g16_d20230720_v2-2-0.nc\n",
      "2025-07-08 21:54:05,067 - INFO - Loaded sci_xrsf-l2-avg1m_g16_d20230721_v2-2-0.nc\n",
      "2025-07-08 21:54:05,093 - INFO - Loaded sci_xrsf-l2-avg1m_g16_d20230722_v2-2-0.nc\n",
      "2025-07-08 21:54:05,119 - INFO - Loaded sci_xrsf-l2-avg1m_g16_d20230723_v2-2-0.nc\n",
      "2025-07-08 21:54:05,144 - INFO - Loaded sci_xrsf-l2-avg1m_g16_d20230724_v2-2-0.nc\n",
      "2025-07-08 21:54:05,170 - INFO - Loaded sci_xrsf-l2-avg1m_g16_d20230725_v2-2-0.nc\n",
      "2025-07-08 21:54:05,195 - INFO - Loaded sci_xrsf-l2-avg1m_g16_d20230726_v2-2-0.nc\n",
      "2025-07-08 21:54:05,220 - INFO - Loaded sci_xrsf-l2-avg1m_g16_d20230727_v2-2-0.nc\n",
      "2025-07-08 21:54:05,245 - INFO - Loaded sci_xrsf-l2-avg1m_g16_d20230728_v2-2-0.nc\n",
      "2025-07-08 21:54:05,269 - INFO - Loaded sci_xrsf-l2-avg1m_g16_d20230729_v2-2-0.nc\n",
      "2025-07-08 21:54:05,294 - INFO - Loaded sci_xrsf-l2-avg1m_g16_d20230730_v2-2-0.nc\n",
      "2025-07-08 21:54:05,319 - INFO - Loaded sci_xrsf-l2-avg1m_g16_d20230731_v2-2-0.nc\n",
      "2025-07-08 21:54:05,343 - INFO - Loaded sci_xrsf-l2-avg1m_g16_d20230801_v2-2-0.nc\n",
      "2025-07-08 21:54:05,369 - INFO - Loaded sci_xrsf-l2-avg1m_g16_d20230802_v2-2-0.nc\n",
      "2025-07-08 21:54:05,394 - INFO - Loaded sci_xrsf-l2-avg1m_g16_d20230803_v2-2-0.nc\n",
      "2025-07-08 21:54:05,421 - INFO - Loaded sci_xrsf-l2-avg1m_g16_d20230804_v2-2-0.nc\n",
      "2025-07-08 21:54:05,445 - INFO - Loaded sci_xrsf-l2-avg1m_g16_d20230805_v2-2-0.nc\n",
      "2025-07-08 21:54:05,471 - INFO - Loaded sci_xrsf-l2-avg1m_g16_d20230806_v2-2-0.nc\n",
      "2025-07-08 21:54:05,497 - INFO - Loaded sci_xrsf-l2-avg1m_g16_d20230807_v2-2-0.nc\n",
      "2025-07-08 21:54:05,523 - INFO - Loaded sci_xrsf-l2-avg1m_g16_d20230808_v2-2-0.nc\n",
      "2025-07-08 21:54:05,548 - INFO - Loaded sci_xrsf-l2-avg1m_g16_d20230809_v2-2-0.nc\n",
      "2025-07-08 21:54:05,573 - INFO - Loaded sci_xrsf-l2-avg1m_g16_d20230810_v2-2-0.nc\n",
      "2025-07-08 21:54:05,600 - INFO - Loaded sci_xrsf-l2-avg1m_g16_d20230811_v2-2-0.nc\n",
      "2025-07-08 21:54:05,626 - INFO - Loaded sci_xrsf-l2-avg1m_g16_d20230812_v2-2-0.nc\n",
      "2025-07-08 21:54:05,652 - INFO - Loaded sci_xrsf-l2-avg1m_g16_d20230813_v2-2-0.nc\n",
      "2025-07-08 21:54:05,678 - INFO - Loaded sci_xrsf-l2-avg1m_g16_d20230814_v2-2-0.nc\n",
      "2025-07-08 21:54:05,703 - INFO - Loaded sci_xrsf-l2-avg1m_g16_d20230815_v2-2-0.nc\n",
      "2025-07-08 21:54:16,686 - INFO - Saved combined file: /home/griffingoodwin/downloads/goes_combined/combined_g16_avg1m.nc\n",
      "2025-07-08 21:54:17,131 - INFO - Loaded sci_xrsf-l2-avg1m_g18_d20230701_v2-2-0.nc\n",
      "2025-07-08 21:54:17,158 - INFO - Loaded sci_xrsf-l2-avg1m_g18_d20230702_v2-2-0.nc\n",
      "2025-07-08 21:54:17,184 - INFO - Loaded sci_xrsf-l2-avg1m_g18_d20230703_v2-2-0.nc\n",
      "2025-07-08 21:54:17,208 - INFO - Loaded sci_xrsf-l2-avg1m_g18_d20230704_v2-2-0.nc\n",
      "2025-07-08 21:54:17,231 - INFO - Loaded sci_xrsf-l2-avg1m_g18_d20230705_v2-2-0.nc\n",
      "2025-07-08 21:54:17,255 - INFO - Loaded sci_xrsf-l2-avg1m_g18_d20230706_v2-2-0.nc\n",
      "2025-07-08 21:54:17,280 - INFO - Loaded sci_xrsf-l2-avg1m_g18_d20230707_v2-2-0.nc\n",
      "2025-07-08 21:54:17,304 - INFO - Loaded sci_xrsf-l2-avg1m_g18_d20230708_v2-2-0.nc\n",
      "2025-07-08 21:54:17,329 - INFO - Loaded sci_xrsf-l2-avg1m_g18_d20230709_v2-2-0.nc\n",
      "2025-07-08 21:54:17,354 - INFO - Loaded sci_xrsf-l2-avg1m_g18_d20230710_v2-2-0.nc\n",
      "2025-07-08 21:54:17,381 - INFO - Loaded sci_xrsf-l2-avg1m_g18_d20230711_v2-2-0.nc\n",
      "2025-07-08 21:54:17,406 - INFO - Loaded sci_xrsf-l2-avg1m_g18_d20230712_v2-2-0.nc\n",
      "2025-07-08 21:54:17,430 - INFO - Loaded sci_xrsf-l2-avg1m_g18_d20230713_v2-2-0.nc\n",
      "2025-07-08 21:54:17,454 - INFO - Loaded sci_xrsf-l2-avg1m_g18_d20230714_v2-2-0.nc\n",
      "2025-07-08 21:54:17,478 - INFO - Loaded sci_xrsf-l2-avg1m_g18_d20230715_v2-2-0.nc\n",
      "2025-07-08 21:54:17,502 - INFO - Loaded sci_xrsf-l2-avg1m_g18_d20230716_v2-2-0.nc\n",
      "2025-07-08 21:54:17,526 - INFO - Loaded sci_xrsf-l2-avg1m_g18_d20230717_v2-2-0.nc\n",
      "2025-07-08 21:54:17,548 - INFO - Loaded sci_xrsf-l2-avg1m_g18_d20230718_v2-2-0.nc\n",
      "2025-07-08 21:54:17,571 - INFO - Loaded sci_xrsf-l2-avg1m_g18_d20230719_v2-2-0.nc\n",
      "2025-07-08 21:54:17,595 - INFO - Loaded sci_xrsf-l2-avg1m_g18_d20230720_v2-2-0.nc\n",
      "2025-07-08 21:54:17,620 - INFO - Loaded sci_xrsf-l2-avg1m_g18_d20230721_v2-2-0.nc\n",
      "2025-07-08 21:54:17,644 - INFO - Loaded sci_xrsf-l2-avg1m_g18_d20230722_v2-2-0.nc\n",
      "2025-07-08 21:54:17,669 - INFO - Loaded sci_xrsf-l2-avg1m_g18_d20230723_v2-2-0.nc\n",
      "2025-07-08 21:54:17,694 - INFO - Loaded sci_xrsf-l2-avg1m_g18_d20230724_v2-2-0.nc\n",
      "2025-07-08 21:54:17,718 - INFO - Loaded sci_xrsf-l2-avg1m_g18_d20230725_v2-2-0.nc\n",
      "2025-07-08 21:54:17,741 - INFO - Loaded sci_xrsf-l2-avg1m_g18_d20230726_v2-2-0.nc\n",
      "2025-07-08 21:54:17,764 - INFO - Loaded sci_xrsf-l2-avg1m_g18_d20230727_v2-2-0.nc\n",
      "2025-07-08 21:54:17,787 - INFO - Loaded sci_xrsf-l2-avg1m_g18_d20230728_v2-2-0.nc\n",
      "2025-07-08 21:54:17,811 - INFO - Loaded sci_xrsf-l2-avg1m_g18_d20230729_v2-2-0.nc\n",
      "2025-07-08 21:54:17,834 - INFO - Loaded sci_xrsf-l2-avg1m_g18_d20230730_v2-2-0.nc\n",
      "2025-07-08 21:54:17,858 - INFO - Loaded sci_xrsf-l2-avg1m_g18_d20230731_v2-2-0.nc\n",
      "2025-07-08 21:54:17,883 - INFO - Loaded sci_xrsf-l2-avg1m_g18_d20230801_v2-2-0.nc\n",
      "2025-07-08 21:54:17,909 - INFO - Loaded sci_xrsf-l2-avg1m_g18_d20230802_v2-2-0.nc\n",
      "2025-07-08 21:54:17,933 - INFO - Loaded sci_xrsf-l2-avg1m_g18_d20230803_v2-2-0.nc\n",
      "2025-07-08 21:54:17,960 - INFO - Loaded sci_xrsf-l2-avg1m_g18_d20230804_v2-2-0.nc\n",
      "2025-07-08 21:54:17,986 - INFO - Loaded sci_xrsf-l2-avg1m_g18_d20230805_v2-2-0.nc\n",
      "2025-07-08 21:54:18,012 - INFO - Loaded sci_xrsf-l2-avg1m_g18_d20230806_v2-2-0.nc\n",
      "2025-07-08 21:54:18,038 - INFO - Loaded sci_xrsf-l2-avg1m_g18_d20230807_v2-2-0.nc\n",
      "2025-07-08 21:54:18,065 - INFO - Loaded sci_xrsf-l2-avg1m_g18_d20230808_v2-2-0.nc\n",
      "2025-07-08 21:54:18,091 - INFO - Loaded sci_xrsf-l2-avg1m_g18_d20230809_v2-2-0.nc\n",
      "2025-07-08 21:54:18,118 - INFO - Loaded sci_xrsf-l2-avg1m_g18_d20230810_v2-2-0.nc\n",
      "2025-07-08 21:54:18,144 - INFO - Loaded sci_xrsf-l2-avg1m_g18_d20230811_v2-2-0.nc\n",
      "2025-07-08 21:54:18,170 - INFO - Loaded sci_xrsf-l2-avg1m_g18_d20230812_v2-2-0.nc\n",
      "2025-07-08 21:54:18,195 - INFO - Loaded sci_xrsf-l2-avg1m_g18_d20230813_v2-2-0.nc\n",
      "2025-07-08 21:54:18,220 - INFO - Loaded sci_xrsf-l2-avg1m_g18_d20230814_v2-2-0.nc\n",
      "2025-07-08 21:54:18,245 - INFO - Loaded sci_xrsf-l2-avg1m_g18_d20230815_v2-2-0.nc\n",
      "2025-07-08 21:54:28,739 - INFO - Saved combined file: /home/griffingoodwin/downloads/goes_combined/combined_g18_avg1m.nc\n",
      "2025-07-08 21:54:29,139 - INFO - Extracting metadata from 92 used files...\n",
      "2025-07-08 21:54:31,419 - INFO - Saved used source file metadata to /home/griffingoodwin/downloads/goes_combined/used_source_file_metadata.csv\n"
     ]
    },
    {
     "name": "stdout",
     "output_type": "stream",
     "text": [
      "\n",
      "Used source file metadata:\n",
      "                                file_name satellite                                                                   instrument data_level resolution                           source start_time end_time            Conventions L1b_production_site L1b_system_environment     algorithm algorithm_date algorithm_parameters algorithm_version       creator_email            creator_institution creator_name creator_type                creator_url             date_created                          git_commit_hash                    history                                        id                                                                    input_files_first                                                                     input_files_last  input_files_total input_system_environments     institution instrument_id                                 keywords                                                                                                                                           keywords_vocabulary                                                        license metadata_link naming_authority orbital_slot platform processing_level processing_level_description            processing_parameters_file                                                              program                                                                                                                                              project     publisher_email publisher_institution                                 publisher_name publisher_type              publisher_url                                         references                                                                                                                                                                                                                                                                                                                                   summary        time_coverage_end time_coverage_resolution      time_coverage_start                   title\n",
      "sci_xrsf-l2-avg1m_g16_d20230701_v2-2-0.nc   GOES-16 GOES R Series Extreme Ultraviolet Sensor and X-ray Irradiance Sensors (EXIS)         L2   1-minute GOES-R EXIS/XRS L2 xrsf-l2-flx1s    Unknown  Unknown ACDD-1.3, Spase v2.2.6        NCEI Boulder                    SCI cli-xrs04_avg     2021-03-19                 None            [2, 2] goesr.exis@noaa.gov DOC/NOAA/NESDIS/NCEI/OGSSD/STP Janet Machol       person https://www.ncei.noaa.gov/ 2023-07-19T20:58:23.886Z e255931a87f3b96db2357cc0c6a8287050bb3766 See algorithm information. sci_xrsf-l2-avg1m_g16_d20230701_v2-2-0.nc sci_mpsh-l2-avg1m_g16_d20230701_v2-0-1.nc, sci_xrsf-l2-flx1s_g16_d20230701_v2-2-0.nc sci_mpsh-l2-avg1m_g16_d20230701_v2-0-1.nc, sci_xrsf-l2-flx1s_g16_d20230701_v2-2-0.nc                  2                       sci DOC/NOAA/NESDIS           FM1 NumericalData.MeasurementType.Irradiance SPASE: Space Physics Archive Search and Extract Data Model version 2.2.6, GCMD: NASA Global Change Master Directory (GCMD) Earth Science Keywords version 8.5 These data may be redistributed and used without restriction.                 gov.nesdis.noaa    GOES-East      g16          Level 2             Derived products g16_xrs-avg-electron-contam-lut_v2.h5 Geostationary Operational Environmental Satellite, R-Series (GOES-R) Geostationary Operational Environmental Satellite R-Series (GOES-R) Core Ground Segment, Satellite Product Analysis and Distribution System (SPADES) goesr.exis@noaa.gov  DOC/NOAA/NESDIS/NCEI National Centers for Environmental Information    institution https://www.ncei.noaa.gov/ GOES-R XRS.04 Algorithm Theoretical Basis Document The EXIS X-Ray Sensor (XRS) measures in a short wavelength channel (XRS-A) between 0.05 and 0.4 nm and in a longer wavelength channel (XRS-B) between 0.1 and 0.8 nm. The X-ray flux average product consists of 1 minute averages of the 1-s X-ray solar measurements. Flux is provided with and without electron contamination removed. 2023-07-02T00:00:00.000Z                     PT1M 2023-07-01T00:00:00.000Z L2 XRS 1 minute average\n",
      "sci_xrsf-l2-avg1m_g16_d20230702_v2-2-0.nc   GOES-16 GOES R Series Extreme Ultraviolet Sensor and X-ray Irradiance Sensors (EXIS)         L2   1-minute GOES-R EXIS/XRS L2 xrsf-l2-flx1s    Unknown  Unknown ACDD-1.3, Spase v2.2.6        NCEI Boulder                    SCI cli-xrs04_avg     2021-03-19                 None            [2, 2] goesr.exis@noaa.gov DOC/NOAA/NESDIS/NCEI/OGSSD/STP Janet Machol       person https://www.ncei.noaa.gov/ 2023-07-19T20:58:36.944Z e255931a87f3b96db2357cc0c6a8287050bb3766 See algorithm information. sci_xrsf-l2-avg1m_g16_d20230702_v2-2-0.nc sci_mpsh-l2-avg1m_g16_d20230702_v2-0-1.nc, sci_xrsf-l2-flx1s_g16_d20230702_v2-2-0.nc sci_mpsh-l2-avg1m_g16_d20230702_v2-0-1.nc, sci_xrsf-l2-flx1s_g16_d20230702_v2-2-0.nc                  2                       sci DOC/NOAA/NESDIS           FM1 NumericalData.MeasurementType.Irradiance SPASE: Space Physics Archive Search and Extract Data Model version 2.2.6, GCMD: NASA Global Change Master Directory (GCMD) Earth Science Keywords version 8.5 These data may be redistributed and used without restriction.                 gov.nesdis.noaa    GOES-East      g16          Level 2             Derived products g16_xrs-avg-electron-contam-lut_v2.h5 Geostationary Operational Environmental Satellite, R-Series (GOES-R) Geostationary Operational Environmental Satellite R-Series (GOES-R) Core Ground Segment, Satellite Product Analysis and Distribution System (SPADES) goesr.exis@noaa.gov  DOC/NOAA/NESDIS/NCEI National Centers for Environmental Information    institution https://www.ncei.noaa.gov/ GOES-R XRS.04 Algorithm Theoretical Basis Document The EXIS X-Ray Sensor (XRS) measures in a short wavelength channel (XRS-A) between 0.05 and 0.4 nm and in a longer wavelength channel (XRS-B) between 0.1 and 0.8 nm. The X-ray flux average product consists of 1 minute averages of the 1-s X-ray solar measurements. Flux is provided with and without electron contamination removed. 2023-07-03T00:00:00.000Z                     PT1M 2023-07-02T00:00:00.000Z L2 XRS 1 minute average\n",
      "sci_xrsf-l2-avg1m_g16_d20230703_v2-2-0.nc   GOES-16 GOES R Series Extreme Ultraviolet Sensor and X-ray Irradiance Sensors (EXIS)         L2   1-minute GOES-R EXIS/XRS L2 xrsf-l2-flx1s    Unknown  Unknown ACDD-1.3, Spase v2.2.6        NCEI Boulder                    SCI cli-xrs04_avg     2021-03-19                 None            [2, 2] goesr.exis@noaa.gov DOC/NOAA/NESDIS/NCEI/OGSSD/STP Janet Machol       person https://www.ncei.noaa.gov/ 2023-07-19T20:58:37.850Z e255931a87f3b96db2357cc0c6a8287050bb3766 See algorithm information. sci_xrsf-l2-avg1m_g16_d20230703_v2-2-0.nc sci_mpsh-l2-avg1m_g16_d20230703_v2-0-1.nc, sci_xrsf-l2-flx1s_g16_d20230703_v2-2-0.nc sci_mpsh-l2-avg1m_g16_d20230703_v2-0-1.nc, sci_xrsf-l2-flx1s_g16_d20230703_v2-2-0.nc                  2                       sci DOC/NOAA/NESDIS           FM1 NumericalData.MeasurementType.Irradiance SPASE: Space Physics Archive Search and Extract Data Model version 2.2.6, GCMD: NASA Global Change Master Directory (GCMD) Earth Science Keywords version 8.5 These data may be redistributed and used without restriction.                 gov.nesdis.noaa    GOES-East      g16          Level 2             Derived products g16_xrs-avg-electron-contam-lut_v2.h5 Geostationary Operational Environmental Satellite, R-Series (GOES-R) Geostationary Operational Environmental Satellite R-Series (GOES-R) Core Ground Segment, Satellite Product Analysis and Distribution System (SPADES) goesr.exis@noaa.gov  DOC/NOAA/NESDIS/NCEI National Centers for Environmental Information    institution https://www.ncei.noaa.gov/ GOES-R XRS.04 Algorithm Theoretical Basis Document The EXIS X-Ray Sensor (XRS) measures in a short wavelength channel (XRS-A) between 0.05 and 0.4 nm and in a longer wavelength channel (XRS-B) between 0.1 and 0.8 nm. The X-ray flux average product consists of 1 minute averages of the 1-s X-ray solar measurements. Flux is provided with and without electron contamination removed. 2023-07-04T00:00:00.000Z                     PT1M 2023-07-03T00:00:00.000Z L2 XRS 1 minute average\n",
      "sci_xrsf-l2-avg1m_g16_d20230704_v2-2-0.nc   GOES-16 GOES R Series Extreme Ultraviolet Sensor and X-ray Irradiance Sensors (EXIS)         L2   1-minute GOES-R EXIS/XRS L2 xrsf-l2-flx1s    Unknown  Unknown ACDD-1.3, Spase v2.2.6        NCEI Boulder                    SCI cli-xrs04_avg     2021-03-19                 None            [2, 2] goesr.exis@noaa.gov DOC/NOAA/NESDIS/NCEI/OGSSD/STP Janet Machol       person https://www.ncei.noaa.gov/ 2023-07-19T20:58:39.855Z e255931a87f3b96db2357cc0c6a8287050bb3766 See algorithm information. sci_xrsf-l2-avg1m_g16_d20230704_v2-2-0.nc sci_mpsh-l2-avg1m_g16_d20230704_v2-0-1.nc, sci_xrsf-l2-flx1s_g16_d20230704_v2-2-0.nc sci_mpsh-l2-avg1m_g16_d20230704_v2-0-1.nc, sci_xrsf-l2-flx1s_g16_d20230704_v2-2-0.nc                  2                       sci DOC/NOAA/NESDIS           FM1 NumericalData.MeasurementType.Irradiance SPASE: Space Physics Archive Search and Extract Data Model version 2.2.6, GCMD: NASA Global Change Master Directory (GCMD) Earth Science Keywords version 8.5 These data may be redistributed and used without restriction.                 gov.nesdis.noaa    GOES-East      g16          Level 2             Derived products g16_xrs-avg-electron-contam-lut_v2.h5 Geostationary Operational Environmental Satellite, R-Series (GOES-R) Geostationary Operational Environmental Satellite R-Series (GOES-R) Core Ground Segment, Satellite Product Analysis and Distribution System (SPADES) goesr.exis@noaa.gov  DOC/NOAA/NESDIS/NCEI National Centers for Environmental Information    institution https://www.ncei.noaa.gov/ GOES-R XRS.04 Algorithm Theoretical Basis Document The EXIS X-Ray Sensor (XRS) measures in a short wavelength channel (XRS-A) between 0.05 and 0.4 nm and in a longer wavelength channel (XRS-B) between 0.1 and 0.8 nm. The X-ray flux average product consists of 1 minute averages of the 1-s X-ray solar measurements. Flux is provided with and without electron contamination removed. 2023-07-05T00:00:00.000Z                     PT1M 2023-07-04T00:00:00.000Z L2 XRS 1 minute average\n",
      "sci_xrsf-l2-avg1m_g16_d20230705_v2-2-0.nc   GOES-16 GOES R Series Extreme Ultraviolet Sensor and X-ray Irradiance Sensors (EXIS)         L2   1-minute GOES-R EXIS/XRS L2 xrsf-l2-flx1s    Unknown  Unknown ACDD-1.3, Spase v2.2.6        NCEI Boulder                    SCI cli-xrs04_avg     2021-03-19                 None            [2, 2] goesr.exis@noaa.gov DOC/NOAA/NESDIS/NCEI/OGSSD/STP Janet Machol       person https://www.ncei.noaa.gov/ 2023-07-19T20:58:39.855Z e255931a87f3b96db2357cc0c6a8287050bb3766 See algorithm information. sci_xrsf-l2-avg1m_g16_d20230705_v2-2-0.nc sci_mpsh-l2-avg1m_g16_d20230705_v2-0-1.nc, sci_xrsf-l2-flx1s_g16_d20230705_v2-2-0.nc sci_mpsh-l2-avg1m_g16_d20230705_v2-0-1.nc, sci_xrsf-l2-flx1s_g16_d20230705_v2-2-0.nc                  2                       sci DOC/NOAA/NESDIS           FM1 NumericalData.MeasurementType.Irradiance SPASE: Space Physics Archive Search and Extract Data Model version 2.2.6, GCMD: NASA Global Change Master Directory (GCMD) Earth Science Keywords version 8.5 These data may be redistributed and used without restriction.                 gov.nesdis.noaa    GOES-East      g16          Level 2             Derived products g16_xrs-avg-electron-contam-lut_v2.h5 Geostationary Operational Environmental Satellite, R-Series (GOES-R) Geostationary Operational Environmental Satellite R-Series (GOES-R) Core Ground Segment, Satellite Product Analysis and Distribution System (SPADES) goesr.exis@noaa.gov  DOC/NOAA/NESDIS/NCEI National Centers for Environmental Information    institution https://www.ncei.noaa.gov/ GOES-R XRS.04 Algorithm Theoretical Basis Document The EXIS X-Ray Sensor (XRS) measures in a short wavelength channel (XRS-A) between 0.05 and 0.4 nm and in a longer wavelength channel (XRS-B) between 0.1 and 0.8 nm. The X-ray flux average product consists of 1 minute averages of the 1-s X-ray solar measurements. Flux is provided with and without electron contamination removed. 2023-07-06T00:00:00.000Z                     PT1M 2023-07-05T00:00:00.000Z L2 XRS 1 minute average\n",
      "sci_xrsf-l2-avg1m_g16_d20230706_v2-2-0.nc   GOES-16 GOES R Series Extreme Ultraviolet Sensor and X-ray Irradiance Sensors (EXIS)         L2   1-minute GOES-R EXIS/XRS L2 xrsf-l2-flx1s    Unknown  Unknown ACDD-1.3, Spase v2.2.6        NCEI Boulder                    SCI cli-xrs04_avg     2021-03-19                 None            [2, 2] goesr.exis@noaa.gov DOC/NOAA/NESDIS/NCEI/OGSSD/STP Janet Machol       person https://www.ncei.noaa.gov/ 2023-07-19T20:58:52.442Z e255931a87f3b96db2357cc0c6a8287050bb3766 See algorithm information. sci_xrsf-l2-avg1m_g16_d20230706_v2-2-0.nc sci_mpsh-l2-avg1m_g16_d20230706_v2-0-1.nc, sci_xrsf-l2-flx1s_g16_d20230706_v2-2-0.nc sci_mpsh-l2-avg1m_g16_d20230706_v2-0-1.nc, sci_xrsf-l2-flx1s_g16_d20230706_v2-2-0.nc                  2                       sci DOC/NOAA/NESDIS           FM1 NumericalData.MeasurementType.Irradiance SPASE: Space Physics Archive Search and Extract Data Model version 2.2.6, GCMD: NASA Global Change Master Directory (GCMD) Earth Science Keywords version 8.5 These data may be redistributed and used without restriction.                 gov.nesdis.noaa    GOES-East      g16          Level 2             Derived products g16_xrs-avg-electron-contam-lut_v2.h5 Geostationary Operational Environmental Satellite, R-Series (GOES-R) Geostationary Operational Environmental Satellite R-Series (GOES-R) Core Ground Segment, Satellite Product Analysis and Distribution System (SPADES) goesr.exis@noaa.gov  DOC/NOAA/NESDIS/NCEI National Centers for Environmental Information    institution https://www.ncei.noaa.gov/ GOES-R XRS.04 Algorithm Theoretical Basis Document The EXIS X-Ray Sensor (XRS) measures in a short wavelength channel (XRS-A) between 0.05 and 0.4 nm and in a longer wavelength channel (XRS-B) between 0.1 and 0.8 nm. The X-ray flux average product consists of 1 minute averages of the 1-s X-ray solar measurements. Flux is provided with and without electron contamination removed. 2023-07-07T00:00:00.000Z                     PT1M 2023-07-06T00:00:00.000Z L2 XRS 1 minute average\n",
      "sci_xrsf-l2-avg1m_g16_d20230707_v2-2-0.nc   GOES-16 GOES R Series Extreme Ultraviolet Sensor and X-ray Irradiance Sensors (EXIS)         L2   1-minute GOES-R EXIS/XRS L2 xrsf-l2-flx1s    Unknown  Unknown ACDD-1.3, Spase v2.2.6        NCEI Boulder                    SCI cli-xrs04_avg     2021-03-19                 None            [2, 2] goesr.exis@noaa.gov DOC/NOAA/NESDIS/NCEI/OGSSD/STP Janet Machol       person https://www.ncei.noaa.gov/ 2023-07-19T20:58:52.781Z e255931a87f3b96db2357cc0c6a8287050bb3766 See algorithm information. sci_xrsf-l2-avg1m_g16_d20230707_v2-2-0.nc sci_mpsh-l2-avg1m_g16_d20230707_v2-0-1.nc, sci_xrsf-l2-flx1s_g16_d20230707_v2-2-0.nc sci_mpsh-l2-avg1m_g16_d20230707_v2-0-1.nc, sci_xrsf-l2-flx1s_g16_d20230707_v2-2-0.nc                  2                       sci DOC/NOAA/NESDIS           FM1 NumericalData.MeasurementType.Irradiance SPASE: Space Physics Archive Search and Extract Data Model version 2.2.6, GCMD: NASA Global Change Master Directory (GCMD) Earth Science Keywords version 8.5 These data may be redistributed and used without restriction.                 gov.nesdis.noaa    GOES-East      g16          Level 2             Derived products g16_xrs-avg-electron-contam-lut_v2.h5 Geostationary Operational Environmental Satellite, R-Series (GOES-R) Geostationary Operational Environmental Satellite R-Series (GOES-R) Core Ground Segment, Satellite Product Analysis and Distribution System (SPADES) goesr.exis@noaa.gov  DOC/NOAA/NESDIS/NCEI National Centers for Environmental Information    institution https://www.ncei.noaa.gov/ GOES-R XRS.04 Algorithm Theoretical Basis Document The EXIS X-Ray Sensor (XRS) measures in a short wavelength channel (XRS-A) between 0.05 and 0.4 nm and in a longer wavelength channel (XRS-B) between 0.1 and 0.8 nm. The X-ray flux average product consists of 1 minute averages of the 1-s X-ray solar measurements. Flux is provided with and without electron contamination removed. 2023-07-08T00:00:00.000Z                     PT1M 2023-07-07T00:00:00.000Z L2 XRS 1 minute average\n",
      "sci_xrsf-l2-avg1m_g16_d20230708_v2-2-0.nc   GOES-16 GOES R Series Extreme Ultraviolet Sensor and X-ray Irradiance Sensors (EXIS)         L2   1-minute GOES-R EXIS/XRS L2 xrsf-l2-flx1s    Unknown  Unknown ACDD-1.3, Spase v2.2.6        NCEI Boulder                    SCI cli-xrs04_avg     2021-03-19                 None            [2, 2] goesr.exis@noaa.gov DOC/NOAA/NESDIS/NCEI/OGSSD/STP Janet Machol       person https://www.ncei.noaa.gov/ 2023-07-19T20:58:55.645Z e255931a87f3b96db2357cc0c6a8287050bb3766 See algorithm information. sci_xrsf-l2-avg1m_g16_d20230708_v2-2-0.nc sci_mpsh-l2-avg1m_g16_d20230708_v2-0-1.nc, sci_xrsf-l2-flx1s_g16_d20230708_v2-2-0.nc sci_mpsh-l2-avg1m_g16_d20230708_v2-0-1.nc, sci_xrsf-l2-flx1s_g16_d20230708_v2-2-0.nc                  2                       sci DOC/NOAA/NESDIS           FM1 NumericalData.MeasurementType.Irradiance SPASE: Space Physics Archive Search and Extract Data Model version 2.2.6, GCMD: NASA Global Change Master Directory (GCMD) Earth Science Keywords version 8.5 These data may be redistributed and used without restriction.                 gov.nesdis.noaa    GOES-East      g16          Level 2             Derived products g16_xrs-avg-electron-contam-lut_v2.h5 Geostationary Operational Environmental Satellite, R-Series (GOES-R) Geostationary Operational Environmental Satellite R-Series (GOES-R) Core Ground Segment, Satellite Product Analysis and Distribution System (SPADES) goesr.exis@noaa.gov  DOC/NOAA/NESDIS/NCEI National Centers for Environmental Information    institution https://www.ncei.noaa.gov/ GOES-R XRS.04 Algorithm Theoretical Basis Document The EXIS X-Ray Sensor (XRS) measures in a short wavelength channel (XRS-A) between 0.05 and 0.4 nm and in a longer wavelength channel (XRS-B) between 0.1 and 0.8 nm. The X-ray flux average product consists of 1 minute averages of the 1-s X-ray solar measurements. Flux is provided with and without electron contamination removed. 2023-07-09T00:00:00.000Z                     PT1M 2023-07-08T00:00:00.000Z L2 XRS 1 minute average\n",
      "sci_xrsf-l2-avg1m_g16_d20230709_v2-2-0.nc   GOES-16 GOES R Series Extreme Ultraviolet Sensor and X-ray Irradiance Sensors (EXIS)         L2   1-minute GOES-R EXIS/XRS L2 xrsf-l2-flx1s    Unknown  Unknown ACDD-1.3, Spase v2.2.6        NCEI Boulder                    SCI cli-xrs04_avg     2021-03-19                 None            [2, 2] goesr.exis@noaa.gov DOC/NOAA/NESDIS/NCEI/OGSSD/STP Janet Machol       person https://www.ncei.noaa.gov/ 2023-07-19T20:58:56.348Z e255931a87f3b96db2357cc0c6a8287050bb3766 See algorithm information. sci_xrsf-l2-avg1m_g16_d20230709_v2-2-0.nc sci_mpsh-l2-avg1m_g16_d20230709_v2-0-1.nc, sci_xrsf-l2-flx1s_g16_d20230709_v2-2-0.nc sci_mpsh-l2-avg1m_g16_d20230709_v2-0-1.nc, sci_xrsf-l2-flx1s_g16_d20230709_v2-2-0.nc                  2                       sci DOC/NOAA/NESDIS           FM1 NumericalData.MeasurementType.Irradiance SPASE: Space Physics Archive Search and Extract Data Model version 2.2.6, GCMD: NASA Global Change Master Directory (GCMD) Earth Science Keywords version 8.5 These data may be redistributed and used without restriction.                 gov.nesdis.noaa    GOES-East      g16          Level 2             Derived products g16_xrs-avg-electron-contam-lut_v2.h5 Geostationary Operational Environmental Satellite, R-Series (GOES-R) Geostationary Operational Environmental Satellite R-Series (GOES-R) Core Ground Segment, Satellite Product Analysis and Distribution System (SPADES) goesr.exis@noaa.gov  DOC/NOAA/NESDIS/NCEI National Centers for Environmental Information    institution https://www.ncei.noaa.gov/ GOES-R XRS.04 Algorithm Theoretical Basis Document The EXIS X-Ray Sensor (XRS) measures in a short wavelength channel (XRS-A) between 0.05 and 0.4 nm and in a longer wavelength channel (XRS-B) between 0.1 and 0.8 nm. The X-ray flux average product consists of 1 minute averages of the 1-s X-ray solar measurements. Flux is provided with and without electron contamination removed. 2023-07-10T00:00:00.000Z                     PT1M 2023-07-09T00:00:00.000Z L2 XRS 1 minute average\n",
      "sci_xrsf-l2-avg1m_g16_d20230710_v2-2-0.nc   GOES-16 GOES R Series Extreme Ultraviolet Sensor and X-ray Irradiance Sensors (EXIS)         L2   1-minute GOES-R EXIS/XRS L2 xrsf-l2-flx1s    Unknown  Unknown ACDD-1.3, Spase v2.2.6        NCEI Boulder                    SCI cli-xrs04_avg     2021-03-19                 None            [2, 2] goesr.exis@noaa.gov DOC/NOAA/NESDIS/NCEI/OGSSD/STP Janet Machol       person https://www.ncei.noaa.gov/ 2023-07-19T20:59:06.906Z e255931a87f3b96db2357cc0c6a8287050bb3766 See algorithm information. sci_xrsf-l2-avg1m_g16_d20230710_v2-2-0.nc sci_mpsh-l2-avg1m_g16_d20230710_v2-0-1.nc, sci_xrsf-l2-flx1s_g16_d20230710_v2-2-0.nc sci_mpsh-l2-avg1m_g16_d20230710_v2-0-1.nc, sci_xrsf-l2-flx1s_g16_d20230710_v2-2-0.nc                  2                       sci DOC/NOAA/NESDIS           FM1 NumericalData.MeasurementType.Irradiance SPASE: Space Physics Archive Search and Extract Data Model version 2.2.6, GCMD: NASA Global Change Master Directory (GCMD) Earth Science Keywords version 8.5 These data may be redistributed and used without restriction.                 gov.nesdis.noaa    GOES-East      g16          Level 2             Derived products g16_xrs-avg-electron-contam-lut_v2.h5 Geostationary Operational Environmental Satellite, R-Series (GOES-R) Geostationary Operational Environmental Satellite R-Series (GOES-R) Core Ground Segment, Satellite Product Analysis and Distribution System (SPADES) goesr.exis@noaa.gov  DOC/NOAA/NESDIS/NCEI National Centers for Environmental Information    institution https://www.ncei.noaa.gov/ GOES-R XRS.04 Algorithm Theoretical Basis Document The EXIS X-Ray Sensor (XRS) measures in a short wavelength channel (XRS-A) between 0.05 and 0.4 nm and in a longer wavelength channel (XRS-B) between 0.1 and 0.8 nm. The X-ray flux average product consists of 1 minute averages of the 1-s X-ray solar measurements. Flux is provided with and without electron contamination removed. 2023-07-11T00:00:00.000Z                     PT1M 2023-07-10T00:00:00.000Z L2 XRS 1 minute average\n",
      "sci_xrsf-l2-avg1m_g16_d20230711_v2-2-0.nc   GOES-16 GOES R Series Extreme Ultraviolet Sensor and X-ray Irradiance Sensors (EXIS)         L2   1-minute GOES-R EXIS/XRS L2 xrsf-l2-flx1s    Unknown  Unknown ACDD-1.3, Spase v2.2.6        NCEI Boulder                    SCI cli-xrs04_avg     2021-03-19                 None            [2, 2] goesr.exis@noaa.gov DOC/NOAA/NESDIS/NCEI/OGSSD/STP Janet Machol       person https://www.ncei.noaa.gov/ 2023-07-19T20:59:07.592Z e255931a87f3b96db2357cc0c6a8287050bb3766 See algorithm information. sci_xrsf-l2-avg1m_g16_d20230711_v2-2-0.nc sci_mpsh-l2-avg1m_g16_d20230711_v2-0-1.nc, sci_xrsf-l2-flx1s_g16_d20230711_v2-2-0.nc sci_mpsh-l2-avg1m_g16_d20230711_v2-0-1.nc, sci_xrsf-l2-flx1s_g16_d20230711_v2-2-0.nc                  2                       sci DOC/NOAA/NESDIS           FM1 NumericalData.MeasurementType.Irradiance SPASE: Space Physics Archive Search and Extract Data Model version 2.2.6, GCMD: NASA Global Change Master Directory (GCMD) Earth Science Keywords version 8.5 These data may be redistributed and used without restriction.                 gov.nesdis.noaa    GOES-East      g16          Level 2             Derived products g16_xrs-avg-electron-contam-lut_v2.h5 Geostationary Operational Environmental Satellite, R-Series (GOES-R) Geostationary Operational Environmental Satellite R-Series (GOES-R) Core Ground Segment, Satellite Product Analysis and Distribution System (SPADES) goesr.exis@noaa.gov  DOC/NOAA/NESDIS/NCEI National Centers for Environmental Information    institution https://www.ncei.noaa.gov/ GOES-R XRS.04 Algorithm Theoretical Basis Document The EXIS X-Ray Sensor (XRS) measures in a short wavelength channel (XRS-A) between 0.05 and 0.4 nm and in a longer wavelength channel (XRS-B) between 0.1 and 0.8 nm. The X-ray flux average product consists of 1 minute averages of the 1-s X-ray solar measurements. Flux is provided with and without electron contamination removed. 2023-07-12T00:00:00.000Z                     PT1M 2023-07-11T00:00:00.000Z L2 XRS 1 minute average\n",
      "sci_xrsf-l2-avg1m_g16_d20230712_v2-2-0.nc   GOES-16 GOES R Series Extreme Ultraviolet Sensor and X-ray Irradiance Sensors (EXIS)         L2   1-minute GOES-R EXIS/XRS L2 xrsf-l2-flx1s    Unknown  Unknown ACDD-1.3, Spase v2.2.6        NCEI Boulder                    SCI cli-xrs04_avg     2021-03-19                 None            [2, 2] goesr.exis@noaa.gov DOC/NOAA/NESDIS/NCEI/OGSSD/STP Janet Machol       person https://www.ncei.noaa.gov/ 2023-07-19T05:30:41.590Z e255931a87f3b96db2357cc0c6a8287050bb3766 See algorithm information. sci_xrsf-l2-avg1m_g16_d20230712_v2-2-0.nc sci_mpsh-l2-avg1m_g16_d20230712_v2-0-1.nc, sci_xrsf-l2-flx1s_g16_d20230712_v2-2-0.nc sci_mpsh-l2-avg1m_g16_d20230712_v2-0-1.nc, sci_xrsf-l2-flx1s_g16_d20230712_v2-2-0.nc                  2                       sci DOC/NOAA/NESDIS           FM1 NumericalData.MeasurementType.Irradiance SPASE: Space Physics Archive Search and Extract Data Model version 2.2.6, GCMD: NASA Global Change Master Directory (GCMD) Earth Science Keywords version 8.5 These data may be redistributed and used without restriction.                 gov.nesdis.noaa    GOES-East      g16          Level 2             Derived products g16_xrs-avg-electron-contam-lut_v2.h5 Geostationary Operational Environmental Satellite, R-Series (GOES-R) Geostationary Operational Environmental Satellite R-Series (GOES-R) Core Ground Segment, Satellite Product Analysis and Distribution System (SPADES) goesr.exis@noaa.gov  DOC/NOAA/NESDIS/NCEI National Centers for Environmental Information    institution https://www.ncei.noaa.gov/ GOES-R XRS.04 Algorithm Theoretical Basis Document The EXIS X-Ray Sensor (XRS) measures in a short wavelength channel (XRS-A) between 0.05 and 0.4 nm and in a longer wavelength channel (XRS-B) between 0.1 and 0.8 nm. The X-ray flux average product consists of 1 minute averages of the 1-s X-ray solar measurements. Flux is provided with and without electron contamination removed. 2023-07-13T00:00:00.000Z                     PT1M 2023-07-12T00:00:00.000Z L2 XRS 1 minute average\n",
      "sci_xrsf-l2-avg1m_g16_d20230713_v2-2-0.nc   GOES-16 GOES R Series Extreme Ultraviolet Sensor and X-ray Irradiance Sensors (EXIS)         L2   1-minute GOES-R EXIS/XRS L2 xrsf-l2-flx1s    Unknown  Unknown ACDD-1.3, Spase v2.2.6        NCEI Boulder                    SCI cli-xrs04_avg     2021-03-19                 None            [2, 2] goesr.exis@noaa.gov DOC/NOAA/NESDIS/NCEI/OGSSD/STP Janet Machol       person https://www.ncei.noaa.gov/ 2023-07-20T06:37:25.277Z e255931a87f3b96db2357cc0c6a8287050bb3766 See algorithm information. sci_xrsf-l2-avg1m_g16_d20230713_v2-2-0.nc sci_mpsh-l2-avg1m_g16_d20230713_v2-0-1.nc, sci_xrsf-l2-flx1s_g16_d20230713_v2-2-0.nc sci_mpsh-l2-avg1m_g16_d20230713_v2-0-1.nc, sci_xrsf-l2-flx1s_g16_d20230713_v2-2-0.nc                  2                       sci DOC/NOAA/NESDIS           FM1 NumericalData.MeasurementType.Irradiance SPASE: Space Physics Archive Search and Extract Data Model version 2.2.6, GCMD: NASA Global Change Master Directory (GCMD) Earth Science Keywords version 8.5 These data may be redistributed and used without restriction.                 gov.nesdis.noaa    GOES-East      g16          Level 2             Derived products g16_xrs-avg-electron-contam-lut_v2.h5 Geostationary Operational Environmental Satellite, R-Series (GOES-R) Geostationary Operational Environmental Satellite R-Series (GOES-R) Core Ground Segment, Satellite Product Analysis and Distribution System (SPADES) goesr.exis@noaa.gov  DOC/NOAA/NESDIS/NCEI National Centers for Environmental Information    institution https://www.ncei.noaa.gov/ GOES-R XRS.04 Algorithm Theoretical Basis Document The EXIS X-Ray Sensor (XRS) measures in a short wavelength channel (XRS-A) between 0.05 and 0.4 nm and in a longer wavelength channel (XRS-B) between 0.1 and 0.8 nm. The X-ray flux average product consists of 1 minute averages of the 1-s X-ray solar measurements. Flux is provided with and without electron contamination removed. 2023-07-14T00:00:00.000Z                     PT1M 2023-07-13T00:00:00.000Z L2 XRS 1 minute average\n",
      "sci_xrsf-l2-avg1m_g16_d20230714_v2-2-0.nc   GOES-16 GOES R Series Extreme Ultraviolet Sensor and X-ray Irradiance Sensors (EXIS)         L2   1-minute GOES-R EXIS/XRS L2 xrsf-l2-flx1s    Unknown  Unknown ACDD-1.3, Spase v2.2.6        NCEI Boulder                    SCI cli-xrs04_avg     2021-03-19                 None            [2, 2] goesr.exis@noaa.gov DOC/NOAA/NESDIS/NCEI/OGSSD/STP Janet Machol       person https://www.ncei.noaa.gov/ 2023-07-21T06:18:09.690Z e255931a87f3b96db2357cc0c6a8287050bb3766 See algorithm information. sci_xrsf-l2-avg1m_g16_d20230714_v2-2-0.nc sci_mpsh-l2-avg1m_g16_d20230714_v2-0-1.nc, sci_xrsf-l2-flx1s_g16_d20230714_v2-2-0.nc sci_mpsh-l2-avg1m_g16_d20230714_v2-0-1.nc, sci_xrsf-l2-flx1s_g16_d20230714_v2-2-0.nc                  2                       sci DOC/NOAA/NESDIS           FM1 NumericalData.MeasurementType.Irradiance SPASE: Space Physics Archive Search and Extract Data Model version 2.2.6, GCMD: NASA Global Change Master Directory (GCMD) Earth Science Keywords version 8.5 These data may be redistributed and used without restriction.                 gov.nesdis.noaa    GOES-East      g16          Level 2             Derived products g16_xrs-avg-electron-contam-lut_v2.h5 Geostationary Operational Environmental Satellite, R-Series (GOES-R) Geostationary Operational Environmental Satellite R-Series (GOES-R) Core Ground Segment, Satellite Product Analysis and Distribution System (SPADES) goesr.exis@noaa.gov  DOC/NOAA/NESDIS/NCEI National Centers for Environmental Information    institution https://www.ncei.noaa.gov/ GOES-R XRS.04 Algorithm Theoretical Basis Document The EXIS X-Ray Sensor (XRS) measures in a short wavelength channel (XRS-A) between 0.05 and 0.4 nm and in a longer wavelength channel (XRS-B) between 0.1 and 0.8 nm. The X-ray flux average product consists of 1 minute averages of the 1-s X-ray solar measurements. Flux is provided with and without electron contamination removed. 2023-07-15T00:00:00.000Z                     PT1M 2023-07-14T00:00:00.000Z L2 XRS 1 minute average\n",
      "sci_xrsf-l2-avg1m_g16_d20230715_v2-2-0.nc   GOES-16 GOES R Series Extreme Ultraviolet Sensor and X-ray Irradiance Sensors (EXIS)         L2   1-minute GOES-R EXIS/XRS L2 xrsf-l2-flx1s    Unknown  Unknown ACDD-1.3, Spase v2.2.6        NCEI Boulder                    SCI cli-xrs04_avg     2021-03-19                 None            [2, 2] goesr.exis@noaa.gov DOC/NOAA/NESDIS/NCEI/OGSSD/STP Janet Machol       person https://www.ncei.noaa.gov/ 2023-07-22T07:06:25.246Z e255931a87f3b96db2357cc0c6a8287050bb3766 See algorithm information. sci_xrsf-l2-avg1m_g16_d20230715_v2-2-0.nc sci_mpsh-l2-avg1m_g16_d20230715_v2-0-1.nc, sci_xrsf-l2-flx1s_g16_d20230715_v2-2-0.nc sci_mpsh-l2-avg1m_g16_d20230715_v2-0-1.nc, sci_xrsf-l2-flx1s_g16_d20230715_v2-2-0.nc                  2                       sci DOC/NOAA/NESDIS           FM1 NumericalData.MeasurementType.Irradiance SPASE: Space Physics Archive Search and Extract Data Model version 2.2.6, GCMD: NASA Global Change Master Directory (GCMD) Earth Science Keywords version 8.5 These data may be redistributed and used without restriction.                 gov.nesdis.noaa    GOES-East      g16          Level 2             Derived products g16_xrs-avg-electron-contam-lut_v2.h5 Geostationary Operational Environmental Satellite, R-Series (GOES-R) Geostationary Operational Environmental Satellite R-Series (GOES-R) Core Ground Segment, Satellite Product Analysis and Distribution System (SPADES) goesr.exis@noaa.gov  DOC/NOAA/NESDIS/NCEI National Centers for Environmental Information    institution https://www.ncei.noaa.gov/ GOES-R XRS.04 Algorithm Theoretical Basis Document The EXIS X-Ray Sensor (XRS) measures in a short wavelength channel (XRS-A) between 0.05 and 0.4 nm and in a longer wavelength channel (XRS-B) between 0.1 and 0.8 nm. The X-ray flux average product consists of 1 minute averages of the 1-s X-ray solar measurements. Flux is provided with and without electron contamination removed. 2023-07-16T00:00:00.000Z                     PT1M 2023-07-15T00:00:00.000Z L2 XRS 1 minute average\n",
      "sci_xrsf-l2-avg1m_g16_d20230716_v2-2-0.nc   GOES-16 GOES R Series Extreme Ultraviolet Sensor and X-ray Irradiance Sensors (EXIS)         L2   1-minute GOES-R EXIS/XRS L2 xrsf-l2-flx1s    Unknown  Unknown ACDD-1.3, Spase v2.2.6        NCEI Boulder                    SCI cli-xrs04_avg     2021-03-19                 None            [2, 2] goesr.exis@noaa.gov DOC/NOAA/NESDIS/NCEI/OGSSD/STP Janet Machol       person https://www.ncei.noaa.gov/ 2023-07-23T05:59:07.358Z e255931a87f3b96db2357cc0c6a8287050bb3766 See algorithm information. sci_xrsf-l2-avg1m_g16_d20230716_v2-2-0.nc sci_mpsh-l2-avg1m_g16_d20230716_v2-0-1.nc, sci_xrsf-l2-flx1s_g16_d20230716_v2-2-0.nc sci_mpsh-l2-avg1m_g16_d20230716_v2-0-1.nc, sci_xrsf-l2-flx1s_g16_d20230716_v2-2-0.nc                  2                       sci DOC/NOAA/NESDIS           FM1 NumericalData.MeasurementType.Irradiance SPASE: Space Physics Archive Search and Extract Data Model version 2.2.6, GCMD: NASA Global Change Master Directory (GCMD) Earth Science Keywords version 8.5 These data may be redistributed and used without restriction.                 gov.nesdis.noaa    GOES-East      g16          Level 2             Derived products g16_xrs-avg-electron-contam-lut_v2.h5 Geostationary Operational Environmental Satellite, R-Series (GOES-R) Geostationary Operational Environmental Satellite R-Series (GOES-R) Core Ground Segment, Satellite Product Analysis and Distribution System (SPADES) goesr.exis@noaa.gov  DOC/NOAA/NESDIS/NCEI National Centers for Environmental Information    institution https://www.ncei.noaa.gov/ GOES-R XRS.04 Algorithm Theoretical Basis Document The EXIS X-Ray Sensor (XRS) measures in a short wavelength channel (XRS-A) between 0.05 and 0.4 nm and in a longer wavelength channel (XRS-B) between 0.1 and 0.8 nm. The X-ray flux average product consists of 1 minute averages of the 1-s X-ray solar measurements. Flux is provided with and without electron contamination removed. 2023-07-17T00:00:00.000Z                     PT1M 2023-07-16T00:00:00.000Z L2 XRS 1 minute average\n",
      "sci_xrsf-l2-avg1m_g16_d20230717_v2-2-0.nc   GOES-16 GOES R Series Extreme Ultraviolet Sensor and X-ray Irradiance Sensors (EXIS)         L2   1-minute GOES-R EXIS/XRS L2 xrsf-l2-flx1s    Unknown  Unknown ACDD-1.3, Spase v2.2.6        NCEI Boulder                    SCI cli-xrs04_avg     2021-03-19                 None            [2, 2] goesr.exis@noaa.gov DOC/NOAA/NESDIS/NCEI/OGSSD/STP Janet Machol       person https://www.ncei.noaa.gov/ 2023-07-24T05:40:44.805Z e255931a87f3b96db2357cc0c6a8287050bb3766 See algorithm information. sci_xrsf-l2-avg1m_g16_d20230717_v2-2-0.nc sci_mpsh-l2-avg1m_g16_d20230717_v2-0-1.nc, sci_xrsf-l2-flx1s_g16_d20230717_v2-2-0.nc sci_mpsh-l2-avg1m_g16_d20230717_v2-0-1.nc, sci_xrsf-l2-flx1s_g16_d20230717_v2-2-0.nc                  2                       sci DOC/NOAA/NESDIS           FM1 NumericalData.MeasurementType.Irradiance SPASE: Space Physics Archive Search and Extract Data Model version 2.2.6, GCMD: NASA Global Change Master Directory (GCMD) Earth Science Keywords version 8.5 These data may be redistributed and used without restriction.                 gov.nesdis.noaa    GOES-East      g16          Level 2             Derived products g16_xrs-avg-electron-contam-lut_v2.h5 Geostationary Operational Environmental Satellite, R-Series (GOES-R) Geostationary Operational Environmental Satellite R-Series (GOES-R) Core Ground Segment, Satellite Product Analysis and Distribution System (SPADES) goesr.exis@noaa.gov  DOC/NOAA/NESDIS/NCEI National Centers for Environmental Information    institution https://www.ncei.noaa.gov/ GOES-R XRS.04 Algorithm Theoretical Basis Document The EXIS X-Ray Sensor (XRS) measures in a short wavelength channel (XRS-A) between 0.05 and 0.4 nm and in a longer wavelength channel (XRS-B) between 0.1 and 0.8 nm. The X-ray flux average product consists of 1 minute averages of the 1-s X-ray solar measurements. Flux is provided with and without electron contamination removed. 2023-07-18T00:00:00.000Z                     PT1M 2023-07-17T00:00:00.000Z L2 XRS 1 minute average\n",
      "sci_xrsf-l2-avg1m_g16_d20230718_v2-2-0.nc   GOES-16 GOES R Series Extreme Ultraviolet Sensor and X-ray Irradiance Sensors (EXIS)         L2   1-minute GOES-R EXIS/XRS L2 xrsf-l2-flx1s    Unknown  Unknown ACDD-1.3, Spase v2.2.6        NCEI Boulder                    SCI cli-xrs04_avg     2021-03-19                 None            [2, 2] goesr.exis@noaa.gov DOC/NOAA/NESDIS/NCEI/OGSSD/STP Janet Machol       person https://www.ncei.noaa.gov/ 2023-07-25T07:08:55.208Z e255931a87f3b96db2357cc0c6a8287050bb3766 See algorithm information. sci_xrsf-l2-avg1m_g16_d20230718_v2-2-0.nc sci_mpsh-l2-avg1m_g16_d20230718_v2-0-1.nc, sci_xrsf-l2-flx1s_g16_d20230718_v2-2-0.nc sci_mpsh-l2-avg1m_g16_d20230718_v2-0-1.nc, sci_xrsf-l2-flx1s_g16_d20230718_v2-2-0.nc                  2                       sci DOC/NOAA/NESDIS           FM1 NumericalData.MeasurementType.Irradiance SPASE: Space Physics Archive Search and Extract Data Model version 2.2.6, GCMD: NASA Global Change Master Directory (GCMD) Earth Science Keywords version 8.5 These data may be redistributed and used without restriction.                 gov.nesdis.noaa    GOES-East      g16          Level 2             Derived products g16_xrs-avg-electron-contam-lut_v2.h5 Geostationary Operational Environmental Satellite, R-Series (GOES-R) Geostationary Operational Environmental Satellite R-Series (GOES-R) Core Ground Segment, Satellite Product Analysis and Distribution System (SPADES) goesr.exis@noaa.gov  DOC/NOAA/NESDIS/NCEI National Centers for Environmental Information    institution https://www.ncei.noaa.gov/ GOES-R XRS.04 Algorithm Theoretical Basis Document The EXIS X-Ray Sensor (XRS) measures in a short wavelength channel (XRS-A) between 0.05 and 0.4 nm and in a longer wavelength channel (XRS-B) between 0.1 and 0.8 nm. The X-ray flux average product consists of 1 minute averages of the 1-s X-ray solar measurements. Flux is provided with and without electron contamination removed. 2023-07-19T00:00:00.000Z                     PT1M 2023-07-18T00:00:00.000Z L2 XRS 1 minute average\n",
      "sci_xrsf-l2-avg1m_g16_d20230719_v2-2-0.nc   GOES-16 GOES R Series Extreme Ultraviolet Sensor and X-ray Irradiance Sensors (EXIS)         L2   1-minute GOES-R EXIS/XRS L2 xrsf-l2-flx1s    Unknown  Unknown ACDD-1.3, Spase v2.2.6        NCEI Boulder                    SCI cli-xrs04_avg     2021-03-19                 None            [2, 2] goesr.exis@noaa.gov DOC/NOAA/NESDIS/NCEI/OGSSD/STP Janet Machol       person https://www.ncei.noaa.gov/ 2023-07-26T06:27:42.906Z e255931a87f3b96db2357cc0c6a8287050bb3766 See algorithm information. sci_xrsf-l2-avg1m_g16_d20230719_v2-2-0.nc sci_mpsh-l2-avg1m_g16_d20230719_v2-0-1.nc, sci_xrsf-l2-flx1s_g16_d20230719_v2-2-0.nc sci_mpsh-l2-avg1m_g16_d20230719_v2-0-1.nc, sci_xrsf-l2-flx1s_g16_d20230719_v2-2-0.nc                  2                       sci DOC/NOAA/NESDIS           FM1 NumericalData.MeasurementType.Irradiance SPASE: Space Physics Archive Search and Extract Data Model version 2.2.6, GCMD: NASA Global Change Master Directory (GCMD) Earth Science Keywords version 8.5 These data may be redistributed and used without restriction.                 gov.nesdis.noaa    GOES-East      g16          Level 2             Derived products g16_xrs-avg-electron-contam-lut_v2.h5 Geostationary Operational Environmental Satellite, R-Series (GOES-R) Geostationary Operational Environmental Satellite R-Series (GOES-R) Core Ground Segment, Satellite Product Analysis and Distribution System (SPADES) goesr.exis@noaa.gov  DOC/NOAA/NESDIS/NCEI National Centers for Environmental Information    institution https://www.ncei.noaa.gov/ GOES-R XRS.04 Algorithm Theoretical Basis Document The EXIS X-Ray Sensor (XRS) measures in a short wavelength channel (XRS-A) between 0.05 and 0.4 nm and in a longer wavelength channel (XRS-B) between 0.1 and 0.8 nm. The X-ray flux average product consists of 1 minute averages of the 1-s X-ray solar measurements. Flux is provided with and without electron contamination removed. 2023-07-20T00:00:00.000Z                     PT1M 2023-07-19T00:00:00.000Z L2 XRS 1 minute average\n",
      "sci_xrsf-l2-avg1m_g16_d20230720_v2-2-0.nc   GOES-16 GOES R Series Extreme Ultraviolet Sensor and X-ray Irradiance Sensors (EXIS)         L2   1-minute GOES-R EXIS/XRS L2 xrsf-l2-flx1s    Unknown  Unknown ACDD-1.3, Spase v2.2.6        NCEI Boulder                    SCI cli-xrs04_avg     2021-03-19                 None            [2, 2] goesr.exis@noaa.gov DOC/NOAA/NESDIS/NCEI/OGSSD/STP Janet Machol       person https://www.ncei.noaa.gov/ 2023-07-27T06:26:27.519Z e255931a87f3b96db2357cc0c6a8287050bb3766 See algorithm information. sci_xrsf-l2-avg1m_g16_d20230720_v2-2-0.nc sci_mpsh-l2-avg1m_g16_d20230720_v2-0-1.nc, sci_xrsf-l2-flx1s_g16_d20230720_v2-2-0.nc sci_mpsh-l2-avg1m_g16_d20230720_v2-0-1.nc, sci_xrsf-l2-flx1s_g16_d20230720_v2-2-0.nc                  2                       sci DOC/NOAA/NESDIS           FM1 NumericalData.MeasurementType.Irradiance SPASE: Space Physics Archive Search and Extract Data Model version 2.2.6, GCMD: NASA Global Change Master Directory (GCMD) Earth Science Keywords version 8.5 These data may be redistributed and used without restriction.                 gov.nesdis.noaa    GOES-East      g16          Level 2             Derived products g16_xrs-avg-electron-contam-lut_v2.h5 Geostationary Operational Environmental Satellite, R-Series (GOES-R) Geostationary Operational Environmental Satellite R-Series (GOES-R) Core Ground Segment, Satellite Product Analysis and Distribution System (SPADES) goesr.exis@noaa.gov  DOC/NOAA/NESDIS/NCEI National Centers for Environmental Information    institution https://www.ncei.noaa.gov/ GOES-R XRS.04 Algorithm Theoretical Basis Document The EXIS X-Ray Sensor (XRS) measures in a short wavelength channel (XRS-A) between 0.05 and 0.4 nm and in a longer wavelength channel (XRS-B) between 0.1 and 0.8 nm. The X-ray flux average product consists of 1 minute averages of the 1-s X-ray solar measurements. Flux is provided with and without electron contamination removed. 2023-07-21T00:00:00.000Z                     PT1M 2023-07-20T00:00:00.000Z L2 XRS 1 minute average\n",
      "sci_xrsf-l2-avg1m_g16_d20230721_v2-2-0.nc   GOES-16 GOES R Series Extreme Ultraviolet Sensor and X-ray Irradiance Sensors (EXIS)         L2   1-minute GOES-R EXIS/XRS L2 xrsf-l2-flx1s    Unknown  Unknown ACDD-1.3, Spase v2.2.6        NCEI Boulder                    SCI cli-xrs04_avg     2021-03-19                 None            [2, 2] goesr.exis@noaa.gov DOC/NOAA/NESDIS/NCEI/OGSSD/STP Janet Machol       person https://www.ncei.noaa.gov/ 2023-07-28T06:29:37.481Z e255931a87f3b96db2357cc0c6a8287050bb3766 See algorithm information. sci_xrsf-l2-avg1m_g16_d20230721_v2-2-0.nc sci_mpsh-l2-avg1m_g16_d20230721_v2-0-1.nc, sci_xrsf-l2-flx1s_g16_d20230721_v2-2-0.nc sci_mpsh-l2-avg1m_g16_d20230721_v2-0-1.nc, sci_xrsf-l2-flx1s_g16_d20230721_v2-2-0.nc                  2                       sci DOC/NOAA/NESDIS           FM1 NumericalData.MeasurementType.Irradiance SPASE: Space Physics Archive Search and Extract Data Model version 2.2.6, GCMD: NASA Global Change Master Directory (GCMD) Earth Science Keywords version 8.5 These data may be redistributed and used without restriction.                 gov.nesdis.noaa    GOES-East      g16          Level 2             Derived products g16_xrs-avg-electron-contam-lut_v2.h5 Geostationary Operational Environmental Satellite, R-Series (GOES-R) Geostationary Operational Environmental Satellite R-Series (GOES-R) Core Ground Segment, Satellite Product Analysis and Distribution System (SPADES) goesr.exis@noaa.gov  DOC/NOAA/NESDIS/NCEI National Centers for Environmental Information    institution https://www.ncei.noaa.gov/ GOES-R XRS.04 Algorithm Theoretical Basis Document The EXIS X-Ray Sensor (XRS) measures in a short wavelength channel (XRS-A) between 0.05 and 0.4 nm and in a longer wavelength channel (XRS-B) between 0.1 and 0.8 nm. The X-ray flux average product consists of 1 minute averages of the 1-s X-ray solar measurements. Flux is provided with and without electron contamination removed. 2023-07-22T00:00:00.000Z                     PT1M 2023-07-21T00:00:00.000Z L2 XRS 1 minute average\n",
      "sci_xrsf-l2-avg1m_g16_d20230722_v2-2-0.nc   GOES-16 GOES R Series Extreme Ultraviolet Sensor and X-ray Irradiance Sensors (EXIS)         L2   1-minute GOES-R EXIS/XRS L2 xrsf-l2-flx1s    Unknown  Unknown ACDD-1.3, Spase v2.2.6        NCEI Boulder                    SCI cli-xrs04_avg     2021-03-19                 None            [2, 2] goesr.exis@noaa.gov DOC/NOAA/NESDIS/NCEI/OGSSD/STP Janet Machol       person https://www.ncei.noaa.gov/ 2023-07-29T07:05:53.658Z e255931a87f3b96db2357cc0c6a8287050bb3766 See algorithm information. sci_xrsf-l2-avg1m_g16_d20230722_v2-2-0.nc sci_mpsh-l2-avg1m_g16_d20230722_v2-0-1.nc, sci_xrsf-l2-flx1s_g16_d20230722_v2-2-0.nc sci_mpsh-l2-avg1m_g16_d20230722_v2-0-1.nc, sci_xrsf-l2-flx1s_g16_d20230722_v2-2-0.nc                  2                       sci DOC/NOAA/NESDIS           FM1 NumericalData.MeasurementType.Irradiance SPASE: Space Physics Archive Search and Extract Data Model version 2.2.6, GCMD: NASA Global Change Master Directory (GCMD) Earth Science Keywords version 8.5 These data may be redistributed and used without restriction.                 gov.nesdis.noaa    GOES-East      g16          Level 2             Derived products g16_xrs-avg-electron-contam-lut_v2.h5 Geostationary Operational Environmental Satellite, R-Series (GOES-R) Geostationary Operational Environmental Satellite R-Series (GOES-R) Core Ground Segment, Satellite Product Analysis and Distribution System (SPADES) goesr.exis@noaa.gov  DOC/NOAA/NESDIS/NCEI National Centers for Environmental Information    institution https://www.ncei.noaa.gov/ GOES-R XRS.04 Algorithm Theoretical Basis Document The EXIS X-Ray Sensor (XRS) measures in a short wavelength channel (XRS-A) between 0.05 and 0.4 nm and in a longer wavelength channel (XRS-B) between 0.1 and 0.8 nm. The X-ray flux average product consists of 1 minute averages of the 1-s X-ray solar measurements. Flux is provided with and without electron contamination removed. 2023-07-23T00:00:00.000Z                     PT1M 2023-07-22T00:00:00.000Z L2 XRS 1 minute average\n",
      "sci_xrsf-l2-avg1m_g16_d20230723_v2-2-0.nc   GOES-16 GOES R Series Extreme Ultraviolet Sensor and X-ray Irradiance Sensors (EXIS)         L2   1-minute GOES-R EXIS/XRS L2 xrsf-l2-flx1s    Unknown  Unknown ACDD-1.3, Spase v2.2.6        NCEI Boulder                    SCI cli-xrs04_avg     2021-03-19                 None            [2, 2] goesr.exis@noaa.gov DOC/NOAA/NESDIS/NCEI/OGSSD/STP Janet Machol       person https://www.ncei.noaa.gov/ 2023-07-30T07:20:13.944Z e255931a87f3b96db2357cc0c6a8287050bb3766 See algorithm information. sci_xrsf-l2-avg1m_g16_d20230723_v2-2-0.nc sci_mpsh-l2-avg1m_g16_d20230723_v2-0-1.nc, sci_xrsf-l2-flx1s_g16_d20230723_v2-2-0.nc sci_mpsh-l2-avg1m_g16_d20230723_v2-0-1.nc, sci_xrsf-l2-flx1s_g16_d20230723_v2-2-0.nc                  2                       sci DOC/NOAA/NESDIS           FM1 NumericalData.MeasurementType.Irradiance SPASE: Space Physics Archive Search and Extract Data Model version 2.2.6, GCMD: NASA Global Change Master Directory (GCMD) Earth Science Keywords version 8.5 These data may be redistributed and used without restriction.                 gov.nesdis.noaa    GOES-East      g16          Level 2             Derived products g16_xrs-avg-electron-contam-lut_v2.h5 Geostationary Operational Environmental Satellite, R-Series (GOES-R) Geostationary Operational Environmental Satellite R-Series (GOES-R) Core Ground Segment, Satellite Product Analysis and Distribution System (SPADES) goesr.exis@noaa.gov  DOC/NOAA/NESDIS/NCEI National Centers for Environmental Information    institution https://www.ncei.noaa.gov/ GOES-R XRS.04 Algorithm Theoretical Basis Document The EXIS X-Ray Sensor (XRS) measures in a short wavelength channel (XRS-A) between 0.05 and 0.4 nm and in a longer wavelength channel (XRS-B) between 0.1 and 0.8 nm. The X-ray flux average product consists of 1 minute averages of the 1-s X-ray solar measurements. Flux is provided with and without electron contamination removed. 2023-07-24T00:00:00.000Z                     PT1M 2023-07-23T00:00:00.000Z L2 XRS 1 minute average\n",
      "sci_xrsf-l2-avg1m_g16_d20230724_v2-2-0.nc   GOES-16 GOES R Series Extreme Ultraviolet Sensor and X-ray Irradiance Sensors (EXIS)         L2   1-minute GOES-R EXIS/XRS L2 xrsf-l2-flx1s    Unknown  Unknown ACDD-1.3, Spase v2.2.6        NCEI Boulder                    SCI cli-xrs04_avg     2021-03-19                 None            [2, 2] goesr.exis@noaa.gov DOC/NOAA/NESDIS/NCEI/OGSSD/STP Janet Machol       person https://www.ncei.noaa.gov/ 2023-07-31T06:36:50.802Z e255931a87f3b96db2357cc0c6a8287050bb3766 See algorithm information. sci_xrsf-l2-avg1m_g16_d20230724_v2-2-0.nc sci_mpsh-l2-avg1m_g16_d20230724_v2-0-1.nc, sci_xrsf-l2-flx1s_g16_d20230724_v2-2-0.nc sci_mpsh-l2-avg1m_g16_d20230724_v2-0-1.nc, sci_xrsf-l2-flx1s_g16_d20230724_v2-2-0.nc                  2                       sci DOC/NOAA/NESDIS           FM1 NumericalData.MeasurementType.Irradiance SPASE: Space Physics Archive Search and Extract Data Model version 2.2.6, GCMD: NASA Global Change Master Directory (GCMD) Earth Science Keywords version 8.5 These data may be redistributed and used without restriction.                 gov.nesdis.noaa    GOES-East      g16          Level 2             Derived products g16_xrs-avg-electron-contam-lut_v2.h5 Geostationary Operational Environmental Satellite, R-Series (GOES-R) Geostationary Operational Environmental Satellite R-Series (GOES-R) Core Ground Segment, Satellite Product Analysis and Distribution System (SPADES) goesr.exis@noaa.gov  DOC/NOAA/NESDIS/NCEI National Centers for Environmental Information    institution https://www.ncei.noaa.gov/ GOES-R XRS.04 Algorithm Theoretical Basis Document The EXIS X-Ray Sensor (XRS) measures in a short wavelength channel (XRS-A) between 0.05 and 0.4 nm and in a longer wavelength channel (XRS-B) between 0.1 and 0.8 nm. The X-ray flux average product consists of 1 minute averages of the 1-s X-ray solar measurements. Flux is provided with and without electron contamination removed. 2023-07-25T00:00:00.000Z                     PT1M 2023-07-24T00:00:00.000Z L2 XRS 1 minute average\n",
      "sci_xrsf-l2-avg1m_g16_d20230725_v2-2-0.nc   GOES-16 GOES R Series Extreme Ultraviolet Sensor and X-ray Irradiance Sensors (EXIS)         L2   1-minute GOES-R EXIS/XRS L2 xrsf-l2-flx1s    Unknown  Unknown ACDD-1.3, Spase v2.2.6        NCEI Boulder                    SCI cli-xrs04_avg     2021-03-19                 None            [2, 2] goesr.exis@noaa.gov DOC/NOAA/NESDIS/NCEI/OGSSD/STP Janet Machol       person https://www.ncei.noaa.gov/ 2023-08-01T07:00:37.112Z e255931a87f3b96db2357cc0c6a8287050bb3766 See algorithm information. sci_xrsf-l2-avg1m_g16_d20230725_v2-2-0.nc sci_mpsh-l2-avg1m_g16_d20230725_v2-0-1.nc, sci_xrsf-l2-flx1s_g16_d20230725_v2-2-0.nc sci_mpsh-l2-avg1m_g16_d20230725_v2-0-1.nc, sci_xrsf-l2-flx1s_g16_d20230725_v2-2-0.nc                  2                       sci DOC/NOAA/NESDIS           FM1 NumericalData.MeasurementType.Irradiance SPASE: Space Physics Archive Search and Extract Data Model version 2.2.6, GCMD: NASA Global Change Master Directory (GCMD) Earth Science Keywords version 8.5 These data may be redistributed and used without restriction.                 gov.nesdis.noaa    GOES-East      g16          Level 2             Derived products g16_xrs-avg-electron-contam-lut_v2.h5 Geostationary Operational Environmental Satellite, R-Series (GOES-R) Geostationary Operational Environmental Satellite R-Series (GOES-R) Core Ground Segment, Satellite Product Analysis and Distribution System (SPADES) goesr.exis@noaa.gov  DOC/NOAA/NESDIS/NCEI National Centers for Environmental Information    institution https://www.ncei.noaa.gov/ GOES-R XRS.04 Algorithm Theoretical Basis Document The EXIS X-Ray Sensor (XRS) measures in a short wavelength channel (XRS-A) between 0.05 and 0.4 nm and in a longer wavelength channel (XRS-B) between 0.1 and 0.8 nm. The X-ray flux average product consists of 1 minute averages of the 1-s X-ray solar measurements. Flux is provided with and without electron contamination removed. 2023-07-26T00:00:00.000Z                     PT1M 2023-07-25T00:00:00.000Z L2 XRS 1 minute average\n",
      "sci_xrsf-l2-avg1m_g16_d20230726_v2-2-0.nc   GOES-16 GOES R Series Extreme Ultraviolet Sensor and X-ray Irradiance Sensors (EXIS)         L2   1-minute GOES-R EXIS/XRS L2 xrsf-l2-flx1s    Unknown  Unknown ACDD-1.3, Spase v2.2.6        NCEI Boulder                    SCI cli-xrs04_avg     2021-03-19                 None            [2, 2] goesr.exis@noaa.gov DOC/NOAA/NESDIS/NCEI/OGSSD/STP Janet Machol       person https://www.ncei.noaa.gov/ 2023-08-02T06:02:42.884Z e255931a87f3b96db2357cc0c6a8287050bb3766 See algorithm information. sci_xrsf-l2-avg1m_g16_d20230726_v2-2-0.nc sci_mpsh-l2-avg1m_g16_d20230726_v2-0-1.nc, sci_xrsf-l2-flx1s_g16_d20230726_v2-2-0.nc sci_mpsh-l2-avg1m_g16_d20230726_v2-0-1.nc, sci_xrsf-l2-flx1s_g16_d20230726_v2-2-0.nc                  2                       sci DOC/NOAA/NESDIS           FM1 NumericalData.MeasurementType.Irradiance SPASE: Space Physics Archive Search and Extract Data Model version 2.2.6, GCMD: NASA Global Change Master Directory (GCMD) Earth Science Keywords version 8.5 These data may be redistributed and used without restriction.                 gov.nesdis.noaa    GOES-East      g16          Level 2             Derived products g16_xrs-avg-electron-contam-lut_v2.h5 Geostationary Operational Environmental Satellite, R-Series (GOES-R) Geostationary Operational Environmental Satellite R-Series (GOES-R) Core Ground Segment, Satellite Product Analysis and Distribution System (SPADES) goesr.exis@noaa.gov  DOC/NOAA/NESDIS/NCEI National Centers for Environmental Information    institution https://www.ncei.noaa.gov/ GOES-R XRS.04 Algorithm Theoretical Basis Document The EXIS X-Ray Sensor (XRS) measures in a short wavelength channel (XRS-A) between 0.05 and 0.4 nm and in a longer wavelength channel (XRS-B) between 0.1 and 0.8 nm. The X-ray flux average product consists of 1 minute averages of the 1-s X-ray solar measurements. Flux is provided with and without electron contamination removed. 2023-07-27T00:00:00.000Z                     PT1M 2023-07-26T00:00:00.000Z L2 XRS 1 minute average\n",
      "sci_xrsf-l2-avg1m_g16_d20230727_v2-2-0.nc   GOES-16 GOES R Series Extreme Ultraviolet Sensor and X-ray Irradiance Sensors (EXIS)         L2   1-minute GOES-R EXIS/XRS L2 xrsf-l2-flx1s    Unknown  Unknown ACDD-1.3, Spase v2.2.6        NCEI Boulder                    SCI cli-xrs04_avg     2021-03-19                 None            [2, 2] goesr.exis@noaa.gov DOC/NOAA/NESDIS/NCEI/OGSSD/STP Janet Machol       person https://www.ncei.noaa.gov/ 2023-08-03T07:09:23.001Z e255931a87f3b96db2357cc0c6a8287050bb3766 See algorithm information. sci_xrsf-l2-avg1m_g16_d20230727_v2-2-0.nc sci_mpsh-l2-avg1m_g16_d20230727_v2-0-1.nc, sci_xrsf-l2-flx1s_g16_d20230727_v2-2-0.nc sci_mpsh-l2-avg1m_g16_d20230727_v2-0-1.nc, sci_xrsf-l2-flx1s_g16_d20230727_v2-2-0.nc                  2                       sci DOC/NOAA/NESDIS           FM1 NumericalData.MeasurementType.Irradiance SPASE: Space Physics Archive Search and Extract Data Model version 2.2.6, GCMD: NASA Global Change Master Directory (GCMD) Earth Science Keywords version 8.5 These data may be redistributed and used without restriction.                 gov.nesdis.noaa    GOES-East      g16          Level 2             Derived products g16_xrs-avg-electron-contam-lut_v2.h5 Geostationary Operational Environmental Satellite, R-Series (GOES-R) Geostationary Operational Environmental Satellite R-Series (GOES-R) Core Ground Segment, Satellite Product Analysis and Distribution System (SPADES) goesr.exis@noaa.gov  DOC/NOAA/NESDIS/NCEI National Centers for Environmental Information    institution https://www.ncei.noaa.gov/ GOES-R XRS.04 Algorithm Theoretical Basis Document The EXIS X-Ray Sensor (XRS) measures in a short wavelength channel (XRS-A) between 0.05 and 0.4 nm and in a longer wavelength channel (XRS-B) between 0.1 and 0.8 nm. The X-ray flux average product consists of 1 minute averages of the 1-s X-ray solar measurements. Flux is provided with and without electron contamination removed. 2023-07-28T00:00:00.000Z                     PT1M 2023-07-27T00:00:00.000Z L2 XRS 1 minute average\n",
      "sci_xrsf-l2-avg1m_g16_d20230728_v2-2-0.nc   GOES-16 GOES R Series Extreme Ultraviolet Sensor and X-ray Irradiance Sensors (EXIS)         L2   1-minute GOES-R EXIS/XRS L2 xrsf-l2-flx1s    Unknown  Unknown ACDD-1.3, Spase v2.2.6        NCEI Boulder                    SCI cli-xrs04_avg     2021-03-19                 None            [2, 2] goesr.exis@noaa.gov DOC/NOAA/NESDIS/NCEI/OGSSD/STP Janet Machol       person https://www.ncei.noaa.gov/ 2023-08-04T07:06:38.064Z e255931a87f3b96db2357cc0c6a8287050bb3766 See algorithm information. sci_xrsf-l2-avg1m_g16_d20230728_v2-2-0.nc sci_mpsh-l2-avg1m_g16_d20230728_v2-0-1.nc, sci_xrsf-l2-flx1s_g16_d20230728_v2-2-0.nc sci_mpsh-l2-avg1m_g16_d20230728_v2-0-1.nc, sci_xrsf-l2-flx1s_g16_d20230728_v2-2-0.nc                  2                       sci DOC/NOAA/NESDIS           FM1 NumericalData.MeasurementType.Irradiance SPASE: Space Physics Archive Search and Extract Data Model version 2.2.6, GCMD: NASA Global Change Master Directory (GCMD) Earth Science Keywords version 8.5 These data may be redistributed and used without restriction.                 gov.nesdis.noaa    GOES-East      g16          Level 2             Derived products g16_xrs-avg-electron-contam-lut_v2.h5 Geostationary Operational Environmental Satellite, R-Series (GOES-R) Geostationary Operational Environmental Satellite R-Series (GOES-R) Core Ground Segment, Satellite Product Analysis and Distribution System (SPADES) goesr.exis@noaa.gov  DOC/NOAA/NESDIS/NCEI National Centers for Environmental Information    institution https://www.ncei.noaa.gov/ GOES-R XRS.04 Algorithm Theoretical Basis Document The EXIS X-Ray Sensor (XRS) measures in a short wavelength channel (XRS-A) between 0.05 and 0.4 nm and in a longer wavelength channel (XRS-B) between 0.1 and 0.8 nm. The X-ray flux average product consists of 1 minute averages of the 1-s X-ray solar measurements. Flux is provided with and without electron contamination removed. 2023-07-29T00:00:00.000Z                     PT1M 2023-07-28T00:00:00.000Z L2 XRS 1 minute average\n",
      "sci_xrsf-l2-avg1m_g16_d20230729_v2-2-0.nc   GOES-16 GOES R Series Extreme Ultraviolet Sensor and X-ray Irradiance Sensors (EXIS)         L2   1-minute GOES-R EXIS/XRS L2 xrsf-l2-flx1s    Unknown  Unknown ACDD-1.3, Spase v2.2.6        NCEI Boulder                    SCI cli-xrs04_avg     2021-03-19                 None            [2, 2] goesr.exis@noaa.gov DOC/NOAA/NESDIS/NCEI/OGSSD/STP Janet Machol       person https://www.ncei.noaa.gov/ 2023-08-05T07:09:57.250Z e255931a87f3b96db2357cc0c6a8287050bb3766 See algorithm information. sci_xrsf-l2-avg1m_g16_d20230729_v2-2-0.nc sci_mpsh-l2-avg1m_g16_d20230729_v2-0-1.nc, sci_xrsf-l2-flx1s_g16_d20230729_v2-2-0.nc sci_mpsh-l2-avg1m_g16_d20230729_v2-0-1.nc, sci_xrsf-l2-flx1s_g16_d20230729_v2-2-0.nc                  2                       sci DOC/NOAA/NESDIS           FM1 NumericalData.MeasurementType.Irradiance SPASE: Space Physics Archive Search and Extract Data Model version 2.2.6, GCMD: NASA Global Change Master Directory (GCMD) Earth Science Keywords version 8.5 These data may be redistributed and used without restriction.                 gov.nesdis.noaa    GOES-East      g16          Level 2             Derived products g16_xrs-avg-electron-contam-lut_v2.h5 Geostationary Operational Environmental Satellite, R-Series (GOES-R) Geostationary Operational Environmental Satellite R-Series (GOES-R) Core Ground Segment, Satellite Product Analysis and Distribution System (SPADES) goesr.exis@noaa.gov  DOC/NOAA/NESDIS/NCEI National Centers for Environmental Information    institution https://www.ncei.noaa.gov/ GOES-R XRS.04 Algorithm Theoretical Basis Document The EXIS X-Ray Sensor (XRS) measures in a short wavelength channel (XRS-A) between 0.05 and 0.4 nm and in a longer wavelength channel (XRS-B) between 0.1 and 0.8 nm. The X-ray flux average product consists of 1 minute averages of the 1-s X-ray solar measurements. Flux is provided with and without electron contamination removed. 2023-07-30T00:00:00.000Z                     PT1M 2023-07-29T00:00:00.000Z L2 XRS 1 minute average\n",
      "sci_xrsf-l2-avg1m_g16_d20230730_v2-2-0.nc   GOES-16 GOES R Series Extreme Ultraviolet Sensor and X-ray Irradiance Sensors (EXIS)         L2   1-minute GOES-R EXIS/XRS L2 xrsf-l2-flx1s    Unknown  Unknown ACDD-1.3, Spase v2.2.6        NCEI Boulder                    SCI cli-xrs04_avg     2021-03-19                 None            [2, 2] goesr.exis@noaa.gov DOC/NOAA/NESDIS/NCEI/OGSSD/STP Janet Machol       person https://www.ncei.noaa.gov/ 2023-08-06T06:27:06.981Z e255931a87f3b96db2357cc0c6a8287050bb3766 See algorithm information. sci_xrsf-l2-avg1m_g16_d20230730_v2-2-0.nc sci_mpsh-l2-avg1m_g16_d20230730_v2-0-1.nc, sci_xrsf-l2-flx1s_g16_d20230730_v2-2-0.nc sci_mpsh-l2-avg1m_g16_d20230730_v2-0-1.nc, sci_xrsf-l2-flx1s_g16_d20230730_v2-2-0.nc                  2                       sci DOC/NOAA/NESDIS           FM1 NumericalData.MeasurementType.Irradiance SPASE: Space Physics Archive Search and Extract Data Model version 2.2.6, GCMD: NASA Global Change Master Directory (GCMD) Earth Science Keywords version 8.5 These data may be redistributed and used without restriction.                 gov.nesdis.noaa    GOES-East      g16          Level 2             Derived products g16_xrs-avg-electron-contam-lut_v2.h5 Geostationary Operational Environmental Satellite, R-Series (GOES-R) Geostationary Operational Environmental Satellite R-Series (GOES-R) Core Ground Segment, Satellite Product Analysis and Distribution System (SPADES) goesr.exis@noaa.gov  DOC/NOAA/NESDIS/NCEI National Centers for Environmental Information    institution https://www.ncei.noaa.gov/ GOES-R XRS.04 Algorithm Theoretical Basis Document The EXIS X-Ray Sensor (XRS) measures in a short wavelength channel (XRS-A) between 0.05 and 0.4 nm and in a longer wavelength channel (XRS-B) between 0.1 and 0.8 nm. The X-ray flux average product consists of 1 minute averages of the 1-s X-ray solar measurements. Flux is provided with and without electron contamination removed. 2023-07-31T00:00:00.000Z                     PT1M 2023-07-30T00:00:00.000Z L2 XRS 1 minute average\n",
      "sci_xrsf-l2-avg1m_g16_d20230731_v2-2-0.nc   GOES-16 GOES R Series Extreme Ultraviolet Sensor and X-ray Irradiance Sensors (EXIS)         L2   1-minute GOES-R EXIS/XRS L2 xrsf-l2-flx1s    Unknown  Unknown ACDD-1.3, Spase v2.2.6        NCEI Boulder                    SCI cli-xrs04_avg     2021-03-19                 None            [2, 2] goesr.exis@noaa.gov DOC/NOAA/NESDIS/NCEI/OGSSD/STP Janet Machol       person https://www.ncei.noaa.gov/ 2023-08-07T06:55:02.975Z e255931a87f3b96db2357cc0c6a8287050bb3766 See algorithm information. sci_xrsf-l2-avg1m_g16_d20230731_v2-2-0.nc sci_mpsh-l2-avg1m_g16_d20230731_v2-0-1.nc, sci_xrsf-l2-flx1s_g16_d20230731_v2-2-0.nc sci_mpsh-l2-avg1m_g16_d20230731_v2-0-1.nc, sci_xrsf-l2-flx1s_g16_d20230731_v2-2-0.nc                  2                       sci DOC/NOAA/NESDIS           FM1 NumericalData.MeasurementType.Irradiance SPASE: Space Physics Archive Search and Extract Data Model version 2.2.6, GCMD: NASA Global Change Master Directory (GCMD) Earth Science Keywords version 8.5 These data may be redistributed and used without restriction.                 gov.nesdis.noaa    GOES-East      g16          Level 2             Derived products g16_xrs-avg-electron-contam-lut_v2.h5 Geostationary Operational Environmental Satellite, R-Series (GOES-R) Geostationary Operational Environmental Satellite R-Series (GOES-R) Core Ground Segment, Satellite Product Analysis and Distribution System (SPADES) goesr.exis@noaa.gov  DOC/NOAA/NESDIS/NCEI National Centers for Environmental Information    institution https://www.ncei.noaa.gov/ GOES-R XRS.04 Algorithm Theoretical Basis Document The EXIS X-Ray Sensor (XRS) measures in a short wavelength channel (XRS-A) between 0.05 and 0.4 nm and in a longer wavelength channel (XRS-B) between 0.1 and 0.8 nm. The X-ray flux average product consists of 1 minute averages of the 1-s X-ray solar measurements. Flux is provided with and without electron contamination removed. 2023-08-01T00:00:00.000Z                     PT1M 2023-07-31T00:00:00.000Z L2 XRS 1 minute average\n",
      "sci_xrsf-l2-avg1m_g16_d20230801_v2-2-0.nc   GOES-16 GOES R Series Extreme Ultraviolet Sensor and X-ray Irradiance Sensors (EXIS)         L2   1-minute GOES-R EXIS/XRS L2 xrsf-l2-flx1s    Unknown  Unknown ACDD-1.3, Spase v2.2.6        NCEI Boulder                    SCI cli-xrs04_avg     2021-03-19                 None            [2, 2] goesr.exis@noaa.gov DOC/NOAA/NESDIS/NCEI/OGSSD/STP Janet Machol       person https://www.ncei.noaa.gov/ 2023-08-08T06:16:59.472Z e255931a87f3b96db2357cc0c6a8287050bb3766 See algorithm information. sci_xrsf-l2-avg1m_g16_d20230801_v2-2-0.nc sci_mpsh-l2-avg1m_g16_d20230801_v2-0-1.nc, sci_xrsf-l2-flx1s_g16_d20230801_v2-2-0.nc sci_mpsh-l2-avg1m_g16_d20230801_v2-0-1.nc, sci_xrsf-l2-flx1s_g16_d20230801_v2-2-0.nc                  2                       sci DOC/NOAA/NESDIS           FM1 NumericalData.MeasurementType.Irradiance SPASE: Space Physics Archive Search and Extract Data Model version 2.2.6, GCMD: NASA Global Change Master Directory (GCMD) Earth Science Keywords version 8.5 These data may be redistributed and used without restriction.                 gov.nesdis.noaa    GOES-East      g16          Level 2             Derived products g16_xrs-avg-electron-contam-lut_v2.h5 Geostationary Operational Environmental Satellite, R-Series (GOES-R) Geostationary Operational Environmental Satellite R-Series (GOES-R) Core Ground Segment, Satellite Product Analysis and Distribution System (SPADES) goesr.exis@noaa.gov  DOC/NOAA/NESDIS/NCEI National Centers for Environmental Information    institution https://www.ncei.noaa.gov/ GOES-R XRS.04 Algorithm Theoretical Basis Document The EXIS X-Ray Sensor (XRS) measures in a short wavelength channel (XRS-A) between 0.05 and 0.4 nm and in a longer wavelength channel (XRS-B) between 0.1 and 0.8 nm. The X-ray flux average product consists of 1 minute averages of the 1-s X-ray solar measurements. Flux is provided with and without electron contamination removed. 2023-08-02T00:00:00.000Z                     PT1M 2023-08-01T00:00:00.000Z L2 XRS 1 minute average\n",
      "sci_xrsf-l2-avg1m_g16_d20230802_v2-2-0.nc   GOES-16 GOES R Series Extreme Ultraviolet Sensor and X-ray Irradiance Sensors (EXIS)         L2   1-minute GOES-R EXIS/XRS L2 xrsf-l2-flx1s    Unknown  Unknown ACDD-1.3, Spase v2.2.6        NCEI Boulder                    SCI cli-xrs04_avg     2021-03-19                 None            [2, 2] goesr.exis@noaa.gov DOC/NOAA/NESDIS/NCEI/OGSSD/STP Janet Machol       person https://www.ncei.noaa.gov/ 2023-08-09T06:12:52.416Z e255931a87f3b96db2357cc0c6a8287050bb3766 See algorithm information. sci_xrsf-l2-avg1m_g16_d20230802_v2-2-0.nc sci_mpsh-l2-avg1m_g16_d20230802_v2-0-1.nc, sci_xrsf-l2-flx1s_g16_d20230802_v2-2-0.nc sci_mpsh-l2-avg1m_g16_d20230802_v2-0-1.nc, sci_xrsf-l2-flx1s_g16_d20230802_v2-2-0.nc                  2                       sci DOC/NOAA/NESDIS           FM1 NumericalData.MeasurementType.Irradiance SPASE: Space Physics Archive Search and Extract Data Model version 2.2.6, GCMD: NASA Global Change Master Directory (GCMD) Earth Science Keywords version 8.5 These data may be redistributed and used without restriction.                 gov.nesdis.noaa    GOES-East      g16          Level 2             Derived products g16_xrs-avg-electron-contam-lut_v2.h5 Geostationary Operational Environmental Satellite, R-Series (GOES-R) Geostationary Operational Environmental Satellite R-Series (GOES-R) Core Ground Segment, Satellite Product Analysis and Distribution System (SPADES) goesr.exis@noaa.gov  DOC/NOAA/NESDIS/NCEI National Centers for Environmental Information    institution https://www.ncei.noaa.gov/ GOES-R XRS.04 Algorithm Theoretical Basis Document The EXIS X-Ray Sensor (XRS) measures in a short wavelength channel (XRS-A) between 0.05 and 0.4 nm and in a longer wavelength channel (XRS-B) between 0.1 and 0.8 nm. The X-ray flux average product consists of 1 minute averages of the 1-s X-ray solar measurements. Flux is provided with and without electron contamination removed. 2023-08-03T00:00:00.000Z                     PT1M 2023-08-02T00:00:00.000Z L2 XRS 1 minute average\n",
      "sci_xrsf-l2-avg1m_g16_d20230803_v2-2-0.nc   GOES-16 GOES R Series Extreme Ultraviolet Sensor and X-ray Irradiance Sensors (EXIS)         L2   1-minute GOES-R EXIS/XRS L2 xrsf-l2-flx1s    Unknown  Unknown ACDD-1.3, Spase v2.2.6        NCEI Boulder                    SCI cli-xrs04_avg     2021-03-19                 None            [2, 2] goesr.exis@noaa.gov DOC/NOAA/NESDIS/NCEI/OGSSD/STP Janet Machol       person https://www.ncei.noaa.gov/ 2023-08-10T06:31:56.746Z e255931a87f3b96db2357cc0c6a8287050bb3766 See algorithm information. sci_xrsf-l2-avg1m_g16_d20230803_v2-2-0.nc sci_mpsh-l2-avg1m_g16_d20230803_v2-0-1.nc, sci_xrsf-l2-flx1s_g16_d20230803_v2-2-0.nc sci_mpsh-l2-avg1m_g16_d20230803_v2-0-1.nc, sci_xrsf-l2-flx1s_g16_d20230803_v2-2-0.nc                  2                       sci DOC/NOAA/NESDIS           FM1 NumericalData.MeasurementType.Irradiance SPASE: Space Physics Archive Search and Extract Data Model version 2.2.6, GCMD: NASA Global Change Master Directory (GCMD) Earth Science Keywords version 8.5 These data may be redistributed and used without restriction.                 gov.nesdis.noaa    GOES-East      g16          Level 2             Derived products g16_xrs-avg-electron-contam-lut_v2.h5 Geostationary Operational Environmental Satellite, R-Series (GOES-R) Geostationary Operational Environmental Satellite R-Series (GOES-R) Core Ground Segment, Satellite Product Analysis and Distribution System (SPADES) goesr.exis@noaa.gov  DOC/NOAA/NESDIS/NCEI National Centers for Environmental Information    institution https://www.ncei.noaa.gov/ GOES-R XRS.04 Algorithm Theoretical Basis Document The EXIS X-Ray Sensor (XRS) measures in a short wavelength channel (XRS-A) between 0.05 and 0.4 nm and in a longer wavelength channel (XRS-B) between 0.1 and 0.8 nm. The X-ray flux average product consists of 1 minute averages of the 1-s X-ray solar measurements. Flux is provided with and without electron contamination removed. 2023-08-04T00:00:00.000Z                     PT1M 2023-08-03T00:00:00.000Z L2 XRS 1 minute average\n",
      "sci_xrsf-l2-avg1m_g16_d20230804_v2-2-0.nc   GOES-16 GOES R Series Extreme Ultraviolet Sensor and X-ray Irradiance Sensors (EXIS)         L2   1-minute GOES-R EXIS/XRS L2 xrsf-l2-flx1s    Unknown  Unknown ACDD-1.3, Spase v2.2.6        NCEI Boulder                    SCI cli-xrs04_avg     2021-03-19                 None            [2, 2] goesr.exis@noaa.gov DOC/NOAA/NESDIS/NCEI/OGSSD/STP Janet Machol       person https://www.ncei.noaa.gov/ 2023-08-11T07:36:16.710Z e255931a87f3b96db2357cc0c6a8287050bb3766 See algorithm information. sci_xrsf-l2-avg1m_g16_d20230804_v2-2-0.nc sci_mpsh-l2-avg1m_g16_d20230804_v2-0-1.nc, sci_xrsf-l2-flx1s_g16_d20230804_v2-2-0.nc sci_mpsh-l2-avg1m_g16_d20230804_v2-0-1.nc, sci_xrsf-l2-flx1s_g16_d20230804_v2-2-0.nc                  2                       sci DOC/NOAA/NESDIS           FM1 NumericalData.MeasurementType.Irradiance SPASE: Space Physics Archive Search and Extract Data Model version 2.2.6, GCMD: NASA Global Change Master Directory (GCMD) Earth Science Keywords version 8.5 These data may be redistributed and used without restriction.                 gov.nesdis.noaa    GOES-East      g16          Level 2             Derived products g16_xrs-avg-electron-contam-lut_v2.h5 Geostationary Operational Environmental Satellite, R-Series (GOES-R) Geostationary Operational Environmental Satellite R-Series (GOES-R) Core Ground Segment, Satellite Product Analysis and Distribution System (SPADES) goesr.exis@noaa.gov  DOC/NOAA/NESDIS/NCEI National Centers for Environmental Information    institution https://www.ncei.noaa.gov/ GOES-R XRS.04 Algorithm Theoretical Basis Document The EXIS X-Ray Sensor (XRS) measures in a short wavelength channel (XRS-A) between 0.05 and 0.4 nm and in a longer wavelength channel (XRS-B) between 0.1 and 0.8 nm. The X-ray flux average product consists of 1 minute averages of the 1-s X-ray solar measurements. Flux is provided with and without electron contamination removed. 2023-08-05T00:00:00.000Z                     PT1M 2023-08-04T00:00:00.000Z L2 XRS 1 minute average\n",
      "sci_xrsf-l2-avg1m_g16_d20230805_v2-2-0.nc   GOES-16 GOES R Series Extreme Ultraviolet Sensor and X-ray Irradiance Sensors (EXIS)         L2   1-minute GOES-R EXIS/XRS L2 xrsf-l2-flx1s    Unknown  Unknown ACDD-1.3, Spase v2.2.6        NCEI Boulder                    SCI cli-xrs04_avg     2021-03-19                 None            [2, 2] goesr.exis@noaa.gov DOC/NOAA/NESDIS/NCEI/OGSSD/STP Janet Machol       person https://www.ncei.noaa.gov/ 2023-08-12T07:00:08.504Z e255931a87f3b96db2357cc0c6a8287050bb3766 See algorithm information. sci_xrsf-l2-avg1m_g16_d20230805_v2-2-0.nc sci_mpsh-l2-avg1m_g16_d20230805_v2-0-1.nc, sci_xrsf-l2-flx1s_g16_d20230805_v2-2-0.nc sci_mpsh-l2-avg1m_g16_d20230805_v2-0-1.nc, sci_xrsf-l2-flx1s_g16_d20230805_v2-2-0.nc                  2                       sci DOC/NOAA/NESDIS           FM1 NumericalData.MeasurementType.Irradiance SPASE: Space Physics Archive Search and Extract Data Model version 2.2.6, GCMD: NASA Global Change Master Directory (GCMD) Earth Science Keywords version 8.5 These data may be redistributed and used without restriction.                 gov.nesdis.noaa    GOES-East      g16          Level 2             Derived products g16_xrs-avg-electron-contam-lut_v2.h5 Geostationary Operational Environmental Satellite, R-Series (GOES-R) Geostationary Operational Environmental Satellite R-Series (GOES-R) Core Ground Segment, Satellite Product Analysis and Distribution System (SPADES) goesr.exis@noaa.gov  DOC/NOAA/NESDIS/NCEI National Centers for Environmental Information    institution https://www.ncei.noaa.gov/ GOES-R XRS.04 Algorithm Theoretical Basis Document The EXIS X-Ray Sensor (XRS) measures in a short wavelength channel (XRS-A) between 0.05 and 0.4 nm and in a longer wavelength channel (XRS-B) between 0.1 and 0.8 nm. The X-ray flux average product consists of 1 minute averages of the 1-s X-ray solar measurements. Flux is provided with and without electron contamination removed. 2023-08-06T00:00:00.000Z                     PT1M 2023-08-05T00:00:00.000Z L2 XRS 1 minute average\n",
      "sci_xrsf-l2-avg1m_g16_d20230806_v2-2-0.nc   GOES-16 GOES R Series Extreme Ultraviolet Sensor and X-ray Irradiance Sensors (EXIS)         L2   1-minute GOES-R EXIS/XRS L2 xrsf-l2-flx1s    Unknown  Unknown ACDD-1.3, Spase v2.2.6        NCEI Boulder                    SCI cli-xrs04_avg     2021-03-19                 None            [2, 2] goesr.exis@noaa.gov DOC/NOAA/NESDIS/NCEI/OGSSD/STP Janet Machol       person https://www.ncei.noaa.gov/ 2023-08-13T07:12:38.516Z e255931a87f3b96db2357cc0c6a8287050bb3766 See algorithm information. sci_xrsf-l2-avg1m_g16_d20230806_v2-2-0.nc sci_mpsh-l2-avg1m_g16_d20230806_v2-0-1.nc, sci_xrsf-l2-flx1s_g16_d20230806_v2-2-0.nc sci_mpsh-l2-avg1m_g16_d20230806_v2-0-1.nc, sci_xrsf-l2-flx1s_g16_d20230806_v2-2-0.nc                  2                       sci DOC/NOAA/NESDIS           FM1 NumericalData.MeasurementType.Irradiance SPASE: Space Physics Archive Search and Extract Data Model version 2.2.6, GCMD: NASA Global Change Master Directory (GCMD) Earth Science Keywords version 8.5 These data may be redistributed and used without restriction.                 gov.nesdis.noaa    GOES-East      g16          Level 2             Derived products g16_xrs-avg-electron-contam-lut_v2.h5 Geostationary Operational Environmental Satellite, R-Series (GOES-R) Geostationary Operational Environmental Satellite R-Series (GOES-R) Core Ground Segment, Satellite Product Analysis and Distribution System (SPADES) goesr.exis@noaa.gov  DOC/NOAA/NESDIS/NCEI National Centers for Environmental Information    institution https://www.ncei.noaa.gov/ GOES-R XRS.04 Algorithm Theoretical Basis Document The EXIS X-Ray Sensor (XRS) measures in a short wavelength channel (XRS-A) between 0.05 and 0.4 nm and in a longer wavelength channel (XRS-B) between 0.1 and 0.8 nm. The X-ray flux average product consists of 1 minute averages of the 1-s X-ray solar measurements. Flux is provided with and without electron contamination removed. 2023-08-07T00:00:00.000Z                     PT1M 2023-08-06T00:00:00.000Z L2 XRS 1 minute average\n",
      "sci_xrsf-l2-avg1m_g16_d20230807_v2-2-0.nc   GOES-16 GOES R Series Extreme Ultraviolet Sensor and X-ray Irradiance Sensors (EXIS)         L2   1-minute GOES-R EXIS/XRS L2 xrsf-l2-flx1s    Unknown  Unknown ACDD-1.3, Spase v2.2.6        NCEI Boulder                    SCI cli-xrs04_avg     2021-03-19                 None            [2, 2] goesr.exis@noaa.gov DOC/NOAA/NESDIS/NCEI/OGSSD/STP Janet Machol       person https://www.ncei.noaa.gov/ 2023-08-14T06:36:53.498Z e255931a87f3b96db2357cc0c6a8287050bb3766 See algorithm information. sci_xrsf-l2-avg1m_g16_d20230807_v2-2-0.nc sci_mpsh-l2-avg1m_g16_d20230807_v2-0-1.nc, sci_xrsf-l2-flx1s_g16_d20230807_v2-2-0.nc sci_mpsh-l2-avg1m_g16_d20230807_v2-0-1.nc, sci_xrsf-l2-flx1s_g16_d20230807_v2-2-0.nc                  2                       sci DOC/NOAA/NESDIS           FM1 NumericalData.MeasurementType.Irradiance SPASE: Space Physics Archive Search and Extract Data Model version 2.2.6, GCMD: NASA Global Change Master Directory (GCMD) Earth Science Keywords version 8.5 These data may be redistributed and used without restriction.                 gov.nesdis.noaa    GOES-East      g16          Level 2             Derived products g16_xrs-avg-electron-contam-lut_v2.h5 Geostationary Operational Environmental Satellite, R-Series (GOES-R) Geostationary Operational Environmental Satellite R-Series (GOES-R) Core Ground Segment, Satellite Product Analysis and Distribution System (SPADES) goesr.exis@noaa.gov  DOC/NOAA/NESDIS/NCEI National Centers for Environmental Information    institution https://www.ncei.noaa.gov/ GOES-R XRS.04 Algorithm Theoretical Basis Document The EXIS X-Ray Sensor (XRS) measures in a short wavelength channel (XRS-A) between 0.05 and 0.4 nm and in a longer wavelength channel (XRS-B) between 0.1 and 0.8 nm. The X-ray flux average product consists of 1 minute averages of the 1-s X-ray solar measurements. Flux is provided with and without electron contamination removed. 2023-08-08T00:00:00.000Z                     PT1M 2023-08-07T00:00:00.000Z L2 XRS 1 minute average\n",
      "sci_xrsf-l2-avg1m_g16_d20230808_v2-2-0.nc   GOES-16 GOES R Series Extreme Ultraviolet Sensor and X-ray Irradiance Sensors (EXIS)         L2   1-minute GOES-R EXIS/XRS L2 xrsf-l2-flx1s    Unknown  Unknown ACDD-1.3, Spase v2.2.6        NCEI Boulder                    SCI cli-xrs04_avg     2021-03-19                 None            [2, 2] goesr.exis@noaa.gov DOC/NOAA/NESDIS/NCEI/OGSSD/STP Janet Machol       person https://www.ncei.noaa.gov/ 2023-08-15T06:49:47.120Z e255931a87f3b96db2357cc0c6a8287050bb3766 See algorithm information. sci_xrsf-l2-avg1m_g16_d20230808_v2-2-0.nc sci_mpsh-l2-avg1m_g16_d20230808_v2-0-1.nc, sci_xrsf-l2-flx1s_g16_d20230808_v2-2-0.nc sci_mpsh-l2-avg1m_g16_d20230808_v2-0-1.nc, sci_xrsf-l2-flx1s_g16_d20230808_v2-2-0.nc                  2                       sci DOC/NOAA/NESDIS           FM1 NumericalData.MeasurementType.Irradiance SPASE: Space Physics Archive Search and Extract Data Model version 2.2.6, GCMD: NASA Global Change Master Directory (GCMD) Earth Science Keywords version 8.5 These data may be redistributed and used without restriction.                 gov.nesdis.noaa    GOES-East      g16          Level 2             Derived products g16_xrs-avg-electron-contam-lut_v2.h5 Geostationary Operational Environmental Satellite, R-Series (GOES-R) Geostationary Operational Environmental Satellite R-Series (GOES-R) Core Ground Segment, Satellite Product Analysis and Distribution System (SPADES) goesr.exis@noaa.gov  DOC/NOAA/NESDIS/NCEI National Centers for Environmental Information    institution https://www.ncei.noaa.gov/ GOES-R XRS.04 Algorithm Theoretical Basis Document The EXIS X-Ray Sensor (XRS) measures in a short wavelength channel (XRS-A) between 0.05 and 0.4 nm and in a longer wavelength channel (XRS-B) between 0.1 and 0.8 nm. The X-ray flux average product consists of 1 minute averages of the 1-s X-ray solar measurements. Flux is provided with and without electron contamination removed. 2023-08-09T00:00:00.000Z                     PT1M 2023-08-08T00:00:00.000Z L2 XRS 1 minute average\n",
      "sci_xrsf-l2-avg1m_g16_d20230809_v2-2-0.nc   GOES-16 GOES R Series Extreme Ultraviolet Sensor and X-ray Irradiance Sensors (EXIS)         L2   1-minute GOES-R EXIS/XRS L2 xrsf-l2-flx1s    Unknown  Unknown ACDD-1.3, Spase v2.2.6        NCEI Boulder                    SCI cli-xrs04_avg     2021-03-19                 None            [2, 2] goesr.exis@noaa.gov DOC/NOAA/NESDIS/NCEI/OGSSD/STP Janet Machol       person https://www.ncei.noaa.gov/ 2023-08-16T07:00:37.883Z e255931a87f3b96db2357cc0c6a8287050bb3766 See algorithm information. sci_xrsf-l2-avg1m_g16_d20230809_v2-2-0.nc sci_mpsh-l2-avg1m_g16_d20230809_v2-0-1.nc, sci_xrsf-l2-flx1s_g16_d20230809_v2-2-0.nc sci_mpsh-l2-avg1m_g16_d20230809_v2-0-1.nc, sci_xrsf-l2-flx1s_g16_d20230809_v2-2-0.nc                  2                       sci DOC/NOAA/NESDIS           FM1 NumericalData.MeasurementType.Irradiance SPASE: Space Physics Archive Search and Extract Data Model version 2.2.6, GCMD: NASA Global Change Master Directory (GCMD) Earth Science Keywords version 8.5 These data may be redistributed and used without restriction.                 gov.nesdis.noaa    GOES-East      g16          Level 2             Derived products g16_xrs-avg-electron-contam-lut_v2.h5 Geostationary Operational Environmental Satellite, R-Series (GOES-R) Geostationary Operational Environmental Satellite R-Series (GOES-R) Core Ground Segment, Satellite Product Analysis and Distribution System (SPADES) goesr.exis@noaa.gov  DOC/NOAA/NESDIS/NCEI National Centers for Environmental Information    institution https://www.ncei.noaa.gov/ GOES-R XRS.04 Algorithm Theoretical Basis Document The EXIS X-Ray Sensor (XRS) measures in a short wavelength channel (XRS-A) between 0.05 and 0.4 nm and in a longer wavelength channel (XRS-B) between 0.1 and 0.8 nm. The X-ray flux average product consists of 1 minute averages of the 1-s X-ray solar measurements. Flux is provided with and without electron contamination removed. 2023-08-10T00:00:00.000Z                     PT1M 2023-08-09T00:00:00.000Z L2 XRS 1 minute average\n",
      "sci_xrsf-l2-avg1m_g16_d20230810_v2-2-0.nc   GOES-16 GOES R Series Extreme Ultraviolet Sensor and X-ray Irradiance Sensors (EXIS)         L2   1-minute GOES-R EXIS/XRS L2 xrsf-l2-flx1s    Unknown  Unknown ACDD-1.3, Spase v2.2.6        NCEI Boulder                    SCI cli-xrs04_avg     2021-03-19                 None            [2, 2] goesr.exis@noaa.gov DOC/NOAA/NESDIS/NCEI/OGSSD/STP Janet Machol       person https://www.ncei.noaa.gov/ 2023-08-17T06:58:21.204Z e255931a87f3b96db2357cc0c6a8287050bb3766 See algorithm information. sci_xrsf-l2-avg1m_g16_d20230810_v2-2-0.nc sci_mpsh-l2-avg1m_g16_d20230810_v2-0-1.nc, sci_xrsf-l2-flx1s_g16_d20230810_v2-2-0.nc sci_mpsh-l2-avg1m_g16_d20230810_v2-0-1.nc, sci_xrsf-l2-flx1s_g16_d20230810_v2-2-0.nc                  2                       sci DOC/NOAA/NESDIS           FM1 NumericalData.MeasurementType.Irradiance SPASE: Space Physics Archive Search and Extract Data Model version 2.2.6, GCMD: NASA Global Change Master Directory (GCMD) Earth Science Keywords version 8.5 These data may be redistributed and used without restriction.                 gov.nesdis.noaa    GOES-East      g16          Level 2             Derived products g16_xrs-avg-electron-contam-lut_v2.h5 Geostationary Operational Environmental Satellite, R-Series (GOES-R) Geostationary Operational Environmental Satellite R-Series (GOES-R) Core Ground Segment, Satellite Product Analysis and Distribution System (SPADES) goesr.exis@noaa.gov  DOC/NOAA/NESDIS/NCEI National Centers for Environmental Information    institution https://www.ncei.noaa.gov/ GOES-R XRS.04 Algorithm Theoretical Basis Document The EXIS X-Ray Sensor (XRS) measures in a short wavelength channel (XRS-A) between 0.05 and 0.4 nm and in a longer wavelength channel (XRS-B) between 0.1 and 0.8 nm. The X-ray flux average product consists of 1 minute averages of the 1-s X-ray solar measurements. Flux is provided with and without electron contamination removed. 2023-08-11T00:00:00.000Z                     PT1M 2023-08-10T00:00:00.000Z L2 XRS 1 minute average\n",
      "sci_xrsf-l2-avg1m_g16_d20230811_v2-2-0.nc   GOES-16 GOES R Series Extreme Ultraviolet Sensor and X-ray Irradiance Sensors (EXIS)         L2   1-minute GOES-R EXIS/XRS L2 xrsf-l2-flx1s    Unknown  Unknown ACDD-1.3, Spase v2.2.6        NCEI Boulder                    SCI cli-xrs04_avg     2021-03-19                 None            [2, 2] goesr.exis@noaa.gov DOC/NOAA/NESDIS/NCEI/OGSSD/STP Janet Machol       person https://www.ncei.noaa.gov/ 2023-08-18T06:33:22.797Z e255931a87f3b96db2357cc0c6a8287050bb3766 See algorithm information. sci_xrsf-l2-avg1m_g16_d20230811_v2-2-0.nc sci_mpsh-l2-avg1m_g16_d20230811_v2-0-1.nc, sci_xrsf-l2-flx1s_g16_d20230811_v2-2-0.nc sci_mpsh-l2-avg1m_g16_d20230811_v2-0-1.nc, sci_xrsf-l2-flx1s_g16_d20230811_v2-2-0.nc                  2                       sci DOC/NOAA/NESDIS           FM1 NumericalData.MeasurementType.Irradiance SPASE: Space Physics Archive Search and Extract Data Model version 2.2.6, GCMD: NASA Global Change Master Directory (GCMD) Earth Science Keywords version 8.5 These data may be redistributed and used without restriction.                 gov.nesdis.noaa    GOES-East      g16          Level 2             Derived products g16_xrs-avg-electron-contam-lut_v2.h5 Geostationary Operational Environmental Satellite, R-Series (GOES-R) Geostationary Operational Environmental Satellite R-Series (GOES-R) Core Ground Segment, Satellite Product Analysis and Distribution System (SPADES) goesr.exis@noaa.gov  DOC/NOAA/NESDIS/NCEI National Centers for Environmental Information    institution https://www.ncei.noaa.gov/ GOES-R XRS.04 Algorithm Theoretical Basis Document The EXIS X-Ray Sensor (XRS) measures in a short wavelength channel (XRS-A) between 0.05 and 0.4 nm and in a longer wavelength channel (XRS-B) between 0.1 and 0.8 nm. The X-ray flux average product consists of 1 minute averages of the 1-s X-ray solar measurements. Flux is provided with and without electron contamination removed. 2023-08-12T00:00:00.000Z                     PT1M 2023-08-11T00:00:00.000Z L2 XRS 1 minute average\n",
      "sci_xrsf-l2-avg1m_g16_d20230812_v2-2-0.nc   GOES-16 GOES R Series Extreme Ultraviolet Sensor and X-ray Irradiance Sensors (EXIS)         L2   1-minute GOES-R EXIS/XRS L2 xrsf-l2-flx1s    Unknown  Unknown ACDD-1.3, Spase v2.2.6        NCEI Boulder                    SCI cli-xrs04_avg     2021-03-19                 None            [2, 2] goesr.exis@noaa.gov DOC/NOAA/NESDIS/NCEI/OGSSD/STP Janet Machol       person https://www.ncei.noaa.gov/ 2023-08-19T07:16:18.953Z e255931a87f3b96db2357cc0c6a8287050bb3766 See algorithm information. sci_xrsf-l2-avg1m_g16_d20230812_v2-2-0.nc sci_mpsh-l2-avg1m_g16_d20230812_v2-0-1.nc, sci_xrsf-l2-flx1s_g16_d20230812_v2-2-0.nc sci_mpsh-l2-avg1m_g16_d20230812_v2-0-1.nc, sci_xrsf-l2-flx1s_g16_d20230812_v2-2-0.nc                  2                       sci DOC/NOAA/NESDIS           FM1 NumericalData.MeasurementType.Irradiance SPASE: Space Physics Archive Search and Extract Data Model version 2.2.6, GCMD: NASA Global Change Master Directory (GCMD) Earth Science Keywords version 8.5 These data may be redistributed and used without restriction.                 gov.nesdis.noaa    GOES-East      g16          Level 2             Derived products g16_xrs-avg-electron-contam-lut_v2.h5 Geostationary Operational Environmental Satellite, R-Series (GOES-R) Geostationary Operational Environmental Satellite R-Series (GOES-R) Core Ground Segment, Satellite Product Analysis and Distribution System (SPADES) goesr.exis@noaa.gov  DOC/NOAA/NESDIS/NCEI National Centers for Environmental Information    institution https://www.ncei.noaa.gov/ GOES-R XRS.04 Algorithm Theoretical Basis Document The EXIS X-Ray Sensor (XRS) measures in a short wavelength channel (XRS-A) between 0.05 and 0.4 nm and in a longer wavelength channel (XRS-B) between 0.1 and 0.8 nm. The X-ray flux average product consists of 1 minute averages of the 1-s X-ray solar measurements. Flux is provided with and without electron contamination removed. 2023-08-13T00:00:00.000Z                     PT1M 2023-08-12T00:00:00.000Z L2 XRS 1 minute average\n",
      "sci_xrsf-l2-avg1m_g16_d20230813_v2-2-0.nc   GOES-16 GOES R Series Extreme Ultraviolet Sensor and X-ray Irradiance Sensors (EXIS)         L2   1-minute GOES-R EXIS/XRS L2 xrsf-l2-flx1s    Unknown  Unknown ACDD-1.3, Spase v2.2.6        NCEI Boulder                    SCI cli-xrs04_avg     2021-03-19                 None            [2, 2] goesr.exis@noaa.gov DOC/NOAA/NESDIS/NCEI/OGSSD/STP Janet Machol       person https://www.ncei.noaa.gov/ 2023-08-20T06:18:47.120Z e255931a87f3b96db2357cc0c6a8287050bb3766 See algorithm information. sci_xrsf-l2-avg1m_g16_d20230813_v2-2-0.nc sci_mpsh-l2-avg1m_g16_d20230813_v2-0-1.nc, sci_xrsf-l2-flx1s_g16_d20230813_v2-2-0.nc sci_mpsh-l2-avg1m_g16_d20230813_v2-0-1.nc, sci_xrsf-l2-flx1s_g16_d20230813_v2-2-0.nc                  2                       sci DOC/NOAA/NESDIS           FM1 NumericalData.MeasurementType.Irradiance SPASE: Space Physics Archive Search and Extract Data Model version 2.2.6, GCMD: NASA Global Change Master Directory (GCMD) Earth Science Keywords version 8.5 These data may be redistributed and used without restriction.                 gov.nesdis.noaa    GOES-East      g16          Level 2             Derived products g16_xrs-avg-electron-contam-lut_v2.h5 Geostationary Operational Environmental Satellite, R-Series (GOES-R) Geostationary Operational Environmental Satellite R-Series (GOES-R) Core Ground Segment, Satellite Product Analysis and Distribution System (SPADES) goesr.exis@noaa.gov  DOC/NOAA/NESDIS/NCEI National Centers for Environmental Information    institution https://www.ncei.noaa.gov/ GOES-R XRS.04 Algorithm Theoretical Basis Document The EXIS X-Ray Sensor (XRS) measures in a short wavelength channel (XRS-A) between 0.05 and 0.4 nm and in a longer wavelength channel (XRS-B) between 0.1 and 0.8 nm. The X-ray flux average product consists of 1 minute averages of the 1-s X-ray solar measurements. Flux is provided with and without electron contamination removed. 2023-08-14T00:00:00.000Z                     PT1M 2023-08-13T00:00:00.000Z L2 XRS 1 minute average\n",
      "sci_xrsf-l2-avg1m_g16_d20230814_v2-2-0.nc   GOES-16 GOES R Series Extreme Ultraviolet Sensor and X-ray Irradiance Sensors (EXIS)         L2   1-minute GOES-R EXIS/XRS L2 xrsf-l2-flx1s    Unknown  Unknown ACDD-1.3, Spase v2.2.6        NCEI Boulder                    SCI cli-xrs04_avg     2021-03-19                 None            [2, 2] goesr.exis@noaa.gov DOC/NOAA/NESDIS/NCEI/OGSSD/STP Janet Machol       person https://www.ncei.noaa.gov/ 2023-08-21T06:44:34.838Z e255931a87f3b96db2357cc0c6a8287050bb3766 See algorithm information. sci_xrsf-l2-avg1m_g16_d20230814_v2-2-0.nc sci_mpsh-l2-avg1m_g16_d20230814_v2-0-1.nc, sci_xrsf-l2-flx1s_g16_d20230814_v2-2-0.nc sci_mpsh-l2-avg1m_g16_d20230814_v2-0-1.nc, sci_xrsf-l2-flx1s_g16_d20230814_v2-2-0.nc                  2                       sci DOC/NOAA/NESDIS           FM1 NumericalData.MeasurementType.Irradiance SPASE: Space Physics Archive Search and Extract Data Model version 2.2.6, GCMD: NASA Global Change Master Directory (GCMD) Earth Science Keywords version 8.5 These data may be redistributed and used without restriction.                 gov.nesdis.noaa    GOES-East      g16          Level 2             Derived products g16_xrs-avg-electron-contam-lut_v2.h5 Geostationary Operational Environmental Satellite, R-Series (GOES-R) Geostationary Operational Environmental Satellite R-Series (GOES-R) Core Ground Segment, Satellite Product Analysis and Distribution System (SPADES) goesr.exis@noaa.gov  DOC/NOAA/NESDIS/NCEI National Centers for Environmental Information    institution https://www.ncei.noaa.gov/ GOES-R XRS.04 Algorithm Theoretical Basis Document The EXIS X-Ray Sensor (XRS) measures in a short wavelength channel (XRS-A) between 0.05 and 0.4 nm and in a longer wavelength channel (XRS-B) between 0.1 and 0.8 nm. The X-ray flux average product consists of 1 minute averages of the 1-s X-ray solar measurements. Flux is provided with and without electron contamination removed. 2023-08-15T00:00:00.000Z                     PT1M 2023-08-14T00:00:00.000Z L2 XRS 1 minute average\n",
      "sci_xrsf-l2-avg1m_g16_d20230815_v2-2-0.nc   GOES-16 GOES R Series Extreme Ultraviolet Sensor and X-ray Irradiance Sensors (EXIS)         L2   1-minute GOES-R EXIS/XRS L2 xrsf-l2-flx1s    Unknown  Unknown ACDD-1.3, Spase v2.2.6        NCEI Boulder                    SCI cli-xrs04_avg     2021-03-19                 None            [2, 2] goesr.exis@noaa.gov DOC/NOAA/NESDIS/NCEI/OGSSD/STP Janet Machol       person https://www.ncei.noaa.gov/ 2023-08-22T06:07:38.530Z e255931a87f3b96db2357cc0c6a8287050bb3766 See algorithm information. sci_xrsf-l2-avg1m_g16_d20230815_v2-2-0.nc sci_mpsh-l2-avg1m_g16_d20230815_v2-0-1.nc, sci_xrsf-l2-flx1s_g16_d20230815_v2-2-0.nc sci_mpsh-l2-avg1m_g16_d20230815_v2-0-1.nc, sci_xrsf-l2-flx1s_g16_d20230815_v2-2-0.nc                  2                       sci DOC/NOAA/NESDIS           FM1 NumericalData.MeasurementType.Irradiance SPASE: Space Physics Archive Search and Extract Data Model version 2.2.6, GCMD: NASA Global Change Master Directory (GCMD) Earth Science Keywords version 8.5 These data may be redistributed and used without restriction.                 gov.nesdis.noaa    GOES-East      g16          Level 2             Derived products g16_xrs-avg-electron-contam-lut_v2.h5 Geostationary Operational Environmental Satellite, R-Series (GOES-R) Geostationary Operational Environmental Satellite R-Series (GOES-R) Core Ground Segment, Satellite Product Analysis and Distribution System (SPADES) goesr.exis@noaa.gov  DOC/NOAA/NESDIS/NCEI National Centers for Environmental Information    institution https://www.ncei.noaa.gov/ GOES-R XRS.04 Algorithm Theoretical Basis Document The EXIS X-Ray Sensor (XRS) measures in a short wavelength channel (XRS-A) between 0.05 and 0.4 nm and in a longer wavelength channel (XRS-B) between 0.1 and 0.8 nm. The X-ray flux average product consists of 1 minute averages of the 1-s X-ray solar measurements. Flux is provided with and without electron contamination removed. 2023-08-16T00:00:00.000Z                     PT1M 2023-08-15T00:00:00.000Z L2 XRS 1 minute average\n",
      "sci_xrsf-l2-avg1m_g18_d20230701_v2-2-0.nc   GOES-18 GOES R Series Extreme Ultraviolet Sensor and X-ray Irradiance Sensors (EXIS)         L2   1-minute GOES-R EXIS/XRS L2 xrsf-l2-flx1s    Unknown  Unknown ACDD-1.3, Spase v2.2.6        NCEI Boulder                    SCI cli-xrs04_avg     2021-03-19                 None            [2, 2] goesr.exis@noaa.gov DOC/NOAA/NESDIS/NCEI/OGSSD/STP Janet Machol       person https://www.ncei.noaa.gov/ 2023-07-19T20:58:24.891Z e255931a87f3b96db2357cc0c6a8287050bb3766 See algorithm information. sci_xrsf-l2-avg1m_g18_d20230701_v2-2-0.nc sci_mpsh-l2-avg1m_g18_d20230701_v2-0-1.nc, sci_xrsf-l2-flx1s_g18_d20230701_v2-2-0.nc sci_mpsh-l2-avg1m_g18_d20230701_v2-0-1.nc, sci_xrsf-l2-flx1s_g18_d20230701_v2-2-0.nc                  2                       sci DOC/NOAA/NESDIS           FM3 NumericalData.MeasurementType.Irradiance SPASE: Space Physics Archive Search and Extract Data Model version 2.2.6, GCMD: NASA Global Change Master Directory (GCMD) Earth Science Keywords version 8.5 These data may be redistributed and used without restriction.                 gov.nesdis.noaa    GOES-West      g18          Level 2             Derived products g18_xrs-avg-electron-contam-lut_v0.h5 Geostationary Operational Environmental Satellite, R-Series (GOES-R) Geostationary Operational Environmental Satellite R-Series (GOES-R) Core Ground Segment, Satellite Product Analysis and Distribution System (SPADES) goesr.exis@noaa.gov  DOC/NOAA/NESDIS/NCEI National Centers for Environmental Information    institution https://www.ncei.noaa.gov/ GOES-R XRS.04 Algorithm Theoretical Basis Document The EXIS X-Ray Sensor (XRS) measures in a short wavelength channel (XRS-A) between 0.05 and 0.4 nm and in a longer wavelength channel (XRS-B) between 0.1 and 0.8 nm. The X-ray flux average product consists of 1 minute averages of the 1-s X-ray solar measurements. Flux is provided with and without electron contamination removed. 2023-07-02T00:00:00.000Z                     PT1M 2023-07-01T00:00:00.000Z L2 XRS 1 minute average\n",
      "sci_xrsf-l2-avg1m_g18_d20230702_v2-2-0.nc   GOES-18 GOES R Series Extreme Ultraviolet Sensor and X-ray Irradiance Sensors (EXIS)         L2   1-minute GOES-R EXIS/XRS L2 xrsf-l2-flx1s    Unknown  Unknown ACDD-1.3, Spase v2.2.6        NCEI Boulder                    SCI cli-xrs04_avg     2021-03-19                 None            [2, 2] goesr.exis@noaa.gov DOC/NOAA/NESDIS/NCEI/OGSSD/STP Janet Machol       person https://www.ncei.noaa.gov/ 2023-07-19T20:58:37.586Z e255931a87f3b96db2357cc0c6a8287050bb3766 See algorithm information. sci_xrsf-l2-avg1m_g18_d20230702_v2-2-0.nc sci_mpsh-l2-avg1m_g18_d20230702_v2-0-1.nc, sci_xrsf-l2-flx1s_g18_d20230702_v2-2-0.nc sci_mpsh-l2-avg1m_g18_d20230702_v2-0-1.nc, sci_xrsf-l2-flx1s_g18_d20230702_v2-2-0.nc                  2                       sci DOC/NOAA/NESDIS           FM3 NumericalData.MeasurementType.Irradiance SPASE: Space Physics Archive Search and Extract Data Model version 2.2.6, GCMD: NASA Global Change Master Directory (GCMD) Earth Science Keywords version 8.5 These data may be redistributed and used without restriction.                 gov.nesdis.noaa    GOES-West      g18          Level 2             Derived products g18_xrs-avg-electron-contam-lut_v0.h5 Geostationary Operational Environmental Satellite, R-Series (GOES-R) Geostationary Operational Environmental Satellite R-Series (GOES-R) Core Ground Segment, Satellite Product Analysis and Distribution System (SPADES) goesr.exis@noaa.gov  DOC/NOAA/NESDIS/NCEI National Centers for Environmental Information    institution https://www.ncei.noaa.gov/ GOES-R XRS.04 Algorithm Theoretical Basis Document The EXIS X-Ray Sensor (XRS) measures in a short wavelength channel (XRS-A) between 0.05 and 0.4 nm and in a longer wavelength channel (XRS-B) between 0.1 and 0.8 nm. The X-ray flux average product consists of 1 minute averages of the 1-s X-ray solar measurements. Flux is provided with and without electron contamination removed. 2023-07-03T00:00:00.000Z                     PT1M 2023-07-02T00:00:00.000Z L2 XRS 1 minute average\n",
      "sci_xrsf-l2-avg1m_g18_d20230703_v2-2-0.nc   GOES-18 GOES R Series Extreme Ultraviolet Sensor and X-ray Irradiance Sensors (EXIS)         L2   1-minute GOES-R EXIS/XRS L2 xrsf-l2-flx1s    Unknown  Unknown ACDD-1.3, Spase v2.2.6        NCEI Boulder                    SCI cli-xrs04_avg     2021-03-19                 None            [2, 2] goesr.exis@noaa.gov DOC/NOAA/NESDIS/NCEI/OGSSD/STP Janet Machol       person https://www.ncei.noaa.gov/ 2023-07-19T20:58:38.514Z e255931a87f3b96db2357cc0c6a8287050bb3766 See algorithm information. sci_xrsf-l2-avg1m_g18_d20230703_v2-2-0.nc sci_mpsh-l2-avg1m_g18_d20230703_v2-0-1.nc, sci_xrsf-l2-flx1s_g18_d20230703_v2-2-0.nc sci_mpsh-l2-avg1m_g18_d20230703_v2-0-1.nc, sci_xrsf-l2-flx1s_g18_d20230703_v2-2-0.nc                  2                       sci DOC/NOAA/NESDIS           FM3 NumericalData.MeasurementType.Irradiance SPASE: Space Physics Archive Search and Extract Data Model version 2.2.6, GCMD: NASA Global Change Master Directory (GCMD) Earth Science Keywords version 8.5 These data may be redistributed and used without restriction.                 gov.nesdis.noaa    GOES-West      g18          Level 2             Derived products g18_xrs-avg-electron-contam-lut_v0.h5 Geostationary Operational Environmental Satellite, R-Series (GOES-R) Geostationary Operational Environmental Satellite R-Series (GOES-R) Core Ground Segment, Satellite Product Analysis and Distribution System (SPADES) goesr.exis@noaa.gov  DOC/NOAA/NESDIS/NCEI National Centers for Environmental Information    institution https://www.ncei.noaa.gov/ GOES-R XRS.04 Algorithm Theoretical Basis Document The EXIS X-Ray Sensor (XRS) measures in a short wavelength channel (XRS-A) between 0.05 and 0.4 nm and in a longer wavelength channel (XRS-B) between 0.1 and 0.8 nm. The X-ray flux average product consists of 1 minute averages of the 1-s X-ray solar measurements. Flux is provided with and without electron contamination removed. 2023-07-04T00:00:00.000Z                     PT1M 2023-07-03T00:00:00.000Z L2 XRS 1 minute average\n",
      "sci_xrsf-l2-avg1m_g18_d20230704_v2-2-0.nc   GOES-18 GOES R Series Extreme Ultraviolet Sensor and X-ray Irradiance Sensors (EXIS)         L2   1-minute GOES-R EXIS/XRS L2 xrsf-l2-flx1s    Unknown  Unknown ACDD-1.3, Spase v2.2.6        NCEI Boulder                    SCI cli-xrs04_avg     2021-03-19                 None            [2, 2] goesr.exis@noaa.gov DOC/NOAA/NESDIS/NCEI/OGSSD/STP Janet Machol       person https://www.ncei.noaa.gov/ 2023-07-19T20:58:39.850Z e255931a87f3b96db2357cc0c6a8287050bb3766 See algorithm information. sci_xrsf-l2-avg1m_g18_d20230704_v2-2-0.nc sci_mpsh-l2-avg1m_g18_d20230704_v2-0-1.nc, sci_xrsf-l2-flx1s_g18_d20230704_v2-2-0.nc sci_mpsh-l2-avg1m_g18_d20230704_v2-0-1.nc, sci_xrsf-l2-flx1s_g18_d20230704_v2-2-0.nc                  2                       sci DOC/NOAA/NESDIS           FM3 NumericalData.MeasurementType.Irradiance SPASE: Space Physics Archive Search and Extract Data Model version 2.2.6, GCMD: NASA Global Change Master Directory (GCMD) Earth Science Keywords version 8.5 These data may be redistributed and used without restriction.                 gov.nesdis.noaa    GOES-West      g18          Level 2             Derived products g18_xrs-avg-electron-contam-lut_v0.h5 Geostationary Operational Environmental Satellite, R-Series (GOES-R) Geostationary Operational Environmental Satellite R-Series (GOES-R) Core Ground Segment, Satellite Product Analysis and Distribution System (SPADES) goesr.exis@noaa.gov  DOC/NOAA/NESDIS/NCEI National Centers for Environmental Information    institution https://www.ncei.noaa.gov/ GOES-R XRS.04 Algorithm Theoretical Basis Document The EXIS X-Ray Sensor (XRS) measures in a short wavelength channel (XRS-A) between 0.05 and 0.4 nm and in a longer wavelength channel (XRS-B) between 0.1 and 0.8 nm. The X-ray flux average product consists of 1 minute averages of the 1-s X-ray solar measurements. Flux is provided with and without electron contamination removed. 2023-07-05T00:00:00.000Z                     PT1M 2023-07-04T00:00:00.000Z L2 XRS 1 minute average\n",
      "sci_xrsf-l2-avg1m_g18_d20230705_v2-2-0.nc   GOES-18 GOES R Series Extreme Ultraviolet Sensor and X-ray Irradiance Sensors (EXIS)         L2   1-minute GOES-R EXIS/XRS L2 xrsf-l2-flx1s    Unknown  Unknown ACDD-1.3, Spase v2.2.6        NCEI Boulder                    SCI cli-xrs04_avg     2021-03-19                 None            [2, 2] goesr.exis@noaa.gov DOC/NOAA/NESDIS/NCEI/OGSSD/STP Janet Machol       person https://www.ncei.noaa.gov/ 2023-07-19T20:58:40.983Z e255931a87f3b96db2357cc0c6a8287050bb3766 See algorithm information. sci_xrsf-l2-avg1m_g18_d20230705_v2-2-0.nc sci_mpsh-l2-avg1m_g18_d20230705_v2-0-1.nc, sci_xrsf-l2-flx1s_g18_d20230705_v2-2-0.nc sci_mpsh-l2-avg1m_g18_d20230705_v2-0-1.nc, sci_xrsf-l2-flx1s_g18_d20230705_v2-2-0.nc                  2                       sci DOC/NOAA/NESDIS           FM3 NumericalData.MeasurementType.Irradiance SPASE: Space Physics Archive Search and Extract Data Model version 2.2.6, GCMD: NASA Global Change Master Directory (GCMD) Earth Science Keywords version 8.5 These data may be redistributed and used without restriction.                 gov.nesdis.noaa    GOES-West      g18          Level 2             Derived products g18_xrs-avg-electron-contam-lut_v0.h5 Geostationary Operational Environmental Satellite, R-Series (GOES-R) Geostationary Operational Environmental Satellite R-Series (GOES-R) Core Ground Segment, Satellite Product Analysis and Distribution System (SPADES) goesr.exis@noaa.gov  DOC/NOAA/NESDIS/NCEI National Centers for Environmental Information    institution https://www.ncei.noaa.gov/ GOES-R XRS.04 Algorithm Theoretical Basis Document The EXIS X-Ray Sensor (XRS) measures in a short wavelength channel (XRS-A) between 0.05 and 0.4 nm and in a longer wavelength channel (XRS-B) between 0.1 and 0.8 nm. The X-ray flux average product consists of 1 minute averages of the 1-s X-ray solar measurements. Flux is provided with and without electron contamination removed. 2023-07-06T00:00:00.000Z                     PT1M 2023-07-05T00:00:00.000Z L2 XRS 1 minute average\n",
      "sci_xrsf-l2-avg1m_g18_d20230706_v2-2-0.nc   GOES-18 GOES R Series Extreme Ultraviolet Sensor and X-ray Irradiance Sensors (EXIS)         L2   1-minute GOES-R EXIS/XRS L2 xrsf-l2-flx1s    Unknown  Unknown ACDD-1.3, Spase v2.2.6        NCEI Boulder                    SCI cli-xrs04_avg     2021-03-19                 None            [2, 2] goesr.exis@noaa.gov DOC/NOAA/NESDIS/NCEI/OGSSD/STP Janet Machol       person https://www.ncei.noaa.gov/ 2023-07-19T20:58:52.561Z e255931a87f3b96db2357cc0c6a8287050bb3766 See algorithm information. sci_xrsf-l2-avg1m_g18_d20230706_v2-2-0.nc sci_mpsh-l2-avg1m_g18_d20230706_v2-0-1.nc, sci_xrsf-l2-flx1s_g18_d20230706_v2-2-0.nc sci_mpsh-l2-avg1m_g18_d20230706_v2-0-1.nc, sci_xrsf-l2-flx1s_g18_d20230706_v2-2-0.nc                  2                       sci DOC/NOAA/NESDIS           FM3 NumericalData.MeasurementType.Irradiance SPASE: Space Physics Archive Search and Extract Data Model version 2.2.6, GCMD: NASA Global Change Master Directory (GCMD) Earth Science Keywords version 8.5 These data may be redistributed and used without restriction.                 gov.nesdis.noaa    GOES-West      g18          Level 2             Derived products g18_xrs-avg-electron-contam-lut_v0.h5 Geostationary Operational Environmental Satellite, R-Series (GOES-R) Geostationary Operational Environmental Satellite R-Series (GOES-R) Core Ground Segment, Satellite Product Analysis and Distribution System (SPADES) goesr.exis@noaa.gov  DOC/NOAA/NESDIS/NCEI National Centers for Environmental Information    institution https://www.ncei.noaa.gov/ GOES-R XRS.04 Algorithm Theoretical Basis Document The EXIS X-Ray Sensor (XRS) measures in a short wavelength channel (XRS-A) between 0.05 and 0.4 nm and in a longer wavelength channel (XRS-B) between 0.1 and 0.8 nm. The X-ray flux average product consists of 1 minute averages of the 1-s X-ray solar measurements. Flux is provided with and without electron contamination removed. 2023-07-07T00:00:00.000Z                     PT1M 2023-07-06T00:00:00.000Z L2 XRS 1 minute average\n",
      "sci_xrsf-l2-avg1m_g18_d20230707_v2-2-0.nc   GOES-18 GOES R Series Extreme Ultraviolet Sensor and X-ray Irradiance Sensors (EXIS)         L2   1-minute GOES-R EXIS/XRS L2 xrsf-l2-flx1s    Unknown  Unknown ACDD-1.3, Spase v2.2.6        NCEI Boulder                    SCI cli-xrs04_avg     2021-03-19                 None            [2, 2] goesr.exis@noaa.gov DOC/NOAA/NESDIS/NCEI/OGSSD/STP Janet Machol       person https://www.ncei.noaa.gov/ 2023-07-19T20:58:54.663Z e255931a87f3b96db2357cc0c6a8287050bb3766 See algorithm information. sci_xrsf-l2-avg1m_g18_d20230707_v2-2-0.nc sci_mpsh-l2-avg1m_g18_d20230707_v2-0-1.nc, sci_xrsf-l2-flx1s_g18_d20230707_v2-2-0.nc sci_mpsh-l2-avg1m_g18_d20230707_v2-0-1.nc, sci_xrsf-l2-flx1s_g18_d20230707_v2-2-0.nc                  2                       sci DOC/NOAA/NESDIS           FM3 NumericalData.MeasurementType.Irradiance SPASE: Space Physics Archive Search and Extract Data Model version 2.2.6, GCMD: NASA Global Change Master Directory (GCMD) Earth Science Keywords version 8.5 These data may be redistributed and used without restriction.                 gov.nesdis.noaa    GOES-West      g18          Level 2             Derived products g18_xrs-avg-electron-contam-lut_v0.h5 Geostationary Operational Environmental Satellite, R-Series (GOES-R) Geostationary Operational Environmental Satellite R-Series (GOES-R) Core Ground Segment, Satellite Product Analysis and Distribution System (SPADES) goesr.exis@noaa.gov  DOC/NOAA/NESDIS/NCEI National Centers for Environmental Information    institution https://www.ncei.noaa.gov/ GOES-R XRS.04 Algorithm Theoretical Basis Document The EXIS X-Ray Sensor (XRS) measures in a short wavelength channel (XRS-A) between 0.05 and 0.4 nm and in a longer wavelength channel (XRS-B) between 0.1 and 0.8 nm. The X-ray flux average product consists of 1 minute averages of the 1-s X-ray solar measurements. Flux is provided with and without electron contamination removed. 2023-07-08T00:00:00.000Z                     PT1M 2023-07-07T00:00:00.000Z L2 XRS 1 minute average\n",
      "sci_xrsf-l2-avg1m_g18_d20230708_v2-2-0.nc   GOES-18 GOES R Series Extreme Ultraviolet Sensor and X-ray Irradiance Sensors (EXIS)         L2   1-minute GOES-R EXIS/XRS L2 xrsf-l2-flx1s    Unknown  Unknown ACDD-1.3, Spase v2.2.6        NCEI Boulder                    SCI cli-xrs04_avg     2021-03-19                 None            [2, 2] goesr.exis@noaa.gov DOC/NOAA/NESDIS/NCEI/OGSSD/STP Janet Machol       person https://www.ncei.noaa.gov/ 2023-07-19T20:58:56.425Z e255931a87f3b96db2357cc0c6a8287050bb3766 See algorithm information. sci_xrsf-l2-avg1m_g18_d20230708_v2-2-0.nc sci_mpsh-l2-avg1m_g18_d20230708_v2-0-1.nc, sci_xrsf-l2-flx1s_g18_d20230708_v2-2-0.nc sci_mpsh-l2-avg1m_g18_d20230708_v2-0-1.nc, sci_xrsf-l2-flx1s_g18_d20230708_v2-2-0.nc                  2                       sci DOC/NOAA/NESDIS           FM3 NumericalData.MeasurementType.Irradiance SPASE: Space Physics Archive Search and Extract Data Model version 2.2.6, GCMD: NASA Global Change Master Directory (GCMD) Earth Science Keywords version 8.5 These data may be redistributed and used without restriction.                 gov.nesdis.noaa    GOES-West      g18          Level 2             Derived products g18_xrs-avg-electron-contam-lut_v0.h5 Geostationary Operational Environmental Satellite, R-Series (GOES-R) Geostationary Operational Environmental Satellite R-Series (GOES-R) Core Ground Segment, Satellite Product Analysis and Distribution System (SPADES) goesr.exis@noaa.gov  DOC/NOAA/NESDIS/NCEI National Centers for Environmental Information    institution https://www.ncei.noaa.gov/ GOES-R XRS.04 Algorithm Theoretical Basis Document The EXIS X-Ray Sensor (XRS) measures in a short wavelength channel (XRS-A) between 0.05 and 0.4 nm and in a longer wavelength channel (XRS-B) between 0.1 and 0.8 nm. The X-ray flux average product consists of 1 minute averages of the 1-s X-ray solar measurements. Flux is provided with and without electron contamination removed. 2023-07-09T00:00:00.000Z                     PT1M 2023-07-08T00:00:00.000Z L2 XRS 1 minute average\n",
      "sci_xrsf-l2-avg1m_g18_d20230709_v2-2-0.nc   GOES-18 GOES R Series Extreme Ultraviolet Sensor and X-ray Irradiance Sensors (EXIS)         L2   1-minute GOES-R EXIS/XRS L2 xrsf-l2-flx1s    Unknown  Unknown ACDD-1.3, Spase v2.2.6        NCEI Boulder                    SCI cli-xrs04_avg     2021-03-19                 None            [2, 2] goesr.exis@noaa.gov DOC/NOAA/NESDIS/NCEI/OGSSD/STP Janet Machol       person https://www.ncei.noaa.gov/ 2023-07-19T20:58:56.905Z e255931a87f3b96db2357cc0c6a8287050bb3766 See algorithm information. sci_xrsf-l2-avg1m_g18_d20230709_v2-2-0.nc sci_mpsh-l2-avg1m_g18_d20230709_v2-0-1.nc, sci_xrsf-l2-flx1s_g18_d20230709_v2-2-0.nc sci_mpsh-l2-avg1m_g18_d20230709_v2-0-1.nc, sci_xrsf-l2-flx1s_g18_d20230709_v2-2-0.nc                  2                       sci DOC/NOAA/NESDIS           FM3 NumericalData.MeasurementType.Irradiance SPASE: Space Physics Archive Search and Extract Data Model version 2.2.6, GCMD: NASA Global Change Master Directory (GCMD) Earth Science Keywords version 8.5 These data may be redistributed and used without restriction.                 gov.nesdis.noaa    GOES-West      g18          Level 2             Derived products g18_xrs-avg-electron-contam-lut_v0.h5 Geostationary Operational Environmental Satellite, R-Series (GOES-R) Geostationary Operational Environmental Satellite R-Series (GOES-R) Core Ground Segment, Satellite Product Analysis and Distribution System (SPADES) goesr.exis@noaa.gov  DOC/NOAA/NESDIS/NCEI National Centers for Environmental Information    institution https://www.ncei.noaa.gov/ GOES-R XRS.04 Algorithm Theoretical Basis Document The EXIS X-Ray Sensor (XRS) measures in a short wavelength channel (XRS-A) between 0.05 and 0.4 nm and in a longer wavelength channel (XRS-B) between 0.1 and 0.8 nm. The X-ray flux average product consists of 1 minute averages of the 1-s X-ray solar measurements. Flux is provided with and without electron contamination removed. 2023-07-10T00:00:00.000Z                     PT1M 2023-07-09T00:00:00.000Z L2 XRS 1 minute average\n",
      "sci_xrsf-l2-avg1m_g18_d20230710_v2-2-0.nc   GOES-18 GOES R Series Extreme Ultraviolet Sensor and X-ray Irradiance Sensors (EXIS)         L2   1-minute GOES-R EXIS/XRS L2 xrsf-l2-flx1s    Unknown  Unknown ACDD-1.3, Spase v2.2.6        NCEI Boulder                    SCI cli-xrs04_avg     2021-03-19                 None            [2, 2] goesr.exis@noaa.gov DOC/NOAA/NESDIS/NCEI/OGSSD/STP Janet Machol       person https://www.ncei.noaa.gov/ 2023-07-19T20:59:07.961Z e255931a87f3b96db2357cc0c6a8287050bb3766 See algorithm information. sci_xrsf-l2-avg1m_g18_d20230710_v2-2-0.nc sci_mpsh-l2-avg1m_g18_d20230710_v2-0-1.nc, sci_xrsf-l2-flx1s_g18_d20230710_v2-2-0.nc sci_mpsh-l2-avg1m_g18_d20230710_v2-0-1.nc, sci_xrsf-l2-flx1s_g18_d20230710_v2-2-0.nc                  2                       sci DOC/NOAA/NESDIS           FM3 NumericalData.MeasurementType.Irradiance SPASE: Space Physics Archive Search and Extract Data Model version 2.2.6, GCMD: NASA Global Change Master Directory (GCMD) Earth Science Keywords version 8.5 These data may be redistributed and used without restriction.                 gov.nesdis.noaa    GOES-West      g18          Level 2             Derived products g18_xrs-avg-electron-contam-lut_v0.h5 Geostationary Operational Environmental Satellite, R-Series (GOES-R) Geostationary Operational Environmental Satellite R-Series (GOES-R) Core Ground Segment, Satellite Product Analysis and Distribution System (SPADES) goesr.exis@noaa.gov  DOC/NOAA/NESDIS/NCEI National Centers for Environmental Information    institution https://www.ncei.noaa.gov/ GOES-R XRS.04 Algorithm Theoretical Basis Document The EXIS X-Ray Sensor (XRS) measures in a short wavelength channel (XRS-A) between 0.05 and 0.4 nm and in a longer wavelength channel (XRS-B) between 0.1 and 0.8 nm. The X-ray flux average product consists of 1 minute averages of the 1-s X-ray solar measurements. Flux is provided with and without electron contamination removed. 2023-07-11T00:00:00.000Z                     PT1M 2023-07-10T00:00:00.000Z L2 XRS 1 minute average\n",
      "sci_xrsf-l2-avg1m_g18_d20230711_v2-2-0.nc   GOES-18 GOES R Series Extreme Ultraviolet Sensor and X-ray Irradiance Sensors (EXIS)         L2   1-minute GOES-R EXIS/XRS L2 xrsf-l2-flx1s    Unknown  Unknown ACDD-1.3, Spase v2.2.6        NCEI Boulder                    SCI cli-xrs04_avg     2021-03-19                 None            [2, 2] goesr.exis@noaa.gov DOC/NOAA/NESDIS/NCEI/OGSSD/STP Janet Machol       person https://www.ncei.noaa.gov/ 2023-07-19T20:59:09.078Z e255931a87f3b96db2357cc0c6a8287050bb3766 See algorithm information. sci_xrsf-l2-avg1m_g18_d20230711_v2-2-0.nc sci_mpsh-l2-avg1m_g18_d20230711_v2-0-1.nc, sci_xrsf-l2-flx1s_g18_d20230711_v2-2-0.nc sci_mpsh-l2-avg1m_g18_d20230711_v2-0-1.nc, sci_xrsf-l2-flx1s_g18_d20230711_v2-2-0.nc                  2                       sci DOC/NOAA/NESDIS           FM3 NumericalData.MeasurementType.Irradiance SPASE: Space Physics Archive Search and Extract Data Model version 2.2.6, GCMD: NASA Global Change Master Directory (GCMD) Earth Science Keywords version 8.5 These data may be redistributed and used without restriction.                 gov.nesdis.noaa    GOES-West      g18          Level 2             Derived products g18_xrs-avg-electron-contam-lut_v0.h5 Geostationary Operational Environmental Satellite, R-Series (GOES-R) Geostationary Operational Environmental Satellite R-Series (GOES-R) Core Ground Segment, Satellite Product Analysis and Distribution System (SPADES) goesr.exis@noaa.gov  DOC/NOAA/NESDIS/NCEI National Centers for Environmental Information    institution https://www.ncei.noaa.gov/ GOES-R XRS.04 Algorithm Theoretical Basis Document The EXIS X-Ray Sensor (XRS) measures in a short wavelength channel (XRS-A) between 0.05 and 0.4 nm and in a longer wavelength channel (XRS-B) between 0.1 and 0.8 nm. The X-ray flux average product consists of 1 minute averages of the 1-s X-ray solar measurements. Flux is provided with and without electron contamination removed. 2023-07-12T00:00:00.000Z                     PT1M 2023-07-11T00:00:00.000Z L2 XRS 1 minute average\n",
      "sci_xrsf-l2-avg1m_g18_d20230712_v2-2-0.nc   GOES-18 GOES R Series Extreme Ultraviolet Sensor and X-ray Irradiance Sensors (EXIS)         L2   1-minute GOES-R EXIS/XRS L2 xrsf-l2-flx1s    Unknown  Unknown ACDD-1.3, Spase v2.2.6        NCEI Boulder                    SCI cli-xrs04_avg     2021-03-19                 None            [2, 2] goesr.exis@noaa.gov DOC/NOAA/NESDIS/NCEI/OGSSD/STP Janet Machol       person https://www.ncei.noaa.gov/ 2023-07-19T05:31:21.503Z e255931a87f3b96db2357cc0c6a8287050bb3766 See algorithm information. sci_xrsf-l2-avg1m_g18_d20230712_v2-2-0.nc sci_mpsh-l2-avg1m_g18_d20230712_v2-0-1.nc, sci_xrsf-l2-flx1s_g18_d20230712_v2-2-0.nc sci_mpsh-l2-avg1m_g18_d20230712_v2-0-1.nc, sci_xrsf-l2-flx1s_g18_d20230712_v2-2-0.nc                  2                       sci DOC/NOAA/NESDIS           FM3 NumericalData.MeasurementType.Irradiance SPASE: Space Physics Archive Search and Extract Data Model version 2.2.6, GCMD: NASA Global Change Master Directory (GCMD) Earth Science Keywords version 8.5 These data may be redistributed and used without restriction.                 gov.nesdis.noaa    GOES-West      g18          Level 2             Derived products g18_xrs-avg-electron-contam-lut_v0.h5 Geostationary Operational Environmental Satellite, R-Series (GOES-R) Geostationary Operational Environmental Satellite R-Series (GOES-R) Core Ground Segment, Satellite Product Analysis and Distribution System (SPADES) goesr.exis@noaa.gov  DOC/NOAA/NESDIS/NCEI National Centers for Environmental Information    institution https://www.ncei.noaa.gov/ GOES-R XRS.04 Algorithm Theoretical Basis Document The EXIS X-Ray Sensor (XRS) measures in a short wavelength channel (XRS-A) between 0.05 and 0.4 nm and in a longer wavelength channel (XRS-B) between 0.1 and 0.8 nm. The X-ray flux average product consists of 1 minute averages of the 1-s X-ray solar measurements. Flux is provided with and without electron contamination removed. 2023-07-13T00:00:00.000Z                     PT1M 2023-07-12T00:00:00.000Z L2 XRS 1 minute average\n",
      "sci_xrsf-l2-avg1m_g18_d20230713_v2-2-0.nc   GOES-18 GOES R Series Extreme Ultraviolet Sensor and X-ray Irradiance Sensors (EXIS)         L2   1-minute GOES-R EXIS/XRS L2 xrsf-l2-flx1s    Unknown  Unknown ACDD-1.3, Spase v2.2.6        NCEI Boulder                    SCI cli-xrs04_avg     2021-03-19                 None            [2, 2] goesr.exis@noaa.gov DOC/NOAA/NESDIS/NCEI/OGSSD/STP Janet Machol       person https://www.ncei.noaa.gov/ 2023-07-20T06:37:41.268Z e255931a87f3b96db2357cc0c6a8287050bb3766 See algorithm information. sci_xrsf-l2-avg1m_g18_d20230713_v2-2-0.nc sci_mpsh-l2-avg1m_g18_d20230713_v2-0-1.nc, sci_xrsf-l2-flx1s_g18_d20230713_v2-2-0.nc sci_mpsh-l2-avg1m_g18_d20230713_v2-0-1.nc, sci_xrsf-l2-flx1s_g18_d20230713_v2-2-0.nc                  2                       sci DOC/NOAA/NESDIS           FM3 NumericalData.MeasurementType.Irradiance SPASE: Space Physics Archive Search and Extract Data Model version 2.2.6, GCMD: NASA Global Change Master Directory (GCMD) Earth Science Keywords version 8.5 These data may be redistributed and used without restriction.                 gov.nesdis.noaa    GOES-West      g18          Level 2             Derived products g18_xrs-avg-electron-contam-lut_v0.h5 Geostationary Operational Environmental Satellite, R-Series (GOES-R) Geostationary Operational Environmental Satellite R-Series (GOES-R) Core Ground Segment, Satellite Product Analysis and Distribution System (SPADES) goesr.exis@noaa.gov  DOC/NOAA/NESDIS/NCEI National Centers for Environmental Information    institution https://www.ncei.noaa.gov/ GOES-R XRS.04 Algorithm Theoretical Basis Document The EXIS X-Ray Sensor (XRS) measures in a short wavelength channel (XRS-A) between 0.05 and 0.4 nm and in a longer wavelength channel (XRS-B) between 0.1 and 0.8 nm. The X-ray flux average product consists of 1 minute averages of the 1-s X-ray solar measurements. Flux is provided with and without electron contamination removed. 2023-07-14T00:00:00.000Z                     PT1M 2023-07-13T00:00:00.000Z L2 XRS 1 minute average\n",
      "sci_xrsf-l2-avg1m_g18_d20230714_v2-2-0.nc   GOES-18 GOES R Series Extreme Ultraviolet Sensor and X-ray Irradiance Sensors (EXIS)         L2   1-minute GOES-R EXIS/XRS L2 xrsf-l2-flx1s    Unknown  Unknown ACDD-1.3, Spase v2.2.6        NCEI Boulder                    SCI cli-xrs04_avg     2021-03-19                 None            [2, 2] goesr.exis@noaa.gov DOC/NOAA/NESDIS/NCEI/OGSSD/STP Janet Machol       person https://www.ncei.noaa.gov/ 2023-07-21T06:18:25.055Z e255931a87f3b96db2357cc0c6a8287050bb3766 See algorithm information. sci_xrsf-l2-avg1m_g18_d20230714_v2-2-0.nc sci_mpsh-l2-avg1m_g18_d20230714_v2-0-1.nc, sci_xrsf-l2-flx1s_g18_d20230714_v2-2-0.nc sci_mpsh-l2-avg1m_g18_d20230714_v2-0-1.nc, sci_xrsf-l2-flx1s_g18_d20230714_v2-2-0.nc                  2                       sci DOC/NOAA/NESDIS           FM3 NumericalData.MeasurementType.Irradiance SPASE: Space Physics Archive Search and Extract Data Model version 2.2.6, GCMD: NASA Global Change Master Directory (GCMD) Earth Science Keywords version 8.5 These data may be redistributed and used without restriction.                 gov.nesdis.noaa    GOES-West      g18          Level 2             Derived products g18_xrs-avg-electron-contam-lut_v0.h5 Geostationary Operational Environmental Satellite, R-Series (GOES-R) Geostationary Operational Environmental Satellite R-Series (GOES-R) Core Ground Segment, Satellite Product Analysis and Distribution System (SPADES) goesr.exis@noaa.gov  DOC/NOAA/NESDIS/NCEI National Centers for Environmental Information    institution https://www.ncei.noaa.gov/ GOES-R XRS.04 Algorithm Theoretical Basis Document The EXIS X-Ray Sensor (XRS) measures in a short wavelength channel (XRS-A) between 0.05 and 0.4 nm and in a longer wavelength channel (XRS-B) between 0.1 and 0.8 nm. The X-ray flux average product consists of 1 minute averages of the 1-s X-ray solar measurements. Flux is provided with and without electron contamination removed. 2023-07-15T00:00:00.000Z                     PT1M 2023-07-14T00:00:00.000Z L2 XRS 1 minute average\n",
      "sci_xrsf-l2-avg1m_g18_d20230715_v2-2-0.nc   GOES-18 GOES R Series Extreme Ultraviolet Sensor and X-ray Irradiance Sensors (EXIS)         L2   1-minute GOES-R EXIS/XRS L2 xrsf-l2-flx1s    Unknown  Unknown ACDD-1.3, Spase v2.2.6        NCEI Boulder                    SCI cli-xrs04_avg     2021-03-19                 None            [2, 2] goesr.exis@noaa.gov DOC/NOAA/NESDIS/NCEI/OGSSD/STP Janet Machol       person https://www.ncei.noaa.gov/ 2023-07-22T07:06:41.184Z e255931a87f3b96db2357cc0c6a8287050bb3766 See algorithm information. sci_xrsf-l2-avg1m_g18_d20230715_v2-2-0.nc sci_mpsh-l2-avg1m_g18_d20230715_v2-0-1.nc, sci_xrsf-l2-flx1s_g18_d20230715_v2-2-0.nc sci_mpsh-l2-avg1m_g18_d20230715_v2-0-1.nc, sci_xrsf-l2-flx1s_g18_d20230715_v2-2-0.nc                  2                       sci DOC/NOAA/NESDIS           FM3 NumericalData.MeasurementType.Irradiance SPASE: Space Physics Archive Search and Extract Data Model version 2.2.6, GCMD: NASA Global Change Master Directory (GCMD) Earth Science Keywords version 8.5 These data may be redistributed and used without restriction.                 gov.nesdis.noaa    GOES-West      g18          Level 2             Derived products g18_xrs-avg-electron-contam-lut_v0.h5 Geostationary Operational Environmental Satellite, R-Series (GOES-R) Geostationary Operational Environmental Satellite R-Series (GOES-R) Core Ground Segment, Satellite Product Analysis and Distribution System (SPADES) goesr.exis@noaa.gov  DOC/NOAA/NESDIS/NCEI National Centers for Environmental Information    institution https://www.ncei.noaa.gov/ GOES-R XRS.04 Algorithm Theoretical Basis Document The EXIS X-Ray Sensor (XRS) measures in a short wavelength channel (XRS-A) between 0.05 and 0.4 nm and in a longer wavelength channel (XRS-B) between 0.1 and 0.8 nm. The X-ray flux average product consists of 1 minute averages of the 1-s X-ray solar measurements. Flux is provided with and without electron contamination removed. 2023-07-16T00:00:00.000Z                     PT1M 2023-07-15T00:00:00.000Z L2 XRS 1 minute average\n",
      "sci_xrsf-l2-avg1m_g18_d20230716_v2-2-0.nc   GOES-18 GOES R Series Extreme Ultraviolet Sensor and X-ray Irradiance Sensors (EXIS)         L2   1-minute GOES-R EXIS/XRS L2 xrsf-l2-flx1s    Unknown  Unknown ACDD-1.3, Spase v2.2.6        NCEI Boulder                    SCI cli-xrs04_avg     2021-03-19                 None            [2, 2] goesr.exis@noaa.gov DOC/NOAA/NESDIS/NCEI/OGSSD/STP Janet Machol       person https://www.ncei.noaa.gov/ 2023-07-23T05:59:20.782Z e255931a87f3b96db2357cc0c6a8287050bb3766 See algorithm information. sci_xrsf-l2-avg1m_g18_d20230716_v2-2-0.nc sci_mpsh-l2-avg1m_g18_d20230716_v2-0-1.nc, sci_xrsf-l2-flx1s_g18_d20230716_v2-2-0.nc sci_mpsh-l2-avg1m_g18_d20230716_v2-0-1.nc, sci_xrsf-l2-flx1s_g18_d20230716_v2-2-0.nc                  2                       sci DOC/NOAA/NESDIS           FM3 NumericalData.MeasurementType.Irradiance SPASE: Space Physics Archive Search and Extract Data Model version 2.2.6, GCMD: NASA Global Change Master Directory (GCMD) Earth Science Keywords version 8.5 These data may be redistributed and used without restriction.                 gov.nesdis.noaa    GOES-West      g18          Level 2             Derived products g18_xrs-avg-electron-contam-lut_v0.h5 Geostationary Operational Environmental Satellite, R-Series (GOES-R) Geostationary Operational Environmental Satellite R-Series (GOES-R) Core Ground Segment, Satellite Product Analysis and Distribution System (SPADES) goesr.exis@noaa.gov  DOC/NOAA/NESDIS/NCEI National Centers for Environmental Information    institution https://www.ncei.noaa.gov/ GOES-R XRS.04 Algorithm Theoretical Basis Document The EXIS X-Ray Sensor (XRS) measures in a short wavelength channel (XRS-A) between 0.05 and 0.4 nm and in a longer wavelength channel (XRS-B) between 0.1 and 0.8 nm. The X-ray flux average product consists of 1 minute averages of the 1-s X-ray solar measurements. Flux is provided with and without electron contamination removed. 2023-07-17T00:00:00.000Z                     PT1M 2023-07-16T00:00:00.000Z L2 XRS 1 minute average\n",
      "sci_xrsf-l2-avg1m_g18_d20230717_v2-2-0.nc   GOES-18 GOES R Series Extreme Ultraviolet Sensor and X-ray Irradiance Sensors (EXIS)         L2   1-minute GOES-R EXIS/XRS L2 xrsf-l2-flx1s    Unknown  Unknown ACDD-1.3, Spase v2.2.6        NCEI Boulder                    SCI cli-xrs04_avg     2021-03-19                 None            [2, 2] goesr.exis@noaa.gov DOC/NOAA/NESDIS/NCEI/OGSSD/STP Janet Machol       person https://www.ncei.noaa.gov/ 2023-07-24T05:40:58.732Z e255931a87f3b96db2357cc0c6a8287050bb3766 See algorithm information. sci_xrsf-l2-avg1m_g18_d20230717_v2-2-0.nc sci_mpsh-l2-avg1m_g18_d20230717_v2-0-1.nc, sci_xrsf-l2-flx1s_g18_d20230717_v2-2-0.nc sci_mpsh-l2-avg1m_g18_d20230717_v2-0-1.nc, sci_xrsf-l2-flx1s_g18_d20230717_v2-2-0.nc                  2                       sci DOC/NOAA/NESDIS           FM3 NumericalData.MeasurementType.Irradiance SPASE: Space Physics Archive Search and Extract Data Model version 2.2.6, GCMD: NASA Global Change Master Directory (GCMD) Earth Science Keywords version 8.5 These data may be redistributed and used without restriction.                 gov.nesdis.noaa    GOES-West      g18          Level 2             Derived products g18_xrs-avg-electron-contam-lut_v0.h5 Geostationary Operational Environmental Satellite, R-Series (GOES-R) Geostationary Operational Environmental Satellite R-Series (GOES-R) Core Ground Segment, Satellite Product Analysis and Distribution System (SPADES) goesr.exis@noaa.gov  DOC/NOAA/NESDIS/NCEI National Centers for Environmental Information    institution https://www.ncei.noaa.gov/ GOES-R XRS.04 Algorithm Theoretical Basis Document The EXIS X-Ray Sensor (XRS) measures in a short wavelength channel (XRS-A) between 0.05 and 0.4 nm and in a longer wavelength channel (XRS-B) between 0.1 and 0.8 nm. The X-ray flux average product consists of 1 minute averages of the 1-s X-ray solar measurements. Flux is provided with and without electron contamination removed. 2023-07-18T00:00:00.000Z                     PT1M 2023-07-17T00:00:00.000Z L2 XRS 1 minute average\n",
      "sci_xrsf-l2-avg1m_g18_d20230718_v2-2-0.nc   GOES-18 GOES R Series Extreme Ultraviolet Sensor and X-ray Irradiance Sensors (EXIS)         L2   1-minute GOES-R EXIS/XRS L2 xrsf-l2-flx1s    Unknown  Unknown ACDD-1.3, Spase v2.2.6        NCEI Boulder                    SCI cli-xrs04_avg     2021-03-19                 None            [2, 2] goesr.exis@noaa.gov DOC/NOAA/NESDIS/NCEI/OGSSD/STP Janet Machol       person https://www.ncei.noaa.gov/ 2023-07-25T07:09:10.359Z e255931a87f3b96db2357cc0c6a8287050bb3766 See algorithm information. sci_xrsf-l2-avg1m_g18_d20230718_v2-2-0.nc sci_mpsh-l2-avg1m_g18_d20230718_v2-0-1.nc, sci_xrsf-l2-flx1s_g18_d20230718_v2-2-0.nc sci_mpsh-l2-avg1m_g18_d20230718_v2-0-1.nc, sci_xrsf-l2-flx1s_g18_d20230718_v2-2-0.nc                  2                       sci DOC/NOAA/NESDIS           FM3 NumericalData.MeasurementType.Irradiance SPASE: Space Physics Archive Search and Extract Data Model version 2.2.6, GCMD: NASA Global Change Master Directory (GCMD) Earth Science Keywords version 8.5 These data may be redistributed and used without restriction.                 gov.nesdis.noaa    GOES-West      g18          Level 2             Derived products g18_xrs-avg-electron-contam-lut_v0.h5 Geostationary Operational Environmental Satellite, R-Series (GOES-R) Geostationary Operational Environmental Satellite R-Series (GOES-R) Core Ground Segment, Satellite Product Analysis and Distribution System (SPADES) goesr.exis@noaa.gov  DOC/NOAA/NESDIS/NCEI National Centers for Environmental Information    institution https://www.ncei.noaa.gov/ GOES-R XRS.04 Algorithm Theoretical Basis Document The EXIS X-Ray Sensor (XRS) measures in a short wavelength channel (XRS-A) between 0.05 and 0.4 nm and in a longer wavelength channel (XRS-B) between 0.1 and 0.8 nm. The X-ray flux average product consists of 1 minute averages of the 1-s X-ray solar measurements. Flux is provided with and without electron contamination removed. 2023-07-19T00:00:00.000Z                     PT1M 2023-07-18T00:00:00.000Z L2 XRS 1 minute average\n",
      "sci_xrsf-l2-avg1m_g18_d20230719_v2-2-0.nc   GOES-18 GOES R Series Extreme Ultraviolet Sensor and X-ray Irradiance Sensors (EXIS)         L2   1-minute GOES-R EXIS/XRS L2 xrsf-l2-flx1s    Unknown  Unknown ACDD-1.3, Spase v2.2.6        NCEI Boulder                    SCI cli-xrs04_avg     2021-03-19                 None            [2, 2] goesr.exis@noaa.gov DOC/NOAA/NESDIS/NCEI/OGSSD/STP Janet Machol       person https://www.ncei.noaa.gov/ 2023-07-26T06:27:59.128Z e255931a87f3b96db2357cc0c6a8287050bb3766 See algorithm information. sci_xrsf-l2-avg1m_g18_d20230719_v2-2-0.nc sci_mpsh-l2-avg1m_g18_d20230719_v2-0-1.nc, sci_xrsf-l2-flx1s_g18_d20230719_v2-2-0.nc sci_mpsh-l2-avg1m_g18_d20230719_v2-0-1.nc, sci_xrsf-l2-flx1s_g18_d20230719_v2-2-0.nc                  2                       sci DOC/NOAA/NESDIS           FM3 NumericalData.MeasurementType.Irradiance SPASE: Space Physics Archive Search and Extract Data Model version 2.2.6, GCMD: NASA Global Change Master Directory (GCMD) Earth Science Keywords version 8.5 These data may be redistributed and used without restriction.                 gov.nesdis.noaa    GOES-West      g18          Level 2             Derived products g18_xrs-avg-electron-contam-lut_v0.h5 Geostationary Operational Environmental Satellite, R-Series (GOES-R) Geostationary Operational Environmental Satellite R-Series (GOES-R) Core Ground Segment, Satellite Product Analysis and Distribution System (SPADES) goesr.exis@noaa.gov  DOC/NOAA/NESDIS/NCEI National Centers for Environmental Information    institution https://www.ncei.noaa.gov/ GOES-R XRS.04 Algorithm Theoretical Basis Document The EXIS X-Ray Sensor (XRS) measures in a short wavelength channel (XRS-A) between 0.05 and 0.4 nm and in a longer wavelength channel (XRS-B) between 0.1 and 0.8 nm. The X-ray flux average product consists of 1 minute averages of the 1-s X-ray solar measurements. Flux is provided with and without electron contamination removed. 2023-07-20T00:00:00.000Z                     PT1M 2023-07-19T00:00:00.000Z L2 XRS 1 minute average\n",
      "sci_xrsf-l2-avg1m_g18_d20230720_v2-2-0.nc   GOES-18 GOES R Series Extreme Ultraviolet Sensor and X-ray Irradiance Sensors (EXIS)         L2   1-minute GOES-R EXIS/XRS L2 xrsf-l2-flx1s    Unknown  Unknown ACDD-1.3, Spase v2.2.6        NCEI Boulder                    SCI cli-xrs04_avg     2021-03-19                 None            [2, 2] goesr.exis@noaa.gov DOC/NOAA/NESDIS/NCEI/OGSSD/STP Janet Machol       person https://www.ncei.noaa.gov/ 2023-07-27T06:26:42.158Z e255931a87f3b96db2357cc0c6a8287050bb3766 See algorithm information. sci_xrsf-l2-avg1m_g18_d20230720_v2-2-0.nc sci_mpsh-l2-avg1m_g18_d20230720_v2-0-1.nc, sci_xrsf-l2-flx1s_g18_d20230720_v2-2-0.nc sci_mpsh-l2-avg1m_g18_d20230720_v2-0-1.nc, sci_xrsf-l2-flx1s_g18_d20230720_v2-2-0.nc                  2                       sci DOC/NOAA/NESDIS           FM3 NumericalData.MeasurementType.Irradiance SPASE: Space Physics Archive Search and Extract Data Model version 2.2.6, GCMD: NASA Global Change Master Directory (GCMD) Earth Science Keywords version 8.5 These data may be redistributed and used without restriction.                 gov.nesdis.noaa    GOES-West      g18          Level 2             Derived products g18_xrs-avg-electron-contam-lut_v0.h5 Geostationary Operational Environmental Satellite, R-Series (GOES-R) Geostationary Operational Environmental Satellite R-Series (GOES-R) Core Ground Segment, Satellite Product Analysis and Distribution System (SPADES) goesr.exis@noaa.gov  DOC/NOAA/NESDIS/NCEI National Centers for Environmental Information    institution https://www.ncei.noaa.gov/ GOES-R XRS.04 Algorithm Theoretical Basis Document The EXIS X-Ray Sensor (XRS) measures in a short wavelength channel (XRS-A) between 0.05 and 0.4 nm and in a longer wavelength channel (XRS-B) between 0.1 and 0.8 nm. The X-ray flux average product consists of 1 minute averages of the 1-s X-ray solar measurements. Flux is provided with and without electron contamination removed. 2023-07-21T00:00:00.000Z                     PT1M 2023-07-20T00:00:00.000Z L2 XRS 1 minute average\n",
      "sci_xrsf-l2-avg1m_g18_d20230721_v2-2-0.nc   GOES-18 GOES R Series Extreme Ultraviolet Sensor and X-ray Irradiance Sensors (EXIS)         L2   1-minute GOES-R EXIS/XRS L2 xrsf-l2-flx1s    Unknown  Unknown ACDD-1.3, Spase v2.2.6        NCEI Boulder                    SCI cli-xrs04_avg     2021-03-19                 None            [2, 2] goesr.exis@noaa.gov DOC/NOAA/NESDIS/NCEI/OGSSD/STP Janet Machol       person https://www.ncei.noaa.gov/ 2023-07-28T06:29:51.962Z e255931a87f3b96db2357cc0c6a8287050bb3766 See algorithm information. sci_xrsf-l2-avg1m_g18_d20230721_v2-2-0.nc sci_mpsh-l2-avg1m_g18_d20230721_v2-0-1.nc, sci_xrsf-l2-flx1s_g18_d20230721_v2-2-0.nc sci_mpsh-l2-avg1m_g18_d20230721_v2-0-1.nc, sci_xrsf-l2-flx1s_g18_d20230721_v2-2-0.nc                  2                       sci DOC/NOAA/NESDIS           FM3 NumericalData.MeasurementType.Irradiance SPASE: Space Physics Archive Search and Extract Data Model version 2.2.6, GCMD: NASA Global Change Master Directory (GCMD) Earth Science Keywords version 8.5 These data may be redistributed and used without restriction.                 gov.nesdis.noaa    GOES-West      g18          Level 2             Derived products g18_xrs-avg-electron-contam-lut_v0.h5 Geostationary Operational Environmental Satellite, R-Series (GOES-R) Geostationary Operational Environmental Satellite R-Series (GOES-R) Core Ground Segment, Satellite Product Analysis and Distribution System (SPADES) goesr.exis@noaa.gov  DOC/NOAA/NESDIS/NCEI National Centers for Environmental Information    institution https://www.ncei.noaa.gov/ GOES-R XRS.04 Algorithm Theoretical Basis Document The EXIS X-Ray Sensor (XRS) measures in a short wavelength channel (XRS-A) between 0.05 and 0.4 nm and in a longer wavelength channel (XRS-B) between 0.1 and 0.8 nm. The X-ray flux average product consists of 1 minute averages of the 1-s X-ray solar measurements. Flux is provided with and without electron contamination removed. 2023-07-22T00:00:00.000Z                     PT1M 2023-07-21T00:00:00.000Z L2 XRS 1 minute average\n",
      "sci_xrsf-l2-avg1m_g18_d20230722_v2-2-0.nc   GOES-18 GOES R Series Extreme Ultraviolet Sensor and X-ray Irradiance Sensors (EXIS)         L2   1-minute GOES-R EXIS/XRS L2 xrsf-l2-flx1s    Unknown  Unknown ACDD-1.3, Spase v2.2.6        NCEI Boulder                    SCI cli-xrs04_avg     2021-03-19                 None            [2, 2] goesr.exis@noaa.gov DOC/NOAA/NESDIS/NCEI/OGSSD/STP Janet Machol       person https://www.ncei.noaa.gov/ 2023-07-29T07:06:08.509Z e255931a87f3b96db2357cc0c6a8287050bb3766 See algorithm information. sci_xrsf-l2-avg1m_g18_d20230722_v2-2-0.nc sci_mpsh-l2-avg1m_g18_d20230722_v2-0-1.nc, sci_xrsf-l2-flx1s_g18_d20230722_v2-2-0.nc sci_mpsh-l2-avg1m_g18_d20230722_v2-0-1.nc, sci_xrsf-l2-flx1s_g18_d20230722_v2-2-0.nc                  2                       sci DOC/NOAA/NESDIS           FM3 NumericalData.MeasurementType.Irradiance SPASE: Space Physics Archive Search and Extract Data Model version 2.2.6, GCMD: NASA Global Change Master Directory (GCMD) Earth Science Keywords version 8.5 These data may be redistributed and used without restriction.                 gov.nesdis.noaa    GOES-West      g18          Level 2             Derived products g18_xrs-avg-electron-contam-lut_v0.h5 Geostationary Operational Environmental Satellite, R-Series (GOES-R) Geostationary Operational Environmental Satellite R-Series (GOES-R) Core Ground Segment, Satellite Product Analysis and Distribution System (SPADES) goesr.exis@noaa.gov  DOC/NOAA/NESDIS/NCEI National Centers for Environmental Information    institution https://www.ncei.noaa.gov/ GOES-R XRS.04 Algorithm Theoretical Basis Document The EXIS X-Ray Sensor (XRS) measures in a short wavelength channel (XRS-A) between 0.05 and 0.4 nm and in a longer wavelength channel (XRS-B) between 0.1 and 0.8 nm. The X-ray flux average product consists of 1 minute averages of the 1-s X-ray solar measurements. Flux is provided with and without electron contamination removed. 2023-07-23T00:00:00.000Z                     PT1M 2023-07-22T00:00:00.000Z L2 XRS 1 minute average\n",
      "sci_xrsf-l2-avg1m_g18_d20230723_v2-2-0.nc   GOES-18 GOES R Series Extreme Ultraviolet Sensor and X-ray Irradiance Sensors (EXIS)         L2   1-minute GOES-R EXIS/XRS L2 xrsf-l2-flx1s    Unknown  Unknown ACDD-1.3, Spase v2.2.6        NCEI Boulder                    SCI cli-xrs04_avg     2021-03-19                 None            [2, 2] goesr.exis@noaa.gov DOC/NOAA/NESDIS/NCEI/OGSSD/STP Janet Machol       person https://www.ncei.noaa.gov/ 2023-07-30T07:20:26.843Z e255931a87f3b96db2357cc0c6a8287050bb3766 See algorithm information. sci_xrsf-l2-avg1m_g18_d20230723_v2-2-0.nc sci_mpsh-l2-avg1m_g18_d20230723_v2-0-1.nc, sci_xrsf-l2-flx1s_g18_d20230723_v2-2-0.nc sci_mpsh-l2-avg1m_g18_d20230723_v2-0-1.nc, sci_xrsf-l2-flx1s_g18_d20230723_v2-2-0.nc                  2                       sci DOC/NOAA/NESDIS           FM3 NumericalData.MeasurementType.Irradiance SPASE: Space Physics Archive Search and Extract Data Model version 2.2.6, GCMD: NASA Global Change Master Directory (GCMD) Earth Science Keywords version 8.5 These data may be redistributed and used without restriction.                 gov.nesdis.noaa    GOES-West      g18          Level 2             Derived products g18_xrs-avg-electron-contam-lut_v0.h5 Geostationary Operational Environmental Satellite, R-Series (GOES-R) Geostationary Operational Environmental Satellite R-Series (GOES-R) Core Ground Segment, Satellite Product Analysis and Distribution System (SPADES) goesr.exis@noaa.gov  DOC/NOAA/NESDIS/NCEI National Centers for Environmental Information    institution https://www.ncei.noaa.gov/ GOES-R XRS.04 Algorithm Theoretical Basis Document The EXIS X-Ray Sensor (XRS) measures in a short wavelength channel (XRS-A) between 0.05 and 0.4 nm and in a longer wavelength channel (XRS-B) between 0.1 and 0.8 nm. The X-ray flux average product consists of 1 minute averages of the 1-s X-ray solar measurements. Flux is provided with and without electron contamination removed. 2023-07-24T00:00:00.000Z                     PT1M 2023-07-23T00:00:00.000Z L2 XRS 1 minute average\n",
      "sci_xrsf-l2-avg1m_g18_d20230724_v2-2-0.nc   GOES-18 GOES R Series Extreme Ultraviolet Sensor and X-ray Irradiance Sensors (EXIS)         L2   1-minute GOES-R EXIS/XRS L2 xrsf-l2-flx1s    Unknown  Unknown ACDD-1.3, Spase v2.2.6        NCEI Boulder                    SCI cli-xrs04_avg     2021-03-19                 None            [2, 2] goesr.exis@noaa.gov DOC/NOAA/NESDIS/NCEI/OGSSD/STP Janet Machol       person https://www.ncei.noaa.gov/ 2023-07-31T06:37:05.010Z e255931a87f3b96db2357cc0c6a8287050bb3766 See algorithm information. sci_xrsf-l2-avg1m_g18_d20230724_v2-2-0.nc sci_mpsh-l2-avg1m_g18_d20230724_v2-0-1.nc, sci_xrsf-l2-flx1s_g18_d20230724_v2-2-0.nc sci_mpsh-l2-avg1m_g18_d20230724_v2-0-1.nc, sci_xrsf-l2-flx1s_g18_d20230724_v2-2-0.nc                  2                       sci DOC/NOAA/NESDIS           FM3 NumericalData.MeasurementType.Irradiance SPASE: Space Physics Archive Search and Extract Data Model version 2.2.6, GCMD: NASA Global Change Master Directory (GCMD) Earth Science Keywords version 8.5 These data may be redistributed and used without restriction.                 gov.nesdis.noaa    GOES-West      g18          Level 2             Derived products g18_xrs-avg-electron-contam-lut_v0.h5 Geostationary Operational Environmental Satellite, R-Series (GOES-R) Geostationary Operational Environmental Satellite R-Series (GOES-R) Core Ground Segment, Satellite Product Analysis and Distribution System (SPADES) goesr.exis@noaa.gov  DOC/NOAA/NESDIS/NCEI National Centers for Environmental Information    institution https://www.ncei.noaa.gov/ GOES-R XRS.04 Algorithm Theoretical Basis Document The EXIS X-Ray Sensor (XRS) measures in a short wavelength channel (XRS-A) between 0.05 and 0.4 nm and in a longer wavelength channel (XRS-B) between 0.1 and 0.8 nm. The X-ray flux average product consists of 1 minute averages of the 1-s X-ray solar measurements. Flux is provided with and without electron contamination removed. 2023-07-25T00:00:00.000Z                     PT1M 2023-07-24T00:00:00.000Z L2 XRS 1 minute average\n",
      "sci_xrsf-l2-avg1m_g18_d20230725_v2-2-0.nc   GOES-18 GOES R Series Extreme Ultraviolet Sensor and X-ray Irradiance Sensors (EXIS)         L2   1-minute GOES-R EXIS/XRS L2 xrsf-l2-flx1s    Unknown  Unknown ACDD-1.3, Spase v2.2.6        NCEI Boulder                    SCI cli-xrs04_avg     2021-03-19                 None            [2, 2] goesr.exis@noaa.gov DOC/NOAA/NESDIS/NCEI/OGSSD/STP Janet Machol       person https://www.ncei.noaa.gov/ 2023-08-01T07:00:50.422Z e255931a87f3b96db2357cc0c6a8287050bb3766 See algorithm information. sci_xrsf-l2-avg1m_g18_d20230725_v2-2-0.nc sci_mpsh-l2-avg1m_g18_d20230725_v2-0-1.nc, sci_xrsf-l2-flx1s_g18_d20230725_v2-2-0.nc sci_mpsh-l2-avg1m_g18_d20230725_v2-0-1.nc, sci_xrsf-l2-flx1s_g18_d20230725_v2-2-0.nc                  2                       sci DOC/NOAA/NESDIS           FM3 NumericalData.MeasurementType.Irradiance SPASE: Space Physics Archive Search and Extract Data Model version 2.2.6, GCMD: NASA Global Change Master Directory (GCMD) Earth Science Keywords version 8.5 These data may be redistributed and used without restriction.                 gov.nesdis.noaa    GOES-West      g18          Level 2             Derived products g18_xrs-avg-electron-contam-lut_v0.h5 Geostationary Operational Environmental Satellite, R-Series (GOES-R) Geostationary Operational Environmental Satellite R-Series (GOES-R) Core Ground Segment, Satellite Product Analysis and Distribution System (SPADES) goesr.exis@noaa.gov  DOC/NOAA/NESDIS/NCEI National Centers for Environmental Information    institution https://www.ncei.noaa.gov/ GOES-R XRS.04 Algorithm Theoretical Basis Document The EXIS X-Ray Sensor (XRS) measures in a short wavelength channel (XRS-A) between 0.05 and 0.4 nm and in a longer wavelength channel (XRS-B) between 0.1 and 0.8 nm. The X-ray flux average product consists of 1 minute averages of the 1-s X-ray solar measurements. Flux is provided with and without electron contamination removed. 2023-07-26T00:00:00.000Z                     PT1M 2023-07-25T00:00:00.000Z L2 XRS 1 minute average\n",
      "sci_xrsf-l2-avg1m_g18_d20230726_v2-2-0.nc   GOES-18 GOES R Series Extreme Ultraviolet Sensor and X-ray Irradiance Sensors (EXIS)         L2   1-minute GOES-R EXIS/XRS L2 xrsf-l2-flx1s    Unknown  Unknown ACDD-1.3, Spase v2.2.6        NCEI Boulder                    SCI cli-xrs04_avg     2021-03-19                 None            [2, 2] goesr.exis@noaa.gov DOC/NOAA/NESDIS/NCEI/OGSSD/STP Janet Machol       person https://www.ncei.noaa.gov/ 2023-08-02T06:02:57.075Z e255931a87f3b96db2357cc0c6a8287050bb3766 See algorithm information. sci_xrsf-l2-avg1m_g18_d20230726_v2-2-0.nc sci_mpsh-l2-avg1m_g18_d20230726_v2-0-1.nc, sci_xrsf-l2-flx1s_g18_d20230726_v2-2-0.nc sci_mpsh-l2-avg1m_g18_d20230726_v2-0-1.nc, sci_xrsf-l2-flx1s_g18_d20230726_v2-2-0.nc                  2                       sci DOC/NOAA/NESDIS           FM3 NumericalData.MeasurementType.Irradiance SPASE: Space Physics Archive Search and Extract Data Model version 2.2.6, GCMD: NASA Global Change Master Directory (GCMD) Earth Science Keywords version 8.5 These data may be redistributed and used without restriction.                 gov.nesdis.noaa    GOES-West      g18          Level 2             Derived products g18_xrs-avg-electron-contam-lut_v0.h5 Geostationary Operational Environmental Satellite, R-Series (GOES-R) Geostationary Operational Environmental Satellite R-Series (GOES-R) Core Ground Segment, Satellite Product Analysis and Distribution System (SPADES) goesr.exis@noaa.gov  DOC/NOAA/NESDIS/NCEI National Centers for Environmental Information    institution https://www.ncei.noaa.gov/ GOES-R XRS.04 Algorithm Theoretical Basis Document The EXIS X-Ray Sensor (XRS) measures in a short wavelength channel (XRS-A) between 0.05 and 0.4 nm and in a longer wavelength channel (XRS-B) between 0.1 and 0.8 nm. The X-ray flux average product consists of 1 minute averages of the 1-s X-ray solar measurements. Flux is provided with and without electron contamination removed. 2023-07-27T00:00:00.000Z                     PT1M 2023-07-26T00:00:00.000Z L2 XRS 1 minute average\n",
      "sci_xrsf-l2-avg1m_g18_d20230727_v2-2-0.nc   GOES-18 GOES R Series Extreme Ultraviolet Sensor and X-ray Irradiance Sensors (EXIS)         L2   1-minute GOES-R EXIS/XRS L2 xrsf-l2-flx1s    Unknown  Unknown ACDD-1.3, Spase v2.2.6        NCEI Boulder                    SCI cli-xrs04_avg     2021-03-19                 None            [2, 2] goesr.exis@noaa.gov DOC/NOAA/NESDIS/NCEI/OGSSD/STP Janet Machol       person https://www.ncei.noaa.gov/ 2023-08-03T07:09:45.948Z e255931a87f3b96db2357cc0c6a8287050bb3766 See algorithm information. sci_xrsf-l2-avg1m_g18_d20230727_v2-2-0.nc sci_mpsh-l2-avg1m_g18_d20230727_v2-0-1.nc, sci_xrsf-l2-flx1s_g18_d20230727_v2-2-0.nc sci_mpsh-l2-avg1m_g18_d20230727_v2-0-1.nc, sci_xrsf-l2-flx1s_g18_d20230727_v2-2-0.nc                  2                       sci DOC/NOAA/NESDIS           FM3 NumericalData.MeasurementType.Irradiance SPASE: Space Physics Archive Search and Extract Data Model version 2.2.6, GCMD: NASA Global Change Master Directory (GCMD) Earth Science Keywords version 8.5 These data may be redistributed and used without restriction.                 gov.nesdis.noaa    GOES-West      g18          Level 2             Derived products g18_xrs-avg-electron-contam-lut_v0.h5 Geostationary Operational Environmental Satellite, R-Series (GOES-R) Geostationary Operational Environmental Satellite R-Series (GOES-R) Core Ground Segment, Satellite Product Analysis and Distribution System (SPADES) goesr.exis@noaa.gov  DOC/NOAA/NESDIS/NCEI National Centers for Environmental Information    institution https://www.ncei.noaa.gov/ GOES-R XRS.04 Algorithm Theoretical Basis Document The EXIS X-Ray Sensor (XRS) measures in a short wavelength channel (XRS-A) between 0.05 and 0.4 nm and in a longer wavelength channel (XRS-B) between 0.1 and 0.8 nm. The X-ray flux average product consists of 1 minute averages of the 1-s X-ray solar measurements. Flux is provided with and without electron contamination removed. 2023-07-28T00:00:00.000Z                     PT1M 2023-07-27T00:00:00.000Z L2 XRS 1 minute average\n",
      "sci_xrsf-l2-avg1m_g18_d20230728_v2-2-0.nc   GOES-18 GOES R Series Extreme Ultraviolet Sensor and X-ray Irradiance Sensors (EXIS)         L2   1-minute GOES-R EXIS/XRS L2 xrsf-l2-flx1s    Unknown  Unknown ACDD-1.3, Spase v2.2.6        NCEI Boulder                    SCI cli-xrs04_avg     2021-03-19                 None            [2, 2] goesr.exis@noaa.gov DOC/NOAA/NESDIS/NCEI/OGSSD/STP Janet Machol       person https://www.ncei.noaa.gov/ 2023-08-04T07:06:52.330Z e255931a87f3b96db2357cc0c6a8287050bb3766 See algorithm information. sci_xrsf-l2-avg1m_g18_d20230728_v2-2-0.nc sci_mpsh-l2-avg1m_g18_d20230728_v2-0-1.nc, sci_xrsf-l2-flx1s_g18_d20230728_v2-2-0.nc sci_mpsh-l2-avg1m_g18_d20230728_v2-0-1.nc, sci_xrsf-l2-flx1s_g18_d20230728_v2-2-0.nc                  2                       sci DOC/NOAA/NESDIS           FM3 NumericalData.MeasurementType.Irradiance SPASE: Space Physics Archive Search and Extract Data Model version 2.2.6, GCMD: NASA Global Change Master Directory (GCMD) Earth Science Keywords version 8.5 These data may be redistributed and used without restriction.                 gov.nesdis.noaa    GOES-West      g18          Level 2             Derived products g18_xrs-avg-electron-contam-lut_v0.h5 Geostationary Operational Environmental Satellite, R-Series (GOES-R) Geostationary Operational Environmental Satellite R-Series (GOES-R) Core Ground Segment, Satellite Product Analysis and Distribution System (SPADES) goesr.exis@noaa.gov  DOC/NOAA/NESDIS/NCEI National Centers for Environmental Information    institution https://www.ncei.noaa.gov/ GOES-R XRS.04 Algorithm Theoretical Basis Document The EXIS X-Ray Sensor (XRS) measures in a short wavelength channel (XRS-A) between 0.05 and 0.4 nm and in a longer wavelength channel (XRS-B) between 0.1 and 0.8 nm. The X-ray flux average product consists of 1 minute averages of the 1-s X-ray solar measurements. Flux is provided with and without electron contamination removed. 2023-07-29T00:00:00.000Z                     PT1M 2023-07-28T00:00:00.000Z L2 XRS 1 minute average\n",
      "sci_xrsf-l2-avg1m_g18_d20230729_v2-2-0.nc   GOES-18 GOES R Series Extreme Ultraviolet Sensor and X-ray Irradiance Sensors (EXIS)         L2   1-minute GOES-R EXIS/XRS L2 xrsf-l2-flx1s    Unknown  Unknown ACDD-1.3, Spase v2.2.6        NCEI Boulder                    SCI cli-xrs04_avg     2021-03-19                 None            [2, 2] goesr.exis@noaa.gov DOC/NOAA/NESDIS/NCEI/OGSSD/STP Janet Machol       person https://www.ncei.noaa.gov/ 2023-08-05T07:10:10.008Z e255931a87f3b96db2357cc0c6a8287050bb3766 See algorithm information. sci_xrsf-l2-avg1m_g18_d20230729_v2-2-0.nc sci_mpsh-l2-avg1m_g18_d20230729_v2-0-1.nc, sci_xrsf-l2-flx1s_g18_d20230729_v2-2-0.nc sci_mpsh-l2-avg1m_g18_d20230729_v2-0-1.nc, sci_xrsf-l2-flx1s_g18_d20230729_v2-2-0.nc                  2                       sci DOC/NOAA/NESDIS           FM3 NumericalData.MeasurementType.Irradiance SPASE: Space Physics Archive Search and Extract Data Model version 2.2.6, GCMD: NASA Global Change Master Directory (GCMD) Earth Science Keywords version 8.5 These data may be redistributed and used without restriction.                 gov.nesdis.noaa    GOES-West      g18          Level 2             Derived products g18_xrs-avg-electron-contam-lut_v0.h5 Geostationary Operational Environmental Satellite, R-Series (GOES-R) Geostationary Operational Environmental Satellite R-Series (GOES-R) Core Ground Segment, Satellite Product Analysis and Distribution System (SPADES) goesr.exis@noaa.gov  DOC/NOAA/NESDIS/NCEI National Centers for Environmental Information    institution https://www.ncei.noaa.gov/ GOES-R XRS.04 Algorithm Theoretical Basis Document The EXIS X-Ray Sensor (XRS) measures in a short wavelength channel (XRS-A) between 0.05 and 0.4 nm and in a longer wavelength channel (XRS-B) between 0.1 and 0.8 nm. The X-ray flux average product consists of 1 minute averages of the 1-s X-ray solar measurements. Flux is provided with and without electron contamination removed. 2023-07-30T00:00:00.000Z                     PT1M 2023-07-29T00:00:00.000Z L2 XRS 1 minute average\n",
      "sci_xrsf-l2-avg1m_g18_d20230730_v2-2-0.nc   GOES-18 GOES R Series Extreme Ultraviolet Sensor and X-ray Irradiance Sensors (EXIS)         L2   1-minute GOES-R EXIS/XRS L2 xrsf-l2-flx1s    Unknown  Unknown ACDD-1.3, Spase v2.2.6        NCEI Boulder                    SCI cli-xrs04_avg     2021-03-19                 None            [2, 2] goesr.exis@noaa.gov DOC/NOAA/NESDIS/NCEI/OGSSD/STP Janet Machol       person https://www.ncei.noaa.gov/ 2023-08-06T06:27:19.729Z e255931a87f3b96db2357cc0c6a8287050bb3766 See algorithm information. sci_xrsf-l2-avg1m_g18_d20230730_v2-2-0.nc sci_mpsh-l2-avg1m_g18_d20230730_v2-0-1.nc, sci_xrsf-l2-flx1s_g18_d20230730_v2-2-0.nc sci_mpsh-l2-avg1m_g18_d20230730_v2-0-1.nc, sci_xrsf-l2-flx1s_g18_d20230730_v2-2-0.nc                  2                       sci DOC/NOAA/NESDIS           FM3 NumericalData.MeasurementType.Irradiance SPASE: Space Physics Archive Search and Extract Data Model version 2.2.6, GCMD: NASA Global Change Master Directory (GCMD) Earth Science Keywords version 8.5 These data may be redistributed and used without restriction.                 gov.nesdis.noaa    GOES-West      g18          Level 2             Derived products g18_xrs-avg-electron-contam-lut_v0.h5 Geostationary Operational Environmental Satellite, R-Series (GOES-R) Geostationary Operational Environmental Satellite R-Series (GOES-R) Core Ground Segment, Satellite Product Analysis and Distribution System (SPADES) goesr.exis@noaa.gov  DOC/NOAA/NESDIS/NCEI National Centers for Environmental Information    institution https://www.ncei.noaa.gov/ GOES-R XRS.04 Algorithm Theoretical Basis Document The EXIS X-Ray Sensor (XRS) measures in a short wavelength channel (XRS-A) between 0.05 and 0.4 nm and in a longer wavelength channel (XRS-B) between 0.1 and 0.8 nm. The X-ray flux average product consists of 1 minute averages of the 1-s X-ray solar measurements. Flux is provided with and without electron contamination removed. 2023-07-31T00:00:00.000Z                     PT1M 2023-07-30T00:00:00.000Z L2 XRS 1 minute average\n",
      "sci_xrsf-l2-avg1m_g18_d20230731_v2-2-0.nc   GOES-18 GOES R Series Extreme Ultraviolet Sensor and X-ray Irradiance Sensors (EXIS)         L2   1-minute GOES-R EXIS/XRS L2 xrsf-l2-flx1s    Unknown  Unknown ACDD-1.3, Spase v2.2.6        NCEI Boulder                    SCI cli-xrs04_avg     2021-03-19                 None            [2, 2] goesr.exis@noaa.gov DOC/NOAA/NESDIS/NCEI/OGSSD/STP Janet Machol       person https://www.ncei.noaa.gov/ 2023-08-07T06:55:15.945Z e255931a87f3b96db2357cc0c6a8287050bb3766 See algorithm information. sci_xrsf-l2-avg1m_g18_d20230731_v2-2-0.nc sci_mpsh-l2-avg1m_g18_d20230731_v2-0-1.nc, sci_xrsf-l2-flx1s_g18_d20230731_v2-2-0.nc sci_mpsh-l2-avg1m_g18_d20230731_v2-0-1.nc, sci_xrsf-l2-flx1s_g18_d20230731_v2-2-0.nc                  2                       sci DOC/NOAA/NESDIS           FM3 NumericalData.MeasurementType.Irradiance SPASE: Space Physics Archive Search and Extract Data Model version 2.2.6, GCMD: NASA Global Change Master Directory (GCMD) Earth Science Keywords version 8.5 These data may be redistributed and used without restriction.                 gov.nesdis.noaa    GOES-West      g18          Level 2             Derived products g18_xrs-avg-electron-contam-lut_v0.h5 Geostationary Operational Environmental Satellite, R-Series (GOES-R) Geostationary Operational Environmental Satellite R-Series (GOES-R) Core Ground Segment, Satellite Product Analysis and Distribution System (SPADES) goesr.exis@noaa.gov  DOC/NOAA/NESDIS/NCEI National Centers for Environmental Information    institution https://www.ncei.noaa.gov/ GOES-R XRS.04 Algorithm Theoretical Basis Document The EXIS X-Ray Sensor (XRS) measures in a short wavelength channel (XRS-A) between 0.05 and 0.4 nm and in a longer wavelength channel (XRS-B) between 0.1 and 0.8 nm. The X-ray flux average product consists of 1 minute averages of the 1-s X-ray solar measurements. Flux is provided with and without electron contamination removed. 2023-08-01T00:00:00.000Z                     PT1M 2023-07-31T00:00:00.000Z L2 XRS 1 minute average\n",
      "sci_xrsf-l2-avg1m_g18_d20230801_v2-2-0.nc   GOES-18 GOES R Series Extreme Ultraviolet Sensor and X-ray Irradiance Sensors (EXIS)         L2   1-minute GOES-R EXIS/XRS L2 xrsf-l2-flx1s    Unknown  Unknown ACDD-1.3, Spase v2.2.6        NCEI Boulder                    SCI cli-xrs04_avg     2021-03-19                 None            [2, 2] goesr.exis@noaa.gov DOC/NOAA/NESDIS/NCEI/OGSSD/STP Janet Machol       person https://www.ncei.noaa.gov/ 2023-08-08T06:17:13.710Z e255931a87f3b96db2357cc0c6a8287050bb3766 See algorithm information. sci_xrsf-l2-avg1m_g18_d20230801_v2-2-0.nc sci_mpsh-l2-avg1m_g18_d20230801_v2-0-1.nc, sci_xrsf-l2-flx1s_g18_d20230801_v2-2-0.nc sci_mpsh-l2-avg1m_g18_d20230801_v2-0-1.nc, sci_xrsf-l2-flx1s_g18_d20230801_v2-2-0.nc                  2                       sci DOC/NOAA/NESDIS           FM3 NumericalData.MeasurementType.Irradiance SPASE: Space Physics Archive Search and Extract Data Model version 2.2.6, GCMD: NASA Global Change Master Directory (GCMD) Earth Science Keywords version 8.5 These data may be redistributed and used without restriction.                 gov.nesdis.noaa    GOES-West      g18          Level 2             Derived products g18_xrs-avg-electron-contam-lut_v0.h5 Geostationary Operational Environmental Satellite, R-Series (GOES-R) Geostationary Operational Environmental Satellite R-Series (GOES-R) Core Ground Segment, Satellite Product Analysis and Distribution System (SPADES) goesr.exis@noaa.gov  DOC/NOAA/NESDIS/NCEI National Centers for Environmental Information    institution https://www.ncei.noaa.gov/ GOES-R XRS.04 Algorithm Theoretical Basis Document The EXIS X-Ray Sensor (XRS) measures in a short wavelength channel (XRS-A) between 0.05 and 0.4 nm and in a longer wavelength channel (XRS-B) between 0.1 and 0.8 nm. The X-ray flux average product consists of 1 minute averages of the 1-s X-ray solar measurements. Flux is provided with and without electron contamination removed. 2023-08-02T00:00:00.000Z                     PT1M 2023-08-01T00:00:00.000Z L2 XRS 1 minute average\n",
      "sci_xrsf-l2-avg1m_g18_d20230802_v2-2-0.nc   GOES-18 GOES R Series Extreme Ultraviolet Sensor and X-ray Irradiance Sensors (EXIS)         L2   1-minute GOES-R EXIS/XRS L2 xrsf-l2-flx1s    Unknown  Unknown ACDD-1.3, Spase v2.2.6        NCEI Boulder                    SCI cli-xrs04_avg     2021-03-19                 None            [2, 2] goesr.exis@noaa.gov DOC/NOAA/NESDIS/NCEI/OGSSD/STP Janet Machol       person https://www.ncei.noaa.gov/ 2023-08-09T06:13:07.558Z e255931a87f3b96db2357cc0c6a8287050bb3766 See algorithm information. sci_xrsf-l2-avg1m_g18_d20230802_v2-2-0.nc sci_mpsh-l2-avg1m_g18_d20230802_v2-0-1.nc, sci_xrsf-l2-flx1s_g18_d20230802_v2-2-0.nc sci_mpsh-l2-avg1m_g18_d20230802_v2-0-1.nc, sci_xrsf-l2-flx1s_g18_d20230802_v2-2-0.nc                  2                       sci DOC/NOAA/NESDIS           FM3 NumericalData.MeasurementType.Irradiance SPASE: Space Physics Archive Search and Extract Data Model version 2.2.6, GCMD: NASA Global Change Master Directory (GCMD) Earth Science Keywords version 8.5 These data may be redistributed and used without restriction.                 gov.nesdis.noaa    GOES-West      g18          Level 2             Derived products g18_xrs-avg-electron-contam-lut_v0.h5 Geostationary Operational Environmental Satellite, R-Series (GOES-R) Geostationary Operational Environmental Satellite R-Series (GOES-R) Core Ground Segment, Satellite Product Analysis and Distribution System (SPADES) goesr.exis@noaa.gov  DOC/NOAA/NESDIS/NCEI National Centers for Environmental Information    institution https://www.ncei.noaa.gov/ GOES-R XRS.04 Algorithm Theoretical Basis Document The EXIS X-Ray Sensor (XRS) measures in a short wavelength channel (XRS-A) between 0.05 and 0.4 nm and in a longer wavelength channel (XRS-B) between 0.1 and 0.8 nm. The X-ray flux average product consists of 1 minute averages of the 1-s X-ray solar measurements. Flux is provided with and without electron contamination removed. 2023-08-03T00:00:00.000Z                     PT1M 2023-08-02T00:00:00.000Z L2 XRS 1 minute average\n",
      "sci_xrsf-l2-avg1m_g18_d20230803_v2-2-0.nc   GOES-18 GOES R Series Extreme Ultraviolet Sensor and X-ray Irradiance Sensors (EXIS)         L2   1-minute GOES-R EXIS/XRS L2 xrsf-l2-flx1s    Unknown  Unknown ACDD-1.3, Spase v2.2.6        NCEI Boulder                    SCI cli-xrs04_avg     2021-03-19                 None            [2, 2] goesr.exis@noaa.gov DOC/NOAA/NESDIS/NCEI/OGSSD/STP Janet Machol       person https://www.ncei.noaa.gov/ 2023-08-10T06:32:10.225Z e255931a87f3b96db2357cc0c6a8287050bb3766 See algorithm information. sci_xrsf-l2-avg1m_g18_d20230803_v2-2-0.nc sci_mpsh-l2-avg1m_g18_d20230803_v2-0-1.nc, sci_xrsf-l2-flx1s_g18_d20230803_v2-2-0.nc sci_mpsh-l2-avg1m_g18_d20230803_v2-0-1.nc, sci_xrsf-l2-flx1s_g18_d20230803_v2-2-0.nc                  2                       sci DOC/NOAA/NESDIS           FM3 NumericalData.MeasurementType.Irradiance SPASE: Space Physics Archive Search and Extract Data Model version 2.2.6, GCMD: NASA Global Change Master Directory (GCMD) Earth Science Keywords version 8.5 These data may be redistributed and used without restriction.                 gov.nesdis.noaa    GOES-West      g18          Level 2             Derived products g18_xrs-avg-electron-contam-lut_v0.h5 Geostationary Operational Environmental Satellite, R-Series (GOES-R) Geostationary Operational Environmental Satellite R-Series (GOES-R) Core Ground Segment, Satellite Product Analysis and Distribution System (SPADES) goesr.exis@noaa.gov  DOC/NOAA/NESDIS/NCEI National Centers for Environmental Information    institution https://www.ncei.noaa.gov/ GOES-R XRS.04 Algorithm Theoretical Basis Document The EXIS X-Ray Sensor (XRS) measures in a short wavelength channel (XRS-A) between 0.05 and 0.4 nm and in a longer wavelength channel (XRS-B) between 0.1 and 0.8 nm. The X-ray flux average product consists of 1 minute averages of the 1-s X-ray solar measurements. Flux is provided with and without electron contamination removed. 2023-08-04T00:00:00.000Z                     PT1M 2023-08-03T00:00:00.000Z L2 XRS 1 minute average\n",
      "sci_xrsf-l2-avg1m_g18_d20230804_v2-2-0.nc   GOES-18 GOES R Series Extreme Ultraviolet Sensor and X-ray Irradiance Sensors (EXIS)         L2   1-minute GOES-R EXIS/XRS L2 xrsf-l2-flx1s    Unknown  Unknown ACDD-1.3, Spase v2.2.6        NCEI Boulder                    SCI cli-xrs04_avg     2021-03-19                 None            [2, 2] goesr.exis@noaa.gov DOC/NOAA/NESDIS/NCEI/OGSSD/STP Janet Machol       person https://www.ncei.noaa.gov/ 2023-08-11T07:36:33.271Z e255931a87f3b96db2357cc0c6a8287050bb3766 See algorithm information. sci_xrsf-l2-avg1m_g18_d20230804_v2-2-0.nc sci_mpsh-l2-avg1m_g18_d20230804_v2-0-1.nc, sci_xrsf-l2-flx1s_g18_d20230804_v2-2-0.nc sci_mpsh-l2-avg1m_g18_d20230804_v2-0-1.nc, sci_xrsf-l2-flx1s_g18_d20230804_v2-2-0.nc                  2                       sci DOC/NOAA/NESDIS           FM3 NumericalData.MeasurementType.Irradiance SPASE: Space Physics Archive Search and Extract Data Model version 2.2.6, GCMD: NASA Global Change Master Directory (GCMD) Earth Science Keywords version 8.5 These data may be redistributed and used without restriction.                 gov.nesdis.noaa    GOES-West      g18          Level 2             Derived products g18_xrs-avg-electron-contam-lut_v0.h5 Geostationary Operational Environmental Satellite, R-Series (GOES-R) Geostationary Operational Environmental Satellite R-Series (GOES-R) Core Ground Segment, Satellite Product Analysis and Distribution System (SPADES) goesr.exis@noaa.gov  DOC/NOAA/NESDIS/NCEI National Centers for Environmental Information    institution https://www.ncei.noaa.gov/ GOES-R XRS.04 Algorithm Theoretical Basis Document The EXIS X-Ray Sensor (XRS) measures in a short wavelength channel (XRS-A) between 0.05 and 0.4 nm and in a longer wavelength channel (XRS-B) between 0.1 and 0.8 nm. The X-ray flux average product consists of 1 minute averages of the 1-s X-ray solar measurements. Flux is provided with and without electron contamination removed. 2023-08-05T00:00:00.000Z                     PT1M 2023-08-04T00:00:00.000Z L2 XRS 1 minute average\n",
      "sci_xrsf-l2-avg1m_g18_d20230805_v2-2-0.nc   GOES-18 GOES R Series Extreme Ultraviolet Sensor and X-ray Irradiance Sensors (EXIS)         L2   1-minute GOES-R EXIS/XRS L2 xrsf-l2-flx1s    Unknown  Unknown ACDD-1.3, Spase v2.2.6        NCEI Boulder                    SCI cli-xrs04_avg     2021-03-19                 None            [2, 2] goesr.exis@noaa.gov DOC/NOAA/NESDIS/NCEI/OGSSD/STP Janet Machol       person https://www.ncei.noaa.gov/ 2023-08-12T07:00:22.866Z e255931a87f3b96db2357cc0c6a8287050bb3766 See algorithm information. sci_xrsf-l2-avg1m_g18_d20230805_v2-2-0.nc sci_mpsh-l2-avg1m_g18_d20230805_v2-0-1.nc, sci_xrsf-l2-flx1s_g18_d20230805_v2-2-0.nc sci_mpsh-l2-avg1m_g18_d20230805_v2-0-1.nc, sci_xrsf-l2-flx1s_g18_d20230805_v2-2-0.nc                  2                       sci DOC/NOAA/NESDIS           FM3 NumericalData.MeasurementType.Irradiance SPASE: Space Physics Archive Search and Extract Data Model version 2.2.6, GCMD: NASA Global Change Master Directory (GCMD) Earth Science Keywords version 8.5 These data may be redistributed and used without restriction.                 gov.nesdis.noaa    GOES-West      g18          Level 2             Derived products g18_xrs-avg-electron-contam-lut_v0.h5 Geostationary Operational Environmental Satellite, R-Series (GOES-R) Geostationary Operational Environmental Satellite R-Series (GOES-R) Core Ground Segment, Satellite Product Analysis and Distribution System (SPADES) goesr.exis@noaa.gov  DOC/NOAA/NESDIS/NCEI National Centers for Environmental Information    institution https://www.ncei.noaa.gov/ GOES-R XRS.04 Algorithm Theoretical Basis Document The EXIS X-Ray Sensor (XRS) measures in a short wavelength channel (XRS-A) between 0.05 and 0.4 nm and in a longer wavelength channel (XRS-B) between 0.1 and 0.8 nm. The X-ray flux average product consists of 1 minute averages of the 1-s X-ray solar measurements. Flux is provided with and without electron contamination removed. 2023-08-06T00:00:00.000Z                     PT1M 2023-08-05T00:00:00.000Z L2 XRS 1 minute average\n",
      "sci_xrsf-l2-avg1m_g18_d20230806_v2-2-0.nc   GOES-18 GOES R Series Extreme Ultraviolet Sensor and X-ray Irradiance Sensors (EXIS)         L2   1-minute GOES-R EXIS/XRS L2 xrsf-l2-flx1s    Unknown  Unknown ACDD-1.3, Spase v2.2.6        NCEI Boulder                    SCI cli-xrs04_avg     2021-03-19                 None            [2, 2] goesr.exis@noaa.gov DOC/NOAA/NESDIS/NCEI/OGSSD/STP Janet Machol       person https://www.ncei.noaa.gov/ 2023-08-13T07:12:53.688Z e255931a87f3b96db2357cc0c6a8287050bb3766 See algorithm information. sci_xrsf-l2-avg1m_g18_d20230806_v2-2-0.nc sci_mpsh-l2-avg1m_g18_d20230806_v2-0-1.nc, sci_xrsf-l2-flx1s_g18_d20230806_v2-2-0.nc sci_mpsh-l2-avg1m_g18_d20230806_v2-0-1.nc, sci_xrsf-l2-flx1s_g18_d20230806_v2-2-0.nc                  2                       sci DOC/NOAA/NESDIS           FM3 NumericalData.MeasurementType.Irradiance SPASE: Space Physics Archive Search and Extract Data Model version 2.2.6, GCMD: NASA Global Change Master Directory (GCMD) Earth Science Keywords version 8.5 These data may be redistributed and used without restriction.                 gov.nesdis.noaa    GOES-West      g18          Level 2             Derived products g18_xrs-avg-electron-contam-lut_v0.h5 Geostationary Operational Environmental Satellite, R-Series (GOES-R) Geostationary Operational Environmental Satellite R-Series (GOES-R) Core Ground Segment, Satellite Product Analysis and Distribution System (SPADES) goesr.exis@noaa.gov  DOC/NOAA/NESDIS/NCEI National Centers for Environmental Information    institution https://www.ncei.noaa.gov/ GOES-R XRS.04 Algorithm Theoretical Basis Document The EXIS X-Ray Sensor (XRS) measures in a short wavelength channel (XRS-A) between 0.05 and 0.4 nm and in a longer wavelength channel (XRS-B) between 0.1 and 0.8 nm. The X-ray flux average product consists of 1 minute averages of the 1-s X-ray solar measurements. Flux is provided with and without electron contamination removed. 2023-08-07T00:00:00.000Z                     PT1M 2023-08-06T00:00:00.000Z L2 XRS 1 minute average\n",
      "sci_xrsf-l2-avg1m_g18_d20230807_v2-2-0.nc   GOES-18 GOES R Series Extreme Ultraviolet Sensor and X-ray Irradiance Sensors (EXIS)         L2   1-minute GOES-R EXIS/XRS L2 xrsf-l2-flx1s    Unknown  Unknown ACDD-1.3, Spase v2.2.6        NCEI Boulder                    SCI cli-xrs04_avg     2021-03-19                 None            [2, 2] goesr.exis@noaa.gov DOC/NOAA/NESDIS/NCEI/OGSSD/STP Janet Machol       person https://www.ncei.noaa.gov/ 2023-08-14T06:37:07.542Z e255931a87f3b96db2357cc0c6a8287050bb3766 See algorithm information. sci_xrsf-l2-avg1m_g18_d20230807_v2-2-0.nc sci_mpsh-l2-avg1m_g18_d20230807_v2-0-1.nc, sci_xrsf-l2-flx1s_g18_d20230807_v2-2-0.nc sci_mpsh-l2-avg1m_g18_d20230807_v2-0-1.nc, sci_xrsf-l2-flx1s_g18_d20230807_v2-2-0.nc                  2                       sci DOC/NOAA/NESDIS           FM3 NumericalData.MeasurementType.Irradiance SPASE: Space Physics Archive Search and Extract Data Model version 2.2.6, GCMD: NASA Global Change Master Directory (GCMD) Earth Science Keywords version 8.5 These data may be redistributed and used without restriction.                 gov.nesdis.noaa    GOES-West      g18          Level 2             Derived products g18_xrs-avg-electron-contam-lut_v0.h5 Geostationary Operational Environmental Satellite, R-Series (GOES-R) Geostationary Operational Environmental Satellite R-Series (GOES-R) Core Ground Segment, Satellite Product Analysis and Distribution System (SPADES) goesr.exis@noaa.gov  DOC/NOAA/NESDIS/NCEI National Centers for Environmental Information    institution https://www.ncei.noaa.gov/ GOES-R XRS.04 Algorithm Theoretical Basis Document The EXIS X-Ray Sensor (XRS) measures in a short wavelength channel (XRS-A) between 0.05 and 0.4 nm and in a longer wavelength channel (XRS-B) between 0.1 and 0.8 nm. The X-ray flux average product consists of 1 minute averages of the 1-s X-ray solar measurements. Flux is provided with and without electron contamination removed. 2023-08-08T00:00:00.000Z                     PT1M 2023-08-07T00:00:00.000Z L2 XRS 1 minute average\n",
      "sci_xrsf-l2-avg1m_g18_d20230808_v2-2-0.nc   GOES-18 GOES R Series Extreme Ultraviolet Sensor and X-ray Irradiance Sensors (EXIS)         L2   1-minute GOES-R EXIS/XRS L2 xrsf-l2-flx1s    Unknown  Unknown ACDD-1.3, Spase v2.2.6        NCEI Boulder                    SCI cli-xrs04_avg     2021-03-19                 None            [2, 2] goesr.exis@noaa.gov DOC/NOAA/NESDIS/NCEI/OGSSD/STP Janet Machol       person https://www.ncei.noaa.gov/ 2023-08-15T06:50:01.682Z e255931a87f3b96db2357cc0c6a8287050bb3766 See algorithm information. sci_xrsf-l2-avg1m_g18_d20230808_v2-2-0.nc sci_mpsh-l2-avg1m_g18_d20230808_v2-0-1.nc, sci_xrsf-l2-flx1s_g18_d20230808_v2-2-0.nc sci_mpsh-l2-avg1m_g18_d20230808_v2-0-1.nc, sci_xrsf-l2-flx1s_g18_d20230808_v2-2-0.nc                  2                       sci DOC/NOAA/NESDIS           FM3 NumericalData.MeasurementType.Irradiance SPASE: Space Physics Archive Search and Extract Data Model version 2.2.6, GCMD: NASA Global Change Master Directory (GCMD) Earth Science Keywords version 8.5 These data may be redistributed and used without restriction.                 gov.nesdis.noaa    GOES-West      g18          Level 2             Derived products g18_xrs-avg-electron-contam-lut_v0.h5 Geostationary Operational Environmental Satellite, R-Series (GOES-R) Geostationary Operational Environmental Satellite R-Series (GOES-R) Core Ground Segment, Satellite Product Analysis and Distribution System (SPADES) goesr.exis@noaa.gov  DOC/NOAA/NESDIS/NCEI National Centers for Environmental Information    institution https://www.ncei.noaa.gov/ GOES-R XRS.04 Algorithm Theoretical Basis Document The EXIS X-Ray Sensor (XRS) measures in a short wavelength channel (XRS-A) between 0.05 and 0.4 nm and in a longer wavelength channel (XRS-B) between 0.1 and 0.8 nm. The X-ray flux average product consists of 1 minute averages of the 1-s X-ray solar measurements. Flux is provided with and without electron contamination removed. 2023-08-09T00:00:00.000Z                     PT1M 2023-08-08T00:00:00.000Z L2 XRS 1 minute average\n",
      "sci_xrsf-l2-avg1m_g18_d20230809_v2-2-0.nc   GOES-18 GOES R Series Extreme Ultraviolet Sensor and X-ray Irradiance Sensors (EXIS)         L2   1-minute GOES-R EXIS/XRS L2 xrsf-l2-flx1s    Unknown  Unknown ACDD-1.3, Spase v2.2.6        NCEI Boulder                    SCI cli-xrs04_avg     2021-03-19                 None            [2, 2] goesr.exis@noaa.gov DOC/NOAA/NESDIS/NCEI/OGSSD/STP Janet Machol       person https://www.ncei.noaa.gov/ 2023-08-16T07:00:52.513Z e255931a87f3b96db2357cc0c6a8287050bb3766 See algorithm information. sci_xrsf-l2-avg1m_g18_d20230809_v2-2-0.nc sci_mpsh-l2-avg1m_g18_d20230809_v2-0-1.nc, sci_xrsf-l2-flx1s_g18_d20230809_v2-2-0.nc sci_mpsh-l2-avg1m_g18_d20230809_v2-0-1.nc, sci_xrsf-l2-flx1s_g18_d20230809_v2-2-0.nc                  2                       sci DOC/NOAA/NESDIS           FM3 NumericalData.MeasurementType.Irradiance SPASE: Space Physics Archive Search and Extract Data Model version 2.2.6, GCMD: NASA Global Change Master Directory (GCMD) Earth Science Keywords version 8.5 These data may be redistributed and used without restriction.                 gov.nesdis.noaa    GOES-West      g18          Level 2             Derived products g18_xrs-avg-electron-contam-lut_v0.h5 Geostationary Operational Environmental Satellite, R-Series (GOES-R) Geostationary Operational Environmental Satellite R-Series (GOES-R) Core Ground Segment, Satellite Product Analysis and Distribution System (SPADES) goesr.exis@noaa.gov  DOC/NOAA/NESDIS/NCEI National Centers for Environmental Information    institution https://www.ncei.noaa.gov/ GOES-R XRS.04 Algorithm Theoretical Basis Document The EXIS X-Ray Sensor (XRS) measures in a short wavelength channel (XRS-A) between 0.05 and 0.4 nm and in a longer wavelength channel (XRS-B) between 0.1 and 0.8 nm. The X-ray flux average product consists of 1 minute averages of the 1-s X-ray solar measurements. Flux is provided with and without electron contamination removed. 2023-08-10T00:00:00.000Z                     PT1M 2023-08-09T00:00:00.000Z L2 XRS 1 minute average\n",
      "sci_xrsf-l2-avg1m_g18_d20230810_v2-2-0.nc   GOES-18 GOES R Series Extreme Ultraviolet Sensor and X-ray Irradiance Sensors (EXIS)         L2   1-minute GOES-R EXIS/XRS L2 xrsf-l2-flx1s    Unknown  Unknown ACDD-1.3, Spase v2.2.6        NCEI Boulder                    SCI cli-xrs04_avg     2021-03-19                 None            [2, 2] goesr.exis@noaa.gov DOC/NOAA/NESDIS/NCEI/OGSSD/STP Janet Machol       person https://www.ncei.noaa.gov/ 2023-08-17T06:58:35.339Z e255931a87f3b96db2357cc0c6a8287050bb3766 See algorithm information. sci_xrsf-l2-avg1m_g18_d20230810_v2-2-0.nc sci_mpsh-l2-avg1m_g18_d20230810_v2-0-1.nc, sci_xrsf-l2-flx1s_g18_d20230810_v2-2-0.nc sci_mpsh-l2-avg1m_g18_d20230810_v2-0-1.nc, sci_xrsf-l2-flx1s_g18_d20230810_v2-2-0.nc                  2                       sci DOC/NOAA/NESDIS           FM3 NumericalData.MeasurementType.Irradiance SPASE: Space Physics Archive Search and Extract Data Model version 2.2.6, GCMD: NASA Global Change Master Directory (GCMD) Earth Science Keywords version 8.5 These data may be redistributed and used without restriction.                 gov.nesdis.noaa    GOES-West      g18          Level 2             Derived products g18_xrs-avg-electron-contam-lut_v0.h5 Geostationary Operational Environmental Satellite, R-Series (GOES-R) Geostationary Operational Environmental Satellite R-Series (GOES-R) Core Ground Segment, Satellite Product Analysis and Distribution System (SPADES) goesr.exis@noaa.gov  DOC/NOAA/NESDIS/NCEI National Centers for Environmental Information    institution https://www.ncei.noaa.gov/ GOES-R XRS.04 Algorithm Theoretical Basis Document The EXIS X-Ray Sensor (XRS) measures in a short wavelength channel (XRS-A) between 0.05 and 0.4 nm and in a longer wavelength channel (XRS-B) between 0.1 and 0.8 nm. The X-ray flux average product consists of 1 minute averages of the 1-s X-ray solar measurements. Flux is provided with and without electron contamination removed. 2023-08-11T00:00:00.000Z                     PT1M 2023-08-10T00:00:00.000Z L2 XRS 1 minute average\n",
      "sci_xrsf-l2-avg1m_g18_d20230811_v2-2-0.nc   GOES-18 GOES R Series Extreme Ultraviolet Sensor and X-ray Irradiance Sensors (EXIS)         L2   1-minute GOES-R EXIS/XRS L2 xrsf-l2-flx1s    Unknown  Unknown ACDD-1.3, Spase v2.2.6        NCEI Boulder                    SCI cli-xrs04_avg     2021-03-19                 None            [2, 2] goesr.exis@noaa.gov DOC/NOAA/NESDIS/NCEI/OGSSD/STP Janet Machol       person https://www.ncei.noaa.gov/ 2023-08-18T06:33:35.872Z e255931a87f3b96db2357cc0c6a8287050bb3766 See algorithm information. sci_xrsf-l2-avg1m_g18_d20230811_v2-2-0.nc sci_mpsh-l2-avg1m_g18_d20230811_v2-0-1.nc, sci_xrsf-l2-flx1s_g18_d20230811_v2-2-0.nc sci_mpsh-l2-avg1m_g18_d20230811_v2-0-1.nc, sci_xrsf-l2-flx1s_g18_d20230811_v2-2-0.nc                  2                       sci DOC/NOAA/NESDIS           FM3 NumericalData.MeasurementType.Irradiance SPASE: Space Physics Archive Search and Extract Data Model version 2.2.6, GCMD: NASA Global Change Master Directory (GCMD) Earth Science Keywords version 8.5 These data may be redistributed and used without restriction.                 gov.nesdis.noaa    GOES-West      g18          Level 2             Derived products g18_xrs-avg-electron-contam-lut_v0.h5 Geostationary Operational Environmental Satellite, R-Series (GOES-R) Geostationary Operational Environmental Satellite R-Series (GOES-R) Core Ground Segment, Satellite Product Analysis and Distribution System (SPADES) goesr.exis@noaa.gov  DOC/NOAA/NESDIS/NCEI National Centers for Environmental Information    institution https://www.ncei.noaa.gov/ GOES-R XRS.04 Algorithm Theoretical Basis Document The EXIS X-Ray Sensor (XRS) measures in a short wavelength channel (XRS-A) between 0.05 and 0.4 nm and in a longer wavelength channel (XRS-B) between 0.1 and 0.8 nm. The X-ray flux average product consists of 1 minute averages of the 1-s X-ray solar measurements. Flux is provided with and without electron contamination removed. 2023-08-12T00:00:00.000Z                     PT1M 2023-08-11T00:00:00.000Z L2 XRS 1 minute average\n",
      "sci_xrsf-l2-avg1m_g18_d20230812_v2-2-0.nc   GOES-18 GOES R Series Extreme Ultraviolet Sensor and X-ray Irradiance Sensors (EXIS)         L2   1-minute GOES-R EXIS/XRS L2 xrsf-l2-flx1s    Unknown  Unknown ACDD-1.3, Spase v2.2.6        NCEI Boulder                    SCI cli-xrs04_avg     2021-03-19                 None            [2, 2] goesr.exis@noaa.gov DOC/NOAA/NESDIS/NCEI/OGSSD/STP Janet Machol       person https://www.ncei.noaa.gov/ 2023-08-19T07:16:49.945Z e255931a87f3b96db2357cc0c6a8287050bb3766 See algorithm information. sci_xrsf-l2-avg1m_g18_d20230812_v2-2-0.nc sci_mpsh-l2-avg1m_g18_d20230812_v2-0-1.nc, sci_xrsf-l2-flx1s_g18_d20230812_v2-2-0.nc sci_mpsh-l2-avg1m_g18_d20230812_v2-0-1.nc, sci_xrsf-l2-flx1s_g18_d20230812_v2-2-0.nc                  2                       sci DOC/NOAA/NESDIS           FM3 NumericalData.MeasurementType.Irradiance SPASE: Space Physics Archive Search and Extract Data Model version 2.2.6, GCMD: NASA Global Change Master Directory (GCMD) Earth Science Keywords version 8.5 These data may be redistributed and used without restriction.                 gov.nesdis.noaa    GOES-West      g18          Level 2             Derived products g18_xrs-avg-electron-contam-lut_v0.h5 Geostationary Operational Environmental Satellite, R-Series (GOES-R) Geostationary Operational Environmental Satellite R-Series (GOES-R) Core Ground Segment, Satellite Product Analysis and Distribution System (SPADES) goesr.exis@noaa.gov  DOC/NOAA/NESDIS/NCEI National Centers for Environmental Information    institution https://www.ncei.noaa.gov/ GOES-R XRS.04 Algorithm Theoretical Basis Document The EXIS X-Ray Sensor (XRS) measures in a short wavelength channel (XRS-A) between 0.05 and 0.4 nm and in a longer wavelength channel (XRS-B) between 0.1 and 0.8 nm. The X-ray flux average product consists of 1 minute averages of the 1-s X-ray solar measurements. Flux is provided with and without electron contamination removed. 2023-08-13T00:00:00.000Z                     PT1M 2023-08-12T00:00:00.000Z L2 XRS 1 minute average\n",
      "sci_xrsf-l2-avg1m_g18_d20230813_v2-2-0.nc   GOES-18 GOES R Series Extreme Ultraviolet Sensor and X-ray Irradiance Sensors (EXIS)         L2   1-minute GOES-R EXIS/XRS L2 xrsf-l2-flx1s    Unknown  Unknown ACDD-1.3, Spase v2.2.6        NCEI Boulder                    SCI cli-xrs04_avg     2021-03-19                 None            [2, 2] goesr.exis@noaa.gov DOC/NOAA/NESDIS/NCEI/OGSSD/STP Janet Machol       person https://www.ncei.noaa.gov/ 2023-08-20T06:19:01.650Z e255931a87f3b96db2357cc0c6a8287050bb3766 See algorithm information. sci_xrsf-l2-avg1m_g18_d20230813_v2-2-0.nc sci_mpsh-l2-avg1m_g18_d20230813_v2-0-1.nc, sci_xrsf-l2-flx1s_g18_d20230813_v2-2-0.nc sci_mpsh-l2-avg1m_g18_d20230813_v2-0-1.nc, sci_xrsf-l2-flx1s_g18_d20230813_v2-2-0.nc                  2                       sci DOC/NOAA/NESDIS           FM3 NumericalData.MeasurementType.Irradiance SPASE: Space Physics Archive Search and Extract Data Model version 2.2.6, GCMD: NASA Global Change Master Directory (GCMD) Earth Science Keywords version 8.5 These data may be redistributed and used without restriction.                 gov.nesdis.noaa    GOES-West      g18          Level 2             Derived products g18_xrs-avg-electron-contam-lut_v0.h5 Geostationary Operational Environmental Satellite, R-Series (GOES-R) Geostationary Operational Environmental Satellite R-Series (GOES-R) Core Ground Segment, Satellite Product Analysis and Distribution System (SPADES) goesr.exis@noaa.gov  DOC/NOAA/NESDIS/NCEI National Centers for Environmental Information    institution https://www.ncei.noaa.gov/ GOES-R XRS.04 Algorithm Theoretical Basis Document The EXIS X-Ray Sensor (XRS) measures in a short wavelength channel (XRS-A) between 0.05 and 0.4 nm and in a longer wavelength channel (XRS-B) between 0.1 and 0.8 nm. The X-ray flux average product consists of 1 minute averages of the 1-s X-ray solar measurements. Flux is provided with and without electron contamination removed. 2023-08-14T00:00:00.000Z                     PT1M 2023-08-13T00:00:00.000Z L2 XRS 1 minute average\n",
      "sci_xrsf-l2-avg1m_g18_d20230814_v2-2-0.nc   GOES-18 GOES R Series Extreme Ultraviolet Sensor and X-ray Irradiance Sensors (EXIS)         L2   1-minute GOES-R EXIS/XRS L2 xrsf-l2-flx1s    Unknown  Unknown ACDD-1.3, Spase v2.2.6        NCEI Boulder                    SCI cli-xrs04_avg     2021-03-19                 None            [2, 2] goesr.exis@noaa.gov DOC/NOAA/NESDIS/NCEI/OGSSD/STP Janet Machol       person https://www.ncei.noaa.gov/ 2023-08-21T06:44:48.288Z e255931a87f3b96db2357cc0c6a8287050bb3766 See algorithm information. sci_xrsf-l2-avg1m_g18_d20230814_v2-2-0.nc sci_mpsh-l2-avg1m_g18_d20230814_v2-0-1.nc, sci_xrsf-l2-flx1s_g18_d20230814_v2-2-0.nc sci_mpsh-l2-avg1m_g18_d20230814_v2-0-1.nc, sci_xrsf-l2-flx1s_g18_d20230814_v2-2-0.nc                  2                       sci DOC/NOAA/NESDIS           FM3 NumericalData.MeasurementType.Irradiance SPASE: Space Physics Archive Search and Extract Data Model version 2.2.6, GCMD: NASA Global Change Master Directory (GCMD) Earth Science Keywords version 8.5 These data may be redistributed and used without restriction.                 gov.nesdis.noaa    GOES-West      g18          Level 2             Derived products g18_xrs-avg-electron-contam-lut_v0.h5 Geostationary Operational Environmental Satellite, R-Series (GOES-R) Geostationary Operational Environmental Satellite R-Series (GOES-R) Core Ground Segment, Satellite Product Analysis and Distribution System (SPADES) goesr.exis@noaa.gov  DOC/NOAA/NESDIS/NCEI National Centers for Environmental Information    institution https://www.ncei.noaa.gov/ GOES-R XRS.04 Algorithm Theoretical Basis Document The EXIS X-Ray Sensor (XRS) measures in a short wavelength channel (XRS-A) between 0.05 and 0.4 nm and in a longer wavelength channel (XRS-B) between 0.1 and 0.8 nm. The X-ray flux average product consists of 1 minute averages of the 1-s X-ray solar measurements. Flux is provided with and without electron contamination removed. 2023-08-15T00:00:00.000Z                     PT1M 2023-08-14T00:00:00.000Z L2 XRS 1 minute average\n",
      "sci_xrsf-l2-avg1m_g18_d20230815_v2-2-0.nc   GOES-18 GOES R Series Extreme Ultraviolet Sensor and X-ray Irradiance Sensors (EXIS)         L2   1-minute GOES-R EXIS/XRS L2 xrsf-l2-flx1s    Unknown  Unknown ACDD-1.3, Spase v2.2.6        NCEI Boulder                    SCI cli-xrs04_avg     2021-03-19                 None            [2, 2] goesr.exis@noaa.gov DOC/NOAA/NESDIS/NCEI/OGSSD/STP Janet Machol       person https://www.ncei.noaa.gov/ 2023-08-22T06:07:52.971Z e255931a87f3b96db2357cc0c6a8287050bb3766 See algorithm information. sci_xrsf-l2-avg1m_g18_d20230815_v2-2-0.nc sci_mpsh-l2-avg1m_g18_d20230815_v2-0-1.nc, sci_xrsf-l2-flx1s_g18_d20230815_v2-2-0.nc sci_mpsh-l2-avg1m_g18_d20230815_v2-0-1.nc, sci_xrsf-l2-flx1s_g18_d20230815_v2-2-0.nc                  2                       sci DOC/NOAA/NESDIS           FM3 NumericalData.MeasurementType.Irradiance SPASE: Space Physics Archive Search and Extract Data Model version 2.2.6, GCMD: NASA Global Change Master Directory (GCMD) Earth Science Keywords version 8.5 These data may be redistributed and used without restriction.                 gov.nesdis.noaa    GOES-West      g18          Level 2             Derived products g18_xrs-avg-electron-contam-lut_v0.h5 Geostationary Operational Environmental Satellite, R-Series (GOES-R) Geostationary Operational Environmental Satellite R-Series (GOES-R) Core Ground Segment, Satellite Product Analysis and Distribution System (SPADES) goesr.exis@noaa.gov  DOC/NOAA/NESDIS/NCEI National Centers for Environmental Information    institution https://www.ncei.noaa.gov/ GOES-R XRS.04 Algorithm Theoretical Basis Document The EXIS X-Ray Sensor (XRS) measures in a short wavelength channel (XRS-A) between 0.05 and 0.4 nm and in a longer wavelength channel (XRS-B) between 0.1 and 0.8 nm. The X-ray flux average product consists of 1 minute averages of the 1-s X-ray solar measurements. Flux is provided with and without electron contamination removed. 2023-08-16T00:00:00.000Z                     PT1M 2023-08-15T00:00:00.000Z L2 XRS 1 minute average\n"
     ]
    }
   ],
   "execution_count": 57
  },
  {
   "metadata": {
    "ExecuteTime": {
     "end_time": "2025-07-09T17:11:26.655750Z",
     "start_time": "2025-07-09T17:11:24.477984Z"
    }
   },
   "cell_type": "code",
   "source": [
    "from pathlib import Path\n",
    "\n",
    "import numpy as np\n",
    "from sunpy.net import Fido, attrs as a\n",
    "from concurrent.futures import ThreadPoolExecutor\n",
    "import logging\n",
    "import xarray as xr\n",
    "import pandas as pd\n",
    "\n",
    "class SXRDownloader:\n",
    "    logging.basicConfig(level=logging.INFO, format='%(asctime)s - %(levelname)s - %(message)s')\n",
    "    def __init__(self, save_dir: str = '/downloads/goes_data', concat_dir: str = '/downloads/goes_combined'):\n",
    "        self.save_dir = Path(save_dir)\n",
    "        self.save_dir.mkdir(exist_ok=True)\n",
    "        self.concat_dir = Path(concat_dir)\n",
    "        self.concat_dir.mkdir(exist_ok=True)\n",
    "        self.used_g13_files = []\n",
    "        self.used_g14_files = []\n",
    "        self.used_g15_files = []\n",
    "        self.used_g16_files = []\n",
    "        self.used_g17_files = []\n",
    "        self.used_g18_files = []\n",
    "\n",
    "\n",
    "    def download_and_save_goes_data(self, start='2023-07-01', end='2023-08-15', max_workers=4):\n",
    "        \"\"\"\n",
    "        Download GOES X-ray data at 1-minute cadence for a specified time range, including all available satellites.\n",
    "\n",
    "        Parameters:\n",
    "        - start (str): Start date for the query (e.g., '2023-07-01')\n",
    "        - end (str): End date for the query (e.g., '2023-08-15')\n",
    "        - max_workers (int): Number of parallel download threads\n",
    "        \"\"\"\n",
    "        logging.info(f\"Searching GOES X-ray data from {start} to {end} for all satellites at 1-minute cadence...\")\n",
    "\n",
    "        # Query for all GOES satellites with 1-minute averaged XRS data\n",
    "        goes_query = Fido.search(\n",
    "            a.Time(start, end),\n",
    "            a.Instrument('XRS'),\n",
    "            a.Resolution('avg1m')  # 1-minute averaged data\n",
    "        )\n",
    "\n",
    "        logging.info(f\"Found {len(goes_query[0])} GOES files.\")\n",
    "\n",
    "        # Skip if no files found\n",
    "        if len(goes_query[0]) == 0:\n",
    "            logging.warning(\"No files found for the specified query.\")\n",
    "            return []\n",
    "\n",
    "        # Define download function for a single file\n",
    "        def download_file(file_entry, path_template):\n",
    "            try:\n",
    "                fido_result = Fido.fetch(file_entry, path=str(path_template / \"{file}\"))\n",
    "                return fido_result\n",
    "            except Exception as e:\n",
    "                logging.error(f\"Failed to download {file_entry['file']}: {e}\")\n",
    "                return []\n",
    "\n",
    "        # Use ThreadPoolExecutor for parallel downloads\n",
    "        logging.info(f\"Downloading {len(goes_query[0])} files with {max_workers} workers...\")\n",
    "        downloaded_files = []\n",
    "        with ThreadPoolExecutor(max_workers=max_workers) as executor:\n",
    "            # Create download tasks for each file\n",
    "            futures = [\n",
    "                executor.submit(download_file, row, self.save_dir)\n",
    "                for row in goes_query[0]\n",
    "            ]\n",
    "            # Collect results\n",
    "            for future in futures:\n",
    "                result = future.result()\n",
    "                downloaded_files.extend(result)\n",
    "\n",
    "        logging.info(f\"Saved {len(downloaded_files)} files to {self.save_dir}\")\n",
    "        return downloaded_files\n",
    "\n",
    "\n",
    "    def combine_goes_data(self, columns_to_interp=[\"xrsb_flux\", \"xrsa_flux\"]):\n",
    "        \"\"\"\n",
    "        Combine GOES-16 and GOES-18 files and track source files used.\n",
    "        Parameters\n",
    "        \"\"\"\n",
    "\n",
    "        g13_files = sorted(self.save_dir.glob(\"*g13*.nc\"))\n",
    "        g14_files = sorted(self.save_dir.glob(\"*g14*.nc\"))\n",
    "        g15_files = sorted(self.save_dir.glob(\"*g15*.nc\"))\n",
    "        g16_files = sorted(self.save_dir.glob(\"*g16*.nc\"))\n",
    "        g17_files = sorted(self.save_dir.glob(\"*g17*.nc\"))\n",
    "        g18_files = sorted(self.save_dir.glob(\"*g18*.nc\"))\n",
    "        logging.info(f\"Found {len(g13_files)} GOES-13 files, {len(g14_files)} GOES-14 files, {len(g15_files)} GOES-15 files, {len(g16_files)} GOES-16 files, {len(g17_files)} GOES-17 files, and {len(g18_files)} GOES-18 files.\")\n",
    "\n",
    "        def process_files(files, satellite_name, output_file, used_file_list):\n",
    "            datasets = []\n",
    "            combined_meta = {}\n",
    "\n",
    "            for file_path in files:\n",
    "                try:\n",
    "                    ds = xr.open_dataset(str(file_path))\n",
    "                    datasets.append(ds)\n",
    "                    used_file_list.append(file_path)  # Track file used\n",
    "                    logging.info(f\"Loaded {file_path.name}\")\n",
    "                except Exception as e:\n",
    "                    logging.error(f\"Could not load {file_path.name}: {e}\")\n",
    "                    continue\n",
    "                finally:\n",
    "                    if 'ds' in locals():\n",
    "                        ds.close()\n",
    "\n",
    "            if not datasets:\n",
    "                logging.warning(f\"No valid datasets for {satellite_name}\")\n",
    "                return\n",
    "\n",
    "            try:\n",
    "                combined_ds = xr.concat(datasets, dim='time').sortby('time')\n",
    "                if satellite_name in ['GOES-13', 'GOES-14', 'GOES-15']:\n",
    "                    combined_ds['xrsa_flux'] = combined_ds['xrsa_flux'] / .85\n",
    "                    combined_ds['xrsb_flux'] = combined_ds['xrsb_flux'] / .7\n",
    "                df = combined_ds.to_dataframe().reset_index()\n",
    "                if 'quad_diode' in df.columns:\n",
    "                    df = df[df['quad_diode'] == 0]  # Filter out quad diode data\n",
    "                df['time'] = pd.to_datetime(df['time'])\n",
    "                df.set_index('time', inplace=True)\n",
    "                df_log = np.log10(df[columns_to_interp].replace(0, np.nan))\n",
    "\n",
    "                # Step 3: Interpolate in log space\n",
    "                df_log_interp = df_log.interpolate(method=\"time\", limit_direction=\"both\")\n",
    "\n",
    "                # Step 4: Back-transform to linear space\n",
    "                df[columns_to_interp] = 10 ** df_log_interp\n",
    "\n",
    "                # Add min and max dates to filename\n",
    "                min_date = df.index.min().strftime('%Y%m%d')\n",
    "                max_date = df.index.max().strftime('%Y%m%d')\n",
    "                filename = f\"{str(output_file)}_{min_date}_{max_date}.csv\"\n",
    "                df.to_csv(filename, index=True)\n",
    "\n",
    "\n",
    "\n",
    "\n",
    "                logging.info(f\"Saved combined file: {output_file}\")\n",
    "            except Exception as e:\n",
    "                logging.error(f\"Failed to write {output_file}: {e}\")\n",
    "            finally:\n",
    "                for ds in datasets:\n",
    "                    ds.close()\n",
    "        if len(g13_files) != 0:\n",
    "\n",
    "            process_files(g13_files, \"GOES-13\", self.concat_dir / \"combined_g13_avg1m\", self.used_g13_files)\n",
    "        if len(g14_files) != 0:\n",
    "            process_files(g14_files, \"GOES-14\", self.concat_dir / \"combined_g14_avg1m\", self.used_g14_files)\n",
    "        if len(g15_files) != 0:\n",
    "            process_files(g15_files, \"GOES-15\", self.concat_dir / \"combined_g15_avg1m\", self.used_g15_files)\n",
    "        if len(g16_files) != 0:\n",
    "            process_files(g16_files, \"GOES-16\", self.concat_dir / \"combined_g16_avg1m\", self.used_g16_files)\n",
    "        if len(g17_files) != 0:\n",
    "            process_files(g17_files, \"GOES-17\", self.concat_dir / \"combined_g17_avg1m\", self.used_g17_files)\n",
    "        if len(g18_files) != 0:\n",
    "            process_files(g18_files, \"GOES-18\", self.concat_dir / \"combined_g18_avg1m\", self.used_g18_files)"
   ],
   "id": "3358836b644ebc22",
   "outputs": [
    {
     "name": "stderr",
     "output_type": "stream",
     "text": [
      "/home/griffingoodwin/.conda/envs/2025-HL-Flaring-MEGS-AI-Updated/lib/python3.10/site-packages/requests/__init__.py:86: RequestsDependencyWarning: Unable to find acceptable character detection dependency (chardet or charset_normalizer).\n",
      "  warnings.warn(\n"
     ]
    }
   ],
   "execution_count": 1
  },
  {
   "metadata": {
    "ExecuteTime": {
     "end_time": "2025-07-09T17:11:29.480837Z",
     "start_time": "2025-07-09T17:11:29.478040Z"
    }
   },
   "cell_type": "code",
   "source": "sx = SXRDownloader('/home/griffingoodwin/downloads/goes_data', '/home/griffingoodwin/downloads/goes_combined')",
   "id": "1fde385374b49920",
   "outputs": [],
   "execution_count": 2
  },
  {
   "metadata": {
    "ExecuteTime": {
     "end_time": "2025-07-08T23:24:22.913936Z",
     "start_time": "2025-07-08T23:24:16.147573Z"
    }
   },
   "cell_type": "code",
   "source": "sx.download_and_save_goes_data('2023-07-01', '2023-08-15', max_workers=4)",
   "id": "47d815ed4b13d8e7",
   "outputs": [
    {
     "name": "stderr",
     "output_type": "stream",
     "text": [
      "2025-07-08 23:24:16,148 - INFO - Searching GOES X-ray data from 2023-07-01 to 2023-08-15 for all satellites at 1-minute cadence...\n",
      "2025-07-08 23:24:19,222 - INFO - Found 92 GOES files.\n",
      "2025-07-08 23:24:19,223 - INFO - Downloading 92 files with 4 workers...\n",
      "/home/griffingoodwin/.conda/envs/2025-HL-Flaring-MEGS-AI-Updated/lib/python3.10/site-packages/parfive/downloader.py:258: UserWarning: This download has been started in a thread which is not the main thread. You will not be able to interrupt the download.\n",
      "  warnings.warn(\n"
     ]
    },
    {
     "data": {
      "text/plain": [
       "Files Downloaded:   0%|          | 0/1 [00:00<?, ?file/s]"
      ],
      "application/vnd.jupyter.widget-view+json": {
       "version_major": 2,
       "version_minor": 0,
       "model_id": "bd38cdf57a5a4d5b8dc6d20c28cad86e"
      }
     },
     "metadata": {},
     "output_type": "display_data"
    },
    {
     "data": {
      "text/plain": [
       "Files Downloaded:   0%|          | 0/1 [00:00<?, ?file/s]"
      ],
      "application/vnd.jupyter.widget-view+json": {
       "version_major": 2,
       "version_minor": 0,
       "model_id": "3ed92c4494dd47a6a73437aa5baa02ca"
      }
     },
     "metadata": {},
     "output_type": "display_data"
    },
    {
     "data": {
      "text/plain": [
       "Files Downloaded:   0%|          | 0/1 [00:00<?, ?file/s]"
      ],
      "application/vnd.jupyter.widget-view+json": {
       "version_major": 2,
       "version_minor": 0,
       "model_id": "fc9eb70b1c334ea986df95dfd60eff81"
      }
     },
     "metadata": {},
     "output_type": "display_data"
    },
    {
     "data": {
      "text/plain": [
       "Files Downloaded:   0%|          | 0/1 [00:00<?, ?file/s]"
      ],
      "application/vnd.jupyter.widget-view+json": {
       "version_major": 2,
       "version_minor": 0,
       "model_id": "8e1982450e4148609087a69fd4b9a44b"
      }
     },
     "metadata": {},
     "output_type": "display_data"
    },
    {
     "data": {
      "text/plain": [
       "Files Downloaded:   0%|          | 0/1 [00:00<?, ?file/s]"
      ],
      "application/vnd.jupyter.widget-view+json": {
       "version_major": 2,
       "version_minor": 0,
       "model_id": "c9b9b659c1f249a7b4bde0817382df49"
      }
     },
     "metadata": {},
     "output_type": "display_data"
    },
    {
     "data": {
      "text/plain": [
       "Files Downloaded:   0%|          | 0/1 [00:00<?, ?file/s]"
      ],
      "application/vnd.jupyter.widget-view+json": {
       "version_major": 2,
       "version_minor": 0,
       "model_id": "f5566f32ef15498db37be3b2d85b61ef"
      }
     },
     "metadata": {},
     "output_type": "display_data"
    },
    {
     "data": {
      "text/plain": [
       "Files Downloaded:   0%|          | 0/1 [00:00<?, ?file/s]"
      ],
      "application/vnd.jupyter.widget-view+json": {
       "version_major": 2,
       "version_minor": 0,
       "model_id": "36b2ffad27b44e8d85e54af0c3294a8e"
      }
     },
     "metadata": {},
     "output_type": "display_data"
    },
    {
     "data": {
      "text/plain": [
       "Files Downloaded:   0%|          | 0/1 [00:00<?, ?file/s]"
      ],
      "application/vnd.jupyter.widget-view+json": {
       "version_major": 2,
       "version_minor": 0,
       "model_id": "138653dd7e3244fc97e04d3473bde8b9"
      }
     },
     "metadata": {},
     "output_type": "display_data"
    },
    {
     "data": {
      "text/plain": [
       "Files Downloaded:   0%|          | 0/1 [00:00<?, ?file/s]"
      ],
      "application/vnd.jupyter.widget-view+json": {
       "version_major": 2,
       "version_minor": 0,
       "model_id": "84f8092be1044a69a507670de66b2b58"
      }
     },
     "metadata": {},
     "output_type": "display_data"
    },
    {
     "data": {
      "text/plain": [
       "Files Downloaded:   0%|          | 0/1 [00:00<?, ?file/s]"
      ],
      "application/vnd.jupyter.widget-view+json": {
       "version_major": 2,
       "version_minor": 0,
       "model_id": "079981f7bf71488aa1ca83881cc9172b"
      }
     },
     "metadata": {},
     "output_type": "display_data"
    },
    {
     "data": {
      "text/plain": [
       "Files Downloaded:   0%|          | 0/1 [00:00<?, ?file/s]"
      ],
      "application/vnd.jupyter.widget-view+json": {
       "version_major": 2,
       "version_minor": 0,
       "model_id": "8e9134c57dce4d3cb91254cc8299a512"
      }
     },
     "metadata": {},
     "output_type": "display_data"
    },
    {
     "data": {
      "text/plain": [
       "Files Downloaded:   0%|          | 0/1 [00:00<?, ?file/s]"
      ],
      "application/vnd.jupyter.widget-view+json": {
       "version_major": 2,
       "version_minor": 0,
       "model_id": "05f344cd7c8f477ebcfb92fe4644843a"
      }
     },
     "metadata": {},
     "output_type": "display_data"
    },
    {
     "data": {
      "text/plain": [
       "Files Downloaded:   0%|          | 0/1 [00:00<?, ?file/s]"
      ],
      "application/vnd.jupyter.widget-view+json": {
       "version_major": 2,
       "version_minor": 0,
       "model_id": "81b3a199b8ad4b80bb6ff38856558ce8"
      }
     },
     "metadata": {},
     "output_type": "display_data"
    },
    {
     "data": {
      "text/plain": [
       "Files Downloaded:   0%|          | 0/1 [00:00<?, ?file/s]"
      ],
      "application/vnd.jupyter.widget-view+json": {
       "version_major": 2,
       "version_minor": 0,
       "model_id": "f4996d43971d40678558848210ae337e"
      }
     },
     "metadata": {},
     "output_type": "display_data"
    },
    {
     "data": {
      "text/plain": [
       "Files Downloaded:   0%|          | 0/1 [00:00<?, ?file/s]"
      ],
      "application/vnd.jupyter.widget-view+json": {
       "version_major": 2,
       "version_minor": 0,
       "model_id": "4b4509b9bcfc4f2eb42b608f3c76a20e"
      }
     },
     "metadata": {},
     "output_type": "display_data"
    },
    {
     "data": {
      "text/plain": [
       "Files Downloaded:   0%|          | 0/1 [00:00<?, ?file/s]"
      ],
      "application/vnd.jupyter.widget-view+json": {
       "version_major": 2,
       "version_minor": 0,
       "model_id": "efa61c9007864c39a29387abee0daccd"
      }
     },
     "metadata": {},
     "output_type": "display_data"
    },
    {
     "data": {
      "text/plain": [
       "Files Downloaded:   0%|          | 0/1 [00:00<?, ?file/s]"
      ],
      "application/vnd.jupyter.widget-view+json": {
       "version_major": 2,
       "version_minor": 0,
       "model_id": "9d4022ec57e24ec3a09998d54f8b45b7"
      }
     },
     "metadata": {},
     "output_type": "display_data"
    },
    {
     "data": {
      "text/plain": [
       "Files Downloaded:   0%|          | 0/1 [00:00<?, ?file/s]"
      ],
      "application/vnd.jupyter.widget-view+json": {
       "version_major": 2,
       "version_minor": 0,
       "model_id": "8ed5810668bf494b873d9c00c3717aeb"
      }
     },
     "metadata": {},
     "output_type": "display_data"
    },
    {
     "data": {
      "text/plain": [
       "Files Downloaded:   0%|          | 0/1 [00:00<?, ?file/s]"
      ],
      "application/vnd.jupyter.widget-view+json": {
       "version_major": 2,
       "version_minor": 0,
       "model_id": "0bda82ae54dc4d009ac92b9d1d8c3991"
      }
     },
     "metadata": {},
     "output_type": "display_data"
    },
    {
     "data": {
      "text/plain": [
       "Files Downloaded:   0%|          | 0/1 [00:00<?, ?file/s]"
      ],
      "application/vnd.jupyter.widget-view+json": {
       "version_major": 2,
       "version_minor": 0,
       "model_id": "821632b93a6c4700897c8a3e6eafcfe3"
      }
     },
     "metadata": {},
     "output_type": "display_data"
    },
    {
     "data": {
      "text/plain": [
       "Files Downloaded:   0%|          | 0/1 [00:00<?, ?file/s]"
      ],
      "application/vnd.jupyter.widget-view+json": {
       "version_major": 2,
       "version_minor": 0,
       "model_id": "a750da929353440991a616e41b22b0b6"
      }
     },
     "metadata": {},
     "output_type": "display_data"
    },
    {
     "data": {
      "text/plain": [
       "Files Downloaded:   0%|          | 0/1 [00:00<?, ?file/s]"
      ],
      "application/vnd.jupyter.widget-view+json": {
       "version_major": 2,
       "version_minor": 0,
       "model_id": "ed6a4e021eb04cd89fb2e4d94a4ed23d"
      }
     },
     "metadata": {},
     "output_type": "display_data"
    },
    {
     "data": {
      "text/plain": [
       "Files Downloaded:   0%|          | 0/1 [00:00<?, ?file/s]"
      ],
      "application/vnd.jupyter.widget-view+json": {
       "version_major": 2,
       "version_minor": 0,
       "model_id": "280a09fa53474302adb630a670c4df71"
      }
     },
     "metadata": {},
     "output_type": "display_data"
    },
    {
     "data": {
      "text/plain": [
       "Files Downloaded:   0%|          | 0/1 [00:00<?, ?file/s]"
      ],
      "application/vnd.jupyter.widget-view+json": {
       "version_major": 2,
       "version_minor": 0,
       "model_id": "3c97dd38b3bf40099a3112df1489ffe9"
      }
     },
     "metadata": {},
     "output_type": "display_data"
    },
    {
     "data": {
      "text/plain": [
       "Files Downloaded:   0%|          | 0/1 [00:00<?, ?file/s]"
      ],
      "application/vnd.jupyter.widget-view+json": {
       "version_major": 2,
       "version_minor": 0,
       "model_id": "74087966de934ae99092d3bd31a9a1ba"
      }
     },
     "metadata": {},
     "output_type": "display_data"
    },
    {
     "data": {
      "text/plain": [
       "Files Downloaded:   0%|          | 0/1 [00:00<?, ?file/s]"
      ],
      "application/vnd.jupyter.widget-view+json": {
       "version_major": 2,
       "version_minor": 0,
       "model_id": "c9b739dcd4274b8cbeb634009f4087c2"
      }
     },
     "metadata": {},
     "output_type": "display_data"
    },
    {
     "data": {
      "text/plain": [
       "Files Downloaded:   0%|          | 0/1 [00:00<?, ?file/s]"
      ],
      "application/vnd.jupyter.widget-view+json": {
       "version_major": 2,
       "version_minor": 0,
       "model_id": "2f373221634d4af78262f8239bf76df3"
      }
     },
     "metadata": {},
     "output_type": "display_data"
    },
    {
     "data": {
      "text/plain": [
       "Files Downloaded:   0%|          | 0/1 [00:00<?, ?file/s]"
      ],
      "application/vnd.jupyter.widget-view+json": {
       "version_major": 2,
       "version_minor": 0,
       "model_id": "93e0867ad6a74518bab1c8ea06ad90b3"
      }
     },
     "metadata": {},
     "output_type": "display_data"
    },
    {
     "data": {
      "text/plain": [
       "Files Downloaded:   0%|          | 0/1 [00:00<?, ?file/s]"
      ],
      "application/vnd.jupyter.widget-view+json": {
       "version_major": 2,
       "version_minor": 0,
       "model_id": "78fb4c8c4e934b8da7d42d37045677f7"
      }
     },
     "metadata": {},
     "output_type": "display_data"
    },
    {
     "data": {
      "text/plain": [
       "Files Downloaded:   0%|          | 0/1 [00:00<?, ?file/s]"
      ],
      "application/vnd.jupyter.widget-view+json": {
       "version_major": 2,
       "version_minor": 0,
       "model_id": "75c09cf2eaa04f268d31bdaf1f19ad59"
      }
     },
     "metadata": {},
     "output_type": "display_data"
    },
    {
     "data": {
      "text/plain": [
       "Files Downloaded:   0%|          | 0/1 [00:00<?, ?file/s]"
      ],
      "application/vnd.jupyter.widget-view+json": {
       "version_major": 2,
       "version_minor": 0,
       "model_id": "f900f852326b405bbdf42872f82e1bc1"
      }
     },
     "metadata": {},
     "output_type": "display_data"
    },
    {
     "data": {
      "text/plain": [
       "Files Downloaded:   0%|          | 0/1 [00:00<?, ?file/s]"
      ],
      "application/vnd.jupyter.widget-view+json": {
       "version_major": 2,
       "version_minor": 0,
       "model_id": "61cebb6425b147efa2aa88483fe6082c"
      }
     },
     "metadata": {},
     "output_type": "display_data"
    },
    {
     "data": {
      "text/plain": [
       "Files Downloaded:   0%|          | 0/1 [00:00<?, ?file/s]"
      ],
      "application/vnd.jupyter.widget-view+json": {
       "version_major": 2,
       "version_minor": 0,
       "model_id": "cc836b4fd94c4f98934afd73dd41b085"
      }
     },
     "metadata": {},
     "output_type": "display_data"
    },
    {
     "data": {
      "text/plain": [
       "Files Downloaded:   0%|          | 0/1 [00:00<?, ?file/s]"
      ],
      "application/vnd.jupyter.widget-view+json": {
       "version_major": 2,
       "version_minor": 0,
       "model_id": "5936540971344ad6934a5661880dcfae"
      }
     },
     "metadata": {},
     "output_type": "display_data"
    },
    {
     "data": {
      "text/plain": [
       "Files Downloaded:   0%|          | 0/1 [00:00<?, ?file/s]"
      ],
      "application/vnd.jupyter.widget-view+json": {
       "version_major": 2,
       "version_minor": 0,
       "model_id": "d8734ce6b0b5454aac21d28af13dac8e"
      }
     },
     "metadata": {},
     "output_type": "display_data"
    },
    {
     "data": {
      "text/plain": [
       "Files Downloaded:   0%|          | 0/1 [00:00<?, ?file/s]"
      ],
      "application/vnd.jupyter.widget-view+json": {
       "version_major": 2,
       "version_minor": 0,
       "model_id": "3fb15ce5f2244d03b78cadd89144a480"
      }
     },
     "metadata": {},
     "output_type": "display_data"
    },
    {
     "data": {
      "text/plain": [
       "Files Downloaded:   0%|          | 0/1 [00:00<?, ?file/s]"
      ],
      "application/vnd.jupyter.widget-view+json": {
       "version_major": 2,
       "version_minor": 0,
       "model_id": "0ba6c7d44f0242d4a5dca9df348f105f"
      }
     },
     "metadata": {},
     "output_type": "display_data"
    },
    {
     "data": {
      "text/plain": [
       "Files Downloaded:   0%|          | 0/1 [00:00<?, ?file/s]"
      ],
      "application/vnd.jupyter.widget-view+json": {
       "version_major": 2,
       "version_minor": 0,
       "model_id": "0785a50425654816853b58eb97f0441a"
      }
     },
     "metadata": {},
     "output_type": "display_data"
    },
    {
     "data": {
      "text/plain": [
       "Files Downloaded:   0%|          | 0/1 [00:00<?, ?file/s]"
      ],
      "application/vnd.jupyter.widget-view+json": {
       "version_major": 2,
       "version_minor": 0,
       "model_id": "fb08e25736994781ad644a9e49356fc4"
      }
     },
     "metadata": {},
     "output_type": "display_data"
    },
    {
     "data": {
      "text/plain": [
       "Files Downloaded:   0%|          | 0/1 [00:00<?, ?file/s]"
      ],
      "application/vnd.jupyter.widget-view+json": {
       "version_major": 2,
       "version_minor": 0,
       "model_id": "28fcfcdcbeda407a9579bf84aaee857d"
      }
     },
     "metadata": {},
     "output_type": "display_data"
    },
    {
     "data": {
      "text/plain": [
       "Files Downloaded:   0%|          | 0/1 [00:00<?, ?file/s]"
      ],
      "application/vnd.jupyter.widget-view+json": {
       "version_major": 2,
       "version_minor": 0,
       "model_id": "20998573b29e463fb167d7f1fc3ed192"
      }
     },
     "metadata": {},
     "output_type": "display_data"
    },
    {
     "data": {
      "text/plain": [
       "Files Downloaded:   0%|          | 0/1 [00:00<?, ?file/s]"
      ],
      "application/vnd.jupyter.widget-view+json": {
       "version_major": 2,
       "version_minor": 0,
       "model_id": "7efbb145fd5d422799c4d873977e38b1"
      }
     },
     "metadata": {},
     "output_type": "display_data"
    },
    {
     "data": {
      "text/plain": [
       "Files Downloaded:   0%|          | 0/1 [00:00<?, ?file/s]"
      ],
      "application/vnd.jupyter.widget-view+json": {
       "version_major": 2,
       "version_minor": 0,
       "model_id": "a05ae267aa6c40d09864a2a4f76973c5"
      }
     },
     "metadata": {},
     "output_type": "display_data"
    },
    {
     "data": {
      "text/plain": [
       "Files Downloaded:   0%|          | 0/1 [00:00<?, ?file/s]"
      ],
      "application/vnd.jupyter.widget-view+json": {
       "version_major": 2,
       "version_minor": 0,
       "model_id": "05aaf5c1239c4605b076fd18ee0c5601"
      }
     },
     "metadata": {},
     "output_type": "display_data"
    },
    {
     "data": {
      "text/plain": [
       "Files Downloaded:   0%|          | 0/1 [00:00<?, ?file/s]"
      ],
      "application/vnd.jupyter.widget-view+json": {
       "version_major": 2,
       "version_minor": 0,
       "model_id": "b12febaa3355448d8b6c3b18383f26b2"
      }
     },
     "metadata": {},
     "output_type": "display_data"
    },
    {
     "data": {
      "text/plain": [
       "Files Downloaded:   0%|          | 0/1 [00:00<?, ?file/s]"
      ],
      "application/vnd.jupyter.widget-view+json": {
       "version_major": 2,
       "version_minor": 0,
       "model_id": "20101b57cde344f49aa1336a876bf7d1"
      }
     },
     "metadata": {},
     "output_type": "display_data"
    },
    {
     "data": {
      "text/plain": [
       "Files Downloaded:   0%|          | 0/1 [00:00<?, ?file/s]"
      ],
      "application/vnd.jupyter.widget-view+json": {
       "version_major": 2,
       "version_minor": 0,
       "model_id": "ea8778bc5c78424cbaab8261edcc8ee6"
      }
     },
     "metadata": {},
     "output_type": "display_data"
    },
    {
     "data": {
      "text/plain": [
       "Files Downloaded:   0%|          | 0/1 [00:00<?, ?file/s]"
      ],
      "application/vnd.jupyter.widget-view+json": {
       "version_major": 2,
       "version_minor": 0,
       "model_id": "94d859be2e07496987ef4ea386bf277b"
      }
     },
     "metadata": {},
     "output_type": "display_data"
    },
    {
     "data": {
      "text/plain": [
       "Files Downloaded:   0%|          | 0/1 [00:00<?, ?file/s]"
      ],
      "application/vnd.jupyter.widget-view+json": {
       "version_major": 2,
       "version_minor": 0,
       "model_id": "d57bd41854784f1292b9683835d8070e"
      }
     },
     "metadata": {},
     "output_type": "display_data"
    },
    {
     "data": {
      "text/plain": [
       "Files Downloaded:   0%|          | 0/1 [00:00<?, ?file/s]"
      ],
      "application/vnd.jupyter.widget-view+json": {
       "version_major": 2,
       "version_minor": 0,
       "model_id": "5244b05d396445228b7b20ee2b7e5fae"
      }
     },
     "metadata": {},
     "output_type": "display_data"
    },
    {
     "data": {
      "text/plain": [
       "Files Downloaded:   0%|          | 0/1 [00:00<?, ?file/s]"
      ],
      "application/vnd.jupyter.widget-view+json": {
       "version_major": 2,
       "version_minor": 0,
       "model_id": "bd9007a1f7a4444490cdb62e691c198d"
      }
     },
     "metadata": {},
     "output_type": "display_data"
    },
    {
     "data": {
      "text/plain": [
       "Files Downloaded:   0%|          | 0/1 [00:00<?, ?file/s]"
      ],
      "application/vnd.jupyter.widget-view+json": {
       "version_major": 2,
       "version_minor": 0,
       "model_id": "ec1a2661be724750bc2381ac7766cd72"
      }
     },
     "metadata": {},
     "output_type": "display_data"
    },
    {
     "data": {
      "text/plain": [
       "Files Downloaded:   0%|          | 0/1 [00:00<?, ?file/s]"
      ],
      "application/vnd.jupyter.widget-view+json": {
       "version_major": 2,
       "version_minor": 0,
       "model_id": "deb1a6ed6f494b6e8958569044cdf953"
      }
     },
     "metadata": {},
     "output_type": "display_data"
    },
    {
     "data": {
      "text/plain": [
       "Files Downloaded:   0%|          | 0/1 [00:00<?, ?file/s]"
      ],
      "application/vnd.jupyter.widget-view+json": {
       "version_major": 2,
       "version_minor": 0,
       "model_id": "8baf6a290e544ba6b9284adc3bbf5f51"
      }
     },
     "metadata": {},
     "output_type": "display_data"
    },
    {
     "data": {
      "text/plain": [
       "Files Downloaded:   0%|          | 0/1 [00:00<?, ?file/s]"
      ],
      "application/vnd.jupyter.widget-view+json": {
       "version_major": 2,
       "version_minor": 0,
       "model_id": "bd5023b661684fb1ab58a92d51accdcd"
      }
     },
     "metadata": {},
     "output_type": "display_data"
    },
    {
     "data": {
      "text/plain": [
       "Files Downloaded:   0%|          | 0/1 [00:00<?, ?file/s]"
      ],
      "application/vnd.jupyter.widget-view+json": {
       "version_major": 2,
       "version_minor": 0,
       "model_id": "5181214e04944a6c88cd304695f0234b"
      }
     },
     "metadata": {},
     "output_type": "display_data"
    },
    {
     "data": {
      "text/plain": [
       "Files Downloaded:   0%|          | 0/1 [00:00<?, ?file/s]"
      ],
      "application/vnd.jupyter.widget-view+json": {
       "version_major": 2,
       "version_minor": 0,
       "model_id": "23562c904cb04f618beeef335d886481"
      }
     },
     "metadata": {},
     "output_type": "display_data"
    },
    {
     "data": {
      "text/plain": [
       "Files Downloaded:   0%|          | 0/1 [00:00<?, ?file/s]"
      ],
      "application/vnd.jupyter.widget-view+json": {
       "version_major": 2,
       "version_minor": 0,
       "model_id": "4256d687144e42a9b75bf65664d17e7d"
      }
     },
     "metadata": {},
     "output_type": "display_data"
    },
    {
     "data": {
      "text/plain": [
       "Files Downloaded:   0%|          | 0/1 [00:00<?, ?file/s]"
      ],
      "application/vnd.jupyter.widget-view+json": {
       "version_major": 2,
       "version_minor": 0,
       "model_id": "2bd5b45221d944ea8592b171fbdec750"
      }
     },
     "metadata": {},
     "output_type": "display_data"
    },
    {
     "data": {
      "text/plain": [
       "Files Downloaded:   0%|          | 0/1 [00:00<?, ?file/s]"
      ],
      "application/vnd.jupyter.widget-view+json": {
       "version_major": 2,
       "version_minor": 0,
       "model_id": "61a36847e5b74cbdb43537126d6629ba"
      }
     },
     "metadata": {},
     "output_type": "display_data"
    },
    {
     "data": {
      "text/plain": [
       "Files Downloaded:   0%|          | 0/1 [00:00<?, ?file/s]"
      ],
      "application/vnd.jupyter.widget-view+json": {
       "version_major": 2,
       "version_minor": 0,
       "model_id": "40ed65f9450a42b8aad11b194c3334de"
      }
     },
     "metadata": {},
     "output_type": "display_data"
    },
    {
     "data": {
      "text/plain": [
       "Files Downloaded:   0%|          | 0/1 [00:00<?, ?file/s]"
      ],
      "application/vnd.jupyter.widget-view+json": {
       "version_major": 2,
       "version_minor": 0,
       "model_id": "1f502b9649b54b768768497ce6069440"
      }
     },
     "metadata": {},
     "output_type": "display_data"
    },
    {
     "data": {
      "text/plain": [
       "Files Downloaded:   0%|          | 0/1 [00:00<?, ?file/s]"
      ],
      "application/vnd.jupyter.widget-view+json": {
       "version_major": 2,
       "version_minor": 0,
       "model_id": "e418fcf04812472c8e579f9c8ad4865f"
      }
     },
     "metadata": {},
     "output_type": "display_data"
    },
    {
     "data": {
      "text/plain": [
       "Files Downloaded:   0%|          | 0/1 [00:00<?, ?file/s]"
      ],
      "application/vnd.jupyter.widget-view+json": {
       "version_major": 2,
       "version_minor": 0,
       "model_id": "2f12a5c1870e4af598ec8455c39740f8"
      }
     },
     "metadata": {},
     "output_type": "display_data"
    },
    {
     "data": {
      "text/plain": [
       "Files Downloaded:   0%|          | 0/1 [00:00<?, ?file/s]"
      ],
      "application/vnd.jupyter.widget-view+json": {
       "version_major": 2,
       "version_minor": 0,
       "model_id": "80b918c34c9d474ab0648c8db3cec4a4"
      }
     },
     "metadata": {},
     "output_type": "display_data"
    },
    {
     "data": {
      "text/plain": [
       "Files Downloaded:   0%|          | 0/1 [00:00<?, ?file/s]"
      ],
      "application/vnd.jupyter.widget-view+json": {
       "version_major": 2,
       "version_minor": 0,
       "model_id": "ab55f0bcc884479990479ddee4274c98"
      }
     },
     "metadata": {},
     "output_type": "display_data"
    },
    {
     "data": {
      "text/plain": [
       "Files Downloaded:   0%|          | 0/1 [00:00<?, ?file/s]"
      ],
      "application/vnd.jupyter.widget-view+json": {
       "version_major": 2,
       "version_minor": 0,
       "model_id": "d2a02cebbf8f4af4abb293ae6d477df0"
      }
     },
     "metadata": {},
     "output_type": "display_data"
    },
    {
     "data": {
      "text/plain": [
       "Files Downloaded:   0%|          | 0/1 [00:00<?, ?file/s]"
      ],
      "application/vnd.jupyter.widget-view+json": {
       "version_major": 2,
       "version_minor": 0,
       "model_id": "704ebf94e39d433abf7eb9d0bc534cb3"
      }
     },
     "metadata": {},
     "output_type": "display_data"
    },
    {
     "data": {
      "text/plain": [
       "Files Downloaded:   0%|          | 0/1 [00:00<?, ?file/s]"
      ],
      "application/vnd.jupyter.widget-view+json": {
       "version_major": 2,
       "version_minor": 0,
       "model_id": "12def3e6064e438c86b65e80657d37b9"
      }
     },
     "metadata": {},
     "output_type": "display_data"
    },
    {
     "data": {
      "text/plain": [
       "Files Downloaded:   0%|          | 0/1 [00:00<?, ?file/s]"
      ],
      "application/vnd.jupyter.widget-view+json": {
       "version_major": 2,
       "version_minor": 0,
       "model_id": "3b8ad99c56a949399f14502a401f7008"
      }
     },
     "metadata": {},
     "output_type": "display_data"
    },
    {
     "data": {
      "text/plain": [
       "Files Downloaded:   0%|          | 0/1 [00:00<?, ?file/s]"
      ],
      "application/vnd.jupyter.widget-view+json": {
       "version_major": 2,
       "version_minor": 0,
       "model_id": "f207000599fe42f2b9a702b02580f0af"
      }
     },
     "metadata": {},
     "output_type": "display_data"
    },
    {
     "data": {
      "text/plain": [
       "Files Downloaded:   0%|          | 0/1 [00:00<?, ?file/s]"
      ],
      "application/vnd.jupyter.widget-view+json": {
       "version_major": 2,
       "version_minor": 0,
       "model_id": "857ac8a5d6ef46a496a7bd3e4faee06d"
      }
     },
     "metadata": {},
     "output_type": "display_data"
    },
    {
     "data": {
      "text/plain": [
       "Files Downloaded:   0%|          | 0/1 [00:00<?, ?file/s]"
      ],
      "application/vnd.jupyter.widget-view+json": {
       "version_major": 2,
       "version_minor": 0,
       "model_id": "f74d3afe66ea43be916c5fe9ce5d5d5c"
      }
     },
     "metadata": {},
     "output_type": "display_data"
    },
    {
     "data": {
      "text/plain": [
       "Files Downloaded:   0%|          | 0/1 [00:00<?, ?file/s]"
      ],
      "application/vnd.jupyter.widget-view+json": {
       "version_major": 2,
       "version_minor": 0,
       "model_id": "6b2031aa032540d4b81d661fa38caea5"
      }
     },
     "metadata": {},
     "output_type": "display_data"
    },
    {
     "data": {
      "text/plain": [
       "Files Downloaded:   0%|          | 0/1 [00:00<?, ?file/s]"
      ],
      "application/vnd.jupyter.widget-view+json": {
       "version_major": 2,
       "version_minor": 0,
       "model_id": "f23a29637a844305a9a31837c845fed9"
      }
     },
     "metadata": {},
     "output_type": "display_data"
    },
    {
     "data": {
      "text/plain": [
       "Files Downloaded:   0%|          | 0/1 [00:00<?, ?file/s]"
      ],
      "application/vnd.jupyter.widget-view+json": {
       "version_major": 2,
       "version_minor": 0,
       "model_id": "a8ebdc804a03487dbc5f5bf45d5d3ab9"
      }
     },
     "metadata": {},
     "output_type": "display_data"
    },
    {
     "data": {
      "text/plain": [
       "Files Downloaded:   0%|          | 0/1 [00:00<?, ?file/s]"
      ],
      "application/vnd.jupyter.widget-view+json": {
       "version_major": 2,
       "version_minor": 0,
       "model_id": "45713b0c14fb44f7a8f163e7801c3554"
      }
     },
     "metadata": {},
     "output_type": "display_data"
    },
    {
     "data": {
      "text/plain": [
       "Files Downloaded:   0%|          | 0/1 [00:00<?, ?file/s]"
      ],
      "application/vnd.jupyter.widget-view+json": {
       "version_major": 2,
       "version_minor": 0,
       "model_id": "8e1f3674341d430792225a1e4348fcb2"
      }
     },
     "metadata": {},
     "output_type": "display_data"
    },
    {
     "data": {
      "text/plain": [
       "Files Downloaded:   0%|          | 0/1 [00:00<?, ?file/s]"
      ],
      "application/vnd.jupyter.widget-view+json": {
       "version_major": 2,
       "version_minor": 0,
       "model_id": "705043fa9e054d2a995e1a06d388b5e8"
      }
     },
     "metadata": {},
     "output_type": "display_data"
    },
    {
     "data": {
      "text/plain": [
       "Files Downloaded:   0%|          | 0/1 [00:00<?, ?file/s]"
      ],
      "application/vnd.jupyter.widget-view+json": {
       "version_major": 2,
       "version_minor": 0,
       "model_id": "5b677056d38845989782b92391902b4d"
      }
     },
     "metadata": {},
     "output_type": "display_data"
    },
    {
     "data": {
      "text/plain": [
       "Files Downloaded:   0%|          | 0/1 [00:00<?, ?file/s]"
      ],
      "application/vnd.jupyter.widget-view+json": {
       "version_major": 2,
       "version_minor": 0,
       "model_id": "47880245afe44e559c3285bd22e0a31b"
      }
     },
     "metadata": {},
     "output_type": "display_data"
    },
    {
     "data": {
      "text/plain": [
       "Files Downloaded:   0%|          | 0/1 [00:00<?, ?file/s]"
      ],
      "application/vnd.jupyter.widget-view+json": {
       "version_major": 2,
       "version_minor": 0,
       "model_id": "58327fd185ad4fc4b3e2a7f6b91db71c"
      }
     },
     "metadata": {},
     "output_type": "display_data"
    },
    {
     "data": {
      "text/plain": [
       "Files Downloaded:   0%|          | 0/1 [00:00<?, ?file/s]"
      ],
      "application/vnd.jupyter.widget-view+json": {
       "version_major": 2,
       "version_minor": 0,
       "model_id": "28005b3f9c07477da19caf19bad6d75d"
      }
     },
     "metadata": {},
     "output_type": "display_data"
    },
    {
     "data": {
      "text/plain": [
       "Files Downloaded:   0%|          | 0/1 [00:00<?, ?file/s]"
      ],
      "application/vnd.jupyter.widget-view+json": {
       "version_major": 2,
       "version_minor": 0,
       "model_id": "e26d255bb98d4516accd971feb2e80ea"
      }
     },
     "metadata": {},
     "output_type": "display_data"
    },
    {
     "data": {
      "text/plain": [
       "sci_xrsf-l2-avg1m_g18_d20230805_v2-2-0.nc:   0%|          | 0.00/3.14M [00:00<?, ?B/s]"
      ],
      "application/vnd.jupyter.widget-view+json": {
       "version_major": 2,
       "version_minor": 0,
       "model_id": "bc303395b3d145b8932297a6eadb6d29"
      }
     },
     "metadata": {},
     "output_type": "display_data"
    },
    {
     "data": {
      "text/plain": [
       "sci_xrsf-l2-avg1m_g18_d20230806_v2-2-0.nc:   0%|          | 0.00/3.14M [00:00<?, ?B/s]"
      ],
      "application/vnd.jupyter.widget-view+json": {
       "version_major": 2,
       "version_minor": 0,
       "model_id": "6e2df67290a84fcfa38077682d32491e"
      }
     },
     "metadata": {},
     "output_type": "display_data"
    },
    {
     "data": {
      "text/plain": [
       "sci_xrsf-l2-avg1m_g18_d20230807_v2-2-0.nc:   0%|          | 0.00/3.14M [00:00<?, ?B/s]"
      ],
      "application/vnd.jupyter.widget-view+json": {
       "version_major": 2,
       "version_minor": 0,
       "model_id": "486a1ec1a80945a593e80d889a837c69"
      }
     },
     "metadata": {},
     "output_type": "display_data"
    },
    {
     "data": {
      "text/plain": [
       "Files Downloaded:   0%|          | 0/1 [00:00<?, ?file/s]"
      ],
      "application/vnd.jupyter.widget-view+json": {
       "version_major": 2,
       "version_minor": 0,
       "model_id": "ff983c22fe9d42e3acca5859b8ddf9b2"
      }
     },
     "metadata": {},
     "output_type": "display_data"
    },
    {
     "data": {
      "text/plain": [
       "sci_xrsf-l2-avg1m_g18_d20230808_v2-2-0.nc:   0%|          | 0.00/3.14M [00:00<?, ?B/s]"
      ],
      "application/vnd.jupyter.widget-view+json": {
       "version_major": 2,
       "version_minor": 0,
       "model_id": "6c774073c4884a858f5d26ab46fd0a5b"
      }
     },
     "metadata": {},
     "output_type": "display_data"
    },
    {
     "data": {
      "text/plain": [
       "Files Downloaded:   0%|          | 0/1 [00:00<?, ?file/s]"
      ],
      "application/vnd.jupyter.widget-view+json": {
       "version_major": 2,
       "version_minor": 0,
       "model_id": "6f859028cfec4fdfb2362f2c1af4b9b6"
      }
     },
     "metadata": {},
     "output_type": "display_data"
    },
    {
     "data": {
      "text/plain": [
       "Files Downloaded:   0%|          | 0/1 [00:00<?, ?file/s]"
      ],
      "application/vnd.jupyter.widget-view+json": {
       "version_major": 2,
       "version_minor": 0,
       "model_id": "db107f99f1e844578e6c6ec1f38823e6"
      }
     },
     "metadata": {},
     "output_type": "display_data"
    },
    {
     "data": {
      "text/plain": [
       "Files Downloaded:   0%|          | 0/1 [00:00<?, ?file/s]"
      ],
      "application/vnd.jupyter.widget-view+json": {
       "version_major": 2,
       "version_minor": 0,
       "model_id": "cfe0d805eaa543e0924b3d52d7daff94"
      }
     },
     "metadata": {},
     "output_type": "display_data"
    },
    {
     "data": {
      "text/plain": [
       "Files Downloaded:   0%|          | 0/1 [00:00<?, ?file/s]"
      ],
      "application/vnd.jupyter.widget-view+json": {
       "version_major": 2,
       "version_minor": 0,
       "model_id": "bee0b626d67e4d7ebe228cd7e2301c0b"
      }
     },
     "metadata": {},
     "output_type": "display_data"
    },
    {
     "data": {
      "text/plain": [
       "sci_xrsf-l2-avg1m_g18_d20230809_v2-2-0.nc:   0%|          | 0.00/3.14M [00:00<?, ?B/s]"
      ],
      "application/vnd.jupyter.widget-view+json": {
       "version_major": 2,
       "version_minor": 0,
       "model_id": "a25d654e825d46d4b2f59cc66d39def9"
      }
     },
     "metadata": {},
     "output_type": "display_data"
    },
    {
     "data": {
      "text/plain": [
       "sci_xrsf-l2-avg1m_g18_d20230810_v2-2-0.nc:   0%|          | 0.00/3.14M [00:00<?, ?B/s]"
      ],
      "application/vnd.jupyter.widget-view+json": {
       "version_major": 2,
       "version_minor": 0,
       "model_id": "44e0e196522043eeb867946950776d39"
      }
     },
     "metadata": {},
     "output_type": "display_data"
    },
    {
     "data": {
      "text/plain": [
       "sci_xrsf-l2-avg1m_g18_d20230811_v2-2-0.nc:   0%|          | 0.00/3.14M [00:00<?, ?B/s]"
      ],
      "application/vnd.jupyter.widget-view+json": {
       "version_major": 2,
       "version_minor": 0,
       "model_id": "8b672e65a14848a1a202b97bf4efc58b"
      }
     },
     "metadata": {},
     "output_type": "display_data"
    },
    {
     "data": {
      "text/plain": [
       "sci_xrsf-l2-avg1m_g18_d20230812_v2-2-0.nc:   0%|          | 0.00/3.14M [00:00<?, ?B/s]"
      ],
      "application/vnd.jupyter.widget-view+json": {
       "version_major": 2,
       "version_minor": 0,
       "model_id": "7b78f4776a4144f3bd996a97af725a43"
      }
     },
     "metadata": {},
     "output_type": "display_data"
    },
    {
     "data": {
      "text/plain": [
       "Files Downloaded:   0%|          | 0/1 [00:00<?, ?file/s]"
      ],
      "application/vnd.jupyter.widget-view+json": {
       "version_major": 2,
       "version_minor": 0,
       "model_id": "8ac33fc1001d44bb9fa4e73fcde041cd"
      }
     },
     "metadata": {},
     "output_type": "display_data"
    },
    {
     "data": {
      "text/plain": [
       "Files Downloaded:   0%|          | 0/1 [00:00<?, ?file/s]"
      ],
      "application/vnd.jupyter.widget-view+json": {
       "version_major": 2,
       "version_minor": 0,
       "model_id": "a3662af1e637463283242ed11c654520"
      }
     },
     "metadata": {},
     "output_type": "display_data"
    },
    {
     "data": {
      "text/plain": [
       "Files Downloaded:   0%|          | 0/1 [00:00<?, ?file/s]"
      ],
      "application/vnd.jupyter.widget-view+json": {
       "version_major": 2,
       "version_minor": 0,
       "model_id": "10118fadd14449769f39fe91e6844e3b"
      }
     },
     "metadata": {},
     "output_type": "display_data"
    },
    {
     "data": {
      "text/plain": [
       "sci_xrsf-l2-avg1m_g18_d20230813_v2-2-0.nc:   0%|          | 0.00/3.14M [00:00<?, ?B/s]"
      ],
      "application/vnd.jupyter.widget-view+json": {
       "version_major": 2,
       "version_minor": 0,
       "model_id": "4bc13d42f1b14a63b6ec9b869af69b84"
      }
     },
     "metadata": {},
     "output_type": "display_data"
    },
    {
     "data": {
      "text/plain": [
       "sci_xrsf-l2-avg1m_g18_d20230814_v2-2-0.nc:   0%|          | 0.00/3.14M [00:00<?, ?B/s]"
      ],
      "application/vnd.jupyter.widget-view+json": {
       "version_major": 2,
       "version_minor": 0,
       "model_id": "3beca42d04164f69b71566dbba9024bd"
      }
     },
     "metadata": {},
     "output_type": "display_data"
    },
    {
     "data": {
      "text/plain": [
       "sci_xrsf-l2-avg1m_g18_d20230815_v2-2-0.nc:   0%|          | 0.00/3.14M [00:00<?, ?B/s]"
      ],
      "application/vnd.jupyter.widget-view+json": {
       "version_major": 2,
       "version_minor": 0,
       "model_id": "c895cdc64cab4ce385b821cde39afb17"
      }
     },
     "metadata": {},
     "output_type": "display_data"
    },
    {
     "name": "stderr",
     "output_type": "stream",
     "text": [
      "2025-07-08 23:24:22,910 - INFO - Saved 92 files to /home/griffingoodwin/downloads/goes_data\n"
     ]
    },
    {
     "data": {
      "text/plain": [
       "['/home/griffingoodwin/downloads/goes_data/sci_xrsf-l2-avg1m_g16_d20230701_v2-2-0.nc',\n",
       " '/home/griffingoodwin/downloads/goes_data/sci_xrsf-l2-avg1m_g16_d20230702_v2-2-0.nc',\n",
       " '/home/griffingoodwin/downloads/goes_data/sci_xrsf-l2-avg1m_g16_d20230703_v2-2-0.nc',\n",
       " '/home/griffingoodwin/downloads/goes_data/sci_xrsf-l2-avg1m_g16_d20230704_v2-2-0.nc',\n",
       " '/home/griffingoodwin/downloads/goes_data/sci_xrsf-l2-avg1m_g16_d20230705_v2-2-0.nc',\n",
       " '/home/griffingoodwin/downloads/goes_data/sci_xrsf-l2-avg1m_g16_d20230706_v2-2-0.nc',\n",
       " '/home/griffingoodwin/downloads/goes_data/sci_xrsf-l2-avg1m_g16_d20230707_v2-2-0.nc',\n",
       " '/home/griffingoodwin/downloads/goes_data/sci_xrsf-l2-avg1m_g16_d20230708_v2-2-0.nc',\n",
       " '/home/griffingoodwin/downloads/goes_data/sci_xrsf-l2-avg1m_g16_d20230709_v2-2-0.nc',\n",
       " '/home/griffingoodwin/downloads/goes_data/sci_xrsf-l2-avg1m_g16_d20230710_v2-2-0.nc',\n",
       " '/home/griffingoodwin/downloads/goes_data/sci_xrsf-l2-avg1m_g16_d20230711_v2-2-0.nc',\n",
       " '/home/griffingoodwin/downloads/goes_data/sci_xrsf-l2-avg1m_g16_d20230712_v2-2-0.nc',\n",
       " '/home/griffingoodwin/downloads/goes_data/sci_xrsf-l2-avg1m_g16_d20230713_v2-2-0.nc',\n",
       " '/home/griffingoodwin/downloads/goes_data/sci_xrsf-l2-avg1m_g16_d20230714_v2-2-0.nc',\n",
       " '/home/griffingoodwin/downloads/goes_data/sci_xrsf-l2-avg1m_g16_d20230715_v2-2-0.nc',\n",
       " '/home/griffingoodwin/downloads/goes_data/sci_xrsf-l2-avg1m_g16_d20230716_v2-2-0.nc',\n",
       " '/home/griffingoodwin/downloads/goes_data/sci_xrsf-l2-avg1m_g16_d20230717_v2-2-0.nc',\n",
       " '/home/griffingoodwin/downloads/goes_data/sci_xrsf-l2-avg1m_g16_d20230718_v2-2-0.nc',\n",
       " '/home/griffingoodwin/downloads/goes_data/sci_xrsf-l2-avg1m_g16_d20230719_v2-2-0.nc',\n",
       " '/home/griffingoodwin/downloads/goes_data/sci_xrsf-l2-avg1m_g16_d20230720_v2-2-0.nc',\n",
       " '/home/griffingoodwin/downloads/goes_data/sci_xrsf-l2-avg1m_g16_d20230721_v2-2-0.nc',\n",
       " '/home/griffingoodwin/downloads/goes_data/sci_xrsf-l2-avg1m_g16_d20230722_v2-2-0.nc',\n",
       " '/home/griffingoodwin/downloads/goes_data/sci_xrsf-l2-avg1m_g16_d20230723_v2-2-0.nc',\n",
       " '/home/griffingoodwin/downloads/goes_data/sci_xrsf-l2-avg1m_g16_d20230724_v2-2-0.nc',\n",
       " '/home/griffingoodwin/downloads/goes_data/sci_xrsf-l2-avg1m_g16_d20230725_v2-2-0.nc',\n",
       " '/home/griffingoodwin/downloads/goes_data/sci_xrsf-l2-avg1m_g16_d20230726_v2-2-0.nc',\n",
       " '/home/griffingoodwin/downloads/goes_data/sci_xrsf-l2-avg1m_g16_d20230727_v2-2-0.nc',\n",
       " '/home/griffingoodwin/downloads/goes_data/sci_xrsf-l2-avg1m_g16_d20230728_v2-2-0.nc',\n",
       " '/home/griffingoodwin/downloads/goes_data/sci_xrsf-l2-avg1m_g16_d20230729_v2-2-0.nc',\n",
       " '/home/griffingoodwin/downloads/goes_data/sci_xrsf-l2-avg1m_g16_d20230730_v2-2-0.nc',\n",
       " '/home/griffingoodwin/downloads/goes_data/sci_xrsf-l2-avg1m_g16_d20230731_v2-2-0.nc',\n",
       " '/home/griffingoodwin/downloads/goes_data/sci_xrsf-l2-avg1m_g16_d20230801_v2-2-0.nc',\n",
       " '/home/griffingoodwin/downloads/goes_data/sci_xrsf-l2-avg1m_g16_d20230802_v2-2-0.nc',\n",
       " '/home/griffingoodwin/downloads/goes_data/sci_xrsf-l2-avg1m_g16_d20230803_v2-2-0.nc',\n",
       " '/home/griffingoodwin/downloads/goes_data/sci_xrsf-l2-avg1m_g16_d20230804_v2-2-0.nc',\n",
       " '/home/griffingoodwin/downloads/goes_data/sci_xrsf-l2-avg1m_g16_d20230805_v2-2-0.nc',\n",
       " '/home/griffingoodwin/downloads/goes_data/sci_xrsf-l2-avg1m_g16_d20230806_v2-2-0.nc',\n",
       " '/home/griffingoodwin/downloads/goes_data/sci_xrsf-l2-avg1m_g16_d20230807_v2-2-0.nc',\n",
       " '/home/griffingoodwin/downloads/goes_data/sci_xrsf-l2-avg1m_g16_d20230808_v2-2-0.nc',\n",
       " '/home/griffingoodwin/downloads/goes_data/sci_xrsf-l2-avg1m_g16_d20230809_v2-2-0.nc',\n",
       " '/home/griffingoodwin/downloads/goes_data/sci_xrsf-l2-avg1m_g16_d20230810_v2-2-0.nc',\n",
       " '/home/griffingoodwin/downloads/goes_data/sci_xrsf-l2-avg1m_g16_d20230811_v2-2-0.nc',\n",
       " '/home/griffingoodwin/downloads/goes_data/sci_xrsf-l2-avg1m_g16_d20230812_v2-2-0.nc',\n",
       " '/home/griffingoodwin/downloads/goes_data/sci_xrsf-l2-avg1m_g16_d20230813_v2-2-0.nc',\n",
       " '/home/griffingoodwin/downloads/goes_data/sci_xrsf-l2-avg1m_g16_d20230814_v2-2-0.nc',\n",
       " '/home/griffingoodwin/downloads/goes_data/sci_xrsf-l2-avg1m_g16_d20230815_v2-2-0.nc',\n",
       " '/home/griffingoodwin/downloads/goes_data/sci_xrsf-l2-avg1m_g18_d20230701_v2-2-0.nc',\n",
       " '/home/griffingoodwin/downloads/goes_data/sci_xrsf-l2-avg1m_g18_d20230702_v2-2-0.nc',\n",
       " '/home/griffingoodwin/downloads/goes_data/sci_xrsf-l2-avg1m_g18_d20230703_v2-2-0.nc',\n",
       " '/home/griffingoodwin/downloads/goes_data/sci_xrsf-l2-avg1m_g18_d20230704_v2-2-0.nc',\n",
       " '/home/griffingoodwin/downloads/goes_data/sci_xrsf-l2-avg1m_g18_d20230705_v2-2-0.nc',\n",
       " '/home/griffingoodwin/downloads/goes_data/sci_xrsf-l2-avg1m_g18_d20230706_v2-2-0.nc',\n",
       " '/home/griffingoodwin/downloads/goes_data/sci_xrsf-l2-avg1m_g18_d20230707_v2-2-0.nc',\n",
       " '/home/griffingoodwin/downloads/goes_data/sci_xrsf-l2-avg1m_g18_d20230708_v2-2-0.nc',\n",
       " '/home/griffingoodwin/downloads/goes_data/sci_xrsf-l2-avg1m_g18_d20230709_v2-2-0.nc',\n",
       " '/home/griffingoodwin/downloads/goes_data/sci_xrsf-l2-avg1m_g18_d20230710_v2-2-0.nc',\n",
       " '/home/griffingoodwin/downloads/goes_data/sci_xrsf-l2-avg1m_g18_d20230711_v2-2-0.nc',\n",
       " '/home/griffingoodwin/downloads/goes_data/sci_xrsf-l2-avg1m_g18_d20230712_v2-2-0.nc',\n",
       " '/home/griffingoodwin/downloads/goes_data/sci_xrsf-l2-avg1m_g18_d20230713_v2-2-0.nc',\n",
       " '/home/griffingoodwin/downloads/goes_data/sci_xrsf-l2-avg1m_g18_d20230714_v2-2-0.nc',\n",
       " '/home/griffingoodwin/downloads/goes_data/sci_xrsf-l2-avg1m_g18_d20230715_v2-2-0.nc',\n",
       " '/home/griffingoodwin/downloads/goes_data/sci_xrsf-l2-avg1m_g18_d20230716_v2-2-0.nc',\n",
       " '/home/griffingoodwin/downloads/goes_data/sci_xrsf-l2-avg1m_g18_d20230717_v2-2-0.nc',\n",
       " '/home/griffingoodwin/downloads/goes_data/sci_xrsf-l2-avg1m_g18_d20230718_v2-2-0.nc',\n",
       " '/home/griffingoodwin/downloads/goes_data/sci_xrsf-l2-avg1m_g18_d20230719_v2-2-0.nc',\n",
       " '/home/griffingoodwin/downloads/goes_data/sci_xrsf-l2-avg1m_g18_d20230720_v2-2-0.nc',\n",
       " '/home/griffingoodwin/downloads/goes_data/sci_xrsf-l2-avg1m_g18_d20230721_v2-2-0.nc',\n",
       " '/home/griffingoodwin/downloads/goes_data/sci_xrsf-l2-avg1m_g18_d20230722_v2-2-0.nc',\n",
       " '/home/griffingoodwin/downloads/goes_data/sci_xrsf-l2-avg1m_g18_d20230723_v2-2-0.nc',\n",
       " '/home/griffingoodwin/downloads/goes_data/sci_xrsf-l2-avg1m_g18_d20230724_v2-2-0.nc',\n",
       " '/home/griffingoodwin/downloads/goes_data/sci_xrsf-l2-avg1m_g18_d20230725_v2-2-0.nc',\n",
       " '/home/griffingoodwin/downloads/goes_data/sci_xrsf-l2-avg1m_g18_d20230726_v2-2-0.nc',\n",
       " '/home/griffingoodwin/downloads/goes_data/sci_xrsf-l2-avg1m_g18_d20230727_v2-2-0.nc',\n",
       " '/home/griffingoodwin/downloads/goes_data/sci_xrsf-l2-avg1m_g18_d20230728_v2-2-0.nc',\n",
       " '/home/griffingoodwin/downloads/goes_data/sci_xrsf-l2-avg1m_g18_d20230729_v2-2-0.nc',\n",
       " '/home/griffingoodwin/downloads/goes_data/sci_xrsf-l2-avg1m_g18_d20230730_v2-2-0.nc',\n",
       " '/home/griffingoodwin/downloads/goes_data/sci_xrsf-l2-avg1m_g18_d20230731_v2-2-0.nc',\n",
       " '/home/griffingoodwin/downloads/goes_data/sci_xrsf-l2-avg1m_g18_d20230801_v2-2-0.nc',\n",
       " '/home/griffingoodwin/downloads/goes_data/sci_xrsf-l2-avg1m_g18_d20230802_v2-2-0.nc',\n",
       " '/home/griffingoodwin/downloads/goes_data/sci_xrsf-l2-avg1m_g18_d20230803_v2-2-0.nc',\n",
       " '/home/griffingoodwin/downloads/goes_data/sci_xrsf-l2-avg1m_g18_d20230804_v2-2-0.nc',\n",
       " '/home/griffingoodwin/downloads/goes_data/sci_xrsf-l2-avg1m_g18_d20230805_v2-2-0.nc',\n",
       " '/home/griffingoodwin/downloads/goes_data/sci_xrsf-l2-avg1m_g18_d20230806_v2-2-0.nc',\n",
       " '/home/griffingoodwin/downloads/goes_data/sci_xrsf-l2-avg1m_g18_d20230807_v2-2-0.nc',\n",
       " '/home/griffingoodwin/downloads/goes_data/sci_xrsf-l2-avg1m_g18_d20230808_v2-2-0.nc',\n",
       " '/home/griffingoodwin/downloads/goes_data/sci_xrsf-l2-avg1m_g18_d20230809_v2-2-0.nc',\n",
       " '/home/griffingoodwin/downloads/goes_data/sci_xrsf-l2-avg1m_g18_d20230810_v2-2-0.nc',\n",
       " '/home/griffingoodwin/downloads/goes_data/sci_xrsf-l2-avg1m_g18_d20230811_v2-2-0.nc',\n",
       " '/home/griffingoodwin/downloads/goes_data/sci_xrsf-l2-avg1m_g18_d20230812_v2-2-0.nc',\n",
       " '/home/griffingoodwin/downloads/goes_data/sci_xrsf-l2-avg1m_g18_d20230813_v2-2-0.nc',\n",
       " '/home/griffingoodwin/downloads/goes_data/sci_xrsf-l2-avg1m_g18_d20230814_v2-2-0.nc',\n",
       " '/home/griffingoodwin/downloads/goes_data/sci_xrsf-l2-avg1m_g18_d20230815_v2-2-0.nc']"
      ]
     },
     "execution_count": 169,
     "metadata": {},
     "output_type": "execute_result"
    }
   ],
   "execution_count": 169
  },
  {
   "metadata": {
    "ExecuteTime": {
     "end_time": "2025-07-09T17:12:48.976442Z",
     "start_time": "2025-07-09T17:12:13.180585Z"
    }
   },
   "cell_type": "code",
   "source": "sx.combine_goes_data()",
   "id": "f0f84cdb2e8f09fb",
   "outputs": [
    {
     "name": "stderr",
     "output_type": "stream",
     "text": [
      "2025-07-09 17:12:13 - root - INFO: Found 0 GOES-13 files, 0 GOES-14 files, 0 GOES-15 files, 46 GOES-16 files, 0 GOES-17 files, and 46 GOES-18 files.\n",
      "2025-07-09 17:12:15 - root - INFO: Loaded sci_xrsf-l2-avg1m_g16_d20230701_v2-2-0.nc\n",
      "2025-07-09 17:12:15 - root - INFO: Loaded sci_xrsf-l2-avg1m_g16_d20230702_v2-2-0.nc\n",
      "2025-07-09 17:12:15 - root - INFO: Loaded sci_xrsf-l2-avg1m_g16_d20230703_v2-2-0.nc\n",
      "2025-07-09 17:12:15 - root - INFO: Loaded sci_xrsf-l2-avg1m_g16_d20230704_v2-2-0.nc\n",
      "2025-07-09 17:12:15 - root - INFO: Loaded sci_xrsf-l2-avg1m_g16_d20230705_v2-2-0.nc\n",
      "2025-07-09 17:12:15 - root - INFO: Loaded sci_xrsf-l2-avg1m_g16_d20230706_v2-2-0.nc\n",
      "2025-07-09 17:12:15 - root - INFO: Loaded sci_xrsf-l2-avg1m_g16_d20230707_v2-2-0.nc\n",
      "2025-07-09 17:12:15 - root - INFO: Loaded sci_xrsf-l2-avg1m_g16_d20230708_v2-2-0.nc\n",
      "2025-07-09 17:12:15 - root - INFO: Loaded sci_xrsf-l2-avg1m_g16_d20230709_v2-2-0.nc\n",
      "2025-07-09 17:12:15 - root - INFO: Loaded sci_xrsf-l2-avg1m_g16_d20230710_v2-2-0.nc\n",
      "2025-07-09 17:12:15 - root - INFO: Loaded sci_xrsf-l2-avg1m_g16_d20230711_v2-2-0.nc\n",
      "2025-07-09 17:12:15 - root - INFO: Loaded sci_xrsf-l2-avg1m_g16_d20230712_v2-2-0.nc\n",
      "2025-07-09 17:12:16 - root - INFO: Loaded sci_xrsf-l2-avg1m_g16_d20230713_v2-2-0.nc\n",
      "2025-07-09 17:12:16 - root - INFO: Loaded sci_xrsf-l2-avg1m_g16_d20230714_v2-2-0.nc\n",
      "2025-07-09 17:12:16 - root - INFO: Loaded sci_xrsf-l2-avg1m_g16_d20230715_v2-2-0.nc\n",
      "2025-07-09 17:12:16 - root - INFO: Loaded sci_xrsf-l2-avg1m_g16_d20230716_v2-2-0.nc\n",
      "2025-07-09 17:12:16 - root - INFO: Loaded sci_xrsf-l2-avg1m_g16_d20230717_v2-2-0.nc\n",
      "2025-07-09 17:12:16 - root - INFO: Loaded sci_xrsf-l2-avg1m_g16_d20230718_v2-2-0.nc\n",
      "2025-07-09 17:12:16 - root - INFO: Loaded sci_xrsf-l2-avg1m_g16_d20230719_v2-2-0.nc\n",
      "2025-07-09 17:12:16 - root - INFO: Loaded sci_xrsf-l2-avg1m_g16_d20230720_v2-2-0.nc\n",
      "2025-07-09 17:12:16 - root - INFO: Loaded sci_xrsf-l2-avg1m_g16_d20230721_v2-2-0.nc\n",
      "2025-07-09 17:12:16 - root - INFO: Loaded sci_xrsf-l2-avg1m_g16_d20230722_v2-2-0.nc\n",
      "2025-07-09 17:12:16 - root - INFO: Loaded sci_xrsf-l2-avg1m_g16_d20230723_v2-2-0.nc\n",
      "2025-07-09 17:12:16 - root - INFO: Loaded sci_xrsf-l2-avg1m_g16_d20230724_v2-2-0.nc\n",
      "2025-07-09 17:12:16 - root - INFO: Loaded sci_xrsf-l2-avg1m_g16_d20230725_v2-2-0.nc\n",
      "2025-07-09 17:12:16 - root - INFO: Loaded sci_xrsf-l2-avg1m_g16_d20230726_v2-2-0.nc\n",
      "2025-07-09 17:12:16 - root - INFO: Loaded sci_xrsf-l2-avg1m_g16_d20230727_v2-2-0.nc\n",
      "2025-07-09 17:12:16 - root - INFO: Loaded sci_xrsf-l2-avg1m_g16_d20230728_v2-2-0.nc\n",
      "2025-07-09 17:12:16 - root - INFO: Loaded sci_xrsf-l2-avg1m_g16_d20230729_v2-2-0.nc\n",
      "2025-07-09 17:12:16 - root - INFO: Loaded sci_xrsf-l2-avg1m_g16_d20230730_v2-2-0.nc\n",
      "2025-07-09 17:12:16 - root - INFO: Loaded sci_xrsf-l2-avg1m_g16_d20230731_v2-2-0.nc\n",
      "2025-07-09 17:12:16 - root - INFO: Loaded sci_xrsf-l2-avg1m_g16_d20230801_v2-2-0.nc\n",
      "2025-07-09 17:12:17 - root - INFO: Loaded sci_xrsf-l2-avg1m_g16_d20230802_v2-2-0.nc\n",
      "2025-07-09 17:12:17 - root - INFO: Loaded sci_xrsf-l2-avg1m_g16_d20230803_v2-2-0.nc\n",
      "2025-07-09 17:12:17 - root - INFO: Loaded sci_xrsf-l2-avg1m_g16_d20230804_v2-2-0.nc\n",
      "2025-07-09 17:12:17 - root - INFO: Loaded sci_xrsf-l2-avg1m_g16_d20230805_v2-2-0.nc\n",
      "2025-07-09 17:12:17 - root - INFO: Loaded sci_xrsf-l2-avg1m_g16_d20230806_v2-2-0.nc\n",
      "2025-07-09 17:12:17 - root - INFO: Loaded sci_xrsf-l2-avg1m_g16_d20230807_v2-2-0.nc\n",
      "2025-07-09 17:12:17 - root - INFO: Loaded sci_xrsf-l2-avg1m_g16_d20230808_v2-2-0.nc\n",
      "2025-07-09 17:12:17 - root - INFO: Loaded sci_xrsf-l2-avg1m_g16_d20230809_v2-2-0.nc\n",
      "2025-07-09 17:12:17 - root - INFO: Loaded sci_xrsf-l2-avg1m_g16_d20230810_v2-2-0.nc\n",
      "2025-07-09 17:12:17 - root - INFO: Loaded sci_xrsf-l2-avg1m_g16_d20230811_v2-2-0.nc\n",
      "2025-07-09 17:12:17 - root - INFO: Loaded sci_xrsf-l2-avg1m_g16_d20230812_v2-2-0.nc\n",
      "2025-07-09 17:12:17 - root - INFO: Loaded sci_xrsf-l2-avg1m_g16_d20230813_v2-2-0.nc\n",
      "2025-07-09 17:12:17 - root - INFO: Loaded sci_xrsf-l2-avg1m_g16_d20230814_v2-2-0.nc\n",
      "2025-07-09 17:12:17 - root - INFO: Loaded sci_xrsf-l2-avg1m_g16_d20230815_v2-2-0.nc\n",
      "2025-07-09 17:12:31 - root - INFO: Saved combined file: /home/griffingoodwin/downloads/goes_combined/combined_g16_avg1m\n",
      "2025-07-09 17:12:32 - root - INFO: Loaded sci_xrsf-l2-avg1m_g18_d20230701_v2-2-0.nc\n",
      "2025-07-09 17:12:32 - root - INFO: Loaded sci_xrsf-l2-avg1m_g18_d20230702_v2-2-0.nc\n",
      "2025-07-09 17:12:32 - root - INFO: Loaded sci_xrsf-l2-avg1m_g18_d20230703_v2-2-0.nc\n",
      "2025-07-09 17:12:32 - root - INFO: Loaded sci_xrsf-l2-avg1m_g18_d20230704_v2-2-0.nc\n",
      "2025-07-09 17:12:32 - root - INFO: Loaded sci_xrsf-l2-avg1m_g18_d20230705_v2-2-0.nc\n",
      "2025-07-09 17:12:32 - root - INFO: Loaded sci_xrsf-l2-avg1m_g18_d20230706_v2-2-0.nc\n",
      "2025-07-09 17:12:32 - root - INFO: Loaded sci_xrsf-l2-avg1m_g18_d20230707_v2-2-0.nc\n",
      "2025-07-09 17:12:32 - root - INFO: Loaded sci_xrsf-l2-avg1m_g18_d20230708_v2-2-0.nc\n",
      "2025-07-09 17:12:32 - root - INFO: Loaded sci_xrsf-l2-avg1m_g18_d20230709_v2-2-0.nc\n",
      "2025-07-09 17:12:32 - root - INFO: Loaded sci_xrsf-l2-avg1m_g18_d20230710_v2-2-0.nc\n",
      "2025-07-09 17:12:32 - root - INFO: Loaded sci_xrsf-l2-avg1m_g18_d20230711_v2-2-0.nc\n",
      "2025-07-09 17:12:32 - root - INFO: Loaded sci_xrsf-l2-avg1m_g18_d20230712_v2-2-0.nc\n",
      "2025-07-09 17:12:32 - root - INFO: Loaded sci_xrsf-l2-avg1m_g18_d20230713_v2-2-0.nc\n",
      "2025-07-09 17:12:32 - root - INFO: Loaded sci_xrsf-l2-avg1m_g18_d20230714_v2-2-0.nc\n",
      "2025-07-09 17:12:32 - root - INFO: Loaded sci_xrsf-l2-avg1m_g18_d20230715_v2-2-0.nc\n",
      "2025-07-09 17:12:32 - root - INFO: Loaded sci_xrsf-l2-avg1m_g18_d20230716_v2-2-0.nc\n",
      "2025-07-09 17:12:32 - root - INFO: Loaded sci_xrsf-l2-avg1m_g18_d20230717_v2-2-0.nc\n",
      "2025-07-09 17:12:32 - root - INFO: Loaded sci_xrsf-l2-avg1m_g18_d20230718_v2-2-0.nc\n",
      "2025-07-09 17:12:32 - root - INFO: Loaded sci_xrsf-l2-avg1m_g18_d20230719_v2-2-0.nc\n",
      "2025-07-09 17:12:32 - root - INFO: Loaded sci_xrsf-l2-avg1m_g18_d20230720_v2-2-0.nc\n",
      "2025-07-09 17:12:32 - root - INFO: Loaded sci_xrsf-l2-avg1m_g18_d20230721_v2-2-0.nc\n",
      "2025-07-09 17:12:32 - root - INFO: Loaded sci_xrsf-l2-avg1m_g18_d20230722_v2-2-0.nc\n",
      "2025-07-09 17:12:33 - root - INFO: Loaded sci_xrsf-l2-avg1m_g18_d20230723_v2-2-0.nc\n",
      "2025-07-09 17:12:33 - root - INFO: Loaded sci_xrsf-l2-avg1m_g18_d20230724_v2-2-0.nc\n",
      "2025-07-09 17:12:33 - root - INFO: Loaded sci_xrsf-l2-avg1m_g18_d20230725_v2-2-0.nc\n",
      "2025-07-09 17:12:33 - root - INFO: Loaded sci_xrsf-l2-avg1m_g18_d20230726_v2-2-0.nc\n",
      "2025-07-09 17:12:33 - root - INFO: Loaded sci_xrsf-l2-avg1m_g18_d20230727_v2-2-0.nc\n",
      "2025-07-09 17:12:33 - root - INFO: Loaded sci_xrsf-l2-avg1m_g18_d20230728_v2-2-0.nc\n",
      "2025-07-09 17:12:33 - root - INFO: Loaded sci_xrsf-l2-avg1m_g18_d20230729_v2-2-0.nc\n",
      "2025-07-09 17:12:33 - root - INFO: Loaded sci_xrsf-l2-avg1m_g18_d20230730_v2-2-0.nc\n",
      "2025-07-09 17:12:33 - root - INFO: Loaded sci_xrsf-l2-avg1m_g18_d20230731_v2-2-0.nc\n",
      "2025-07-09 17:12:33 - root - INFO: Loaded sci_xrsf-l2-avg1m_g18_d20230801_v2-2-0.nc\n",
      "2025-07-09 17:12:33 - root - INFO: Loaded sci_xrsf-l2-avg1m_g18_d20230802_v2-2-0.nc\n",
      "2025-07-09 17:12:33 - root - INFO: Loaded sci_xrsf-l2-avg1m_g18_d20230803_v2-2-0.nc\n",
      "2025-07-09 17:12:33 - root - INFO: Loaded sci_xrsf-l2-avg1m_g18_d20230804_v2-2-0.nc\n",
      "2025-07-09 17:12:33 - root - INFO: Loaded sci_xrsf-l2-avg1m_g18_d20230805_v2-2-0.nc\n",
      "2025-07-09 17:12:33 - root - INFO: Loaded sci_xrsf-l2-avg1m_g18_d20230806_v2-2-0.nc\n",
      "2025-07-09 17:12:33 - root - INFO: Loaded sci_xrsf-l2-avg1m_g18_d20230807_v2-2-0.nc\n",
      "2025-07-09 17:12:33 - root - INFO: Loaded sci_xrsf-l2-avg1m_g18_d20230808_v2-2-0.nc\n",
      "2025-07-09 17:12:33 - root - INFO: Loaded sci_xrsf-l2-avg1m_g18_d20230809_v2-2-0.nc\n",
      "2025-07-09 17:12:33 - root - INFO: Loaded sci_xrsf-l2-avg1m_g18_d20230810_v2-2-0.nc\n",
      "2025-07-09 17:12:34 - root - INFO: Loaded sci_xrsf-l2-avg1m_g18_d20230811_v2-2-0.nc\n",
      "2025-07-09 17:12:34 - root - INFO: Loaded sci_xrsf-l2-avg1m_g18_d20230812_v2-2-0.nc\n",
      "2025-07-09 17:12:34 - root - INFO: Loaded sci_xrsf-l2-avg1m_g18_d20230813_v2-2-0.nc\n",
      "2025-07-09 17:12:34 - root - INFO: Loaded sci_xrsf-l2-avg1m_g18_d20230814_v2-2-0.nc\n",
      "2025-07-09 17:12:34 - root - INFO: Loaded sci_xrsf-l2-avg1m_g18_d20230815_v2-2-0.nc\n",
      "2025-07-09 17:12:48 - root - INFO: Saved combined file: /home/griffingoodwin/downloads/goes_combined/combined_g18_avg1m\n"
     ]
    }
   ],
   "execution_count": 3
  },
  {
   "metadata": {
    "ExecuteTime": {
     "end_time": "2025-07-08T23:20:34.477563Z",
     "start_time": "2025-07-08T23:20:34.427458Z"
    }
   },
   "cell_type": "code",
   "source": "c = pd.read_csv('/home/griffingoodwin/downloads/goes_combined/combined_g14_avg1m.csv')",
   "id": "b3689c06ba56c9a3",
   "outputs": [],
   "execution_count": 160
  },
  {
   "metadata": {
    "ExecuteTime": {
     "end_time": "2025-07-08T23:20:34.622612Z",
     "start_time": "2025-07-08T23:20:34.615820Z"
    }
   },
   "cell_type": "code",
   "source": "max(c['xrsa_flux'])",
   "id": "790c23b824ff674b",
   "outputs": [
    {
     "data": {
      "text/plain": [
       "1.1648506e-08"
      ]
     },
     "execution_count": 161,
     "metadata": {},
     "output_type": "execute_result"
    }
   ],
   "execution_count": 161
  },
  {
   "metadata": {
    "ExecuteTime": {
     "end_time": "2025-07-08T23:20:34.775838Z",
     "start_time": "2025-07-08T23:20:34.769042Z"
    }
   },
   "cell_type": "code",
   "source": "min(c['xrsa_flux'])",
   "id": "931da92ec11ebb68",
   "outputs": [
    {
     "data": {
      "text/plain": [
       "1e-12"
      ]
     },
     "execution_count": 162,
     "metadata": {},
     "output_type": "execute_result"
    }
   ],
   "execution_count": 162
  },
  {
   "metadata": {
    "ExecuteTime": {
     "end_time": "2025-07-08T23:03:21.866723Z",
     "start_time": "2025-07-08T23:03:21.862163Z"
    }
   },
   "cell_type": "code",
   "source": " c['xrsa_flux']= c['xrsa_flux']/1000",
   "id": "9b1a45848e8d396a",
   "outputs": [],
   "execution_count": 124
  },
  {
   "metadata": {
    "ExecuteTime": {
     "end_time": "2025-07-08T23:04:37.197868Z",
     "start_time": "2025-07-08T23:04:37.190833Z"
    }
   },
   "cell_type": "code",
   "source": "c['xrsb_flux']",
   "id": "749342c7ee03e29c",
   "outputs": [
    {
     "data": {
      "text/plain": [
       "<xarray.DataArray 'xrsb_flux' (time: 59040)> Size: 236kB\n",
       "[59040 values with dtype=float32]\n",
       "Coordinates:\n",
       "  * time     (time) datetime64[ns] 472kB 2012-01-01 ... 2015-01-05T23:59:00\n",
       "Attributes:\n",
       "    long_name:            XRS-B primary average flux.\n",
       "    comments:             Electron contamination has been removed. xrsb_flux ...\n",
       "    units:                W/m2\n",
       "    valid_min:            1e-09\n",
       "    valid_max:            0.2\n",
       "    ancillary_variables:  xrsb_flag xrsb_num xrsb_flag_excluded"
      ],
      "text/html": [
       "<div><svg style=\"position: absolute; width: 0; height: 0; overflow: hidden\">\n",
       "<defs>\n",
       "<symbol id=\"icon-database\" viewBox=\"0 0 32 32\">\n",
       "<path d=\"M16 0c-8.837 0-16 2.239-16 5v4c0 2.761 7.163 5 16 5s16-2.239 16-5v-4c0-2.761-7.163-5-16-5z\"></path>\n",
       "<path d=\"M16 17c-8.837 0-16-2.239-16-5v6c0 2.761 7.163 5 16 5s16-2.239 16-5v-6c0 2.761-7.163 5-16 5z\"></path>\n",
       "<path d=\"M16 26c-8.837 0-16-2.239-16-5v6c0 2.761 7.163 5 16 5s16-2.239 16-5v-6c0 2.761-7.163 5-16 5z\"></path>\n",
       "</symbol>\n",
       "<symbol id=\"icon-file-text2\" viewBox=\"0 0 32 32\">\n",
       "<path d=\"M28.681 7.159c-0.694-0.947-1.662-2.053-2.724-3.116s-2.169-2.030-3.116-2.724c-1.612-1.182-2.393-1.319-2.841-1.319h-15.5c-1.378 0-2.5 1.121-2.5 2.5v27c0 1.378 1.122 2.5 2.5 2.5h23c1.378 0 2.5-1.122 2.5-2.5v-19.5c0-0.448-0.137-1.23-1.319-2.841zM24.543 5.457c0.959 0.959 1.712 1.825 2.268 2.543h-4.811v-4.811c0.718 0.556 1.584 1.309 2.543 2.268zM28 29.5c0 0.271-0.229 0.5-0.5 0.5h-23c-0.271 0-0.5-0.229-0.5-0.5v-27c0-0.271 0.229-0.5 0.5-0.5 0 0 15.499-0 15.5 0v7c0 0.552 0.448 1 1 1h7v19.5z\"></path>\n",
       "<path d=\"M23 26h-14c-0.552 0-1-0.448-1-1s0.448-1 1-1h14c0.552 0 1 0.448 1 1s-0.448 1-1 1z\"></path>\n",
       "<path d=\"M23 22h-14c-0.552 0-1-0.448-1-1s0.448-1 1-1h14c0.552 0 1 0.448 1 1s-0.448 1-1 1z\"></path>\n",
       "<path d=\"M23 18h-14c-0.552 0-1-0.448-1-1s0.448-1 1-1h14c0.552 0 1 0.448 1 1s-0.448 1-1 1z\"></path>\n",
       "</symbol>\n",
       "</defs>\n",
       "</svg>\n",
       "<style>/* CSS stylesheet for displaying xarray objects in jupyterlab.\n",
       " *\n",
       " */\n",
       "\n",
       ":root {\n",
       "  --xr-font-color0: var(--jp-content-font-color0, rgba(0, 0, 0, 1));\n",
       "  --xr-font-color2: var(--jp-content-font-color2, rgba(0, 0, 0, 0.54));\n",
       "  --xr-font-color3: var(--jp-content-font-color3, rgba(0, 0, 0, 0.38));\n",
       "  --xr-border-color: var(--jp-border-color2, #e0e0e0);\n",
       "  --xr-disabled-color: var(--jp-layout-color3, #bdbdbd);\n",
       "  --xr-background-color: var(--jp-layout-color0, white);\n",
       "  --xr-background-color-row-even: var(--jp-layout-color1, white);\n",
       "  --xr-background-color-row-odd: var(--jp-layout-color2, #eeeeee);\n",
       "}\n",
       "\n",
       "html[theme=\"dark\"],\n",
       "html[data-theme=\"dark\"],\n",
       "body[data-theme=\"dark\"],\n",
       "body.vscode-dark {\n",
       "  --xr-font-color0: rgba(255, 255, 255, 1);\n",
       "  --xr-font-color2: rgba(255, 255, 255, 0.54);\n",
       "  --xr-font-color3: rgba(255, 255, 255, 0.38);\n",
       "  --xr-border-color: #1f1f1f;\n",
       "  --xr-disabled-color: #515151;\n",
       "  --xr-background-color: #111111;\n",
       "  --xr-background-color-row-even: #111111;\n",
       "  --xr-background-color-row-odd: #313131;\n",
       "}\n",
       "\n",
       ".xr-wrap {\n",
       "  display: block !important;\n",
       "  min-width: 300px;\n",
       "  max-width: 700px;\n",
       "}\n",
       "\n",
       ".xr-text-repr-fallback {\n",
       "  /* fallback to plain text repr when CSS is not injected (untrusted notebook) */\n",
       "  display: none;\n",
       "}\n",
       "\n",
       ".xr-header {\n",
       "  padding-top: 6px;\n",
       "  padding-bottom: 6px;\n",
       "  margin-bottom: 4px;\n",
       "  border-bottom: solid 1px var(--xr-border-color);\n",
       "}\n",
       "\n",
       ".xr-header > div,\n",
       ".xr-header > ul {\n",
       "  display: inline;\n",
       "  margin-top: 0;\n",
       "  margin-bottom: 0;\n",
       "}\n",
       "\n",
       ".xr-obj-type,\n",
       ".xr-array-name {\n",
       "  margin-left: 2px;\n",
       "  margin-right: 10px;\n",
       "}\n",
       "\n",
       ".xr-obj-type {\n",
       "  color: var(--xr-font-color2);\n",
       "}\n",
       "\n",
       ".xr-sections {\n",
       "  padding-left: 0 !important;\n",
       "  display: grid;\n",
       "  grid-template-columns: 150px auto auto 1fr 0 20px 0 20px;\n",
       "}\n",
       "\n",
       ".xr-section-item {\n",
       "  display: contents;\n",
       "}\n",
       "\n",
       ".xr-section-item input {\n",
       "  display: inline-block;\n",
       "  opacity: 0;\n",
       "  height: 0;\n",
       "}\n",
       "\n",
       ".xr-section-item input + label {\n",
       "  color: var(--xr-disabled-color);\n",
       "}\n",
       "\n",
       ".xr-section-item input:enabled + label {\n",
       "  cursor: pointer;\n",
       "  color: var(--xr-font-color2);\n",
       "}\n",
       "\n",
       ".xr-section-item input:focus + label {\n",
       "  border: 2px solid var(--xr-font-color0);\n",
       "}\n",
       "\n",
       ".xr-section-item input:enabled + label:hover {\n",
       "  color: var(--xr-font-color0);\n",
       "}\n",
       "\n",
       ".xr-section-summary {\n",
       "  grid-column: 1;\n",
       "  color: var(--xr-font-color2);\n",
       "  font-weight: 500;\n",
       "}\n",
       "\n",
       ".xr-section-summary > span {\n",
       "  display: inline-block;\n",
       "  padding-left: 0.5em;\n",
       "}\n",
       "\n",
       ".xr-section-summary-in:disabled + label {\n",
       "  color: var(--xr-font-color2);\n",
       "}\n",
       "\n",
       ".xr-section-summary-in + label:before {\n",
       "  display: inline-block;\n",
       "  content: \"►\";\n",
       "  font-size: 11px;\n",
       "  width: 15px;\n",
       "  text-align: center;\n",
       "}\n",
       "\n",
       ".xr-section-summary-in:disabled + label:before {\n",
       "  color: var(--xr-disabled-color);\n",
       "}\n",
       "\n",
       ".xr-section-summary-in:checked + label:before {\n",
       "  content: \"▼\";\n",
       "}\n",
       "\n",
       ".xr-section-summary-in:checked + label > span {\n",
       "  display: none;\n",
       "}\n",
       "\n",
       ".xr-section-summary,\n",
       ".xr-section-inline-details {\n",
       "  padding-top: 4px;\n",
       "  padding-bottom: 4px;\n",
       "}\n",
       "\n",
       ".xr-section-inline-details {\n",
       "  grid-column: 2 / -1;\n",
       "}\n",
       "\n",
       ".xr-section-details {\n",
       "  display: none;\n",
       "  grid-column: 1 / -1;\n",
       "  margin-bottom: 5px;\n",
       "}\n",
       "\n",
       ".xr-section-summary-in:checked ~ .xr-section-details {\n",
       "  display: contents;\n",
       "}\n",
       "\n",
       ".xr-array-wrap {\n",
       "  grid-column: 1 / -1;\n",
       "  display: grid;\n",
       "  grid-template-columns: 20px auto;\n",
       "}\n",
       "\n",
       ".xr-array-wrap > label {\n",
       "  grid-column: 1;\n",
       "  vertical-align: top;\n",
       "}\n",
       "\n",
       ".xr-preview {\n",
       "  color: var(--xr-font-color3);\n",
       "}\n",
       "\n",
       ".xr-array-preview,\n",
       ".xr-array-data {\n",
       "  padding: 0 5px !important;\n",
       "  grid-column: 2;\n",
       "}\n",
       "\n",
       ".xr-array-data,\n",
       ".xr-array-in:checked ~ .xr-array-preview {\n",
       "  display: none;\n",
       "}\n",
       "\n",
       ".xr-array-in:checked ~ .xr-array-data,\n",
       ".xr-array-preview {\n",
       "  display: inline-block;\n",
       "}\n",
       "\n",
       ".xr-dim-list {\n",
       "  display: inline-block !important;\n",
       "  list-style: none;\n",
       "  padding: 0 !important;\n",
       "  margin: 0;\n",
       "}\n",
       "\n",
       ".xr-dim-list li {\n",
       "  display: inline-block;\n",
       "  padding: 0;\n",
       "  margin: 0;\n",
       "}\n",
       "\n",
       ".xr-dim-list:before {\n",
       "  content: \"(\";\n",
       "}\n",
       "\n",
       ".xr-dim-list:after {\n",
       "  content: \")\";\n",
       "}\n",
       "\n",
       ".xr-dim-list li:not(:last-child):after {\n",
       "  content: \",\";\n",
       "  padding-right: 5px;\n",
       "}\n",
       "\n",
       ".xr-has-index {\n",
       "  font-weight: bold;\n",
       "}\n",
       "\n",
       ".xr-var-list,\n",
       ".xr-var-item {\n",
       "  display: contents;\n",
       "}\n",
       "\n",
       ".xr-var-item > div,\n",
       ".xr-var-item label,\n",
       ".xr-var-item > .xr-var-name span {\n",
       "  background-color: var(--xr-background-color-row-even);\n",
       "  margin-bottom: 0;\n",
       "}\n",
       "\n",
       ".xr-var-item > .xr-var-name:hover span {\n",
       "  padding-right: 5px;\n",
       "}\n",
       "\n",
       ".xr-var-list > li:nth-child(odd) > div,\n",
       ".xr-var-list > li:nth-child(odd) > label,\n",
       ".xr-var-list > li:nth-child(odd) > .xr-var-name span {\n",
       "  background-color: var(--xr-background-color-row-odd);\n",
       "}\n",
       "\n",
       ".xr-var-name {\n",
       "  grid-column: 1;\n",
       "}\n",
       "\n",
       ".xr-var-dims {\n",
       "  grid-column: 2;\n",
       "}\n",
       "\n",
       ".xr-var-dtype {\n",
       "  grid-column: 3;\n",
       "  text-align: right;\n",
       "  color: var(--xr-font-color2);\n",
       "}\n",
       "\n",
       ".xr-var-preview {\n",
       "  grid-column: 4;\n",
       "}\n",
       "\n",
       ".xr-index-preview {\n",
       "  grid-column: 2 / 5;\n",
       "  color: var(--xr-font-color2);\n",
       "}\n",
       "\n",
       ".xr-var-name,\n",
       ".xr-var-dims,\n",
       ".xr-var-dtype,\n",
       ".xr-preview,\n",
       ".xr-attrs dt {\n",
       "  white-space: nowrap;\n",
       "  overflow: hidden;\n",
       "  text-overflow: ellipsis;\n",
       "  padding-right: 10px;\n",
       "}\n",
       "\n",
       ".xr-var-name:hover,\n",
       ".xr-var-dims:hover,\n",
       ".xr-var-dtype:hover,\n",
       ".xr-attrs dt:hover {\n",
       "  overflow: visible;\n",
       "  width: auto;\n",
       "  z-index: 1;\n",
       "}\n",
       "\n",
       ".xr-var-attrs,\n",
       ".xr-var-data,\n",
       ".xr-index-data {\n",
       "  display: none;\n",
       "  background-color: var(--xr-background-color) !important;\n",
       "  padding-bottom: 5px !important;\n",
       "}\n",
       "\n",
       ".xr-var-attrs-in:checked ~ .xr-var-attrs,\n",
       ".xr-var-data-in:checked ~ .xr-var-data,\n",
       ".xr-index-data-in:checked ~ .xr-index-data {\n",
       "  display: block;\n",
       "}\n",
       "\n",
       ".xr-var-data > table {\n",
       "  float: right;\n",
       "}\n",
       "\n",
       ".xr-var-name span,\n",
       ".xr-var-data,\n",
       ".xr-index-name div,\n",
       ".xr-index-data,\n",
       ".xr-attrs {\n",
       "  padding-left: 25px !important;\n",
       "}\n",
       "\n",
       ".xr-attrs,\n",
       ".xr-var-attrs,\n",
       ".xr-var-data,\n",
       ".xr-index-data {\n",
       "  grid-column: 1 / -1;\n",
       "}\n",
       "\n",
       "dl.xr-attrs {\n",
       "  padding: 0;\n",
       "  margin: 0;\n",
       "  display: grid;\n",
       "  grid-template-columns: 125px auto;\n",
       "}\n",
       "\n",
       ".xr-attrs dt,\n",
       ".xr-attrs dd {\n",
       "  padding: 0;\n",
       "  margin: 0;\n",
       "  float: left;\n",
       "  padding-right: 10px;\n",
       "  width: auto;\n",
       "}\n",
       "\n",
       ".xr-attrs dt {\n",
       "  font-weight: normal;\n",
       "  grid-column: 1;\n",
       "}\n",
       "\n",
       ".xr-attrs dt:hover span {\n",
       "  display: inline-block;\n",
       "  background: var(--xr-background-color);\n",
       "  padding-right: 10px;\n",
       "}\n",
       "\n",
       ".xr-attrs dd {\n",
       "  grid-column: 2;\n",
       "  white-space: pre-wrap;\n",
       "  word-break: break-all;\n",
       "}\n",
       "\n",
       ".xr-icon-database,\n",
       ".xr-icon-file-text2,\n",
       ".xr-no-icon {\n",
       "  display: inline-block;\n",
       "  vertical-align: middle;\n",
       "  width: 1em;\n",
       "  height: 1.5em !important;\n",
       "  stroke-width: 0;\n",
       "  stroke: currentColor;\n",
       "  fill: currentColor;\n",
       "}\n",
       "</style><pre class='xr-text-repr-fallback'>&lt;xarray.DataArray &#x27;xrsb_flux&#x27; (time: 59040)&gt; Size: 236kB\n",
       "[59040 values with dtype=float32]\n",
       "Coordinates:\n",
       "  * time     (time) datetime64[ns] 472kB 2012-01-01 ... 2015-01-05T23:59:00\n",
       "Attributes:\n",
       "    long_name:            XRS-B primary average flux.\n",
       "    comments:             Electron contamination has been removed. xrsb_flux ...\n",
       "    units:                W/m2\n",
       "    valid_min:            1e-09\n",
       "    valid_max:            0.2\n",
       "    ancillary_variables:  xrsb_flag xrsb_num xrsb_flag_excluded</pre><div class='xr-wrap' style='display:none'><div class='xr-header'><div class='xr-obj-type'>xarray.DataArray</div><div class='xr-array-name'>'xrsb_flux'</div><ul class='xr-dim-list'><li><span class='xr-has-index'>time</span>: 59040</li></ul></div><ul class='xr-sections'><li class='xr-section-item'><div class='xr-array-wrap'><input id='section-5afad127-f108-40e5-9c7d-6c1bd6397daa' class='xr-array-in' type='checkbox' checked><label for='section-5afad127-f108-40e5-9c7d-6c1bd6397daa' title='Show/hide data repr'><svg class='icon xr-icon-database'><use xlink:href='#icon-database'></use></svg></label><div class='xr-array-preview xr-preview'><span>...</span></div><div class='xr-array-data'><pre>[59040 values with dtype=float32]</pre></div></div></li><li class='xr-section-item'><input id='section-7a3b39a7-fdbc-4157-9332-3e4bf9767284' class='xr-section-summary-in' type='checkbox'  checked><label for='section-7a3b39a7-fdbc-4157-9332-3e4bf9767284' class='xr-section-summary' >Coordinates: <span>(1)</span></label><div class='xr-section-inline-details'></div><div class='xr-section-details'><ul class='xr-var-list'><li class='xr-var-item'><div class='xr-var-name'><span class='xr-has-index'>time</span></div><div class='xr-var-dims'>(time)</div><div class='xr-var-dtype'>datetime64[ns]</div><div class='xr-var-preview xr-preview'>2012-01-01 ... 2015-01-05T23:59:00</div><input id='attrs-4c4fe8c2-8130-4743-9290-31937cacd8b8' class='xr-var-attrs-in' type='checkbox' ><label for='attrs-4c4fe8c2-8130-4743-9290-31937cacd8b8' title='Show/Hide attributes'><svg class='icon xr-icon-file-text2'><use xlink:href='#icon-file-text2'></use></svg></label><input id='data-02b9b3ec-aa84-4626-836f-67209d0616a8' class='xr-var-data-in' type='checkbox'><label for='data-02b9b3ec-aa84-4626-836f-67209d0616a8' title='Show/Hide data repr'><svg class='icon xr-icon-database'><use xlink:href='#icon-database'></use></svg></label><div class='xr-var-attrs'><dl class='xr-attrs'><dt><span>long_name :</span></dt><dd>Record start time.</dd></dl></div><div class='xr-var-data'><pre>array([&#x27;2012-01-01T00:00:00.000000000&#x27;, &#x27;2012-01-01T00:01:00.000000000&#x27;,\n",
       "       &#x27;2012-01-01T00:02:00.000000000&#x27;, ..., &#x27;2015-01-05T23:57:00.000000000&#x27;,\n",
       "       &#x27;2015-01-05T23:58:00.000000000&#x27;, &#x27;2015-01-05T23:59:00.000000000&#x27;],\n",
       "      dtype=&#x27;datetime64[ns]&#x27;)</pre></div></li></ul></div></li><li class='xr-section-item'><input id='section-4c82b939-caec-4acf-b90e-1fa5fea7f144' class='xr-section-summary-in' type='checkbox'  ><label for='section-4c82b939-caec-4acf-b90e-1fa5fea7f144' class='xr-section-summary' >Indexes: <span>(1)</span></label><div class='xr-section-inline-details'></div><div class='xr-section-details'><ul class='xr-var-list'><li class='xr-var-item'><div class='xr-index-name'><div>time</div></div><div class='xr-index-preview'>PandasIndex</div><input type='checkbox' disabled/><label></label><input id='index-1ac8ad95-e2f4-477f-8ce9-1743013f5023' class='xr-index-data-in' type='checkbox'/><label for='index-1ac8ad95-e2f4-477f-8ce9-1743013f5023' title='Show/Hide index repr'><svg class='icon xr-icon-database'><use xlink:href='#icon-database'></use></svg></label><div class='xr-index-data'><pre>PandasIndex(DatetimeIndex([&#x27;2012-01-01 00:00:00&#x27;, &#x27;2012-01-01 00:01:00&#x27;,\n",
       "               &#x27;2012-01-01 00:02:00&#x27;, &#x27;2012-01-01 00:03:00&#x27;,\n",
       "               &#x27;2012-01-01 00:04:00&#x27;, &#x27;2012-01-01 00:05:00&#x27;,\n",
       "               &#x27;2012-01-01 00:06:00&#x27;, &#x27;2012-01-01 00:07:00&#x27;,\n",
       "               &#x27;2012-01-01 00:08:00&#x27;, &#x27;2012-01-01 00:09:00&#x27;,\n",
       "               ...\n",
       "               &#x27;2015-01-05 23:50:00&#x27;, &#x27;2015-01-05 23:51:00&#x27;,\n",
       "               &#x27;2015-01-05 23:52:00&#x27;, &#x27;2015-01-05 23:53:00&#x27;,\n",
       "               &#x27;2015-01-05 23:54:00&#x27;, &#x27;2015-01-05 23:55:00&#x27;,\n",
       "               &#x27;2015-01-05 23:56:00&#x27;, &#x27;2015-01-05 23:57:00&#x27;,\n",
       "               &#x27;2015-01-05 23:58:00&#x27;, &#x27;2015-01-05 23:59:00&#x27;],\n",
       "              dtype=&#x27;datetime64[ns]&#x27;, name=&#x27;time&#x27;, length=59040, freq=None))</pre></div></li></ul></div></li><li class='xr-section-item'><input id='section-24fd4c06-23f2-4294-978e-e487dedb00be' class='xr-section-summary-in' type='checkbox'  checked><label for='section-24fd4c06-23f2-4294-978e-e487dedb00be' class='xr-section-summary' >Attributes: <span>(6)</span></label><div class='xr-section-inline-details'></div><div class='xr-section-details'><dl class='xr-attrs'><dt><span>long_name :</span></dt><dd>XRS-B primary average flux.</dd><dt><span>comments :</span></dt><dd>Electron contamination has been removed. xrsb_flux =  xrsb_flux_observed - xrsb_flux_electrons</dd><dt><span>units :</span></dt><dd>W/m2</dd><dt><span>valid_min :</span></dt><dd>1e-09</dd><dt><span>valid_max :</span></dt><dd>0.2</dd><dt><span>ancillary_variables :</span></dt><dd>xrsb_flag xrsb_num xrsb_flag_excluded</dd></dl></div></li></ul></div></div>"
      ]
     },
     "execution_count": 132,
     "metadata": {},
     "output_type": "execute_result"
    }
   ],
   "execution_count": 132
  },
  {
   "metadata": {
    "ExecuteTime": {
     "end_time": "2025-07-08T23:04:46.672704Z",
     "start_time": "2025-07-08T23:04:46.664758Z"
    }
   },
   "cell_type": "code",
   "source": "c['xrsa_flux']",
   "id": "29d997bc7b328f8e",
   "outputs": [
    {
     "data": {
      "text/plain": [
       "<xarray.DataArray 'xrsa_flux' (time: 59040)> Size: 236kB\n",
       "array([1.0000000e-12, 1.4172792e-12, 1.5865039e-12, ..., 2.7605548e-11,\n",
       "       2.5108653e-11, 2.6723311e-11], dtype=float32)\n",
       "Coordinates:\n",
       "  * time     (time) datetime64[ns] 472kB 2012-01-01 ... 2015-01-05T23:59:00"
      ],
      "text/html": [
       "<div><svg style=\"position: absolute; width: 0; height: 0; overflow: hidden\">\n",
       "<defs>\n",
       "<symbol id=\"icon-database\" viewBox=\"0 0 32 32\">\n",
       "<path d=\"M16 0c-8.837 0-16 2.239-16 5v4c0 2.761 7.163 5 16 5s16-2.239 16-5v-4c0-2.761-7.163-5-16-5z\"></path>\n",
       "<path d=\"M16 17c-8.837 0-16-2.239-16-5v6c0 2.761 7.163 5 16 5s16-2.239 16-5v-6c0 2.761-7.163 5-16 5z\"></path>\n",
       "<path d=\"M16 26c-8.837 0-16-2.239-16-5v6c0 2.761 7.163 5 16 5s16-2.239 16-5v-6c0 2.761-7.163 5-16 5z\"></path>\n",
       "</symbol>\n",
       "<symbol id=\"icon-file-text2\" viewBox=\"0 0 32 32\">\n",
       "<path d=\"M28.681 7.159c-0.694-0.947-1.662-2.053-2.724-3.116s-2.169-2.030-3.116-2.724c-1.612-1.182-2.393-1.319-2.841-1.319h-15.5c-1.378 0-2.5 1.121-2.5 2.5v27c0 1.378 1.122 2.5 2.5 2.5h23c1.378 0 2.5-1.122 2.5-2.5v-19.5c0-0.448-0.137-1.23-1.319-2.841zM24.543 5.457c0.959 0.959 1.712 1.825 2.268 2.543h-4.811v-4.811c0.718 0.556 1.584 1.309 2.543 2.268zM28 29.5c0 0.271-0.229 0.5-0.5 0.5h-23c-0.271 0-0.5-0.229-0.5-0.5v-27c0-0.271 0.229-0.5 0.5-0.5 0 0 15.499-0 15.5 0v7c0 0.552 0.448 1 1 1h7v19.5z\"></path>\n",
       "<path d=\"M23 26h-14c-0.552 0-1-0.448-1-1s0.448-1 1-1h14c0.552 0 1 0.448 1 1s-0.448 1-1 1z\"></path>\n",
       "<path d=\"M23 22h-14c-0.552 0-1-0.448-1-1s0.448-1 1-1h14c0.552 0 1 0.448 1 1s-0.448 1-1 1z\"></path>\n",
       "<path d=\"M23 18h-14c-0.552 0-1-0.448-1-1s0.448-1 1-1h14c0.552 0 1 0.448 1 1s-0.448 1-1 1z\"></path>\n",
       "</symbol>\n",
       "</defs>\n",
       "</svg>\n",
       "<style>/* CSS stylesheet for displaying xarray objects in jupyterlab.\n",
       " *\n",
       " */\n",
       "\n",
       ":root {\n",
       "  --xr-font-color0: var(--jp-content-font-color0, rgba(0, 0, 0, 1));\n",
       "  --xr-font-color2: var(--jp-content-font-color2, rgba(0, 0, 0, 0.54));\n",
       "  --xr-font-color3: var(--jp-content-font-color3, rgba(0, 0, 0, 0.38));\n",
       "  --xr-border-color: var(--jp-border-color2, #e0e0e0);\n",
       "  --xr-disabled-color: var(--jp-layout-color3, #bdbdbd);\n",
       "  --xr-background-color: var(--jp-layout-color0, white);\n",
       "  --xr-background-color-row-even: var(--jp-layout-color1, white);\n",
       "  --xr-background-color-row-odd: var(--jp-layout-color2, #eeeeee);\n",
       "}\n",
       "\n",
       "html[theme=\"dark\"],\n",
       "html[data-theme=\"dark\"],\n",
       "body[data-theme=\"dark\"],\n",
       "body.vscode-dark {\n",
       "  --xr-font-color0: rgba(255, 255, 255, 1);\n",
       "  --xr-font-color2: rgba(255, 255, 255, 0.54);\n",
       "  --xr-font-color3: rgba(255, 255, 255, 0.38);\n",
       "  --xr-border-color: #1f1f1f;\n",
       "  --xr-disabled-color: #515151;\n",
       "  --xr-background-color: #111111;\n",
       "  --xr-background-color-row-even: #111111;\n",
       "  --xr-background-color-row-odd: #313131;\n",
       "}\n",
       "\n",
       ".xr-wrap {\n",
       "  display: block !important;\n",
       "  min-width: 300px;\n",
       "  max-width: 700px;\n",
       "}\n",
       "\n",
       ".xr-text-repr-fallback {\n",
       "  /* fallback to plain text repr when CSS is not injected (untrusted notebook) */\n",
       "  display: none;\n",
       "}\n",
       "\n",
       ".xr-header {\n",
       "  padding-top: 6px;\n",
       "  padding-bottom: 6px;\n",
       "  margin-bottom: 4px;\n",
       "  border-bottom: solid 1px var(--xr-border-color);\n",
       "}\n",
       "\n",
       ".xr-header > div,\n",
       ".xr-header > ul {\n",
       "  display: inline;\n",
       "  margin-top: 0;\n",
       "  margin-bottom: 0;\n",
       "}\n",
       "\n",
       ".xr-obj-type,\n",
       ".xr-array-name {\n",
       "  margin-left: 2px;\n",
       "  margin-right: 10px;\n",
       "}\n",
       "\n",
       ".xr-obj-type {\n",
       "  color: var(--xr-font-color2);\n",
       "}\n",
       "\n",
       ".xr-sections {\n",
       "  padding-left: 0 !important;\n",
       "  display: grid;\n",
       "  grid-template-columns: 150px auto auto 1fr 0 20px 0 20px;\n",
       "}\n",
       "\n",
       ".xr-section-item {\n",
       "  display: contents;\n",
       "}\n",
       "\n",
       ".xr-section-item input {\n",
       "  display: inline-block;\n",
       "  opacity: 0;\n",
       "  height: 0;\n",
       "}\n",
       "\n",
       ".xr-section-item input + label {\n",
       "  color: var(--xr-disabled-color);\n",
       "}\n",
       "\n",
       ".xr-section-item input:enabled + label {\n",
       "  cursor: pointer;\n",
       "  color: var(--xr-font-color2);\n",
       "}\n",
       "\n",
       ".xr-section-item input:focus + label {\n",
       "  border: 2px solid var(--xr-font-color0);\n",
       "}\n",
       "\n",
       ".xr-section-item input:enabled + label:hover {\n",
       "  color: var(--xr-font-color0);\n",
       "}\n",
       "\n",
       ".xr-section-summary {\n",
       "  grid-column: 1;\n",
       "  color: var(--xr-font-color2);\n",
       "  font-weight: 500;\n",
       "}\n",
       "\n",
       ".xr-section-summary > span {\n",
       "  display: inline-block;\n",
       "  padding-left: 0.5em;\n",
       "}\n",
       "\n",
       ".xr-section-summary-in:disabled + label {\n",
       "  color: var(--xr-font-color2);\n",
       "}\n",
       "\n",
       ".xr-section-summary-in + label:before {\n",
       "  display: inline-block;\n",
       "  content: \"►\";\n",
       "  font-size: 11px;\n",
       "  width: 15px;\n",
       "  text-align: center;\n",
       "}\n",
       "\n",
       ".xr-section-summary-in:disabled + label:before {\n",
       "  color: var(--xr-disabled-color);\n",
       "}\n",
       "\n",
       ".xr-section-summary-in:checked + label:before {\n",
       "  content: \"▼\";\n",
       "}\n",
       "\n",
       ".xr-section-summary-in:checked + label > span {\n",
       "  display: none;\n",
       "}\n",
       "\n",
       ".xr-section-summary,\n",
       ".xr-section-inline-details {\n",
       "  padding-top: 4px;\n",
       "  padding-bottom: 4px;\n",
       "}\n",
       "\n",
       ".xr-section-inline-details {\n",
       "  grid-column: 2 / -1;\n",
       "}\n",
       "\n",
       ".xr-section-details {\n",
       "  display: none;\n",
       "  grid-column: 1 / -1;\n",
       "  margin-bottom: 5px;\n",
       "}\n",
       "\n",
       ".xr-section-summary-in:checked ~ .xr-section-details {\n",
       "  display: contents;\n",
       "}\n",
       "\n",
       ".xr-array-wrap {\n",
       "  grid-column: 1 / -1;\n",
       "  display: grid;\n",
       "  grid-template-columns: 20px auto;\n",
       "}\n",
       "\n",
       ".xr-array-wrap > label {\n",
       "  grid-column: 1;\n",
       "  vertical-align: top;\n",
       "}\n",
       "\n",
       ".xr-preview {\n",
       "  color: var(--xr-font-color3);\n",
       "}\n",
       "\n",
       ".xr-array-preview,\n",
       ".xr-array-data {\n",
       "  padding: 0 5px !important;\n",
       "  grid-column: 2;\n",
       "}\n",
       "\n",
       ".xr-array-data,\n",
       ".xr-array-in:checked ~ .xr-array-preview {\n",
       "  display: none;\n",
       "}\n",
       "\n",
       ".xr-array-in:checked ~ .xr-array-data,\n",
       ".xr-array-preview {\n",
       "  display: inline-block;\n",
       "}\n",
       "\n",
       ".xr-dim-list {\n",
       "  display: inline-block !important;\n",
       "  list-style: none;\n",
       "  padding: 0 !important;\n",
       "  margin: 0;\n",
       "}\n",
       "\n",
       ".xr-dim-list li {\n",
       "  display: inline-block;\n",
       "  padding: 0;\n",
       "  margin: 0;\n",
       "}\n",
       "\n",
       ".xr-dim-list:before {\n",
       "  content: \"(\";\n",
       "}\n",
       "\n",
       ".xr-dim-list:after {\n",
       "  content: \")\";\n",
       "}\n",
       "\n",
       ".xr-dim-list li:not(:last-child):after {\n",
       "  content: \",\";\n",
       "  padding-right: 5px;\n",
       "}\n",
       "\n",
       ".xr-has-index {\n",
       "  font-weight: bold;\n",
       "}\n",
       "\n",
       ".xr-var-list,\n",
       ".xr-var-item {\n",
       "  display: contents;\n",
       "}\n",
       "\n",
       ".xr-var-item > div,\n",
       ".xr-var-item label,\n",
       ".xr-var-item > .xr-var-name span {\n",
       "  background-color: var(--xr-background-color-row-even);\n",
       "  margin-bottom: 0;\n",
       "}\n",
       "\n",
       ".xr-var-item > .xr-var-name:hover span {\n",
       "  padding-right: 5px;\n",
       "}\n",
       "\n",
       ".xr-var-list > li:nth-child(odd) > div,\n",
       ".xr-var-list > li:nth-child(odd) > label,\n",
       ".xr-var-list > li:nth-child(odd) > .xr-var-name span {\n",
       "  background-color: var(--xr-background-color-row-odd);\n",
       "}\n",
       "\n",
       ".xr-var-name {\n",
       "  grid-column: 1;\n",
       "}\n",
       "\n",
       ".xr-var-dims {\n",
       "  grid-column: 2;\n",
       "}\n",
       "\n",
       ".xr-var-dtype {\n",
       "  grid-column: 3;\n",
       "  text-align: right;\n",
       "  color: var(--xr-font-color2);\n",
       "}\n",
       "\n",
       ".xr-var-preview {\n",
       "  grid-column: 4;\n",
       "}\n",
       "\n",
       ".xr-index-preview {\n",
       "  grid-column: 2 / 5;\n",
       "  color: var(--xr-font-color2);\n",
       "}\n",
       "\n",
       ".xr-var-name,\n",
       ".xr-var-dims,\n",
       ".xr-var-dtype,\n",
       ".xr-preview,\n",
       ".xr-attrs dt {\n",
       "  white-space: nowrap;\n",
       "  overflow: hidden;\n",
       "  text-overflow: ellipsis;\n",
       "  padding-right: 10px;\n",
       "}\n",
       "\n",
       ".xr-var-name:hover,\n",
       ".xr-var-dims:hover,\n",
       ".xr-var-dtype:hover,\n",
       ".xr-attrs dt:hover {\n",
       "  overflow: visible;\n",
       "  width: auto;\n",
       "  z-index: 1;\n",
       "}\n",
       "\n",
       ".xr-var-attrs,\n",
       ".xr-var-data,\n",
       ".xr-index-data {\n",
       "  display: none;\n",
       "  background-color: var(--xr-background-color) !important;\n",
       "  padding-bottom: 5px !important;\n",
       "}\n",
       "\n",
       ".xr-var-attrs-in:checked ~ .xr-var-attrs,\n",
       ".xr-var-data-in:checked ~ .xr-var-data,\n",
       ".xr-index-data-in:checked ~ .xr-index-data {\n",
       "  display: block;\n",
       "}\n",
       "\n",
       ".xr-var-data > table {\n",
       "  float: right;\n",
       "}\n",
       "\n",
       ".xr-var-name span,\n",
       ".xr-var-data,\n",
       ".xr-index-name div,\n",
       ".xr-index-data,\n",
       ".xr-attrs {\n",
       "  padding-left: 25px !important;\n",
       "}\n",
       "\n",
       ".xr-attrs,\n",
       ".xr-var-attrs,\n",
       ".xr-var-data,\n",
       ".xr-index-data {\n",
       "  grid-column: 1 / -1;\n",
       "}\n",
       "\n",
       "dl.xr-attrs {\n",
       "  padding: 0;\n",
       "  margin: 0;\n",
       "  display: grid;\n",
       "  grid-template-columns: 125px auto;\n",
       "}\n",
       "\n",
       ".xr-attrs dt,\n",
       ".xr-attrs dd {\n",
       "  padding: 0;\n",
       "  margin: 0;\n",
       "  float: left;\n",
       "  padding-right: 10px;\n",
       "  width: auto;\n",
       "}\n",
       "\n",
       ".xr-attrs dt {\n",
       "  font-weight: normal;\n",
       "  grid-column: 1;\n",
       "}\n",
       "\n",
       ".xr-attrs dt:hover span {\n",
       "  display: inline-block;\n",
       "  background: var(--xr-background-color);\n",
       "  padding-right: 10px;\n",
       "}\n",
       "\n",
       ".xr-attrs dd {\n",
       "  grid-column: 2;\n",
       "  white-space: pre-wrap;\n",
       "  word-break: break-all;\n",
       "}\n",
       "\n",
       ".xr-icon-database,\n",
       ".xr-icon-file-text2,\n",
       ".xr-no-icon {\n",
       "  display: inline-block;\n",
       "  vertical-align: middle;\n",
       "  width: 1em;\n",
       "  height: 1.5em !important;\n",
       "  stroke-width: 0;\n",
       "  stroke: currentColor;\n",
       "  fill: currentColor;\n",
       "}\n",
       "</style><pre class='xr-text-repr-fallback'>&lt;xarray.DataArray &#x27;xrsa_flux&#x27; (time: 59040)&gt; Size: 236kB\n",
       "array([1.0000000e-12, 1.4172792e-12, 1.5865039e-12, ..., 2.7605548e-11,\n",
       "       2.5108653e-11, 2.6723311e-11], dtype=float32)\n",
       "Coordinates:\n",
       "  * time     (time) datetime64[ns] 472kB 2012-01-01 ... 2015-01-05T23:59:00</pre><div class='xr-wrap' style='display:none'><div class='xr-header'><div class='xr-obj-type'>xarray.DataArray</div><div class='xr-array-name'>'xrsa_flux'</div><ul class='xr-dim-list'><li><span class='xr-has-index'>time</span>: 59040</li></ul></div><ul class='xr-sections'><li class='xr-section-item'><div class='xr-array-wrap'><input id='section-28ced903-4a72-4935-8dc6-4b584f32c225' class='xr-array-in' type='checkbox' checked><label for='section-28ced903-4a72-4935-8dc6-4b584f32c225' title='Show/hide data repr'><svg class='icon xr-icon-database'><use xlink:href='#icon-database'></use></svg></label><div class='xr-array-preview xr-preview'><span>1e-12 1.417e-12 1.587e-12 1e-12 ... 2.761e-11 2.511e-11 2.672e-11</span></div><div class='xr-array-data'><pre>array([1.0000000e-12, 1.4172792e-12, 1.5865039e-12, ..., 2.7605548e-11,\n",
       "       2.5108653e-11, 2.6723311e-11], dtype=float32)</pre></div></div></li><li class='xr-section-item'><input id='section-69f20f02-57d9-4adf-9947-83d3f622bb06' class='xr-section-summary-in' type='checkbox'  checked><label for='section-69f20f02-57d9-4adf-9947-83d3f622bb06' class='xr-section-summary' >Coordinates: <span>(1)</span></label><div class='xr-section-inline-details'></div><div class='xr-section-details'><ul class='xr-var-list'><li class='xr-var-item'><div class='xr-var-name'><span class='xr-has-index'>time</span></div><div class='xr-var-dims'>(time)</div><div class='xr-var-dtype'>datetime64[ns]</div><div class='xr-var-preview xr-preview'>2012-01-01 ... 2015-01-05T23:59:00</div><input id='attrs-0d226dff-2d32-4e99-aad7-e533e358ccc0' class='xr-var-attrs-in' type='checkbox' ><label for='attrs-0d226dff-2d32-4e99-aad7-e533e358ccc0' title='Show/Hide attributes'><svg class='icon xr-icon-file-text2'><use xlink:href='#icon-file-text2'></use></svg></label><input id='data-e446b884-7564-40fb-b08e-557bc63c5d1b' class='xr-var-data-in' type='checkbox'><label for='data-e446b884-7564-40fb-b08e-557bc63c5d1b' title='Show/Hide data repr'><svg class='icon xr-icon-database'><use xlink:href='#icon-database'></use></svg></label><div class='xr-var-attrs'><dl class='xr-attrs'><dt><span>long_name :</span></dt><dd>Record start time.</dd></dl></div><div class='xr-var-data'><pre>array([&#x27;2012-01-01T00:00:00.000000000&#x27;, &#x27;2012-01-01T00:01:00.000000000&#x27;,\n",
       "       &#x27;2012-01-01T00:02:00.000000000&#x27;, ..., &#x27;2015-01-05T23:57:00.000000000&#x27;,\n",
       "       &#x27;2015-01-05T23:58:00.000000000&#x27;, &#x27;2015-01-05T23:59:00.000000000&#x27;],\n",
       "      dtype=&#x27;datetime64[ns]&#x27;)</pre></div></li></ul></div></li><li class='xr-section-item'><input id='section-618f9221-976a-4ef1-a979-a5ecb4dbc9d3' class='xr-section-summary-in' type='checkbox'  ><label for='section-618f9221-976a-4ef1-a979-a5ecb4dbc9d3' class='xr-section-summary' >Indexes: <span>(1)</span></label><div class='xr-section-inline-details'></div><div class='xr-section-details'><ul class='xr-var-list'><li class='xr-var-item'><div class='xr-index-name'><div>time</div></div><div class='xr-index-preview'>PandasIndex</div><input type='checkbox' disabled/><label></label><input id='index-6b217a0a-f829-44ac-9503-6cdef5a98278' class='xr-index-data-in' type='checkbox'/><label for='index-6b217a0a-f829-44ac-9503-6cdef5a98278' title='Show/Hide index repr'><svg class='icon xr-icon-database'><use xlink:href='#icon-database'></use></svg></label><div class='xr-index-data'><pre>PandasIndex(DatetimeIndex([&#x27;2012-01-01 00:00:00&#x27;, &#x27;2012-01-01 00:01:00&#x27;,\n",
       "               &#x27;2012-01-01 00:02:00&#x27;, &#x27;2012-01-01 00:03:00&#x27;,\n",
       "               &#x27;2012-01-01 00:04:00&#x27;, &#x27;2012-01-01 00:05:00&#x27;,\n",
       "               &#x27;2012-01-01 00:06:00&#x27;, &#x27;2012-01-01 00:07:00&#x27;,\n",
       "               &#x27;2012-01-01 00:08:00&#x27;, &#x27;2012-01-01 00:09:00&#x27;,\n",
       "               ...\n",
       "               &#x27;2015-01-05 23:50:00&#x27;, &#x27;2015-01-05 23:51:00&#x27;,\n",
       "               &#x27;2015-01-05 23:52:00&#x27;, &#x27;2015-01-05 23:53:00&#x27;,\n",
       "               &#x27;2015-01-05 23:54:00&#x27;, &#x27;2015-01-05 23:55:00&#x27;,\n",
       "               &#x27;2015-01-05 23:56:00&#x27;, &#x27;2015-01-05 23:57:00&#x27;,\n",
       "               &#x27;2015-01-05 23:58:00&#x27;, &#x27;2015-01-05 23:59:00&#x27;],\n",
       "              dtype=&#x27;datetime64[ns]&#x27;, name=&#x27;time&#x27;, length=59040, freq=None))</pre></div></li></ul></div></li><li class='xr-section-item'><input id='section-2dbc49ca-2153-4466-a19f-47de1a7d3f78' class='xr-section-summary-in' type='checkbox' disabled ><label for='section-2dbc49ca-2153-4466-a19f-47de1a7d3f78' class='xr-section-summary'  title='Expand/collapse section'>Attributes: <span>(0)</span></label><div class='xr-section-inline-details'></div><div class='xr-section-details'><dl class='xr-attrs'></dl></div></li></ul></div></div>"
      ]
     },
     "execution_count": 133,
     "metadata": {},
     "output_type": "execute_result"
    }
   ],
   "execution_count": 133
  },
  {
   "metadata": {
    "ExecuteTime": {
     "end_time": "2025-07-09T22:49:44.667401Z",
     "start_time": "2025-07-09T22:49:38.603906Z"
    }
   },
   "cell_type": "code",
   "source": [
    "from sunpy.net import Fido, attrs as a\n",
    "\n",
    "goes_query = Fido.search(\n",
    "    a.Time(\"2017-09-11 05:15:00\", \"2017-09-11 05:45:00\"),\n",
    "    a.Instrument('XRS'),\n",
    "    a.Resolution('avg1m'))"
   ],
   "id": "a42a8220dab605c8",
   "outputs": [],
   "execution_count": 4
  },
  {
   "metadata": {
    "ExecuteTime": {
     "end_time": "2025-07-09T22:49:49.152515Z",
     "start_time": "2025-07-09T22:49:49.138885Z"
    }
   },
   "cell_type": "code",
   "source": "print(goes_query)",
   "id": "e68454c02b6de2b3",
   "outputs": [
    {
     "name": "stdout",
     "output_type": "stream",
     "text": [
      "Results from 1 Provider:\n",
      "\n",
      "3 Results from the XRSClient:\n",
      "Source: <8: https://umbra.nascom.nasa.gov/goes/fits \n",
      "8-15: https://www.ncei.noaa.gov/data/goes-space-environment-monitor/access/science/ \n",
      "16-17: https://data.ngdc.noaa.gov/platforms/solar-space-observing-satellites/goes/\n",
      "\n",
      "       Start Time               End Time        Instrument  Physobs   Source Provider Resolution SatelliteNumber filename_res\n",
      "----------------------- ----------------------- ---------- ---------- ------ -------- ---------- --------------- ------------\n",
      "2017-09-11 00:00:00.000 2017-09-11 23:59:59.999        XRS irradiance   GOES     NOAA      avg1m              16           --\n",
      "2017-09-11 00:00:00.000 2017-09-11 23:59:59.999        XRS irradiance   GOES     NOAA      avg1m              13         xrsf\n",
      "2017-09-11 00:00:00.000 2017-09-11 23:59:59.999        XRS irradiance   GOES     NOAA      avg1m              15         xrsf\n",
      "\n",
      "\n"
     ]
    }
   ],
   "execution_count": 5
  },
  {
   "metadata": {
    "ExecuteTime": {
     "end_time": "2025-07-09T21:52:31.027122Z",
     "start_time": "2025-07-09T21:52:28.284221Z"
    }
   },
   "cell_type": "code",
   "source": "result = Fido.search(a.Time('2012/3/4', '2012/3/6'), a.Instrument.lyra, a.Level.two)\n",
   "id": "a26ce098391e1e20",
   "outputs": [],
   "execution_count": 15
  },
  {
   "metadata": {
    "ExecuteTime": {
     "end_time": "2025-07-09T21:52:36.418102Z",
     "start_time": "2025-07-09T21:52:36.412738Z"
    }
   },
   "cell_type": "code",
   "source": "print(result)",
   "id": "4675be9043a7f151",
   "outputs": [
    {
     "name": "stdout",
     "output_type": "stream",
     "text": [
      "Results from 1 Provider:\n",
      "\n",
      "3 Results from the LYRAClient:\n",
      "Source: http://proba2.oma.be/lyra/data/bsd\n",
      "\n",
      "       Start Time               End Time        Instrument ... Provider Level\n",
      "----------------------- ----------------------- ---------- ... -------- -----\n",
      "2012-03-04 00:00:00.000 2012-03-04 23:59:59.999       LYRA ...      ESA     2\n",
      "2012-03-05 00:00:00.000 2012-03-05 23:59:59.999       LYRA ...      ESA     2\n",
      "2012-03-06 00:00:00.000 2012-03-06 23:59:59.999       LYRA ...      ESA     2\n",
      "\n",
      "\n"
     ]
    }
   ],
   "execution_count": 16
  },
  {
   "metadata": {},
   "cell_type": "code",
   "outputs": [],
   "execution_count": null,
   "source": "",
   "id": "72975a5a150136cf"
  }
 ],
 "metadata": {
  "kernelspec": {
   "display_name": "Python 3",
   "language": "python",
   "name": "python3"
  },
  "language_info": {
   "codemirror_mode": {
    "name": "ipython",
    "version": 2
   },
   "file_extension": ".py",
   "mimetype": "text/x-python",
   "name": "python",
   "nbconvert_exporter": "python",
   "pygments_lexer": "ipython2",
   "version": "2.7.6"
  }
 },
 "nbformat": 4,
 "nbformat_minor": 5
}
